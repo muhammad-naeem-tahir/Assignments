{
  "nbformat": 4,
  "nbformat_minor": 0,
  "metadata": {
    "colab": {
      "name": "PIAIC129482_Muhammad_Naeem_Tahir_compress-strength-concrete-assignment.ipynb",
      "provenance": [],
      "authorship_tag": "ABX9TyNrsgEACiHOGdPaxlKootc5",
      "include_colab_link": true
    },
    "kernelspec": {
      "name": "python3",
      "display_name": "Python 3"
    },
    "language_info": {
      "name": "python"
    }
  },
  "cells": [
    {
      "cell_type": "markdown",
      "metadata": {
        "id": "view-in-github",
        "colab_type": "text"
      },
      "source": [
        "<a href=\"https://colab.research.google.com/github/muhammad-naeem-tahir/Assignments/blob/main/PIAIC129482_Muhammad_Naeem_Tahir_compress_strength_concrete_assignment.ipynb\" target=\"_parent\"><img src=\"https://colab.research.google.com/assets/colab-badge.svg\" alt=\"Open In Colab\"/></a>"
      ]
    },
    {
      "cell_type": "code",
      "metadata": {
        "colab": {
          "resources": {
            "http://localhost:8080/nbextensions/google.colab/files.js": {
              "data": "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",
              "ok": true,
              "headers": [
                [
                  "content-type",
                  "application/javascript"
                ]
              ],
              "status": 200,
              "status_text": "OK"
            }
          },
          "base_uri": "https://localhost:8080/",
          "height": 79
        },
        "id": "8JB712YCbS1F",
        "outputId": "f056e586-2fca-4209-cb93-b49df371b000"
      },
      "source": [
        "import pandas as pd\n",
        "import numpy as np\n",
        "from google.colab import files\n",
        "uploaded = files.upload()"
      ],
      "execution_count": 2,
      "outputs": [
        {
          "output_type": "display_data",
          "data": {
            "text/html": [
              "\n",
              "     <input type=\"file\" id=\"files-c815bd54-1c99-477e-be06-43ccf4e61a96\" name=\"files[]\" multiple disabled\n",
              "        style=\"border:none\" />\n",
              "     <output id=\"result-c815bd54-1c99-477e-be06-43ccf4e61a96\">\n",
              "      Upload widget is only available when the cell has been executed in the\n",
              "      current browser session. Please rerun this cell to enable.\n",
              "      </output>\n",
              "      <script src=\"/nbextensions/google.colab/files.js\"></script> "
            ],
            "text/plain": [
              "<IPython.core.display.HTML object>"
            ]
          },
          "metadata": {
            "tags": []
          }
        },
        {
          "output_type": "stream",
          "text": [
            "Saving compresive_strength_concrete.csv to compresive_strength_concrete (1).csv\n"
          ],
          "name": "stdout"
        }
      ]
    },
    {
      "cell_type": "code",
      "metadata": {
        "id": "mbIge-npdmog"
      },
      "source": [
        "import io\n",
        "df2 = pd.read_csv(io.BytesIO(uploaded['compresive_strength_concrete.csv']))"
      ],
      "execution_count": 4,
      "outputs": []
    },
    {
      "cell_type": "code",
      "metadata": {
        "id": "kuV459xXd2Rx"
      },
      "source": [
        "import tensorflow as tf"
      ],
      "execution_count": 5,
      "outputs": []
    },
    {
      "cell_type": "code",
      "metadata": {
        "colab": {
          "base_uri": "https://localhost:8080/",
          "height": 276
        },
        "id": "rFUnXo-Wd3-1",
        "outputId": "a53a28e7-552b-4b48-8a51-9b6172d4256d"
      },
      "source": [
        "df2.head(5)\n"
      ],
      "execution_count": 6,
      "outputs": [
        {
          "output_type": "execute_result",
          "data": {
            "text/html": [
              "<div>\n",
              "<style scoped>\n",
              "    .dataframe tbody tr th:only-of-type {\n",
              "        vertical-align: middle;\n",
              "    }\n",
              "\n",
              "    .dataframe tbody tr th {\n",
              "        vertical-align: top;\n",
              "    }\n",
              "\n",
              "    .dataframe thead th {\n",
              "        text-align: right;\n",
              "    }\n",
              "</style>\n",
              "<table border=\"1\" class=\"dataframe\">\n",
              "  <thead>\n",
              "    <tr style=\"text-align: right;\">\n",
              "      <th></th>\n",
              "      <th>Cement (component 1)(kg in a m^3 mixture)</th>\n",
              "      <th>Blast Furnace Slag (component 2)(kg in a m^3 mixture)</th>\n",
              "      <th>Fly Ash (component 3)(kg in a m^3 mixture)</th>\n",
              "      <th>Water  (component 4)(kg in a m^3 mixture)</th>\n",
              "      <th>Superplasticizer (component 5)(kg in a m^3 mixture)</th>\n",
              "      <th>Coarse Aggregate  (component 6)(kg in a m^3 mixture)</th>\n",
              "      <th>Fine Aggregate (component 7)(kg in a m^3 mixture)</th>\n",
              "      <th>Age (day)</th>\n",
              "      <th>Concrete compressive strength(MPa, megapascals)</th>\n",
              "    </tr>\n",
              "  </thead>\n",
              "  <tbody>\n",
              "    <tr>\n",
              "      <th>0</th>\n",
              "      <td>540.0</td>\n",
              "      <td>0.0</td>\n",
              "      <td>0.0</td>\n",
              "      <td>162.0</td>\n",
              "      <td>2.5</td>\n",
              "      <td>1040.0</td>\n",
              "      <td>676.0</td>\n",
              "      <td>28</td>\n",
              "      <td>79.99</td>\n",
              "    </tr>\n",
              "    <tr>\n",
              "      <th>1</th>\n",
              "      <td>540.0</td>\n",
              "      <td>0.0</td>\n",
              "      <td>0.0</td>\n",
              "      <td>162.0</td>\n",
              "      <td>2.5</td>\n",
              "      <td>1055.0</td>\n",
              "      <td>676.0</td>\n",
              "      <td>28</td>\n",
              "      <td>61.89</td>\n",
              "    </tr>\n",
              "    <tr>\n",
              "      <th>2</th>\n",
              "      <td>332.5</td>\n",
              "      <td>142.5</td>\n",
              "      <td>0.0</td>\n",
              "      <td>228.0</td>\n",
              "      <td>0.0</td>\n",
              "      <td>932.0</td>\n",
              "      <td>594.0</td>\n",
              "      <td>270</td>\n",
              "      <td>40.27</td>\n",
              "    </tr>\n",
              "    <tr>\n",
              "      <th>3</th>\n",
              "      <td>332.5</td>\n",
              "      <td>142.5</td>\n",
              "      <td>0.0</td>\n",
              "      <td>228.0</td>\n",
              "      <td>0.0</td>\n",
              "      <td>932.0</td>\n",
              "      <td>594.0</td>\n",
              "      <td>365</td>\n",
              "      <td>41.05</td>\n",
              "    </tr>\n",
              "    <tr>\n",
              "      <th>4</th>\n",
              "      <td>198.6</td>\n",
              "      <td>132.4</td>\n",
              "      <td>0.0</td>\n",
              "      <td>192.0</td>\n",
              "      <td>0.0</td>\n",
              "      <td>978.4</td>\n",
              "      <td>825.5</td>\n",
              "      <td>360</td>\n",
              "      <td>44.30</td>\n",
              "    </tr>\n",
              "  </tbody>\n",
              "</table>\n",
              "</div>"
            ],
            "text/plain": [
              "   Cement (component 1)(kg in a m^3 mixture)  ...  Concrete compressive strength(MPa, megapascals) \n",
              "0                                      540.0  ...                                             79.99\n",
              "1                                      540.0  ...                                             61.89\n",
              "2                                      332.5  ...                                             40.27\n",
              "3                                      332.5  ...                                             41.05\n",
              "4                                      198.6  ...                                             44.30\n",
              "\n",
              "[5 rows x 9 columns]"
            ]
          },
          "metadata": {
            "tags": []
          },
          "execution_count": 6
        }
      ]
    },
    {
      "cell_type": "code",
      "metadata": {
        "colab": {
          "base_uri": "https://localhost:8080/"
        },
        "id": "6HPr_VFOfUMk",
        "outputId": "ea916526-4efc-4ac8-bfbd-485aea47c7a7"
      },
      "source": [
        "df2.dtypes"
      ],
      "execution_count": 7,
      "outputs": [
        {
          "output_type": "execute_result",
          "data": {
            "text/plain": [
              "Cement (component 1)(kg in a m^3 mixture)                float64\n",
              "Blast Furnace Slag (component 2)(kg in a m^3 mixture)    float64\n",
              "Fly Ash (component 3)(kg in a m^3 mixture)               float64\n",
              "Water  (component 4)(kg in a m^3 mixture)                float64\n",
              "Superplasticizer (component 5)(kg in a m^3 mixture)      float64\n",
              "Coarse Aggregate  (component 6)(kg in a m^3 mixture)     float64\n",
              "Fine Aggregate (component 7)(kg in a m^3 mixture)        float64\n",
              "Age (day)                                                  int64\n",
              "Concrete compressive strength(MPa, megapascals)          float64\n",
              "dtype: object"
            ]
          },
          "metadata": {
            "tags": []
          },
          "execution_count": 7
        }
      ]
    },
    {
      "cell_type": "code",
      "metadata": {
        "id": "KhHXdB6dgxmL"
      },
      "source": [
        ""
      ],
      "execution_count": null,
      "outputs": []
    },
    {
      "cell_type": "code",
      "metadata": {
        "colab": {
          "base_uri": "https://localhost:8080/"
        },
        "id": "8VRSU0_9fdnF",
        "outputId": "b6b68a09-2d7c-4d9e-ecbb-e9da84ef2ef7"
      },
      "source": [
        "df2.isnull().sum()\n"
      ],
      "execution_count": 9,
      "outputs": [
        {
          "output_type": "execute_result",
          "data": {
            "text/plain": [
              "Cement (component 1)(kg in a m^3 mixture)                0\n",
              "Blast Furnace Slag (component 2)(kg in a m^3 mixture)    0\n",
              "Fly Ash (component 3)(kg in a m^3 mixture)               0\n",
              "Water  (component 4)(kg in a m^3 mixture)                0\n",
              "Superplasticizer (component 5)(kg in a m^3 mixture)      0\n",
              "Coarse Aggregate  (component 6)(kg in a m^3 mixture)     0\n",
              "Fine Aggregate (component 7)(kg in a m^3 mixture)        0\n",
              "Age (day)                                                0\n",
              "Concrete compressive strength(MPa, megapascals)          0\n",
              "dtype: int64"
            ]
          },
          "metadata": {
            "tags": []
          },
          "execution_count": 9
        }
      ]
    },
    {
      "cell_type": "code",
      "metadata": {
        "colab": {
          "base_uri": "https://localhost:8080/"
        },
        "id": "Q2ElSy--gMd6",
        "outputId": "af3a6ae8-c712-4d72-f69d-52662d81c75f"
      },
      "source": [
        "df2.isnull().any()"
      ],
      "execution_count": 10,
      "outputs": [
        {
          "output_type": "execute_result",
          "data": {
            "text/plain": [
              "Cement (component 1)(kg in a m^3 mixture)                False\n",
              "Blast Furnace Slag (component 2)(kg in a m^3 mixture)    False\n",
              "Fly Ash (component 3)(kg in a m^3 mixture)               False\n",
              "Water  (component 4)(kg in a m^3 mixture)                False\n",
              "Superplasticizer (component 5)(kg in a m^3 mixture)      False\n",
              "Coarse Aggregate  (component 6)(kg in a m^3 mixture)     False\n",
              "Fine Aggregate (component 7)(kg in a m^3 mixture)        False\n",
              "Age (day)                                                False\n",
              "Concrete compressive strength(MPa, megapascals)          False\n",
              "dtype: bool"
            ]
          },
          "metadata": {
            "tags": []
          },
          "execution_count": 10
        }
      ]
    },
    {
      "cell_type": "code",
      "metadata": {
        "colab": {
          "base_uri": "https://localhost:8080/",
          "height": 554
        },
        "id": "plnAbx20gWkN",
        "outputId": "24656442-a6d1-4264-d229-df646d134fc4"
      },
      "source": [
        "df2.corr()['Concrete compressive strength(MPa, megapascals) '].sort_values().drop('Concrete compressive strength(MPa, megapascals) ').plot(kind='bar')"
      ],
      "execution_count": 14,
      "outputs": [
        {
          "output_type": "execute_result",
          "data": {
            "text/plain": [
              "<matplotlib.axes._subplots.AxesSubplot at 0x7f9b3d283f90>"
            ]
          },
          "metadata": {
            "tags": []
          },
          "execution_count": 14
        },
        {
          "output_type": "display_data",
          "data": {
            "image/png": "[encoded data removed]",
            "text/plain": [
              "<Figure size 432x288 with 1 Axes>"
            ]
          },
          "metadata": {
            "tags": [],
            "needs_background": "light"
          }
        }
      ]
    },
    {
      "cell_type": "code",
      "metadata": {
        "colab": {
          "base_uri": "https://localhost:8080/"
        },
        "id": "qMEBUNt_gzx4",
        "outputId": "c383f1d1-ffda-43e3-c81d-55a455621351"
      },
      "source": [
        "df2.columns"
      ],
      "execution_count": 13,
      "outputs": [
        {
          "output_type": "execute_result",
          "data": {
            "text/plain": [
              "Index(['Cement (component 1)(kg in a m^3 mixture)',\n",
              "       'Blast Furnace Slag (component 2)(kg in a m^3 mixture)',\n",
              "       'Fly Ash (component 3)(kg in a m^3 mixture)',\n",
              "       'Water  (component 4)(kg in a m^3 mixture)',\n",
              "       'Superplasticizer (component 5)(kg in a m^3 mixture)',\n",
              "       'Coarse Aggregate  (component 6)(kg in a m^3 mixture)',\n",
              "       'Fine Aggregate (component 7)(kg in a m^3 mixture)', 'Age (day)',\n",
              "       'Concrete compressive strength(MPa, megapascals) '],\n",
              "      dtype='object')"
            ]
          },
          "metadata": {
            "tags": []
          },
          "execution_count": 13
        }
      ]
    },
    {
      "cell_type": "code",
      "metadata": {
        "id": "araJpoeAhFXe"
      },
      "source": [
        "np.random.seed(11221)\n",
        "msk = np.random.rand(len(df2)) <= 0.50\n",
        "train_total = df2[msk]\n",
        "temp = df2[~msk]\n",
        "msk1 = np.random.rand(len(temp)) <= 0.60\n",
        "test_total = temp[msk1]\n",
        "val_total = temp[~msk1]"
      ],
      "execution_count": 15,
      "outputs": []
    },
    {
      "cell_type": "code",
      "metadata": {
        "colab": {
          "base_uri": "https://localhost:8080/"
        },
        "id": "xm4ElpARhd84",
        "outputId": "157b3c6a-84d1-4aea-ae40-461afd9890d5"
      },
      "source": [
        "print(len(train_total),len(test_total),len(val_total))"
      ],
      "execution_count": 16,
      "outputs": [
        {
          "output_type": "stream",
          "text": [
            "488 318 224\n"
          ],
          "name": "stdout"
        }
      ]
    },
    {
      "cell_type": "code",
      "metadata": {
        "colab": {
          "base_uri": "https://localhost:8080/"
        },
        "id": "INKnVTunhg_n",
        "outputId": "7680bbac-47ac-4499-d5d9-ec4bfdb8250a"
      },
      "source": [
        "print(len(df2))"
      ],
      "execution_count": 17,
      "outputs": [
        {
          "output_type": "stream",
          "text": [
            "1030\n"
          ],
          "name": "stdout"
        }
      ]
    },
    {
      "cell_type": "code",
      "metadata": {
        "colab": {
          "base_uri": "https://localhost:8080/"
        },
        "id": "agfPAbG4hn3U",
        "outputId": "172d7b8e-4fa9-444e-b2a2-b06d8a05a3c1"
      },
      "source": [
        "print(train_total.dtypes)"
      ],
      "execution_count": 18,
      "outputs": [
        {
          "output_type": "stream",
          "text": [
            "Cement (component 1)(kg in a m^3 mixture)                float64\n",
            "Blast Furnace Slag (component 2)(kg in a m^3 mixture)    float64\n",
            "Fly Ash (component 3)(kg in a m^3 mixture)               float64\n",
            "Water  (component 4)(kg in a m^3 mixture)                float64\n",
            "Superplasticizer (component 5)(kg in a m^3 mixture)      float64\n",
            "Coarse Aggregate  (component 6)(kg in a m^3 mixture)     float64\n",
            "Fine Aggregate (component 7)(kg in a m^3 mixture)        float64\n",
            "Age (day)                                                  int64\n",
            "Concrete compressive strength(MPa, megapascals)          float64\n",
            "dtype: object\n"
          ],
          "name": "stdout"
        }
      ]
    },
    {
      "cell_type": "code",
      "metadata": {
        "id": "C9uet8cdhtsS"
      },
      "source": [
        "train_label = train_total.loc[:,'Concrete compressive strength(MPa, megapascals) ']\n",
        "test_label = test_total.loc[:,'Concrete compressive strength(MPa, megapascals) ']\n",
        "val_label = val_total.loc[:,'Concrete compressive strength(MPa, megapascals) ']"
      ],
      "execution_count": 20,
      "outputs": []
    },
    {
      "cell_type": "code",
      "metadata": {
        "id": "LGbuPBD9h-Ap"
      },
      "source": [
        "test_data= test_total.drop(columns = ['Concrete compressive strength(MPa, megapascals) '])\n",
        "train_data= train_total.drop(columns = ['Concrete compressive strength(MPa, megapascals) '])\n",
        "val_data= val_total.drop(columns = ['Concrete compressive strength(MPa, megapascals) '])"
      ],
      "execution_count": 21,
      "outputs": []
    },
    {
      "cell_type": "code",
      "metadata": {
        "colab": {
          "base_uri": "https://localhost:8080/"
        },
        "id": "6NHoQPIkiLa1",
        "outputId": "18f5d5b3-1f17-49df-c956-b6c2a4e82d74"
      },
      "source": [
        "train_data.shape"
      ],
      "execution_count": 22,
      "outputs": [
        {
          "output_type": "execute_result",
          "data": {
            "text/plain": [
              "(488, 8)"
            ]
          },
          "metadata": {
            "tags": []
          },
          "execution_count": 22
        }
      ]
    },
    {
      "cell_type": "code",
      "metadata": {
        "colab": {
          "base_uri": "https://localhost:8080/"
        },
        "id": "B7tRM2cXiR4B",
        "outputId": "4aa2ce54-40d8-405a-cc3e-ce61a329831e"
      },
      "source": [
        "{train_data.columns.get_loc(c): c for idx, c in enumerate(train_data.columns)}"
      ],
      "execution_count": 23,
      "outputs": [
        {
          "output_type": "execute_result",
          "data": {
            "text/plain": [
              "{0: 'Cement (component 1)(kg in a m^3 mixture)',\n",
              " 1: 'Blast Furnace Slag (component 2)(kg in a m^3 mixture)',\n",
              " 2: 'Fly Ash (component 3)(kg in a m^3 mixture)',\n",
              " 3: 'Water  (component 4)(kg in a m^3 mixture)',\n",
              " 4: 'Superplasticizer (component 5)(kg in a m^3 mixture)',\n",
              " 5: 'Coarse Aggregate  (component 6)(kg in a m^3 mixture)',\n",
              " 6: 'Fine Aggregate (component 7)(kg in a m^3 mixture)',\n",
              " 7: 'Age (day)'}"
            ]
          },
          "metadata": {
            "tags": []
          },
          "execution_count": 23
        }
      ]
    },
    {
      "cell_type": "code",
      "metadata": {
        "id": "FGPhI86KiaZd"
      },
      "source": [
        "mean = train_data.iloc[:,0:7].mean(axis=0) # taking the mean of \n",
        "train_data.iloc[:,0:7] -= mean\n",
        "std = train_data.iloc[:,0:7].std(axis=0)\n",
        "train_data.iloc[:,0:7] /= std\n",
        "test_data.iloc[:,0:7] -= mean\n",
        "test_data.iloc[:,0:7] /= std\n",
        "val_data.iloc[:,0:7] -= mean\n",
        "val_data.iloc[:,0:7] /= std"
      ],
      "execution_count": 24,
      "outputs": []
    },
    {
      "cell_type": "code",
      "metadata": {
        "id": "Ct5kkuuKioYl"
      },
      "source": [
        "mean_label = train_label.mean()\n",
        "train_label -= mean_label\n",
        "std_label = train_label.std()\n",
        "train_label /= std_label\n",
        "test_label -= mean_label\n",
        "test_label /= std_label\n",
        "val_label -= mean_label\n",
        "val_label /= std_label"
      ],
      "execution_count": 25,
      "outputs": []
    },
    {
      "cell_type": "code",
      "metadata": {
        "id": "NwIV-0y1itQJ"
      },
      "source": [
        "train = np.array(train_data.iloc[:]).astype(np.float32)\n",
        "test = np.array(test_data.iloc[:]).astype(np.float32)\n",
        "val = np.array(val_data.iloc[:]).astype(np.float32)"
      ],
      "execution_count": 26,
      "outputs": []
    },
    {
      "cell_type": "code",
      "metadata": {
        "colab": {
          "base_uri": "https://localhost:8080/"
        },
        "id": "JD1hrBN9i_C4",
        "outputId": "2b0bf073-30f8-43ad-d1fb-870769632349"
      },
      "source": [
        "train.shape"
      ],
      "execution_count": 27,
      "outputs": [
        {
          "output_type": "execute_result",
          "data": {
            "text/plain": [
              "(488, 8)"
            ]
          },
          "metadata": {
            "tags": []
          },
          "execution_count": 27
        }
      ]
    },
    {
      "cell_type": "code",
      "metadata": {
        "id": "ajqNcjxSjDfB"
      },
      "source": [
        "train_lab = np.array(train_label.astype(np.float32))\n",
        "test_lab = np.array(test_label.astype('float32'))\n",
        "val_lab = np.array(val_label.astype('float32'))"
      ],
      "execution_count": 28,
      "outputs": []
    },
    {
      "cell_type": "code",
      "metadata": {
        "id": "b1CsCUIfjIqb"
      },
      "source": [
        "from keras import models\n",
        "from keras import layers\n",
        "def build_model(act):\n",
        "  model = models.Sequential()\n",
        "  model.add(layers.Dense(10, activation= act,input_shape=(train.shape[1],)))\n",
        "  model.add(layers.Dense(8, activation= act))\n",
        "  model.add(layers.Dense(6, activation= act))\n",
        "  model.add(layers.Dense(1))\n",
        "  model.compile(optimizer='rmsprop', loss='mse', metrics=[tf.keras.metrics.MeanAbsoluteError()])\n",
        "  return model"
      ],
      "execution_count": 29,
      "outputs": []
    },
    {
      "cell_type": "code",
      "metadata": {
        "id": "KLsYpBoPjMd0"
      },
      "source": [
        "# dropout model\n",
        "from keras import regularizers\n",
        "def build_model_drop(act):\n",
        "  model = models.Sequential()\n",
        "  model.add(layers.Dense(10, activation= act,input_shape=(train.shape[1],)))\n",
        "  model.add(layers.Dropout(0.1))\n",
        "  model.add(layers.Dense(8, activation= act))\n",
        "  model.add(layers.Dropout(0.1))\n",
        "  model.add(layers.Dense(6, activation= act))\n",
        "  model.add(layers.Dropout(0.1))\n",
        "  model.add(layers.Dense(1))\n",
        "  model.compile(optimizer='rmsprop', loss='mse', metrics=['mae'])\n",
        "  return model"
      ],
      "execution_count": 30,
      "outputs": []
    },
    {
      "cell_type": "code",
      "metadata": {
        "id": "jjc2wI1XjQN7"
      },
      "source": [
        "# Regularized model\n",
        "from keras import regularizers\n",
        "def build_model_regular(act):\n",
        "  model = models.Sequential()\n",
        "  model.add(layers.Dense(10, activation= act,kernel_regularizer= regularizers.l1_l2(l1=0.001, l2=0.001),input_shape=(train.shape[1],)))\n",
        "  model.add(layers.Dense(8, activation= act,kernel_regularizer= regularizers.l1_l2(l1=0.001, l2=0.001)))\n",
        "  model.add(layers.Dense(6, activation= act,kernel_regularizer= regularizers.l1_l2(l1=0.001, l2=0.001)))\n",
        "  model.add(layers.Dense(1))\n",
        "  model.compile(optimizer='rmsprop', loss='mse', metrics=['mae'])\n",
        "  return model"
      ],
      "execution_count": 31,
      "outputs": []
    },
    {
      "cell_type": "code",
      "metadata": {
        "id": "zuajzUXilcnO"
      },
      "source": [
        "from keras import regularizers\n",
        "def build_model_drop1(act):\n",
        "  model = models.Sequential()\n",
        "  model.add(layers.Dense(32, activation= act,input_shape=(train.shape[1],)))\n",
        "  model.add(layers.Dropout(0.1))\n",
        "  model.add(layers.Dense(64, activation= act))\n",
        "  model.add(layers.Dropout(0.1))\n",
        "  model.add(layers.Dense(128, activation= act))\n",
        "  model.add(layers.Dropout(0.1))\n",
        "  model.add(layers.Dense(64, activation= act))\n",
        "  model.add(layers.Dropout(0.1))\n",
        "  model.add(layers.Dense(16, activation= act))\n",
        "  model.add(layers.Dropout(0.1))\n",
        "  model.add(layers.Dense(1))\n",
        "  model.compile(optimizer='rmsprop', loss='mse', metrics=['mae'])\n",
        "  return model"
      ],
      "execution_count": 50,
      "outputs": []
    },
    {
      "cell_type": "code",
      "metadata": {
        "id": "U842V8bnl8p-"
      },
      "source": [
        ""
      ],
      "execution_count": null,
      "outputs": []
    },
    {
      "cell_type": "code",
      "metadata": {
        "id": "MAT5o2O4jToj"
      },
      "source": [
        "model1=build_model('relu')"
      ],
      "execution_count": 34,
      "outputs": []
    },
    {
      "cell_type": "code",
      "metadata": {
        "colab": {
          "base_uri": "https://localhost:8080/"
        },
        "id": "gvvdaMMJjXUG",
        "outputId": "076f40e7-112c-4033-cf25-ad14af0a3f50"
      },
      "source": [
        "model1.summary()"
      ],
      "execution_count": 35,
      "outputs": [
        {
          "output_type": "stream",
          "text": [
            "Model: \"sequential_1\"\n",
            "_________________________________________________________________\n",
            "Layer (type)                 Output Shape              Param #   \n",
            "=================================================================\n",
            "dense_4 (Dense)              (None, 10)                90        \n",
            "_________________________________________________________________\n",
            "dense_5 (Dense)              (None, 8)                 88        \n",
            "_________________________________________________________________\n",
            "dense_6 (Dense)              (None, 6)                 54        \n",
            "_________________________________________________________________\n",
            "dense_7 (Dense)              (None, 1)                 7         \n",
            "=================================================================\n",
            "Total params: 239\n",
            "Trainable params: 239\n",
            "Non-trainable params: 0\n",
            "_________________________________________________________________\n"
          ],
          "name": "stdout"
        }
      ]
    },
    {
      "cell_type": "code",
      "metadata": {
        "colab": {
          "base_uri": "https://localhost:8080/"
        },
        "id": "-inNWVStjcqu",
        "outputId": "0e4e1af1-eded-40a0-af55-3c170f3fee41"
      },
      "source": [
        "train.reshape(488,8,1)"
      ],
      "execution_count": 39,
      "outputs": [
        {
          "output_type": "execute_result",
          "data": {
            "text/plain": [
              "array([[[ 2.5737426e+00],\n",
              "        [-8.2651091e-01],\n",
              "        [-8.5743809e-01],\n",
              "        ...,\n",
              "        [ 7.7669072e-01],\n",
              "        [-1.2643602e+00],\n",
              "        [ 2.8000000e+01]],\n",
              "\n",
              "       [[ 9.8982114e-01],\n",
              "        [ 2.7031758e-01],\n",
              "        [-8.5743809e-01],\n",
              "        ...,\n",
              "        [-5.9876651e-01],\n",
              "        [-2.3084700e+00],\n",
              "        [ 3.6500000e+02]],\n",
              "\n",
              "       [[-1.3872297e-01],\n",
              "        [ 4.8968330e-01],\n",
              "        [-8.5743809e-01],\n",
              "        ...,\n",
              "        [-5.9876651e-01],\n",
              "        [-1.3407584e+00],\n",
              "        [ 2.8000000e+01]],\n",
              "\n",
              "       ...,\n",
              "\n",
              "       [[-1.1286739e+00],\n",
              "        [ 2.1718719e+00],\n",
              "        [-8.5743809e-01],\n",
              "        ...,\n",
              "        [-1.5310209e+00],\n",
              "        [ 6.5578324e-01],\n",
              "        [ 2.8000000e+01]],\n",
              "\n",
              "       [[-3.5768066e-02],\n",
              "        [ 5.1277441e-01],\n",
              "        [ 5.6343758e-01],\n",
              "        ...,\n",
              "        [-1.3871073e+00],\n",
              "        [-8.9100018e-02],\n",
              "        [ 2.8000000e+01]],\n",
              "\n",
              "       [[-1.8921047e-01],\n",
              "        [ 3.3381820e-01],\n",
              "        [ 3.7461689e-01],\n",
              "        ...,\n",
              "        [-1.4584273e+00],\n",
              "        [-1.7568474e-01],\n",
              "        [ 2.8000000e+01]]], dtype=float32)"
            ]
          },
          "metadata": {
            "tags": []
          },
          "execution_count": 39
        }
      ]
    },
    {
      "cell_type": "code",
      "metadata": {
        "colab": {
          "base_uri": "https://localhost:8080/"
        },
        "id": "dtzrhpKYjuB5",
        "outputId": "b33230a0-faf7-4891-ba11-5d219124cfb6"
      },
      "source": [
        "test.reshape(318,8,1)"
      ],
      "execution_count": 40,
      "outputs": [
        {
          "output_type": "execute_result",
          "data": {
            "text/plain": [
              "array([[[ 2.5737426e+00],\n",
              "        [-8.2651091e-01],\n",
              "        [-8.5743809e-01],\n",
              "        ...,\n",
              "        [ 9.6772641e-01],\n",
              "        [-1.2643602e+00],\n",
              "        [ 2.8000000e+01]],\n",
              "\n",
              "       [[ 5.1959443e-01],\n",
              "        [ 8.1873184e-01],\n",
              "        [-8.5743809e-01],\n",
              "        ...,\n",
              "        [-5.9876651e-01],\n",
              "        [-2.3084700e+00],\n",
              "        [ 2.7000000e+02]],\n",
              "\n",
              "       [[-1.3872297e-01],\n",
              "        [ 4.8968330e-01],\n",
              "        [-8.5743809e-01],\n",
              "        ...,\n",
              "        [-5.9876651e-01],\n",
              "        [-1.3407584e+00],\n",
              "        [ 9.0000000e+01]],\n",
              "\n",
              "       ...,\n",
              "\n",
              "       [[ 3.7506160e-01],\n",
              "        [-8.2651091e-01],\n",
              "        [ 1.1330466e+00],\n",
              "        ...,\n",
              "        [-1.5093701e+00],\n",
              "        [-4.9273759e-01],\n",
              "        [ 2.8000000e+01]],\n",
              "\n",
              "       [[ 4.1762948e-01],\n",
              "        [-8.2651091e-01],\n",
              "        [ 9.6153456e-01],\n",
              "        ...,\n",
              "        [-2.0519116e+00],\n",
              "        [ 4.8516038e-01],\n",
              "        [ 2.8000000e+01]],\n",
              "\n",
              "       [[-1.1969806e+00],\n",
              "        [ 1.3290458e+00],\n",
              "        [-8.5743809e-01],\n",
              "        ...,\n",
              "        [ 1.3481067e-01],\n",
              "        [ 1.7320074e-01],\n",
              "        [ 2.8000000e+01]]], dtype=float32)"
            ]
          },
          "metadata": {
            "tags": []
          },
          "execution_count": 40
        }
      ]
    },
    {
      "cell_type": "code",
      "metadata": {
        "colab": {
          "base_uri": "https://localhost:8080/"
        },
        "id": "ukUYQHAgj9-9",
        "outputId": "782fe99a-f5b3-4096-9651-da5501b492d1"
      },
      "source": [
        "val.reshape(224,8,1)"
      ],
      "execution_count": 41,
      "outputs": [
        {
          "output_type": "execute_result",
          "data": {
            "text/plain": [
              "array([[[ 5.1959443e-01],\n",
              "        [ 8.1873184e-01],\n",
              "        [-8.5743809e-01],\n",
              "        ...,\n",
              "        [-5.9876651e-01],\n",
              "        [-2.3084700e+00],\n",
              "        [ 3.6500000e+02]],\n",
              "\n",
              "       [[-8.0594993e-01],\n",
              "        [ 7.0212168e-01],\n",
              "        [-8.5743809e-01],\n",
              "        ...,\n",
              "        [-7.8293327e-03],\n",
              "        [ 6.3923025e-01],\n",
              "        [ 3.6000000e+02]],\n",
              "\n",
              "       [[ 9.8982114e-01],\n",
              "        [ 2.7031758e-01],\n",
              "        [-8.5743809e-01],\n",
              "        ...,\n",
              "        [-5.9876651e-01],\n",
              "        [-2.3084700e+00],\n",
              "        [ 2.8000000e+01]],\n",
              "\n",
              "       ...,\n",
              "\n",
              "       [[ 4.0970987e-01],\n",
              "        [-8.2651091e-01],\n",
              "        [ 1.1550758e+00],\n",
              "        ...,\n",
              "        [-1.3871073e+00],\n",
              "        [ 5.6056716e-02],\n",
              "        [ 2.8000000e+01]],\n",
              "\n",
              "       [[-1.5357223e-01],\n",
              "        [ 4.5504659e-01],\n",
              "        [ 5.0364435e-01],\n",
              "        ...,\n",
              "        [-1.8646965e+00],\n",
              "        [ 1.9230032e-01],\n",
              "        [ 2.8000000e+01]],\n",
              "\n",
              "       [[-1.3019154e+00],\n",
              "        [ 7.8294063e-01],\n",
              "        [ 8.5138911e-01],\n",
              "        ...,\n",
              "        [-1.1031008e+00],\n",
              "        [ 5.9876628e-02],\n",
              "        [ 2.8000000e+01]]], dtype=float32)"
            ]
          },
          "metadata": {
            "tags": []
          },
          "execution_count": 41
        }
      ]
    },
    {
      "cell_type": "code",
      "metadata": {
        "colab": {
          "base_uri": "https://localhost:8080/"
        },
        "id": "8CEEm0dekH31",
        "outputId": "f31fd27d-bf2a-4871-f2d1-5d2d8cebddd3"
      },
      "source": [
        "import numpy as np\n",
        "history=model1.fit(\n",
        "    train,\n",
        "    train_lab,\n",
        "    batch_size=1,\n",
        "    epochs=100,\n",
        "    validation_data=(val,val_lab))"
      ],
      "execution_count": 44,
      "outputs": [
        {
          "output_type": "stream",
          "text": [
            "Epoch 1/100\n",
            "488/488 [==============================] - 1s 2ms/step - loss: 42.0882 - mean_absolute_error: 3.2343 - val_loss: 0.4392 - val_mean_absolute_error: 0.5270\n",
            "Epoch 2/100\n",
            "488/488 [==============================] - 1s 1ms/step - loss: 0.6329 - mean_absolute_error: 0.5890 - val_loss: 0.4899 - val_mean_absolute_error: 0.5626\n",
            "Epoch 3/100\n",
            "488/488 [==============================] - 1s 1ms/step - loss: 0.4548 - mean_absolute_error: 0.4995 - val_loss: 0.7471 - val_mean_absolute_error: 0.6510\n",
            "Epoch 4/100\n",
            "488/488 [==============================] - 1s 1ms/step - loss: 0.5037 - mean_absolute_error: 0.5154 - val_loss: 0.2451 - val_mean_absolute_error: 0.4065\n",
            "Epoch 5/100\n",
            "488/488 [==============================] - 1s 1ms/step - loss: 0.4431 - mean_absolute_error: 0.4766 - val_loss: 0.8601 - val_mean_absolute_error: 0.7077\n",
            "Epoch 6/100\n",
            "488/488 [==============================] - 1s 1ms/step - loss: 0.3835 - mean_absolute_error: 0.4497 - val_loss: 0.2149 - val_mean_absolute_error: 0.3702\n",
            "Epoch 7/100\n",
            "488/488 [==============================] - 1s 1ms/step - loss: 0.3686 - mean_absolute_error: 0.4570 - val_loss: 0.4514 - val_mean_absolute_error: 0.5027\n",
            "Epoch 8/100\n",
            "488/488 [==============================] - 1s 1ms/step - loss: 0.4319 - mean_absolute_error: 0.4675 - val_loss: 0.2330 - val_mean_absolute_error: 0.3814\n",
            "Epoch 9/100\n",
            "488/488 [==============================] - 1s 1ms/step - loss: 0.4000 - mean_absolute_error: 0.4630 - val_loss: 0.3271 - val_mean_absolute_error: 0.4472\n",
            "Epoch 10/100\n",
            "488/488 [==============================] - 1s 1ms/step - loss: 0.3745 - mean_absolute_error: 0.4303 - val_loss: 0.2249 - val_mean_absolute_error: 0.3747\n",
            "Epoch 11/100\n",
            "488/488 [==============================] - 1s 1ms/step - loss: 0.3546 - mean_absolute_error: 0.4348 - val_loss: 0.2426 - val_mean_absolute_error: 0.3861\n",
            "Epoch 12/100\n",
            "488/488 [==============================] - 1s 1ms/step - loss: 0.2898 - mean_absolute_error: 0.3962 - val_loss: 0.1922 - val_mean_absolute_error: 0.3463\n",
            "Epoch 13/100\n",
            "488/488 [==============================] - 1s 1ms/step - loss: 0.3384 - mean_absolute_error: 0.4375 - val_loss: 0.2115 - val_mean_absolute_error: 0.3614\n",
            "Epoch 14/100\n",
            "488/488 [==============================] - 1s 1ms/step - loss: 0.3550 - mean_absolute_error: 0.4296 - val_loss: 0.2073 - val_mean_absolute_error: 0.3603\n",
            "Epoch 15/100\n",
            "488/488 [==============================] - 1s 1ms/step - loss: 0.2901 - mean_absolute_error: 0.4026 - val_loss: 0.2506 - val_mean_absolute_error: 0.3918\n",
            "Epoch 16/100\n",
            "488/488 [==============================] - 1s 1ms/step - loss: 0.2587 - mean_absolute_error: 0.3647 - val_loss: 0.3042 - val_mean_absolute_error: 0.4334\n",
            "Epoch 17/100\n",
            "488/488 [==============================] - 1s 1ms/step - loss: 0.4156 - mean_absolute_error: 0.4361 - val_loss: 0.2107 - val_mean_absolute_error: 0.3576\n",
            "Epoch 18/100\n",
            "488/488 [==============================] - 1s 1ms/step - loss: 0.2674 - mean_absolute_error: 0.3753 - val_loss: 0.2020 - val_mean_absolute_error: 0.3566\n",
            "Epoch 19/100\n",
            "488/488 [==============================] - 1s 1ms/step - loss: 0.2578 - mean_absolute_error: 0.3573 - val_loss: 0.1946 - val_mean_absolute_error: 0.3428\n",
            "Epoch 20/100\n",
            "488/488 [==============================] - 1s 1ms/step - loss: 0.2633 - mean_absolute_error: 0.3718 - val_loss: 0.2646 - val_mean_absolute_error: 0.3776\n",
            "Epoch 21/100\n",
            "488/488 [==============================] - 1s 1ms/step - loss: 0.2312 - mean_absolute_error: 0.3370 - val_loss: 0.2059 - val_mean_absolute_error: 0.3537\n",
            "Epoch 22/100\n",
            "488/488 [==============================] - 1s 1ms/step - loss: 0.2159 - mean_absolute_error: 0.3443 - val_loss: 0.1964 - val_mean_absolute_error: 0.3421\n",
            "Epoch 23/100\n",
            "488/488 [==============================] - 1s 1ms/step - loss: 0.2582 - mean_absolute_error: 0.3780 - val_loss: 0.1759 - val_mean_absolute_error: 0.3237\n",
            "Epoch 24/100\n",
            "488/488 [==============================] - 1s 1ms/step - loss: 0.2787 - mean_absolute_error: 0.3901 - val_loss: 0.1888 - val_mean_absolute_error: 0.3309\n",
            "Epoch 25/100\n",
            "488/488 [==============================] - 1s 1ms/step - loss: 0.3099 - mean_absolute_error: 0.3928 - val_loss: 0.2402 - val_mean_absolute_error: 0.3675\n",
            "Epoch 26/100\n",
            "488/488 [==============================] - 1s 1ms/step - loss: 0.2883 - mean_absolute_error: 0.3744 - val_loss: 0.1783 - val_mean_absolute_error: 0.3293\n",
            "Epoch 27/100\n",
            "488/488 [==============================] - 1s 1ms/step - loss: 0.2699 - mean_absolute_error: 0.3570 - val_loss: 0.1938 - val_mean_absolute_error: 0.3523\n",
            "Epoch 28/100\n",
            "488/488 [==============================] - 1s 1ms/step - loss: 0.2299 - mean_absolute_error: 0.3253 - val_loss: 0.1757 - val_mean_absolute_error: 0.3297\n",
            "Epoch 29/100\n",
            "488/488 [==============================] - 1s 1ms/step - loss: 0.2799 - mean_absolute_error: 0.3685 - val_loss: 0.2242 - val_mean_absolute_error: 0.3677\n",
            "Epoch 30/100\n",
            "488/488 [==============================] - 1s 1ms/step - loss: 0.2512 - mean_absolute_error: 0.3666 - val_loss: 0.1673 - val_mean_absolute_error: 0.3231\n",
            "Epoch 31/100\n",
            "488/488 [==============================] - 1s 1ms/step - loss: 0.2395 - mean_absolute_error: 0.3574 - val_loss: 0.1733 - val_mean_absolute_error: 0.3221\n",
            "Epoch 32/100\n",
            "488/488 [==============================] - 1s 1ms/step - loss: 0.2381 - mean_absolute_error: 0.3484 - val_loss: 0.1781 - val_mean_absolute_error: 0.3328\n",
            "Epoch 33/100\n",
            "488/488 [==============================] - 1s 1ms/step - loss: 0.2241 - mean_absolute_error: 0.3509 - val_loss: 0.1868 - val_mean_absolute_error: 0.3315\n",
            "Epoch 34/100\n",
            "488/488 [==============================] - 1s 1ms/step - loss: 0.1910 - mean_absolute_error: 0.3221 - val_loss: 0.1795 - val_mean_absolute_error: 0.3260\n",
            "Epoch 35/100\n",
            "488/488 [==============================] - 1s 1ms/step - loss: 0.2563 - mean_absolute_error: 0.3500 - val_loss: 0.2444 - val_mean_absolute_error: 0.3789\n",
            "Epoch 36/100\n",
            "488/488 [==============================] - 1s 1ms/step - loss: 0.2250 - mean_absolute_error: 0.3337 - val_loss: 0.1993 - val_mean_absolute_error: 0.3517\n",
            "Epoch 37/100\n",
            "488/488 [==============================] - 1s 1ms/step - loss: 0.2201 - mean_absolute_error: 0.3399 - val_loss: 0.2203 - val_mean_absolute_error: 0.3674\n",
            "Epoch 38/100\n",
            "488/488 [==============================] - 1s 1ms/step - loss: 0.2353 - mean_absolute_error: 0.3419 - val_loss: 0.1988 - val_mean_absolute_error: 0.3399\n",
            "Epoch 39/100\n",
            "488/488 [==============================] - 1s 1ms/step - loss: 0.2292 - mean_absolute_error: 0.3381 - val_loss: 0.1882 - val_mean_absolute_error: 0.3491\n",
            "Epoch 40/100\n",
            "488/488 [==============================] - 1s 1ms/step - loss: 0.1721 - mean_absolute_error: 0.3132 - val_loss: 0.1708 - val_mean_absolute_error: 0.3224\n",
            "Epoch 41/100\n",
            "488/488 [==============================] - 1s 1ms/step - loss: 0.1919 - mean_absolute_error: 0.3211 - val_loss: 0.1694 - val_mean_absolute_error: 0.3244\n",
            "Epoch 42/100\n",
            "488/488 [==============================] - 1s 1ms/step - loss: 0.2011 - mean_absolute_error: 0.3222 - val_loss: 0.3780 - val_mean_absolute_error: 0.4785\n",
            "Epoch 43/100\n",
            "488/488 [==============================] - 1s 1ms/step - loss: 0.1881 - mean_absolute_error: 0.3028 - val_loss: 0.1822 - val_mean_absolute_error: 0.3265\n",
            "Epoch 44/100\n",
            "488/488 [==============================] - 1s 1ms/step - loss: 0.1835 - mean_absolute_error: 0.3037 - val_loss: 0.2270 - val_mean_absolute_error: 0.3768\n",
            "Epoch 45/100\n",
            "488/488 [==============================] - 1s 1ms/step - loss: 0.1829 - mean_absolute_error: 0.3024 - val_loss: 0.1602 - val_mean_absolute_error: 0.3096\n",
            "Epoch 46/100\n",
            "488/488 [==============================] - 1s 1ms/step - loss: 0.2099 - mean_absolute_error: 0.3305 - val_loss: 0.2358 - val_mean_absolute_error: 0.3845\n",
            "Epoch 47/100\n",
            "488/488 [==============================] - 1s 1ms/step - loss: 0.2180 - mean_absolute_error: 0.3437 - val_loss: 0.2516 - val_mean_absolute_error: 0.3688\n",
            "Epoch 48/100\n",
            "488/488 [==============================] - 1s 1ms/step - loss: 0.2158 - mean_absolute_error: 0.3235 - val_loss: 0.3772 - val_mean_absolute_error: 0.4363\n",
            "Epoch 49/100\n",
            "488/488 [==============================] - 1s 1ms/step - loss: 0.2235 - mean_absolute_error: 0.3363 - val_loss: 0.1620 - val_mean_absolute_error: 0.3035\n",
            "Epoch 50/100\n",
            "488/488 [==============================] - 1s 1ms/step - loss: 0.1882 - mean_absolute_error: 0.3106 - val_loss: 0.1541 - val_mean_absolute_error: 0.3049\n",
            "Epoch 51/100\n",
            "488/488 [==============================] - 1s 1ms/step - loss: 0.2361 - mean_absolute_error: 0.3217 - val_loss: 0.2037 - val_mean_absolute_error: 0.3522\n",
            "Epoch 52/100\n",
            "488/488 [==============================] - 1s 1ms/step - loss: 0.1901 - mean_absolute_error: 0.3044 - val_loss: 0.1577 - val_mean_absolute_error: 0.2970\n",
            "Epoch 53/100\n",
            "488/488 [==============================] - 1s 1ms/step - loss: 0.1691 - mean_absolute_error: 0.3016 - val_loss: 0.2052 - val_mean_absolute_error: 0.3469\n",
            "Epoch 54/100\n",
            "488/488 [==============================] - 1s 1ms/step - loss: 0.2076 - mean_absolute_error: 0.3192 - val_loss: 0.1749 - val_mean_absolute_error: 0.3229\n",
            "Epoch 55/100\n",
            "488/488 [==============================] - 1s 1ms/step - loss: 0.1997 - mean_absolute_error: 0.3191 - val_loss: 0.2649 - val_mean_absolute_error: 0.3937\n",
            "Epoch 56/100\n",
            "488/488 [==============================] - 1s 1ms/step - loss: 0.1595 - mean_absolute_error: 0.2818 - val_loss: 0.1735 - val_mean_absolute_error: 0.3274\n",
            "Epoch 57/100\n",
            "488/488 [==============================] - 1s 1ms/step - loss: 0.2122 - mean_absolute_error: 0.3225 - val_loss: 0.1586 - val_mean_absolute_error: 0.2964\n",
            "Epoch 58/100\n",
            "488/488 [==============================] - 1s 1ms/step - loss: 0.1943 - mean_absolute_error: 0.3146 - val_loss: 0.2203 - val_mean_absolute_error: 0.3554\n",
            "Epoch 59/100\n",
            "488/488 [==============================] - 1s 1ms/step - loss: 0.2024 - mean_absolute_error: 0.3219 - val_loss: 0.1560 - val_mean_absolute_error: 0.3004\n",
            "Epoch 60/100\n",
            "488/488 [==============================] - 1s 1ms/step - loss: 0.1646 - mean_absolute_error: 0.2866 - val_loss: 0.1584 - val_mean_absolute_error: 0.3076\n",
            "Epoch 61/100\n",
            "488/488 [==============================] - 1s 1ms/step - loss: 0.2024 - mean_absolute_error: 0.3188 - val_loss: 0.1693 - val_mean_absolute_error: 0.3119\n",
            "Epoch 62/100\n",
            "488/488 [==============================] - 1s 1ms/step - loss: 0.1838 - mean_absolute_error: 0.2948 - val_loss: 0.3233 - val_mean_absolute_error: 0.4327\n",
            "Epoch 63/100\n",
            "488/488 [==============================] - 1s 1ms/step - loss: 0.2280 - mean_absolute_error: 0.3381 - val_loss: 0.1682 - val_mean_absolute_error: 0.3116\n",
            "Epoch 64/100\n",
            "488/488 [==============================] - 1s 1ms/step - loss: 0.1579 - mean_absolute_error: 0.2867 - val_loss: 0.1651 - val_mean_absolute_error: 0.3083\n",
            "Epoch 65/100\n",
            "488/488 [==============================] - 1s 1ms/step - loss: 0.1869 - mean_absolute_error: 0.2911 - val_loss: 0.1755 - val_mean_absolute_error: 0.3225\n",
            "Epoch 66/100\n",
            "488/488 [==============================] - 1s 1ms/step - loss: 0.1645 - mean_absolute_error: 0.2934 - val_loss: 0.1913 - val_mean_absolute_error: 0.3405\n",
            "Epoch 67/100\n",
            "488/488 [==============================] - 1s 1ms/step - loss: 0.1840 - mean_absolute_error: 0.3049 - val_loss: 0.1970 - val_mean_absolute_error: 0.3357\n",
            "Epoch 68/100\n",
            "488/488 [==============================] - 1s 1ms/step - loss: 0.2006 - mean_absolute_error: 0.3196 - val_loss: 0.1519 - val_mean_absolute_error: 0.2986\n",
            "Epoch 69/100\n",
            "488/488 [==============================] - 1s 1ms/step - loss: 0.1755 - mean_absolute_error: 0.3059 - val_loss: 0.1936 - val_mean_absolute_error: 0.3334\n",
            "Epoch 70/100\n",
            "488/488 [==============================] - 1s 1ms/step - loss: 0.1851 - mean_absolute_error: 0.3161 - val_loss: 0.1690 - val_mean_absolute_error: 0.3101\n",
            "Epoch 71/100\n",
            "488/488 [==============================] - 1s 1ms/step - loss: 0.1930 - mean_absolute_error: 0.3098 - val_loss: 0.1573 - val_mean_absolute_error: 0.3042\n",
            "Epoch 72/100\n",
            "488/488 [==============================] - 1s 1ms/step - loss: 0.1947 - mean_absolute_error: 0.3027 - val_loss: 0.1935 - val_mean_absolute_error: 0.3277\n",
            "Epoch 73/100\n",
            "488/488 [==============================] - 1s 1ms/step - loss: 0.1785 - mean_absolute_error: 0.3136 - val_loss: 0.2171 - val_mean_absolute_error: 0.3607\n",
            "Epoch 74/100\n",
            "488/488 [==============================] - 1s 1ms/step - loss: 0.1986 - mean_absolute_error: 0.3090 - val_loss: 0.1748 - val_mean_absolute_error: 0.3167\n",
            "Epoch 75/100\n",
            "488/488 [==============================] - 1s 1ms/step - loss: 0.1727 - mean_absolute_error: 0.3013 - val_loss: 0.1639 - val_mean_absolute_error: 0.3016\n",
            "Epoch 76/100\n",
            "488/488 [==============================] - 1s 1ms/step - loss: 0.1741 - mean_absolute_error: 0.2904 - val_loss: 0.1831 - val_mean_absolute_error: 0.3281\n",
            "Epoch 77/100\n",
            "488/488 [==============================] - 1s 1ms/step - loss: 0.1939 - mean_absolute_error: 0.3092 - val_loss: 0.1609 - val_mean_absolute_error: 0.3107\n",
            "Epoch 78/100\n",
            "488/488 [==============================] - 1s 1ms/step - loss: 0.2152 - mean_absolute_error: 0.3256 - val_loss: 0.1831 - val_mean_absolute_error: 0.3389\n",
            "Epoch 79/100\n",
            "488/488 [==============================] - 1s 1ms/step - loss: 0.1848 - mean_absolute_error: 0.3015 - val_loss: 0.1764 - val_mean_absolute_error: 0.3204\n",
            "Epoch 80/100\n",
            "488/488 [==============================] - 1s 1ms/step - loss: 0.1926 - mean_absolute_error: 0.2949 - val_loss: 0.1675 - val_mean_absolute_error: 0.3040\n",
            "Epoch 81/100\n",
            "488/488 [==============================] - 1s 1ms/step - loss: 0.1743 - mean_absolute_error: 0.2915 - val_loss: 0.1555 - val_mean_absolute_error: 0.2952\n",
            "Epoch 82/100\n",
            "488/488 [==============================] - 1s 1ms/step - loss: 0.1695 - mean_absolute_error: 0.2952 - val_loss: 0.2112 - val_mean_absolute_error: 0.3483\n",
            "Epoch 83/100\n",
            "488/488 [==============================] - 1s 1ms/step - loss: 0.1834 - mean_absolute_error: 0.3059 - val_loss: 0.1715 - val_mean_absolute_error: 0.3178\n",
            "Epoch 84/100\n",
            "488/488 [==============================] - 1s 1ms/step - loss: 0.1652 - mean_absolute_error: 0.2934 - val_loss: 0.1921 - val_mean_absolute_error: 0.3327\n",
            "Epoch 85/100\n",
            "488/488 [==============================] - 1s 1ms/step - loss: 0.2140 - mean_absolute_error: 0.3274 - val_loss: 0.2344 - val_mean_absolute_error: 0.3801\n",
            "Epoch 86/100\n",
            "488/488 [==============================] - 1s 1ms/step - loss: 0.1971 - mean_absolute_error: 0.3051 - val_loss: 0.1834 - val_mean_absolute_error: 0.3192\n",
            "Epoch 87/100\n",
            "488/488 [==============================] - 1s 1ms/step - loss: 0.1831 - mean_absolute_error: 0.3030 - val_loss: 0.2534 - val_mean_absolute_error: 0.3767\n",
            "Epoch 88/100\n",
            "488/488 [==============================] - 1s 1ms/step - loss: 0.1887 - mean_absolute_error: 0.3054 - val_loss: 0.1639 - val_mean_absolute_error: 0.3069\n",
            "Epoch 89/100\n",
            "488/488 [==============================] - 1s 1ms/step - loss: 0.1818 - mean_absolute_error: 0.3126 - val_loss: 0.1609 - val_mean_absolute_error: 0.3038\n",
            "Epoch 90/100\n",
            "488/488 [==============================] - 1s 1ms/step - loss: 0.1573 - mean_absolute_error: 0.2875 - val_loss: 0.1675 - val_mean_absolute_error: 0.3142\n",
            "Epoch 91/100\n",
            "488/488 [==============================] - 1s 1ms/step - loss: 0.1860 - mean_absolute_error: 0.3030 - val_loss: 0.2033 - val_mean_absolute_error: 0.3472\n",
            "Epoch 92/100\n",
            "488/488 [==============================] - 1s 1ms/step - loss: 0.1811 - mean_absolute_error: 0.2962 - val_loss: 0.1697 - val_mean_absolute_error: 0.2989\n",
            "Epoch 93/100\n",
            "488/488 [==============================] - 1s 1ms/step - loss: 0.1754 - mean_absolute_error: 0.3011 - val_loss: 0.1988 - val_mean_absolute_error: 0.3372\n",
            "Epoch 94/100\n",
            "488/488 [==============================] - 1s 1ms/step - loss: 0.1763 - mean_absolute_error: 0.3043 - val_loss: 0.2084 - val_mean_absolute_error: 0.3527\n",
            "Epoch 95/100\n",
            "488/488 [==============================] - 1s 1ms/step - loss: 0.1912 - mean_absolute_error: 0.3157 - val_loss: 0.1604 - val_mean_absolute_error: 0.3093\n",
            "Epoch 96/100\n",
            "488/488 [==============================] - 1s 1ms/step - loss: 0.1611 - mean_absolute_error: 0.2852 - val_loss: 0.2305 - val_mean_absolute_error: 0.3630\n",
            "Epoch 97/100\n",
            "488/488 [==============================] - 1s 1ms/step - loss: 0.1626 - mean_absolute_error: 0.2833 - val_loss: 0.1539 - val_mean_absolute_error: 0.2993\n",
            "Epoch 98/100\n",
            "488/488 [==============================] - 1s 1ms/step - loss: 0.1695 - mean_absolute_error: 0.3016 - val_loss: 0.1673 - val_mean_absolute_error: 0.3260\n",
            "Epoch 99/100\n",
            "488/488 [==============================] - 1s 1ms/step - loss: 0.1495 - mean_absolute_error: 0.2740 - val_loss: 0.1824 - val_mean_absolute_error: 0.3243\n",
            "Epoch 100/100\n",
            "488/488 [==============================] - 1s 1ms/step - loss: 0.1846 - mean_absolute_error: 0.3019 - val_loss: 0.1498 - val_mean_absolute_error: 0.2933\n"
          ],
          "name": "stdout"
        }
      ]
    },
    {
      "cell_type": "code",
      "metadata": {
        "colab": {
          "base_uri": "https://localhost:8080/"
        },
        "id": "t3Y-fzYJkxQ6",
        "outputId": "7ecc5670-c3aa-4034-873a-aa4bd6b0bd3d"
      },
      "source": [
        "model_reg=build_model_regular('relu')\n",
        "history_reg=model_reg.fit(\n",
        "    train,\n",
        "    train_lab,\n",
        "    batch_size=1,\n",
        "    epochs=100,\n",
        "    validation_data=(val,val_lab))"
      ],
      "execution_count": 47,
      "outputs": [
        {
          "output_type": "stream",
          "text": [
            "Epoch 1/100\n",
            "488/488 [==============================] - 1s 2ms/step - loss: 1.1391 - mae: 0.8456 - val_loss: 0.7640 - val_mae: 0.6948\n",
            "Epoch 2/100\n",
            "488/488 [==============================] - 1s 1ms/step - loss: 0.7467 - mae: 0.6537 - val_loss: 0.5353 - val_mae: 0.5352\n",
            "Epoch 3/100\n",
            "488/488 [==============================] - 1s 1ms/step - loss: 0.5876 - mae: 0.5651 - val_loss: 0.3485 - val_mae: 0.4434\n",
            "Epoch 4/100\n",
            "488/488 [==============================] - 1s 1ms/step - loss: 0.5355 - mae: 0.5111 - val_loss: 0.3929 - val_mae: 0.4344\n",
            "Epoch 5/100\n",
            "488/488 [==============================] - 1s 1ms/step - loss: 0.4361 - mae: 0.4756 - val_loss: 0.2848 - val_mae: 0.4023\n",
            "Epoch 6/100\n",
            "488/488 [==============================] - 1s 1ms/step - loss: 0.3883 - mae: 0.4243 - val_loss: 0.3300 - val_mae: 0.4363\n",
            "Epoch 7/100\n",
            "488/488 [==============================] - 1s 1ms/step - loss: 0.4098 - mae: 0.4555 - val_loss: 0.2723 - val_mae: 0.3887\n",
            "Epoch 8/100\n",
            "488/488 [==============================] - 1s 1ms/step - loss: 0.3638 - mae: 0.4149 - val_loss: 0.2701 - val_mae: 0.3664\n",
            "Epoch 9/100\n",
            "488/488 [==============================] - 1s 1ms/step - loss: 0.3043 - mae: 0.3836 - val_loss: 0.3579 - val_mae: 0.4486\n",
            "Epoch 10/100\n",
            "488/488 [==============================] - 1s 1ms/step - loss: 0.3081 - mae: 0.3823 - val_loss: 0.3017 - val_mae: 0.3879\n",
            "Epoch 11/100\n",
            "488/488 [==============================] - 1s 1ms/step - loss: 0.2830 - mae: 0.3690 - val_loss: 0.2160 - val_mae: 0.3299\n",
            "Epoch 12/100\n",
            "488/488 [==============================] - 1s 1ms/step - loss: 0.2601 - mae: 0.3447 - val_loss: 0.2083 - val_mae: 0.3175\n",
            "Epoch 13/100\n",
            "488/488 [==============================] - 1s 1ms/step - loss: 0.2832 - mae: 0.3553 - val_loss: 0.2442 - val_mae: 0.3539\n",
            "Epoch 14/100\n",
            "488/488 [==============================] - 1s 1ms/step - loss: 0.2692 - mae: 0.3540 - val_loss: 0.3207 - val_mae: 0.3883\n",
            "Epoch 15/100\n",
            "488/488 [==============================] - 1s 1ms/step - loss: 0.2715 - mae: 0.3635 - val_loss: 0.2262 - val_mae: 0.3273\n",
            "Epoch 16/100\n",
            "488/488 [==============================] - 1s 2ms/step - loss: 0.2863 - mae: 0.3849 - val_loss: 0.2236 - val_mae: 0.3269\n",
            "Epoch 17/100\n",
            "488/488 [==============================] - 1s 1ms/step - loss: 0.2361 - mae: 0.3303 - val_loss: 0.2049 - val_mae: 0.3118\n",
            "Epoch 18/100\n",
            "488/488 [==============================] - 1s 1ms/step - loss: 0.2553 - mae: 0.3456 - val_loss: 0.2245 - val_mae: 0.3318\n",
            "Epoch 19/100\n",
            "488/488 [==============================] - 1s 1ms/step - loss: 0.2306 - mae: 0.3211 - val_loss: 0.2216 - val_mae: 0.3294\n",
            "Epoch 20/100\n",
            "488/488 [==============================] - 1s 1ms/step - loss: 0.2714 - mae: 0.3498 - val_loss: 0.1921 - val_mae: 0.2982\n",
            "Epoch 21/100\n",
            "488/488 [==============================] - 1s 1ms/step - loss: 0.2468 - mae: 0.3397 - val_loss: 0.1917 - val_mae: 0.2985\n",
            "Epoch 22/100\n",
            "488/488 [==============================] - 1s 1ms/step - loss: 0.2775 - mae: 0.3527 - val_loss: 0.2470 - val_mae: 0.3508\n",
            "Epoch 23/100\n",
            "488/488 [==============================] - 1s 1ms/step - loss: 0.2494 - mae: 0.3383 - val_loss: 0.2076 - val_mae: 0.3161\n",
            "Epoch 24/100\n",
            "488/488 [==============================] - 1s 1ms/step - loss: 0.2255 - mae: 0.3244 - val_loss: 0.1963 - val_mae: 0.3026\n",
            "Epoch 25/100\n",
            "488/488 [==============================] - 1s 1ms/step - loss: 0.2324 - mae: 0.3352 - val_loss: 0.2139 - val_mae: 0.3276\n",
            "Epoch 26/100\n",
            "488/488 [==============================] - 1s 1ms/step - loss: 0.2480 - mae: 0.3454 - val_loss: 0.1893 - val_mae: 0.2937\n",
            "Epoch 27/100\n",
            "488/488 [==============================] - 1s 1ms/step - loss: 0.2340 - mae: 0.3166 - val_loss: 0.1964 - val_mae: 0.3030\n",
            "Epoch 28/100\n",
            "488/488 [==============================] - 1s 1ms/step - loss: 0.2313 - mae: 0.3268 - val_loss: 0.1834 - val_mae: 0.2891\n",
            "Epoch 29/100\n",
            "488/488 [==============================] - 1s 2ms/step - loss: 0.2438 - mae: 0.3470 - val_loss: 0.1917 - val_mae: 0.3041\n",
            "Epoch 30/100\n",
            "488/488 [==============================] - 1s 1ms/step - loss: 0.2584 - mae: 0.3363 - val_loss: 0.2483 - val_mae: 0.3588\n",
            "Epoch 31/100\n",
            "488/488 [==============================] - 1s 1ms/step - loss: 0.2255 - mae: 0.3277 - val_loss: 0.2441 - val_mae: 0.3432\n",
            "Epoch 32/100\n",
            "488/488 [==============================] - 1s 1ms/step - loss: 0.2352 - mae: 0.3258 - val_loss: 0.1830 - val_mae: 0.2887\n",
            "Epoch 33/100\n",
            "488/488 [==============================] - 1s 1ms/step - loss: 0.2137 - mae: 0.3183 - val_loss: 0.1858 - val_mae: 0.2916\n",
            "Epoch 34/100\n",
            "488/488 [==============================] - 1s 1ms/step - loss: 0.2555 - mae: 0.3390 - val_loss: 0.1950 - val_mae: 0.3043\n",
            "Epoch 35/100\n",
            "488/488 [==============================] - 1s 1ms/step - loss: 0.2313 - mae: 0.3230 - val_loss: 0.1993 - val_mae: 0.3090\n",
            "Epoch 36/100\n",
            "488/488 [==============================] - 1s 1ms/step - loss: 0.2214 - mae: 0.3206 - val_loss: 0.1887 - val_mae: 0.2895\n",
            "Epoch 37/100\n",
            "488/488 [==============================] - 1s 1ms/step - loss: 0.2420 - mae: 0.3461 - val_loss: 0.1910 - val_mae: 0.3042\n",
            "Epoch 38/100\n",
            "488/488 [==============================] - 1s 2ms/step - loss: 0.2274 - mae: 0.3224 - val_loss: 0.1862 - val_mae: 0.2875\n",
            "Epoch 39/100\n",
            "488/488 [==============================] - 1s 1ms/step - loss: 0.2270 - mae: 0.3227 - val_loss: 0.1845 - val_mae: 0.2839\n",
            "Epoch 40/100\n",
            "488/488 [==============================] - 1s 1ms/step - loss: 0.2089 - mae: 0.3068 - val_loss: 0.2063 - val_mae: 0.3137\n",
            "Epoch 41/100\n",
            "488/488 [==============================] - 1s 1ms/step - loss: 0.2507 - mae: 0.3388 - val_loss: 0.2320 - val_mae: 0.3447\n",
            "Epoch 42/100\n",
            "488/488 [==============================] - 1s 1ms/step - loss: 0.2235 - mae: 0.3297 - val_loss: 0.1919 - val_mae: 0.2925\n",
            "Epoch 43/100\n",
            "488/488 [==============================] - 1s 1ms/step - loss: 0.2250 - mae: 0.3222 - val_loss: 0.2032 - val_mae: 0.2989\n",
            "Epoch 44/100\n",
            "488/488 [==============================] - 1s 1ms/step - loss: 0.2388 - mae: 0.3328 - val_loss: 0.1852 - val_mae: 0.2894\n",
            "Epoch 45/100\n",
            "488/488 [==============================] - 1s 1ms/step - loss: 0.2183 - mae: 0.3109 - val_loss: 0.1889 - val_mae: 0.2871\n",
            "Epoch 46/100\n",
            "488/488 [==============================] - 1s 1ms/step - loss: 0.2267 - mae: 0.3178 - val_loss: 0.1904 - val_mae: 0.2917\n",
            "Epoch 47/100\n",
            "488/488 [==============================] - 1s 1ms/step - loss: 0.1957 - mae: 0.2920 - val_loss: 0.2937 - val_mae: 0.3861\n",
            "Epoch 48/100\n",
            "488/488 [==============================] - 1s 2ms/step - loss: 0.2240 - mae: 0.3195 - val_loss: 0.1977 - val_mae: 0.3035\n",
            "Epoch 49/100\n",
            "488/488 [==============================] - 1s 1ms/step - loss: 0.2484 - mae: 0.3495 - val_loss: 0.1790 - val_mae: 0.2845\n",
            "Epoch 50/100\n",
            "488/488 [==============================] - 1s 1ms/step - loss: 0.2100 - mae: 0.3091 - val_loss: 0.1799 - val_mae: 0.2929\n",
            "Epoch 51/100\n",
            "488/488 [==============================] - 1s 1ms/step - loss: 0.1940 - mae: 0.2954 - val_loss: 0.2335 - val_mae: 0.3442\n",
            "Epoch 52/100\n",
            "488/488 [==============================] - 1s 1ms/step - loss: 0.2513 - mae: 0.3464 - val_loss: 0.2043 - val_mae: 0.3099\n",
            "Epoch 53/100\n",
            "488/488 [==============================] - 1s 1ms/step - loss: 0.2436 - mae: 0.3164 - val_loss: 0.1881 - val_mae: 0.2998\n",
            "Epoch 54/100\n",
            "488/488 [==============================] - 1s 1ms/step - loss: 0.2015 - mae: 0.3043 - val_loss: 0.2221 - val_mae: 0.3366\n",
            "Epoch 55/100\n",
            "488/488 [==============================] - 1s 1ms/step - loss: 0.2246 - mae: 0.3270 - val_loss: 0.2699 - val_mae: 0.3551\n",
            "Epoch 56/100\n",
            "488/488 [==============================] - 1s 1ms/step - loss: 0.2214 - mae: 0.3206 - val_loss: 0.1789 - val_mae: 0.2852\n",
            "Epoch 57/100\n",
            "488/488 [==============================] - 1s 1ms/step - loss: 0.2247 - mae: 0.3236 - val_loss: 0.1888 - val_mae: 0.2904\n",
            "Epoch 58/100\n",
            "488/488 [==============================] - 1s 1ms/step - loss: 0.2392 - mae: 0.3301 - val_loss: 0.2002 - val_mae: 0.2934\n",
            "Epoch 59/100\n",
            "488/488 [==============================] - 1s 1ms/step - loss: 0.2301 - mae: 0.3116 - val_loss: 0.1830 - val_mae: 0.2928\n",
            "Epoch 60/100\n",
            "488/488 [==============================] - 1s 1ms/step - loss: 0.2078 - mae: 0.3090 - val_loss: 0.2519 - val_mae: 0.3611\n",
            "Epoch 61/100\n",
            "488/488 [==============================] - 1s 1ms/step - loss: 0.2271 - mae: 0.3241 - val_loss: 0.1814 - val_mae: 0.2809\n",
            "Epoch 62/100\n",
            "488/488 [==============================] - 1s 1ms/step - loss: 0.2336 - mae: 0.3325 - val_loss: 0.2011 - val_mae: 0.3139\n",
            "Epoch 63/100\n",
            "488/488 [==============================] - 1s 1ms/step - loss: 0.2332 - mae: 0.3374 - val_loss: 0.1743 - val_mae: 0.2822\n",
            "Epoch 64/100\n",
            "488/488 [==============================] - 1s 1ms/step - loss: 0.2078 - mae: 0.3041 - val_loss: 0.1735 - val_mae: 0.2805\n",
            "Epoch 65/100\n",
            "488/488 [==============================] - 1s 1ms/step - loss: 0.2370 - mae: 0.3249 - val_loss: 0.1828 - val_mae: 0.2848\n",
            "Epoch 66/100\n",
            "488/488 [==============================] - 1s 1ms/step - loss: 0.2138 - mae: 0.3087 - val_loss: 0.2153 - val_mae: 0.3127\n",
            "Epoch 67/100\n",
            "488/488 [==============================] - 1s 1ms/step - loss: 0.2382 - mae: 0.3232 - val_loss: 0.1972 - val_mae: 0.3134\n",
            "Epoch 68/100\n",
            "488/488 [==============================] - 1s 1ms/step - loss: 0.2033 - mae: 0.3041 - val_loss: 0.1939 - val_mae: 0.3124\n",
            "Epoch 69/100\n",
            "488/488 [==============================] - 1s 1ms/step - loss: 0.2254 - mae: 0.3174 - val_loss: 0.2448 - val_mae: 0.3547\n",
            "Epoch 70/100\n",
            "488/488 [==============================] - 1s 1ms/step - loss: 0.2386 - mae: 0.3314 - val_loss: 0.1872 - val_mae: 0.2942\n",
            "Epoch 71/100\n",
            "488/488 [==============================] - 1s 1ms/step - loss: 0.2053 - mae: 0.3059 - val_loss: 0.2009 - val_mae: 0.3117\n",
            "Epoch 72/100\n",
            "488/488 [==============================] - 1s 1ms/step - loss: 0.2171 - mae: 0.3277 - val_loss: 0.1766 - val_mae: 0.2834\n",
            "Epoch 73/100\n",
            "488/488 [==============================] - 1s 1ms/step - loss: 0.2391 - mae: 0.3289 - val_loss: 0.1743 - val_mae: 0.2809\n",
            "Epoch 74/100\n",
            "488/488 [==============================] - 1s 1ms/step - loss: 0.2160 - mae: 0.3152 - val_loss: 0.1769 - val_mae: 0.2831\n",
            "Epoch 75/100\n",
            "488/488 [==============================] - 1s 1ms/step - loss: 0.2305 - mae: 0.3197 - val_loss: 0.1780 - val_mae: 0.2862\n",
            "Epoch 76/100\n",
            "488/488 [==============================] - 1s 1ms/step - loss: 0.2155 - mae: 0.3078 - val_loss: 0.1858 - val_mae: 0.2871\n",
            "Epoch 77/100\n",
            "488/488 [==============================] - 1s 1ms/step - loss: 0.2203 - mae: 0.3139 - val_loss: 0.1716 - val_mae: 0.2752\n",
            "Epoch 78/100\n",
            "488/488 [==============================] - 1s 1ms/step - loss: 0.2145 - mae: 0.3197 - val_loss: 0.2096 - val_mae: 0.3280\n",
            "Epoch 79/100\n",
            "488/488 [==============================] - 1s 1ms/step - loss: 0.1909 - mae: 0.2953 - val_loss: 0.1734 - val_mae: 0.2870\n",
            "Epoch 80/100\n",
            "488/488 [==============================] - 1s 2ms/step - loss: 0.1767 - mae: 0.2749 - val_loss: 0.1792 - val_mae: 0.2865\n",
            "Epoch 81/100\n",
            "488/488 [==============================] - 1s 1ms/step - loss: 0.2150 - mae: 0.3161 - val_loss: 0.1715 - val_mae: 0.2787\n",
            "Epoch 82/100\n",
            "488/488 [==============================] - 1s 1ms/step - loss: 0.1969 - mae: 0.2925 - val_loss: 0.2461 - val_mae: 0.3365\n",
            "Epoch 83/100\n",
            "488/488 [==============================] - 1s 2ms/step - loss: 0.2194 - mae: 0.3215 - val_loss: 0.2285 - val_mae: 0.3373\n",
            "Epoch 84/100\n",
            "488/488 [==============================] - 1s 1ms/step - loss: 0.2023 - mae: 0.3027 - val_loss: 0.1898 - val_mae: 0.3020\n",
            "Epoch 85/100\n",
            "488/488 [==============================] - 1s 1ms/step - loss: 0.2100 - mae: 0.3030 - val_loss: 0.1779 - val_mae: 0.2835\n",
            "Epoch 86/100\n",
            "488/488 [==============================] - 1s 1ms/step - loss: 0.2023 - mae: 0.3013 - val_loss: 0.2394 - val_mae: 0.3457\n",
            "Epoch 87/100\n",
            "488/488 [==============================] - 1s 1ms/step - loss: 0.2319 - mae: 0.3184 - val_loss: 0.1859 - val_mae: 0.3012\n",
            "Epoch 88/100\n",
            "488/488 [==============================] - 1s 1ms/step - loss: 0.1802 - mae: 0.2764 - val_loss: 0.1868 - val_mae: 0.2871\n",
            "Epoch 89/100\n",
            "488/488 [==============================] - 1s 1ms/step - loss: 0.1996 - mae: 0.3029 - val_loss: 0.1692 - val_mae: 0.2804\n",
            "Epoch 90/100\n",
            "488/488 [==============================] - 1s 1ms/step - loss: 0.2154 - mae: 0.3104 - val_loss: 0.1781 - val_mae: 0.2883\n",
            "Epoch 91/100\n",
            "488/488 [==============================] - 1s 1ms/step - loss: 0.2077 - mae: 0.2888 - val_loss: 0.2360 - val_mae: 0.3440\n",
            "Epoch 92/100\n",
            "488/488 [==============================] - 1s 1ms/step - loss: 0.2031 - mae: 0.3157 - val_loss: 0.1837 - val_mae: 0.2981\n",
            "Epoch 93/100\n",
            "488/488 [==============================] - 1s 1ms/step - loss: 0.2354 - mae: 0.3326 - val_loss: 0.1637 - val_mae: 0.2719\n",
            "Epoch 94/100\n",
            "488/488 [==============================] - 1s 1ms/step - loss: 0.2165 - mae: 0.3116 - val_loss: 0.2456 - val_mae: 0.3321\n",
            "Epoch 95/100\n",
            "488/488 [==============================] - 1s 1ms/step - loss: 0.2440 - mae: 0.3207 - val_loss: 0.1817 - val_mae: 0.2816\n",
            "Epoch 96/100\n",
            "488/488 [==============================] - 1s 1ms/step - loss: 0.2150 - mae: 0.3077 - val_loss: 0.2024 - val_mae: 0.3016\n",
            "Epoch 97/100\n",
            "488/488 [==============================] - 1s 1ms/step - loss: 0.1900 - mae: 0.2861 - val_loss: 0.1715 - val_mae: 0.2741\n",
            "Epoch 98/100\n",
            "488/488 [==============================] - 1s 1ms/step - loss: 0.1971 - mae: 0.2879 - val_loss: 0.1713 - val_mae: 0.2790\n",
            "Epoch 99/100\n",
            "488/488 [==============================] - 1s 1ms/step - loss: 0.2019 - mae: 0.3073 - val_loss: 0.1911 - val_mae: 0.3030\n",
            "Epoch 100/100\n",
            "488/488 [==============================] - 1s 1ms/step - loss: 0.2247 - mae: 0.3227 - val_loss: 0.1713 - val_mae: 0.2805\n"
          ],
          "name": "stdout"
        }
      ]
    },
    {
      "cell_type": "code",
      "metadata": {
        "colab": {
          "base_uri": "https://localhost:8080/"
        },
        "id": "1NNLUNE9l-ux",
        "outputId": "3829c140-1e1a-4cf1-ea44-444e0c8f3f31"
      },
      "source": [
        "model_drop1=build_model_drop1('relu')\n",
        "history_drop1=model_drop1.fit(\n",
        "    train,\n",
        "    train_lab,\n",
        "    batch_size=1,\n",
        "    epochs=100,\n",
        "    validation_data=(val,val_lab))"
      ],
      "execution_count": 51,
      "outputs": [
        {
          "output_type": "stream",
          "text": [
            "Epoch 1/100\n",
            "488/488 [==============================] - 2s 2ms/step - loss: 7.9523 - mae: 1.4911 - val_loss: 0.8850 - val_mae: 0.7564\n",
            "Epoch 2/100\n",
            "488/488 [==============================] - 1s 1ms/step - loss: 1.0902 - mae: 0.8137 - val_loss: 0.7082 - val_mae: 0.6705\n",
            "Epoch 3/100\n",
            "488/488 [==============================] - 1s 1ms/step - loss: 1.2567 - mae: 0.7955 - val_loss: 0.6680 - val_mae: 0.6057\n",
            "Epoch 4/100\n",
            "488/488 [==============================] - 1s 1ms/step - loss: 0.7733 - mae: 0.6485 - val_loss: 0.5580 - val_mae: 0.5753\n",
            "Epoch 5/100\n",
            "488/488 [==============================] - 1s 1ms/step - loss: 0.9162 - mae: 0.6527 - val_loss: 0.4377 - val_mae: 0.5012\n",
            "Epoch 6/100\n",
            "488/488 [==============================] - 1s 1ms/step - loss: 0.7159 - mae: 0.6387 - val_loss: 0.4383 - val_mae: 0.4947\n",
            "Epoch 7/100\n",
            "488/488 [==============================] - 1s 1ms/step - loss: 0.8625 - mae: 0.6240 - val_loss: 0.2927 - val_mae: 0.4278\n",
            "Epoch 8/100\n",
            "488/488 [==============================] - 1s 1ms/step - loss: 0.6630 - mae: 0.5596 - val_loss: 0.3623 - val_mae: 0.4720\n",
            "Epoch 9/100\n",
            "488/488 [==============================] - 1s 2ms/step - loss: 0.5942 - mae: 0.5677 - val_loss: 0.3432 - val_mae: 0.4426\n",
            "Epoch 10/100\n",
            "488/488 [==============================] - 1s 1ms/step - loss: 0.3701 - mae: 0.4663 - val_loss: 0.2395 - val_mae: 0.3782\n",
            "Epoch 11/100\n",
            "488/488 [==============================] - 1s 1ms/step - loss: 0.4832 - mae: 0.4941 - val_loss: 0.2198 - val_mae: 0.3662\n",
            "Epoch 12/100\n",
            "488/488 [==============================] - 1s 2ms/step - loss: 0.4035 - mae: 0.4846 - val_loss: 0.2594 - val_mae: 0.3827\n",
            "Epoch 13/100\n",
            "488/488 [==============================] - 1s 2ms/step - loss: 0.4096 - mae: 0.4761 - val_loss: 0.2167 - val_mae: 0.3629\n",
            "Epoch 14/100\n",
            "488/488 [==============================] - 1s 1ms/step - loss: 0.3700 - mae: 0.4591 - val_loss: 0.2034 - val_mae: 0.3683\n",
            "Epoch 15/100\n",
            "488/488 [==============================] - 1s 1ms/step - loss: 0.3763 - mae: 0.4593 - val_loss: 0.2091 - val_mae: 0.3559\n",
            "Epoch 16/100\n",
            "488/488 [==============================] - 1s 1ms/step - loss: 0.3293 - mae: 0.4283 - val_loss: 0.2004 - val_mae: 0.3422\n",
            "Epoch 17/100\n",
            "488/488 [==============================] - 1s 1ms/step - loss: 0.3003 - mae: 0.4138 - val_loss: 0.1985 - val_mae: 0.3457\n",
            "Epoch 18/100\n",
            "488/488 [==============================] - 1s 2ms/step - loss: 0.3266 - mae: 0.4379 - val_loss: 0.2198 - val_mae: 0.3636\n",
            "Epoch 19/100\n",
            "488/488 [==============================] - 1s 1ms/step - loss: 0.3297 - mae: 0.4283 - val_loss: 0.2016 - val_mae: 0.3626\n",
            "Epoch 20/100\n",
            "488/488 [==============================] - 1s 1ms/step - loss: 0.2950 - mae: 0.4197 - val_loss: 0.2393 - val_mae: 0.3826\n",
            "Epoch 21/100\n",
            "488/488 [==============================] - 1s 1ms/step - loss: 0.2822 - mae: 0.4076 - val_loss: 0.1837 - val_mae: 0.3414\n",
            "Epoch 22/100\n",
            "488/488 [==============================] - 1s 2ms/step - loss: 0.2709 - mae: 0.3892 - val_loss: 0.1998 - val_mae: 0.3664\n",
            "Epoch 23/100\n",
            "488/488 [==============================] - 1s 2ms/step - loss: 0.2956 - mae: 0.4009 - val_loss: 0.2023 - val_mae: 0.3458\n",
            "Epoch 24/100\n",
            "488/488 [==============================] - 1s 1ms/step - loss: 0.2678 - mae: 0.4019 - val_loss: 0.1765 - val_mae: 0.3294\n",
            "Epoch 25/100\n",
            "488/488 [==============================] - 1s 1ms/step - loss: 0.2682 - mae: 0.3974 - val_loss: 0.1768 - val_mae: 0.3294\n",
            "Epoch 26/100\n",
            "488/488 [==============================] - 1s 2ms/step - loss: 0.3126 - mae: 0.4002 - val_loss: 0.1783 - val_mae: 0.3391\n",
            "Epoch 27/100\n",
            "488/488 [==============================] - 1s 2ms/step - loss: 0.2843 - mae: 0.4019 - val_loss: 0.1729 - val_mae: 0.3301\n",
            "Epoch 28/100\n",
            "488/488 [==============================] - 1s 1ms/step - loss: 0.2780 - mae: 0.4066 - val_loss: 0.1944 - val_mae: 0.3492\n",
            "Epoch 29/100\n",
            "488/488 [==============================] - 1s 2ms/step - loss: 0.2810 - mae: 0.3946 - val_loss: 0.1643 - val_mae: 0.3170\n",
            "Epoch 30/100\n",
            "488/488 [==============================] - 1s 2ms/step - loss: 0.2733 - mae: 0.3835 - val_loss: 0.1774 - val_mae: 0.3321\n",
            "Epoch 31/100\n",
            "488/488 [==============================] - 1s 2ms/step - loss: 0.2858 - mae: 0.3970 - val_loss: 0.1713 - val_mae: 0.3189\n",
            "Epoch 32/100\n",
            "488/488 [==============================] - 1s 1ms/step - loss: 0.2555 - mae: 0.3823 - val_loss: 0.1785 - val_mae: 0.3407\n",
            "Epoch 33/100\n",
            "488/488 [==============================] - 1s 2ms/step - loss: 0.2657 - mae: 0.3935 - val_loss: 0.1679 - val_mae: 0.3085\n",
            "Epoch 34/100\n",
            "488/488 [==============================] - 1s 2ms/step - loss: 0.2840 - mae: 0.3699 - val_loss: 0.1683 - val_mae: 0.3307\n",
            "Epoch 35/100\n",
            "488/488 [==============================] - 1s 2ms/step - loss: 0.2798 - mae: 0.4034 - val_loss: 0.1561 - val_mae: 0.3058\n",
            "Epoch 36/100\n",
            "488/488 [==============================] - 1s 2ms/step - loss: 0.2268 - mae: 0.3493 - val_loss: 0.2262 - val_mae: 0.3858\n",
            "Epoch 37/100\n",
            "488/488 [==============================] - 1s 2ms/step - loss: 0.2633 - mae: 0.3833 - val_loss: 0.1661 - val_mae: 0.3269\n",
            "Epoch 38/100\n",
            "488/488 [==============================] - 1s 2ms/step - loss: 0.2245 - mae: 0.3665 - val_loss: 0.1793 - val_mae: 0.3310\n",
            "Epoch 39/100\n",
            "488/488 [==============================] - 1s 2ms/step - loss: 0.2446 - mae: 0.3663 - val_loss: 0.1588 - val_mae: 0.3169\n",
            "Epoch 40/100\n",
            "488/488 [==============================] - 1s 2ms/step - loss: 0.2640 - mae: 0.3946 - val_loss: 0.1537 - val_mae: 0.3062\n",
            "Epoch 41/100\n",
            "488/488 [==============================] - 1s 2ms/step - loss: 0.2097 - mae: 0.3415 - val_loss: 0.1567 - val_mae: 0.3012\n",
            "Epoch 42/100\n",
            "488/488 [==============================] - 1s 2ms/step - loss: 0.2866 - mae: 0.3898 - val_loss: 0.1819 - val_mae: 0.3470\n",
            "Epoch 43/100\n",
            "488/488 [==============================] - 1s 2ms/step - loss: 0.3330 - mae: 0.4087 - val_loss: 0.1658 - val_mae: 0.3158\n",
            "Epoch 44/100\n",
            "488/488 [==============================] - 1s 2ms/step - loss: 0.2376 - mae: 0.3596 - val_loss: 0.2180 - val_mae: 0.3892\n",
            "Epoch 45/100\n",
            "488/488 [==============================] - 1s 1ms/step - loss: 0.2540 - mae: 0.3801 - val_loss: 0.1892 - val_mae: 0.3576\n",
            "Epoch 46/100\n",
            "488/488 [==============================] - 1s 2ms/step - loss: 0.2345 - mae: 0.3705 - val_loss: 0.1406 - val_mae: 0.2917\n",
            "Epoch 47/100\n",
            "488/488 [==============================] - 1s 2ms/step - loss: 0.2283 - mae: 0.3675 - val_loss: 0.1591 - val_mae: 0.3001\n",
            "Epoch 48/100\n",
            "488/488 [==============================] - 1s 2ms/step - loss: 0.2528 - mae: 0.3916 - val_loss: 0.1616 - val_mae: 0.3132\n",
            "Epoch 49/100\n",
            "488/488 [==============================] - 1s 2ms/step - loss: 0.2632 - mae: 0.3799 - val_loss: 0.1862 - val_mae: 0.3334\n",
            "Epoch 50/100\n",
            "488/488 [==============================] - 1s 2ms/step - loss: 0.2521 - mae: 0.3635 - val_loss: 0.1627 - val_mae: 0.3136\n",
            "Epoch 51/100\n",
            "488/488 [==============================] - 1s 2ms/step - loss: 0.2522 - mae: 0.3790 - val_loss: 0.1668 - val_mae: 0.3202\n",
            "Epoch 52/100\n",
            "488/488 [==============================] - 1s 2ms/step - loss: 0.2409 - mae: 0.3693 - val_loss: 0.1848 - val_mae: 0.3356\n",
            "Epoch 53/100\n",
            "488/488 [==============================] - 1s 2ms/step - loss: 0.2267 - mae: 0.3596 - val_loss: 0.1488 - val_mae: 0.2945\n",
            "Epoch 54/100\n",
            "488/488 [==============================] - 1s 2ms/step - loss: 0.2330 - mae: 0.3616 - val_loss: 0.1609 - val_mae: 0.3048\n",
            "Epoch 55/100\n",
            "488/488 [==============================] - 1s 2ms/step - loss: 0.2661 - mae: 0.3788 - val_loss: 0.1555 - val_mae: 0.3169\n",
            "Epoch 56/100\n",
            "488/488 [==============================] - 1s 2ms/step - loss: 0.2183 - mae: 0.3522 - val_loss: 0.2969 - val_mae: 0.3914\n",
            "Epoch 57/100\n",
            "488/488 [==============================] - 1s 2ms/step - loss: 0.3721 - mae: 0.4031 - val_loss: 0.1633 - val_mae: 0.3176\n",
            "Epoch 58/100\n",
            "488/488 [==============================] - 1s 2ms/step - loss: 0.2064 - mae: 0.3505 - val_loss: 0.2096 - val_mae: 0.3698\n",
            "Epoch 59/100\n",
            "488/488 [==============================] - 1s 2ms/step - loss: 0.2373 - mae: 0.3786 - val_loss: 0.1817 - val_mae: 0.3134\n",
            "Epoch 60/100\n",
            "488/488 [==============================] - 1s 2ms/step - loss: 0.2683 - mae: 0.4054 - val_loss: 0.1646 - val_mae: 0.3100\n",
            "Epoch 61/100\n",
            "488/488 [==============================] - 1s 1ms/step - loss: 0.2468 - mae: 0.3718 - val_loss: 0.1920 - val_mae: 0.3372\n",
            "Epoch 62/100\n",
            "488/488 [==============================] - 1s 2ms/step - loss: 0.2411 - mae: 0.3711 - val_loss: 0.1981 - val_mae: 0.3355\n",
            "Epoch 63/100\n",
            "488/488 [==============================] - 1s 2ms/step - loss: 0.2410 - mae: 0.3812 - val_loss: 0.1462 - val_mae: 0.2897\n",
            "Epoch 64/100\n",
            "488/488 [==============================] - 1s 2ms/step - loss: 0.2258 - mae: 0.3578 - val_loss: 0.1587 - val_mae: 0.3103\n",
            "Epoch 65/100\n",
            "488/488 [==============================] - 1s 2ms/step - loss: 0.2721 - mae: 0.3851 - val_loss: 0.1539 - val_mae: 0.2960\n",
            "Epoch 66/100\n",
            "488/488 [==============================] - 1s 2ms/step - loss: 0.1675 - mae: 0.3108 - val_loss: 0.1415 - val_mae: 0.2932\n",
            "Epoch 67/100\n",
            "488/488 [==============================] - 1s 2ms/step - loss: 0.2251 - mae: 0.3643 - val_loss: 0.1742 - val_mae: 0.3121\n",
            "Epoch 68/100\n",
            "488/488 [==============================] - 1s 2ms/step - loss: 0.1882 - mae: 0.3241 - val_loss: 0.1615 - val_mae: 0.3068\n",
            "Epoch 69/100\n",
            "488/488 [==============================] - 1s 2ms/step - loss: 0.2730 - mae: 0.4002 - val_loss: 0.1671 - val_mae: 0.3070\n",
            "Epoch 70/100\n",
            "488/488 [==============================] - 1s 2ms/step - loss: 0.1823 - mae: 0.3292 - val_loss: 0.1592 - val_mae: 0.3114\n",
            "Epoch 71/100\n",
            "488/488 [==============================] - 1s 2ms/step - loss: 0.2382 - mae: 0.3454 - val_loss: 0.2151 - val_mae: 0.3212\n",
            "Epoch 72/100\n",
            "488/488 [==============================] - 1s 2ms/step - loss: 0.3059 - mae: 0.3965 - val_loss: 0.1616 - val_mae: 0.2985\n",
            "Epoch 73/100\n",
            "488/488 [==============================] - 1s 2ms/step - loss: 0.2649 - mae: 0.3774 - val_loss: 0.1368 - val_mae: 0.2916\n",
            "Epoch 74/100\n",
            "488/488 [==============================] - 1s 1ms/step - loss: 0.2611 - mae: 0.3844 - val_loss: 0.1444 - val_mae: 0.2883\n",
            "Epoch 75/100\n",
            "488/488 [==============================] - 1s 2ms/step - loss: 0.2269 - mae: 0.3525 - val_loss: 0.1635 - val_mae: 0.3172\n",
            "Epoch 76/100\n",
            "488/488 [==============================] - 1s 2ms/step - loss: 0.2605 - mae: 0.3669 - val_loss: 0.1188 - val_mae: 0.2570\n",
            "Epoch 77/100\n",
            "488/488 [==============================] - 1s 2ms/step - loss: 0.2127 - mae: 0.3479 - val_loss: 0.1235 - val_mae: 0.2626\n",
            "Epoch 78/100\n",
            "488/488 [==============================] - 1s 2ms/step - loss: 0.2036 - mae: 0.3368 - val_loss: 0.1459 - val_mae: 0.2940\n",
            "Epoch 79/100\n",
            "488/488 [==============================] - 1s 2ms/step - loss: 0.2459 - mae: 0.3584 - val_loss: 0.1296 - val_mae: 0.2757\n",
            "Epoch 80/100\n",
            "488/488 [==============================] - 1s 2ms/step - loss: 0.2210 - mae: 0.3587 - val_loss: 0.1462 - val_mae: 0.2837\n",
            "Epoch 81/100\n",
            "488/488 [==============================] - 1s 2ms/step - loss: 0.2260 - mae: 0.3602 - val_loss: 0.1713 - val_mae: 0.3215\n",
            "Epoch 82/100\n",
            "488/488 [==============================] - 1s 2ms/step - loss: 0.2359 - mae: 0.3705 - val_loss: 0.1495 - val_mae: 0.2852\n",
            "Epoch 83/100\n",
            "488/488 [==============================] - 1s 2ms/step - loss: 0.2275 - mae: 0.3443 - val_loss: 0.1461 - val_mae: 0.2825\n",
            "Epoch 84/100\n",
            "488/488 [==============================] - 1s 2ms/step - loss: 0.2581 - mae: 0.3765 - val_loss: 0.1453 - val_mae: 0.2976\n",
            "Epoch 85/100\n",
            "488/488 [==============================] - 1s 2ms/step - loss: 0.4709 - mae: 0.4132 - val_loss: 0.1410 - val_mae: 0.2722\n",
            "Epoch 86/100\n",
            "488/488 [==============================] - 1s 2ms/step - loss: 0.2621 - mae: 0.3826 - val_loss: 0.1383 - val_mae: 0.2857\n",
            "Epoch 87/100\n",
            "488/488 [==============================] - 1s 2ms/step - loss: 0.2842 - mae: 0.3881 - val_loss: 0.1487 - val_mae: 0.2934\n",
            "Epoch 88/100\n",
            "488/488 [==============================] - 1s 1ms/step - loss: 0.2277 - mae: 0.3568 - val_loss: 0.1562 - val_mae: 0.2938\n",
            "Epoch 89/100\n",
            "488/488 [==============================] - 1s 2ms/step - loss: 0.2170 - mae: 0.3497 - val_loss: 0.1455 - val_mae: 0.2874\n",
            "Epoch 90/100\n",
            "488/488 [==============================] - 1s 2ms/step - loss: 0.2573 - mae: 0.3751 - val_loss: 0.1534 - val_mae: 0.3101\n",
            "Epoch 91/100\n",
            "488/488 [==============================] - 1s 2ms/step - loss: 0.2690 - mae: 0.3734 - val_loss: 0.1732 - val_mae: 0.3146\n",
            "Epoch 92/100\n",
            "488/488 [==============================] - 1s 2ms/step - loss: 0.2026 - mae: 0.3288 - val_loss: 0.1358 - val_mae: 0.2826\n",
            "Epoch 93/100\n",
            "488/488 [==============================] - 1s 2ms/step - loss: 0.2283 - mae: 0.3485 - val_loss: 0.1429 - val_mae: 0.2887\n",
            "Epoch 94/100\n",
            "488/488 [==============================] - 1s 2ms/step - loss: 0.2169 - mae: 0.3479 - val_loss: 0.1610 - val_mae: 0.2973\n",
            "Epoch 95/100\n",
            "488/488 [==============================] - 1s 2ms/step - loss: 0.1984 - mae: 0.3491 - val_loss: 0.1276 - val_mae: 0.2598\n",
            "Epoch 96/100\n",
            "488/488 [==============================] - 1s 2ms/step - loss: 0.2726 - mae: 0.3530 - val_loss: 0.1510 - val_mae: 0.2926\n",
            "Epoch 97/100\n",
            "488/488 [==============================] - 1s 2ms/step - loss: 0.2574 - mae: 0.3629 - val_loss: 0.1951 - val_mae: 0.3432\n",
            "Epoch 98/100\n",
            "488/488 [==============================] - 1s 2ms/step - loss: 0.2231 - mae: 0.3476 - val_loss: 0.2692 - val_mae: 0.3692\n",
            "Epoch 99/100\n",
            "488/488 [==============================] - 1s 2ms/step - loss: 0.2794 - mae: 0.3722 - val_loss: 0.1426 - val_mae: 0.2935\n",
            "Epoch 100/100\n",
            "488/488 [==============================] - 1s 2ms/step - loss: 0.2396 - mae: 0.3404 - val_loss: 0.1414 - val_mae: 0.2870\n"
          ],
          "name": "stdout"
        }
      ]
    },
    {
      "cell_type": "code",
      "metadata": {
        "colab": {
          "base_uri": "https://localhost:8080/"
        },
        "id": "77jFpHqqmyfT",
        "outputId": "07282e43-2473-4ede-b44f-22ea502f3b08"
      },
      "source": [
        "test_mse_score, test_mae_score = model1.evaluate(test, test_lab)"
      ],
      "execution_count": 52,
      "outputs": [
        {
          "output_type": "stream",
          "text": [
            "10/10 [==============================] - 0s 2ms/step - loss: 0.1857 - mean_absolute_error: 0.3112\n"
          ],
          "name": "stdout"
        }
      ]
    },
    {
      "cell_type": "code",
      "metadata": {
        "colab": {
          "base_uri": "https://localhost:8080/"
        },
        "id": "8mrlg5hAm0Px",
        "outputId": "9ec25547-83ec-40ec-9f19-ff9bea068012"
      },
      "source": [
        "test_mse_score, test_mae_score = model_reg.evaluate(test, test_lab)"
      ],
      "execution_count": 53,
      "outputs": [
        {
          "output_type": "stream",
          "text": [
            "10/10 [==============================] - 0s 2ms/step - loss: 0.1912 - mae: 0.2919\n"
          ],
          "name": "stdout"
        }
      ]
    },
    {
      "cell_type": "code",
      "metadata": {
        "colab": {
          "base_uri": "https://localhost:8080/"
        },
        "id": "19ho1qQ6m5JM",
        "outputId": "ed1de70a-d9d1-467d-ff3a-0c8f773b510d"
      },
      "source": [
        "test_mse_score, test_mae_score = model_drop1.evaluate(test, test_lab)"
      ],
      "execution_count": 55,
      "outputs": [
        {
          "output_type": "stream",
          "text": [
            "10/10 [==============================] - 0s 2ms/step - loss: 0.1631 - mae: 0.2973\n"
          ],
          "name": "stdout"
        }
      ]
    },
    {
      "cell_type": "code",
      "metadata": {
        "colab": {
          "base_uri": "https://localhost:8080/"
        },
        "id": "XE58JybOnIXL",
        "outputId": "57620ca6-2515-437d-dd36-113d8b488f83"
      },
      "source": [
        "x_1 = model1.predict(test[5].reshape(1,test.shape[1]))\n",
        "x_1 * std_label + mean_label"
      ],
      "execution_count": 57,
      "outputs": [
        {
          "output_type": "execute_result",
          "data": {
            "text/plain": [
              "array([[43.891953]], dtype=float32)"
            ]
          },
          "metadata": {
            "tags": []
          },
          "execution_count": 57
        }
      ]
    },
    {
      "cell_type": "code",
      "metadata": {
        "colab": {
          "base_uri": "https://localhost:8080/"
        },
        "id": "_AKQ4-iXnRA5",
        "outputId": "1322ba28-43b6-4ee3-bee2-20dcefa881e6"
      },
      "source": [
        "x_2 = model_reg.predict(test[5].reshape(1,test.shape[1]))\n",
        "x_2 * std_label + mean_label"
      ],
      "execution_count": 58,
      "outputs": [
        {
          "output_type": "execute_result",
          "data": {
            "text/plain": [
              "array([[49.277992]], dtype=float32)"
            ]
          },
          "metadata": {
            "tags": []
          },
          "execution_count": 58
        }
      ]
    },
    {
      "cell_type": "code",
      "metadata": {
        "colab": {
          "base_uri": "https://localhost:8080/"
        },
        "id": "651V1xAInX_0",
        "outputId": "ceb225a7-02f6-453d-eea5-98e9f5bc6184"
      },
      "source": [
        "x_3 = model_drop1.predict(test[5].reshape(1,test.shape[1]))\n",
        "x_3 * std_label + mean_label"
      ],
      "execution_count": 59,
      "outputs": [
        {
          "output_type": "execute_result",
          "data": {
            "text/plain": [
              "array([[40.874214]], dtype=float32)"
            ]
          },
          "metadata": {
            "tags": []
          },
          "execution_count": 59
        }
      ]
    }
  ]
}