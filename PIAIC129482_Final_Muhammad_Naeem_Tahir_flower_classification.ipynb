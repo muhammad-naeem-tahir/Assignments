{
  "nbformat": 4,
  "nbformat_minor": 0,
  "metadata": {
    "colab": {
      "name": "PIAIC129482_Final-Muhammad-Naeem-Tahir_flower_classification.ipynb",
      "provenance": [],
      "collapsed_sections": [],
      "authorship_tag": "ABX9TyPcKr0Gw21ZePi8NHw0c/7q",
      "include_colab_link": true
    },
    "kernelspec": {
      "name": "python3",
      "display_name": "Python 3"
    },
    "language_info": {
      "name": "python"
    },
    "accelerator": "GPU"
  },
  "cells": [
    {
      "cell_type": "markdown",
      "metadata": {
        "id": "view-in-github",
        "colab_type": "text"
      },
      "source": [
        "<a href=\"https://colab.research.google.com/github/muhammad-naeem-tahir/Assignments/blob/main/PIAIC129482_Final_Muhammad_Naeem_Tahir_flower_classification.ipynb\" target=\"_parent\"><img src=\"https://colab.research.google.com/assets/colab-badge.svg\" alt=\"Open In Colab\"/></a>"
      ]
    },
    {
      "cell_type": "markdown",
      "metadata": {
        "id": "OZaOjS5Sn7w-"
      },
      "source": [
        "# New Section"
      ]
    },
    {
      "cell_type": "code",
      "metadata": {
        "colab": {
          "base_uri": "https://localhost:8080/"
        },
        "id": "c5T93aWtoFdJ",
        "outputId": "8387b80c-b0b2-434b-9cbb-97ba9baac989"
      },
      "source": [
        "!gdown --id 1-OX6wn5gA-bJpjPNfSyaYQLz-A-AB_uj"
      ],
      "execution_count": 5,
      "outputs": [
        {
          "output_type": "stream",
          "text": [
            "Downloading...\n",
            "From: https://drive.google.com/uc?id=1-OX6wn5gA-bJpjPNfSyaYQLz-A-AB_uj\n",
            "To: /content/archive.zip\n",
            "472MB [00:02, 197MB/s]\n"
          ],
          "name": "stdout"
        }
      ]
    },
    {
      "cell_type": "code",
      "metadata": {
        "colab": {
          "base_uri": "https://localhost:8080/"
        },
        "id": "7stemi7Kpekl",
        "outputId": "af00947d-f0d0-4002-cf23-ee83bc5b18e9"
      },
      "source": [
        "from zipfile import ZipFile\n",
        "file_name = '/content/archive.zip'\n",
        "\n",
        "with ZipFile(file_name, 'r') as zip:\n",
        "  zip.extractall()\n",
        "  print('Done')"
      ],
      "execution_count": 6,
      "outputs": [
        {
          "output_type": "stream",
          "text": [
            "Done\n"
          ],
          "name": "stdout"
        }
      ]
    },
    {
      "cell_type": "code",
      "metadata": {
        "id": "s6QZkEDxnvQ2"
      },
      "source": [
        "import numpy as np\n",
        "import pandas as pd\n",
        "import tensorflow as tf\n",
        "from tensorflow.keras import models\n",
        "from tensorflow.keras import layers\n",
        "from tensorflow.keras.preprocessing.image import ImageDataGenerator\n",
        "from tensorflow.keras.models import Sequential\n",
        "from tensorflow.keras.layers import Dense, Flatten\n",
        "from tensorflow.keras.optimizers import RMSprop"
      ],
      "execution_count": 7,
      "outputs": []
    },
    {
      "cell_type": "code",
      "metadata": {
        "colab": {
          "base_uri": "https://localhost:8080/"
        },
        "id": "RIXIIoiKzDOt",
        "outputId": "f7ca9d26-b4b2-42b5-a394-c261dbd475a3"
      },
      "source": [
        "%tensorflow_version 2.x\n",
        "import tensorflow as tf\n",
        "device_name = tf.test.gpu_device_name()\n",
        "if device_name != '/device:GPU:0':\n",
        "  raise SystemError('GPU device not found')\n",
        "print('Found GPU at: {}'.format(device_name))"
      ],
      "execution_count": 8,
      "outputs": [
        {
          "output_type": "stream",
          "text": [
            "Found GPU at: /device:GPU:0\n"
          ],
          "name": "stdout"
        }
      ]
    },
    {
      "cell_type": "code",
      "metadata": {
        "id": "BgqkZdkrr_xk"
      },
      "source": [
        "data_path='/content/flowers/flowers'"
      ],
      "execution_count": 9,
      "outputs": []
    },
    {
      "cell_type": "code",
      "metadata": {
        "id": "nwDpE8u-riTI"
      },
      "source": [
        "from keras.preprocessing.image import ImageDataGenerator, array_to_img, img_to_array, load_img\n",
        "datagen = ImageDataGenerator(\n",
        "        rotation_range=5,\n",
        "        width_shift_range=0.1,\n",
        "        height_shift_range=0.1,\n",
        "        shear_range=0.1,\n",
        "        zoom_range=0.1,\n",
        "        horizontal_flip=True,\n",
        "        fill_mode='nearest')"
      ],
      "execution_count": 10,
      "outputs": []
    },
    {
      "cell_type": "code",
      "metadata": {
        "colab": {
          "base_uri": "https://localhost:8080/"
        },
        "id": "L2qzjN__t2fz",
        "outputId": "d68a3d60-017a-463a-cb4d-806de1988580"
      },
      "source": [
        "datagen.flow_from_directory(data_path)"
      ],
      "execution_count": 36,
      "outputs": [
        {
          "output_type": "stream",
          "text": [
            "Found 4323 images belonging to 5 classes.\n"
          ],
          "name": "stdout"
        },
        {
          "output_type": "execute_result",
          "data": {
            "text/plain": [
              "<tensorflow.python.keras.preprocessing.image.DirectoryIterator at 0x7f4cdbb33390>"
            ]
          },
          "metadata": {
            "tags": []
          },
          "execution_count": 36
        }
      ]
    },
    {
      "cell_type": "code",
      "metadata": {
        "colab": {
          "base_uri": "https://localhost:8080/"
        },
        "id": "i0Xd2COTvYPl",
        "outputId": "69558663-9533-47ee-8f80-11b4d7de683b"
      },
      "source": [
        "train_datagen = ImageDataGenerator(rescale=1./255,\n",
        "    shear_range=0.1,\n",
        "    zoom_range=0.1,\n",
        "    horizontal_flip=True,\n",
        "    validation_split=0.4) # set validation split\n",
        "\n",
        "train_generator = train_datagen.flow_from_directory(\n",
        "    data_path,\n",
        "    target_size=(180, 180),\n",
        "    batch_size=32,\n",
        "    color_mode='rgb',\n",
        "    shuffle=True,\n",
        "    class_mode='sparse',\n",
        "    subset='training') # set as training data\n",
        "\n",
        "validation_generator = train_datagen.flow_from_directory(\n",
        "    data_path,\n",
        "    target_size=(180, 180),\n",
        "    batch_size=32,\n",
        "    color_mode='rgb',\n",
        "    shuffle=True,\n",
        "    class_mode='sparse',\n",
        "    subset='validation') # set as validation data\n"
      ],
      "execution_count": 37,
      "outputs": [
        {
          "output_type": "stream",
          "text": [
            "Found 2597 images belonging to 5 classes.\n",
            "Found 1726 images belonging to 5 classes.\n"
          ],
          "name": "stdout"
        }
      ]
    },
    {
      "cell_type": "code",
      "metadata": {
        "id": "bu5gXEzow_J1"
      },
      "source": [
        "model = tf.keras.models.Sequential([\n",
        "    # Note the input shape is the desired size of the image 256x256 with 3 bytes color\n",
        "    # This is the first convolution\n",
        "    tf.keras.layers.Conv2D(32, (3,3), activation='relu', input_shape=(180, 180, 3,)),\n",
        "    tf.keras.layers.MaxPooling2D(2, 2),\n",
        "    # The second convolution\n",
        "    tf.keras.layers.Conv2D(64, (3,3), activation='relu'),\n",
        "    tf.keras.layers.MaxPooling2D(2,2),\n",
        "    # The third convolution\n",
        "    tf.keras.layers.Conv2D(128, (3,3), activation='relu'),\n",
        "    tf.keras.layers.MaxPooling2D(2,2),\n",
        "    tf.keras.layers.Dropout(0.3),\n",
        "    tf.keras.layers.Conv2D(256, (3,3), activation='relu'),\n",
        "    tf.keras.layers.MaxPooling2D(2,2),\n",
        "    tf.keras.layers.Dropout(0.3),\n",
        "    # The fourth convolution\n",
        "    tf.keras.layers.Conv2D(512, (3,3), activation='relu'),\n",
        "    tf.keras.layers.MaxPooling2D(2,2),\n",
        "    # Flatten the results to feed into a DNN\n",
        "    tf.keras.layers.Flatten(),\n",
        "    #tf.keras.layers.Dropout(0.3),\n",
        "    # 512 neuron hidden layer\n",
        "    tf.keras.layers.Dense(512, activation='relu'),\n",
        "    tf.keras.layers.Dense(5, activation='softmax')\n",
        "])"
      ],
      "execution_count": 54,
      "outputs": []
    },
    {
      "cell_type": "code",
      "metadata": {
        "id": "StGVPKKZx5YR"
      },
      "source": [
        "model.compile(optimizer='adam',\n",
        "loss='sparse_categorical_crossentropy',\n",
        "metrics=['accuracy'])"
      ],
      "execution_count": 55,
      "outputs": []
    },
    {
      "cell_type": "code",
      "metadata": {
        "colab": {
          "base_uri": "https://localhost:8080/"
        },
        "id": "d5RUiW77wk9N",
        "outputId": "5d979a98-7f6d-4fea-f3ed-5b938169d0b7"
      },
      "source": [
        "histor=model.fit(\n",
        "    train_generator,\n",
        "    steps_per_epoch = train_generator.samples //32,\n",
        "    validation_data = validation_generator, \n",
        "    validation_steps = validation_generator.samples // 32,\n",
        "    epochs = 20)"
      ],
      "execution_count": 56,
      "outputs": [
        {
          "output_type": "stream",
          "text": [
            "Epoch 1/20\n",
            "81/81 [==============================] - 37s 450ms/step - loss: 1.6230 - accuracy: 0.2376 - val_loss: 1.2695 - val_accuracy: 0.4163\n",
            "Epoch 2/20\n",
            "81/81 [==============================] - 36s 441ms/step - loss: 1.2707 - accuracy: 0.4258 - val_loss: 1.1546 - val_accuracy: 0.5142\n",
            "Epoch 3/20\n",
            "81/81 [==============================] - 35s 440ms/step - loss: 1.1416 - accuracy: 0.5219 - val_loss: 1.1206 - val_accuracy: 0.5212\n",
            "Epoch 4/20\n",
            "81/81 [==============================] - 36s 440ms/step - loss: 1.0002 - accuracy: 0.6046 - val_loss: 0.9973 - val_accuracy: 0.5943\n",
            "Epoch 5/20\n",
            "81/81 [==============================] - 36s 443ms/step - loss: 0.9378 - accuracy: 0.6269 - val_loss: 0.9483 - val_accuracy: 0.6333\n",
            "Epoch 6/20\n",
            "81/81 [==============================] - 35s 438ms/step - loss: 0.8650 - accuracy: 0.6777 - val_loss: 0.9639 - val_accuracy: 0.6285\n",
            "Epoch 7/20\n",
            "81/81 [==============================] - 35s 440ms/step - loss: 0.8218 - accuracy: 0.6935 - val_loss: 0.8555 - val_accuracy: 0.6592\n",
            "Epoch 8/20\n",
            "81/81 [==============================] - 36s 441ms/step - loss: 0.7778 - accuracy: 0.7084 - val_loss: 0.8821 - val_accuracy: 0.6621\n",
            "Epoch 9/20\n",
            "81/81 [==============================] - 35s 437ms/step - loss: 0.7824 - accuracy: 0.7139 - val_loss: 0.8605 - val_accuracy: 0.6739\n",
            "Epoch 10/20\n",
            "81/81 [==============================] - 35s 440ms/step - loss: 0.7082 - accuracy: 0.7321 - val_loss: 0.8131 - val_accuracy: 0.6916\n",
            "Epoch 11/20\n",
            "81/81 [==============================] - 35s 437ms/step - loss: 0.6637 - accuracy: 0.7531 - val_loss: 0.9272 - val_accuracy: 0.6916\n",
            "Epoch 12/20\n",
            "81/81 [==============================] - 36s 442ms/step - loss: 0.6460 - accuracy: 0.7638 - val_loss: 0.8612 - val_accuracy: 0.6857\n",
            "Epoch 13/20\n",
            "81/81 [==============================] - 35s 439ms/step - loss: 0.5863 - accuracy: 0.7706 - val_loss: 0.8156 - val_accuracy: 0.7017\n",
            "Epoch 14/20\n",
            "81/81 [==============================] - 35s 438ms/step - loss: 0.5411 - accuracy: 0.7969 - val_loss: 0.8096 - val_accuracy: 0.6851\n",
            "Epoch 15/20\n",
            "81/81 [==============================] - 36s 441ms/step - loss: 0.5406 - accuracy: 0.8033 - val_loss: 0.7872 - val_accuracy: 0.7093\n",
            "Epoch 16/20\n",
            "81/81 [==============================] - 35s 437ms/step - loss: 0.4802 - accuracy: 0.8297 - val_loss: 0.7760 - val_accuracy: 0.7282\n",
            "Epoch 17/20\n",
            "81/81 [==============================] - 35s 439ms/step - loss: 0.4456 - accuracy: 0.8350 - val_loss: 0.8326 - val_accuracy: 0.7182\n",
            "Epoch 18/20\n",
            "81/81 [==============================] - 35s 439ms/step - loss: 0.4287 - accuracy: 0.8439 - val_loss: 0.8495 - val_accuracy: 0.6928\n",
            "Epoch 19/20\n",
            "81/81 [==============================] - 36s 442ms/step - loss: 0.4647 - accuracy: 0.8295 - val_loss: 0.9359 - val_accuracy: 0.6910\n",
            "Epoch 20/20\n",
            "81/81 [==============================] - 36s 440ms/step - loss: 0.3713 - accuracy: 0.8608 - val_loss: 0.8372 - val_accuracy: 0.7176\n"
          ],
          "name": "stdout"
        }
      ]
    },
    {
      "cell_type": "code",
      "metadata": {
        "id": "9HxSQmYbfTEz"
      },
      "source": [
        "model.save('content\\\\flowers\\\\my_model1.h5')"
      ],
      "execution_count": 57,
      "outputs": []
    },
    {
      "cell_type": "code",
      "metadata": {
        "colab": {
          "base_uri": "https://localhost:8080/",
          "height": 295
        },
        "id": "Oe446z9uSqdE",
        "outputId": "3a14a8ae-b251-4cb9-b84f-5d5c1bc56ee1"
      },
      "source": [
        "import matplotlib.pyplot as plt\n",
        "\n",
        "plt.plot(histor.history['accuracy'])\n",
        "plt.plot(histor.history['val_accuracy'])\n",
        "plt.title('model accuracy')\n",
        "plt.ylabel('accuracy')\n",
        "plt.xlabel('epoch')\n",
        "plt.legend(['train', 'test'], loc='upper left')\n",
        "plt.show()"
      ],
      "execution_count": 58,
      "outputs": [
        {
          "output_type": "display_data",
          "data": {
            "image/png": "[encoded data removed]",
            "text/plain": [
              "<Figure size 432x288 with 1 Axes>"
            ]
          },
          "metadata": {
            "tags": [],
            "needs_background": "light"
          }
        }
      ]
    },
    {
      "cell_type": "code",
      "metadata": {
        "colab": {
          "base_uri": "https://localhost:8080/",
          "height": 295
        },
        "id": "vMvJlWe3bah-",
        "outputId": "fb34aeae-09d4-4bbe-e9d0-73663cd693aa"
      },
      "source": [
        "plt.plot(histor.history['loss'])\n",
        "plt.plot(histor.history['val_loss'])\n",
        "plt.title('model loss')\n",
        "plt.ylabel('loss')\n",
        "plt.xlabel('epoch')\n",
        "plt.legend(['train', 'test'], loc='upper left')\n",
        "plt.show()"
      ],
      "execution_count": 59,
      "outputs": [
        {
          "output_type": "display_data",
          "data": {
            "image/png": "[encoded data removed]",
            "text/plain": [
              "<Figure size 432x288 with 1 Axes>"
            ]
          },
          "metadata": {
            "tags": [],
            "needs_background": "light"
          }
        }
      ]
    },
    {
      "cell_type": "code",
      "metadata": {
        "colab": {
          "base_uri": "https://localhost:8080/"
        },
        "id": "H-FmmejYw9EN",
        "outputId": "44412c91-9b92-4e59-e918-0888a42335a6"
      },
      "source": [
        "model.evaluate(validation_generator,verbose=0) #'sgd' instead of rmsprop "
      ],
      "execution_count": 60,
      "outputs": [
        {
          "output_type": "execute_result",
          "data": {
            "text/plain": [
              "[0.8291542530059814, 0.7178447246551514]"
            ]
          },
          "metadata": {
            "tags": []
          },
          "execution_count": 60
        }
      ]
    },
    {
      "cell_type": "code",
      "metadata": {
        "colab": {
          "base_uri": "https://localhost:8080/",
          "height": 285
        },
        "id": "xfz5XLfL3OpA",
        "outputId": "d42f212c-1334-459d-d975-a2e20c96ad9a"
      },
      "source": [
        "losses=pd.DataFrame(histor.history)\n",
        "losses[['loss','val_loss']].plot()"
      ],
      "execution_count": 61,
      "outputs": [
        {
          "output_type": "execute_result",
          "data": {
            "text/plain": [
              "<matplotlib.axes._subplots.AxesSubplot at 0x7f4cdd1a1810>"
            ]
          },
          "metadata": {
            "tags": []
          },
          "execution_count": 61
        },
        {
          "output_type": "display_data",
          "data": {
            "image/png": "[encoded data removed]",
            "text/plain": [
              "<Figure size 432x288 with 1 Axes>"
            ]
          },
          "metadata": {
            "tags": [],
            "needs_background": "light"
          }
        }
      ]
    },
    {
      "cell_type": "code",
      "metadata": {
        "id": "KzoKhXHH2l8z"
      },
      "source": [
        "y_pred1 = model.predict(validation_generator)"
      ],
      "execution_count": 62,
      "outputs": []
    },
    {
      "cell_type": "code",
      "metadata": {
        "id": "_OCnSChk25pX"
      },
      "source": [
        "predictions=np.argmax(model.predict(validation_generator), axis=1)"
      ],
      "execution_count": 63,
      "outputs": []
    },
    {
      "cell_type": "code",
      "metadata": {
        "colab": {
          "base_uri": "https://localhost:8080/"
        },
        "id": "QKW7VAisvhGd",
        "outputId": "840ec759-8634-47a5-d844-77325e0e8844"
      },
      "source": [
        "predictions"
      ],
      "execution_count": 65,
      "outputs": [
        {
          "output_type": "execute_result",
          "data": {
            "text/plain": [
              "array([1, 3, 2, ..., 2, 1, 3])"
            ]
          },
          "metadata": {
            "tags": []
          },
          "execution_count": 65
        }
      ]
    }
  ]
}