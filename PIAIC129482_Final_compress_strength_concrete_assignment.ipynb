{
  "nbformat": 4,
  "nbformat_minor": 0,
  "metadata": {
    "colab": {
      "name": "PIAIC129482_Muhammad_Naeem_Tahir_compress-strength-concrete-assignment.ipynb",
      "provenance": [],
      "include_colab_link": true
    },
    "kernelspec": {
      "name": "python3",
      "display_name": "Python 3"
    },
    "language_info": {
      "name": "python"
    }
  },
  "cells": [
    {
      "cell_type": "markdown",
      "metadata": {
        "id": "view-in-github",
        "colab_type": "text"
      },
      "source": [
        "<a href=\"https://colab.research.google.com/github/muhammad-naeem-tahir/Assignments/blob/main/PIAIC129482_Final_compress_strength_concrete_assignment.ipynb\" target=\"_parent\"><img src=\"https://colab.research.google.com/assets/colab-badge.svg\" alt=\"Open In Colab\"/></a>"
      ]
    },
    {
      "cell_type": "code",
      "metadata": {
        "colab": {
          "resources": {
            "http://localhost:8080/nbextensions/google.colab/files.js": {
              "data": "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",
              "ok": true,
              "headers": [
                [
                  "content-type",
                  "application/javascript"
                ]
              ],
              "status": 200,
              "status_text": "OK"
            }
          },
          "base_uri": "https://localhost:8080/",
          "height": 75
        },
        "id": "8JB712YCbS1F",
        "outputId": "0c309502-d2cb-4108-ddb9-04c85706acfe"
      },
      "source": [
        "import pandas as pd\n",
        "import numpy as np\n",
        "from google.colab import files\n",
        "uploaded = files.upload()"
      ],
      "execution_count": 2,
      "outputs": [
        {
          "output_type": "display_data",
          "data": {
            "text/html": [
              "\n",
              "     <input type=\"file\" id=\"files-262286d6-b262-4540-b958-6426dcd8bcc6\" name=\"files[]\" multiple disabled\n",
              "        style=\"border:none\" />\n",
              "     <output id=\"result-262286d6-b262-4540-b958-6426dcd8bcc6\">\n",
              "      Upload widget is only available when the cell has been executed in the\n",
              "      current browser session. Please rerun this cell to enable.\n",
              "      </output>\n",
              "      <script src=\"/nbextensions/google.colab/files.js\"></script> "
            ],
            "text/plain": [
              "<IPython.core.display.HTML object>"
            ]
          },
          "metadata": {
            "tags": []
          }
        },
        {
          "output_type": "stream",
          "text": [
            "Saving compresive_strength_concrete.csv to compresive_strength_concrete.csv\n"
          ],
          "name": "stdout"
        }
      ]
    },
    {
      "cell_type": "code",
      "metadata": {
        "id": "mbIge-npdmog"
      },
      "source": [
        "import io\n",
        "df2 = pd.read_csv(io.BytesIO(uploaded['compresive_strength_concrete.csv']))"
      ],
      "execution_count": 4,
      "outputs": []
    },
    {
      "cell_type": "code",
      "metadata": {
        "id": "kuV459xXd2Rx"
      },
      "source": [
        "import tensorflow as tf"
      ],
      "execution_count": 5,
      "outputs": []
    },
    {
      "cell_type": "code",
      "metadata": {
        "colab": {
          "base_uri": "https://localhost:8080/",
          "height": 258
        },
        "id": "rFUnXo-Wd3-1",
        "outputId": "c9121648-b172-426e-df26-30014ee7bccc"
      },
      "source": [
        "df2.head(5)\n"
      ],
      "execution_count": 6,
      "outputs": [
        {
          "output_type": "execute_result",
          "data": {
            "text/html": [
              "<div>\n",
              "<style scoped>\n",
              "    .dataframe tbody tr th:only-of-type {\n",
              "        vertical-align: middle;\n",
              "    }\n",
              "\n",
              "    .dataframe tbody tr th {\n",
              "        vertical-align: top;\n",
              "    }\n",
              "\n",
              "    .dataframe thead th {\n",
              "        text-align: right;\n",
              "    }\n",
              "</style>\n",
              "<table border=\"1\" class=\"dataframe\">\n",
              "  <thead>\n",
              "    <tr style=\"text-align: right;\">\n",
              "      <th></th>\n",
              "      <th>Cement (component 1)(kg in a m^3 mixture)</th>\n",
              "      <th>Blast Furnace Slag (component 2)(kg in a m^3 mixture)</th>\n",
              "      <th>Fly Ash (component 3)(kg in a m^3 mixture)</th>\n",
              "      <th>Water  (component 4)(kg in a m^3 mixture)</th>\n",
              "      <th>Superplasticizer (component 5)(kg in a m^3 mixture)</th>\n",
              "      <th>Coarse Aggregate  (component 6)(kg in a m^3 mixture)</th>\n",
              "      <th>Fine Aggregate (component 7)(kg in a m^3 mixture)</th>\n",
              "      <th>Age (day)</th>\n",
              "      <th>Concrete compressive strength(MPa, megapascals)</th>\n",
              "    </tr>\n",
              "  </thead>\n",
              "  <tbody>\n",
              "    <tr>\n",
              "      <th>0</th>\n",
              "      <td>540.0</td>\n",
              "      <td>0.0</td>\n",
              "      <td>0.0</td>\n",
              "      <td>162.0</td>\n",
              "      <td>2.5</td>\n",
              "      <td>1040.0</td>\n",
              "      <td>676.0</td>\n",
              "      <td>28</td>\n",
              "      <td>79.99</td>\n",
              "    </tr>\n",
              "    <tr>\n",
              "      <th>1</th>\n",
              "      <td>540.0</td>\n",
              "      <td>0.0</td>\n",
              "      <td>0.0</td>\n",
              "      <td>162.0</td>\n",
              "      <td>2.5</td>\n",
              "      <td>1055.0</td>\n",
              "      <td>676.0</td>\n",
              "      <td>28</td>\n",
              "      <td>61.89</td>\n",
              "    </tr>\n",
              "    <tr>\n",
              "      <th>2</th>\n",
              "      <td>332.5</td>\n",
              "      <td>142.5</td>\n",
              "      <td>0.0</td>\n",
              "      <td>228.0</td>\n",
              "      <td>0.0</td>\n",
              "      <td>932.0</td>\n",
              "      <td>594.0</td>\n",
              "      <td>270</td>\n",
              "      <td>40.27</td>\n",
              "    </tr>\n",
              "    <tr>\n",
              "      <th>3</th>\n",
              "      <td>332.5</td>\n",
              "      <td>142.5</td>\n",
              "      <td>0.0</td>\n",
              "      <td>228.0</td>\n",
              "      <td>0.0</td>\n",
              "      <td>932.0</td>\n",
              "      <td>594.0</td>\n",
              "      <td>365</td>\n",
              "      <td>41.05</td>\n",
              "    </tr>\n",
              "    <tr>\n",
              "      <th>4</th>\n",
              "      <td>198.6</td>\n",
              "      <td>132.4</td>\n",
              "      <td>0.0</td>\n",
              "      <td>192.0</td>\n",
              "      <td>0.0</td>\n",
              "      <td>978.4</td>\n",
              "      <td>825.5</td>\n",
              "      <td>360</td>\n",
              "      <td>44.30</td>\n",
              "    </tr>\n",
              "  </tbody>\n",
              "</table>\n",
              "</div>"
            ],
            "text/plain": [
              "   Cement (component 1)(kg in a m^3 mixture)  ...  Concrete compressive strength(MPa, megapascals) \n",
              "0                                      540.0  ...                                             79.99\n",
              "1                                      540.0  ...                                             61.89\n",
              "2                                      332.5  ...                                             40.27\n",
              "3                                      332.5  ...                                             41.05\n",
              "4                                      198.6  ...                                             44.30\n",
              "\n",
              "[5 rows x 9 columns]"
            ]
          },
          "metadata": {
            "tags": []
          },
          "execution_count": 6
        }
      ]
    },
    {
      "cell_type": "code",
      "metadata": {
        "colab": {
          "base_uri": "https://localhost:8080/"
        },
        "id": "6HPr_VFOfUMk",
        "outputId": "74fffcbb-e48d-453c-f2bf-ef17ca6c99ce"
      },
      "source": [
        "df2.dtypes"
      ],
      "execution_count": 7,
      "outputs": [
        {
          "output_type": "execute_result",
          "data": {
            "text/plain": [
              "Cement (component 1)(kg in a m^3 mixture)                float64\n",
              "Blast Furnace Slag (component 2)(kg in a m^3 mixture)    float64\n",
              "Fly Ash (component 3)(kg in a m^3 mixture)               float64\n",
              "Water  (component 4)(kg in a m^3 mixture)                float64\n",
              "Superplasticizer (component 5)(kg in a m^3 mixture)      float64\n",
              "Coarse Aggregate  (component 6)(kg in a m^3 mixture)     float64\n",
              "Fine Aggregate (component 7)(kg in a m^3 mixture)        float64\n",
              "Age (day)                                                  int64\n",
              "Concrete compressive strength(MPa, megapascals)          float64\n",
              "dtype: object"
            ]
          },
          "metadata": {
            "tags": []
          },
          "execution_count": 7
        }
      ]
    },
    {
      "cell_type": "code",
      "metadata": {
        "id": "KhHXdB6dgxmL"
      },
      "source": [
        ""
      ],
      "execution_count": 7,
      "outputs": []
    },
    {
      "cell_type": "code",
      "metadata": {
        "colab": {
          "base_uri": "https://localhost:8080/"
        },
        "id": "8VRSU0_9fdnF",
        "outputId": "a208dd6d-99b6-47b2-d32d-c4a18bab9e0a"
      },
      "source": [
        "df2.isnull().sum()\n"
      ],
      "execution_count": 8,
      "outputs": [
        {
          "output_type": "execute_result",
          "data": {
            "text/plain": [
              "Cement (component 1)(kg in a m^3 mixture)                0\n",
              "Blast Furnace Slag (component 2)(kg in a m^3 mixture)    0\n",
              "Fly Ash (component 3)(kg in a m^3 mixture)               0\n",
              "Water  (component 4)(kg in a m^3 mixture)                0\n",
              "Superplasticizer (component 5)(kg in a m^3 mixture)      0\n",
              "Coarse Aggregate  (component 6)(kg in a m^3 mixture)     0\n",
              "Fine Aggregate (component 7)(kg in a m^3 mixture)        0\n",
              "Age (day)                                                0\n",
              "Concrete compressive strength(MPa, megapascals)          0\n",
              "dtype: int64"
            ]
          },
          "metadata": {
            "tags": []
          },
          "execution_count": 8
        }
      ]
    },
    {
      "cell_type": "code",
      "metadata": {
        "colab": {
          "base_uri": "https://localhost:8080/"
        },
        "id": "Q2ElSy--gMd6",
        "outputId": "77719f09-9ce8-4a00-ee1b-34b7a86e415a"
      },
      "source": [
        "df2.isnull().any()"
      ],
      "execution_count": 9,
      "outputs": [
        {
          "output_type": "execute_result",
          "data": {
            "text/plain": [
              "Cement (component 1)(kg in a m^3 mixture)                False\n",
              "Blast Furnace Slag (component 2)(kg in a m^3 mixture)    False\n",
              "Fly Ash (component 3)(kg in a m^3 mixture)               False\n",
              "Water  (component 4)(kg in a m^3 mixture)                False\n",
              "Superplasticizer (component 5)(kg in a m^3 mixture)      False\n",
              "Coarse Aggregate  (component 6)(kg in a m^3 mixture)     False\n",
              "Fine Aggregate (component 7)(kg in a m^3 mixture)        False\n",
              "Age (day)                                                False\n",
              "Concrete compressive strength(MPa, megapascals)          False\n",
              "dtype: bool"
            ]
          },
          "metadata": {
            "tags": []
          },
          "execution_count": 9
        }
      ]
    },
    {
      "cell_type": "code",
      "metadata": {
        "colab": {
          "base_uri": "https://localhost:8080/",
          "height": 553
        },
        "id": "plnAbx20gWkN",
        "outputId": "ff39d296-b535-4fa7-ced9-949419059a62"
      },
      "source": [
        "df2.corr()['Concrete compressive strength(MPa, megapascals) '].sort_values().drop('Concrete compressive strength(MPa, megapascals) ').plot(kind='bar')"
      ],
      "execution_count": 10,
      "outputs": [
        {
          "output_type": "execute_result",
          "data": {
            "text/plain": [
              "<matplotlib.axes._subplots.AxesSubplot at 0x7f7776217490>"
            ]
          },
          "metadata": {
            "tags": []
          },
          "execution_count": 10
        },
        {
          "output_type": "display_data",
          "data": {
            "image/png": "[encoded data removed]",
            "text/plain": [
              "<Figure size 432x288 with 1 Axes>"
            ]
          },
          "metadata": {
            "tags": [],
            "needs_background": "light"
          }
        }
      ]
    },
    {
      "cell_type": "code",
      "metadata": {
        "colab": {
          "base_uri": "https://localhost:8080/"
        },
        "id": "qMEBUNt_gzx4",
        "outputId": "c989ff4f-fbae-477c-bd6a-0cbddcc9a79d"
      },
      "source": [
        "df2.columns"
      ],
      "execution_count": 11,
      "outputs": [
        {
          "output_type": "execute_result",
          "data": {
            "text/plain": [
              "Index(['Cement (component 1)(kg in a m^3 mixture)',\n",
              "       'Blast Furnace Slag (component 2)(kg in a m^3 mixture)',\n",
              "       'Fly Ash (component 3)(kg in a m^3 mixture)',\n",
              "       'Water  (component 4)(kg in a m^3 mixture)',\n",
              "       'Superplasticizer (component 5)(kg in a m^3 mixture)',\n",
              "       'Coarse Aggregate  (component 6)(kg in a m^3 mixture)',\n",
              "       'Fine Aggregate (component 7)(kg in a m^3 mixture)', 'Age (day)',\n",
              "       'Concrete compressive strength(MPa, megapascals) '],\n",
              "      dtype='object')"
            ]
          },
          "metadata": {
            "tags": []
          },
          "execution_count": 11
        }
      ]
    },
    {
      "cell_type": "code",
      "metadata": {
        "id": "RVKqg5mveb9D"
      },
      "source": [
        ""
      ],
      "execution_count": 11,
      "outputs": []
    },
    {
      "cell_type": "markdown",
      "metadata": {
        "id": "_1GWrq1ee2zl"
      },
      "source": [
        "##Splitting into 50% for Training, 30% of Test, and 20% for validation"
      ]
    },
    {
      "cell_type": "code",
      "metadata": {
        "id": "araJpoeAhFXe"
      },
      "source": [
        "np.random.seed(11221)\n",
        "msk = np.random.rand(len(df2)) <= 0.50\n",
        "train_total = df2[msk]\n",
        "temp = df2[~msk]\n",
        "msk1 = np.random.rand(len(temp)) <= 0.60\n",
        "test_total = temp[msk1]\n",
        "val_total = temp[~msk1]"
      ],
      "execution_count": 12,
      "outputs": []
    },
    {
      "cell_type": "code",
      "metadata": {
        "colab": {
          "base_uri": "https://localhost:8080/"
        },
        "id": "xm4ElpARhd84",
        "outputId": "e9b0904b-e2f5-45e1-ff87-9614f1e28672"
      },
      "source": [
        "print(len(train_total),len(test_total),len(val_total))"
      ],
      "execution_count": 13,
      "outputs": [
        {
          "output_type": "stream",
          "text": [
            "488 318 224\n"
          ],
          "name": "stdout"
        }
      ]
    },
    {
      "cell_type": "code",
      "metadata": {
        "colab": {
          "base_uri": "https://localhost:8080/"
        },
        "id": "INKnVTunhg_n",
        "outputId": "912dd66c-bfae-491d-f113-0f79542c6e84"
      },
      "source": [
        "print(len(df2))"
      ],
      "execution_count": 14,
      "outputs": [
        {
          "output_type": "stream",
          "text": [
            "1030\n"
          ],
          "name": "stdout"
        }
      ]
    },
    {
      "cell_type": "code",
      "metadata": {
        "colab": {
          "base_uri": "https://localhost:8080/"
        },
        "id": "agfPAbG4hn3U",
        "outputId": "d5d5826e-0eb2-4708-a70f-084a88e80b93"
      },
      "source": [
        "print(train_total.dtypes)"
      ],
      "execution_count": 15,
      "outputs": [
        {
          "output_type": "stream",
          "text": [
            "Cement (component 1)(kg in a m^3 mixture)                float64\n",
            "Blast Furnace Slag (component 2)(kg in a m^3 mixture)    float64\n",
            "Fly Ash (component 3)(kg in a m^3 mixture)               float64\n",
            "Water  (component 4)(kg in a m^3 mixture)                float64\n",
            "Superplasticizer (component 5)(kg in a m^3 mixture)      float64\n",
            "Coarse Aggregate  (component 6)(kg in a m^3 mixture)     float64\n",
            "Fine Aggregate (component 7)(kg in a m^3 mixture)        float64\n",
            "Age (day)                                                  int64\n",
            "Concrete compressive strength(MPa, megapascals)          float64\n",
            "dtype: object\n"
          ],
          "name": "stdout"
        }
      ]
    },
    {
      "cell_type": "code",
      "metadata": {
        "id": "C9uet8cdhtsS"
      },
      "source": [
        "train_label = train_total.loc[:,'Concrete compressive strength(MPa, megapascals) ']\n",
        "test_label = test_total.loc[:,'Concrete compressive strength(MPa, megapascals) ']\n",
        "val_label = val_total.loc[:,'Concrete compressive strength(MPa, megapascals) ']"
      ],
      "execution_count": 16,
      "outputs": []
    },
    {
      "cell_type": "code",
      "metadata": {
        "id": "LGbuPBD9h-Ap"
      },
      "source": [
        "test_data= test_total.drop(columns = ['Concrete compressive strength(MPa, megapascals) '])\n",
        "train_data= train_total.drop(columns = ['Concrete compressive strength(MPa, megapascals) '])\n",
        "val_data= val_total.drop(columns = ['Concrete compressive strength(MPa, megapascals) '])"
      ],
      "execution_count": 17,
      "outputs": []
    },
    {
      "cell_type": "code",
      "metadata": {
        "colab": {
          "base_uri": "https://localhost:8080/"
        },
        "id": "6NHoQPIkiLa1",
        "outputId": "5cd11197-2b7c-4be7-d015-53a79531703f"
      },
      "source": [
        "train_data.shape"
      ],
      "execution_count": 18,
      "outputs": [
        {
          "output_type": "execute_result",
          "data": {
            "text/plain": [
              "(488, 8)"
            ]
          },
          "metadata": {
            "tags": []
          },
          "execution_count": 18
        }
      ]
    },
    {
      "cell_type": "code",
      "metadata": {
        "colab": {
          "base_uri": "https://localhost:8080/"
        },
        "id": "B7tRM2cXiR4B",
        "outputId": "c0fc84cb-5965-4e1a-e500-3482233fc679"
      },
      "source": [
        "{train_data.columns.get_loc(c): c for idx, c in enumerate(train_data.columns)}"
      ],
      "execution_count": 19,
      "outputs": [
        {
          "output_type": "execute_result",
          "data": {
            "text/plain": [
              "{0: 'Cement (component 1)(kg in a m^3 mixture)',\n",
              " 1: 'Blast Furnace Slag (component 2)(kg in a m^3 mixture)',\n",
              " 2: 'Fly Ash (component 3)(kg in a m^3 mixture)',\n",
              " 3: 'Water  (component 4)(kg in a m^3 mixture)',\n",
              " 4: 'Superplasticizer (component 5)(kg in a m^3 mixture)',\n",
              " 5: 'Coarse Aggregate  (component 6)(kg in a m^3 mixture)',\n",
              " 6: 'Fine Aggregate (component 7)(kg in a m^3 mixture)',\n",
              " 7: 'Age (day)'}"
            ]
          },
          "metadata": {
            "tags": []
          },
          "execution_count": 19
        }
      ]
    },
    {
      "cell_type": "markdown",
      "metadata": {
        "id": "X0aUVt0BfJ-D"
      },
      "source": [
        "##Standardized the Input Variables"
      ]
    },
    {
      "cell_type": "code",
      "metadata": {
        "id": "FGPhI86KiaZd"
      },
      "source": [
        "mean = train_data.iloc[:,0:7].mean(axis=0) # taking the mean of \n",
        "train_data.iloc[:,0:7] -= mean\n",
        "std = train_data.iloc[:,0:7].std(axis=0)\n",
        "train_data.iloc[:,0:7] /= std\n",
        "test_data.iloc[:,0:7] -= mean\n",
        "test_data.iloc[:,0:7] /= std\n",
        "val_data.iloc[:,0:7] -= mean\n",
        "val_data.iloc[:,0:7] /= std"
      ],
      "execution_count": 20,
      "outputs": []
    },
    {
      "cell_type": "code",
      "metadata": {
        "id": "Ct5kkuuKioYl"
      },
      "source": [
        "mean_label = train_label.mean()\n",
        "train_label -= mean_label\n",
        "std_label = train_label.std()\n",
        "train_label /= std_label\n",
        "test_label -= mean_label\n",
        "test_label /= std_label\n",
        "val_label -= mean_label\n",
        "val_label /= std_label"
      ],
      "execution_count": 21,
      "outputs": []
    },
    {
      "cell_type": "code",
      "metadata": {
        "id": "NwIV-0y1itQJ"
      },
      "source": [
        "train = np.array(train_data.iloc[:]).astype(np.float32)\n",
        "test = np.array(test_data.iloc[:]).astype(np.float32)\n",
        "val = np.array(val_data.iloc[:]).astype(np.float32)"
      ],
      "execution_count": 22,
      "outputs": []
    },
    {
      "cell_type": "code",
      "metadata": {
        "colab": {
          "base_uri": "https://localhost:8080/"
        },
        "id": "JD1hrBN9i_C4",
        "outputId": "cc30dd4c-35a1-4f16-feae-72e9567d8600"
      },
      "source": [
        "train.shape"
      ],
      "execution_count": 23,
      "outputs": [
        {
          "output_type": "execute_result",
          "data": {
            "text/plain": [
              "(488, 8)"
            ]
          },
          "metadata": {
            "tags": []
          },
          "execution_count": 23
        }
      ]
    },
    {
      "cell_type": "code",
      "metadata": {
        "id": "ajqNcjxSjDfB"
      },
      "source": [
        "train_lab = np.array(train_label.astype(np.float32))\n",
        "test_lab = np.array(test_label.astype('float32'))\n",
        "val_lab = np.array(val_label.astype('float32'))"
      ],
      "execution_count": 24,
      "outputs": []
    },
    {
      "cell_type": "code",
      "metadata": {
        "id": "b1CsCUIfjIqb"
      },
      "source": [
        "from keras import models\n",
        "from keras import layers\n",
        "def build_model(act):\n",
        "  model = models.Sequential()\n",
        "  model.add(layers.Dense(10, activation= act,input_shape=(train.shape[1],)))\n",
        "  model.add(layers.Dense(8, activation= act))\n",
        "  model.add(layers.Dense(6, activation= act))\n",
        "  model.add(layers.Dense(1))\n",
        "  model.compile(optimizer='rmsprop', loss='mse', metrics=[tf.keras.metrics.MeanAbsoluteError()])\n",
        "  return model"
      ],
      "execution_count": 25,
      "outputs": []
    },
    {
      "cell_type": "code",
      "metadata": {
        "id": "KLsYpBoPjMd0"
      },
      "source": [
        "# dropout model\n",
        "from keras import regularizers\n",
        "def build_model_drop(act):\n",
        "  model = models.Sequential()\n",
        "  model.add(layers.Dense(10, activation= act,input_shape=(train.shape[1],)))\n",
        "  model.add(layers.Dropout(0.1))\n",
        "  model.add(layers.Dense(8, activation= act))\n",
        "  model.add(layers.Dropout(0.1))\n",
        "  model.add(layers.Dense(6, activation= act))\n",
        "  model.add(layers.Dropout(0.1))\n",
        "  model.add(layers.Dense(1))\n",
        "  model.compile(optimizer='rmsprop', loss='mse', metrics=['mae'])\n",
        "  return model"
      ],
      "execution_count": 26,
      "outputs": []
    },
    {
      "cell_type": "code",
      "metadata": {
        "id": "jjc2wI1XjQN7"
      },
      "source": [
        "# Regularized model\n",
        "from keras import regularizers\n",
        "def build_model_regular(act):\n",
        "  model = models.Sequential()\n",
        "  model.add(layers.Dense(10, activation= act,kernel_regularizer= regularizers.l1_l2(l1=0.001, l2=0.001),input_shape=(train.shape[1],)))\n",
        "  model.add(layers.Dense(8, activation= act,kernel_regularizer= regularizers.l1_l2(l1=0.001, l2=0.001)))\n",
        "  model.add(layers.Dense(6, activation= act,kernel_regularizer= regularizers.l1_l2(l1=0.001, l2=0.001)))\n",
        "  model.add(layers.Dense(1))\n",
        "  model.compile(optimizer='rmsprop', loss='mse', metrics=['mae'])\n",
        "  return model"
      ],
      "execution_count": 27,
      "outputs": []
    },
    {
      "cell_type": "code",
      "metadata": {
        "id": "zuajzUXilcnO"
      },
      "source": [
        "from keras import regularizers\n",
        "def build_model_drop1(act):\n",
        "  model = models.Sequential()\n",
        "  model.add(layers.Dense(32, activation= act,input_shape=(train.shape[1],)))\n",
        "  model.add(layers.Dropout(0.1))\n",
        "  model.add(layers.Dense(64, activation= act))\n",
        "  model.add(layers.Dropout(0.1))\n",
        "  model.add(layers.Dense(128, activation= act))\n",
        "  model.add(layers.Dropout(0.1))\n",
        "  model.add(layers.Dense(64, activation= act))\n",
        "  model.add(layers.Dropout(0.1))\n",
        "  model.add(layers.Dense(16, activation= act))\n",
        "  model.add(layers.Dropout(0.1))\n",
        "  model.add(layers.Dense(1))\n",
        "  model.compile(optimizer='rmsprop', loss='mse', metrics=['mae'])\n",
        "  return model"
      ],
      "execution_count": 28,
      "outputs": []
    },
    {
      "cell_type": "code",
      "metadata": {
        "id": "U842V8bnl8p-"
      },
      "source": [
        ""
      ],
      "execution_count": 28,
      "outputs": []
    },
    {
      "cell_type": "code",
      "metadata": {
        "id": "MAT5o2O4jToj"
      },
      "source": [
        "model1=build_model('relu')"
      ],
      "execution_count": 29,
      "outputs": []
    },
    {
      "cell_type": "code",
      "metadata": {
        "colab": {
          "base_uri": "https://localhost:8080/"
        },
        "id": "gvvdaMMJjXUG",
        "outputId": "70d2c7e2-7abf-4fe9-edad-6a26155fb966"
      },
      "source": [
        "model1.summary()"
      ],
      "execution_count": 30,
      "outputs": [
        {
          "output_type": "stream",
          "text": [
            "Model: \"sequential\"\n",
            "_________________________________________________________________\n",
            "Layer (type)                 Output Shape              Param #   \n",
            "=================================================================\n",
            "dense (Dense)                (None, 10)                90        \n",
            "_________________________________________________________________\n",
            "dense_1 (Dense)              (None, 8)                 88        \n",
            "_________________________________________________________________\n",
            "dense_2 (Dense)              (None, 6)                 54        \n",
            "_________________________________________________________________\n",
            "dense_3 (Dense)              (None, 1)                 7         \n",
            "=================================================================\n",
            "Total params: 239\n",
            "Trainable params: 239\n",
            "Non-trainable params: 0\n",
            "_________________________________________________________________\n"
          ],
          "name": "stdout"
        }
      ]
    },
    {
      "cell_type": "code",
      "metadata": {
        "colab": {
          "base_uri": "https://localhost:8080/"
        },
        "id": "-inNWVStjcqu",
        "outputId": "5c104779-c6e8-4a7c-baf9-a57880386fc3"
      },
      "source": [
        "train.reshape(488,8,1)"
      ],
      "execution_count": 31,
      "outputs": [
        {
          "output_type": "execute_result",
          "data": {
            "text/plain": [
              "array([[[ 2.5737426e+00],\n",
              "        [-8.2651091e-01],\n",
              "        [-8.5743809e-01],\n",
              "        ...,\n",
              "        [ 7.7669072e-01],\n",
              "        [-1.2643602e+00],\n",
              "        [ 2.8000000e+01]],\n",
              "\n",
              "       [[ 9.8982114e-01],\n",
              "        [ 2.7031758e-01],\n",
              "        [-8.5743809e-01],\n",
              "        ...,\n",
              "        [-5.9876651e-01],\n",
              "        [-2.3084700e+00],\n",
              "        [ 3.6500000e+02]],\n",
              "\n",
              "       [[-1.3872297e-01],\n",
              "        [ 4.8968330e-01],\n",
              "        [-8.5743809e-01],\n",
              "        ...,\n",
              "        [-5.9876651e-01],\n",
              "        [-1.3407584e+00],\n",
              "        [ 2.8000000e+01]],\n",
              "\n",
              "       ...,\n",
              "\n",
              "       [[-1.1286739e+00],\n",
              "        [ 2.1718719e+00],\n",
              "        [-8.5743809e-01],\n",
              "        ...,\n",
              "        [-1.5310209e+00],\n",
              "        [ 6.5578324e-01],\n",
              "        [ 2.8000000e+01]],\n",
              "\n",
              "       [[-3.5768066e-02],\n",
              "        [ 5.1277441e-01],\n",
              "        [ 5.6343758e-01],\n",
              "        ...,\n",
              "        [-1.3871073e+00],\n",
              "        [-8.9100018e-02],\n",
              "        [ 2.8000000e+01]],\n",
              "\n",
              "       [[-1.8921047e-01],\n",
              "        [ 3.3381820e-01],\n",
              "        [ 3.7461689e-01],\n",
              "        ...,\n",
              "        [-1.4584273e+00],\n",
              "        [-1.7568474e-01],\n",
              "        [ 2.8000000e+01]]], dtype=float32)"
            ]
          },
          "metadata": {
            "tags": []
          },
          "execution_count": 31
        }
      ]
    },
    {
      "cell_type": "code",
      "metadata": {
        "colab": {
          "base_uri": "https://localhost:8080/"
        },
        "id": "dtzrhpKYjuB5",
        "outputId": "4a145d42-2160-4a45-ac51-37db91d0261c"
      },
      "source": [
        "test.reshape(318,8,1)"
      ],
      "execution_count": 32,
      "outputs": [
        {
          "output_type": "execute_result",
          "data": {
            "text/plain": [
              "array([[[ 2.5737426e+00],\n",
              "        [-8.2651091e-01],\n",
              "        [-8.5743809e-01],\n",
              "        ...,\n",
              "        [ 9.6772641e-01],\n",
              "        [-1.2643602e+00],\n",
              "        [ 2.8000000e+01]],\n",
              "\n",
              "       [[ 5.1959443e-01],\n",
              "        [ 8.1873184e-01],\n",
              "        [-8.5743809e-01],\n",
              "        ...,\n",
              "        [-5.9876651e-01],\n",
              "        [-2.3084700e+00],\n",
              "        [ 2.7000000e+02]],\n",
              "\n",
              "       [[-1.3872297e-01],\n",
              "        [ 4.8968330e-01],\n",
              "        [-8.5743809e-01],\n",
              "        ...,\n",
              "        [-5.9876651e-01],\n",
              "        [-1.3407584e+00],\n",
              "        [ 9.0000000e+01]],\n",
              "\n",
              "       ...,\n",
              "\n",
              "       [[ 3.7506160e-01],\n",
              "        [-8.2651091e-01],\n",
              "        [ 1.1330466e+00],\n",
              "        ...,\n",
              "        [-1.5093701e+00],\n",
              "        [-4.9273759e-01],\n",
              "        [ 2.8000000e+01]],\n",
              "\n",
              "       [[ 4.1762948e-01],\n",
              "        [-8.2651091e-01],\n",
              "        [ 9.6153456e-01],\n",
              "        ...,\n",
              "        [-2.0519116e+00],\n",
              "        [ 4.8516038e-01],\n",
              "        [ 2.8000000e+01]],\n",
              "\n",
              "       [[-1.1969806e+00],\n",
              "        [ 1.3290458e+00],\n",
              "        [-8.5743809e-01],\n",
              "        ...,\n",
              "        [ 1.3481067e-01],\n",
              "        [ 1.7320074e-01],\n",
              "        [ 2.8000000e+01]]], dtype=float32)"
            ]
          },
          "metadata": {
            "tags": []
          },
          "execution_count": 32
        }
      ]
    },
    {
      "cell_type": "code",
      "metadata": {
        "colab": {
          "base_uri": "https://localhost:8080/"
        },
        "id": "ukUYQHAgj9-9",
        "outputId": "b31883d6-d1c2-4a90-dd19-2146ac2153f2"
      },
      "source": [
        "val.reshape(224,8,1)"
      ],
      "execution_count": 33,
      "outputs": [
        {
          "output_type": "execute_result",
          "data": {
            "text/plain": [
              "array([[[ 5.1959443e-01],\n",
              "        [ 8.1873184e-01],\n",
              "        [-8.5743809e-01],\n",
              "        ...,\n",
              "        [-5.9876651e-01],\n",
              "        [-2.3084700e+00],\n",
              "        [ 3.6500000e+02]],\n",
              "\n",
              "       [[-8.0594993e-01],\n",
              "        [ 7.0212168e-01],\n",
              "        [-8.5743809e-01],\n",
              "        ...,\n",
              "        [-7.8293327e-03],\n",
              "        [ 6.3923025e-01],\n",
              "        [ 3.6000000e+02]],\n",
              "\n",
              "       [[ 9.8982114e-01],\n",
              "        [ 2.7031758e-01],\n",
              "        [-8.5743809e-01],\n",
              "        ...,\n",
              "        [-5.9876651e-01],\n",
              "        [-2.3084700e+00],\n",
              "        [ 2.8000000e+01]],\n",
              "\n",
              "       ...,\n",
              "\n",
              "       [[ 4.0970987e-01],\n",
              "        [-8.2651091e-01],\n",
              "        [ 1.1550758e+00],\n",
              "        ...,\n",
              "        [-1.3871073e+00],\n",
              "        [ 5.6056716e-02],\n",
              "        [ 2.8000000e+01]],\n",
              "\n",
              "       [[-1.5357223e-01],\n",
              "        [ 4.5504659e-01],\n",
              "        [ 5.0364435e-01],\n",
              "        ...,\n",
              "        [-1.8646965e+00],\n",
              "        [ 1.9230032e-01],\n",
              "        [ 2.8000000e+01]],\n",
              "\n",
              "       [[-1.3019154e+00],\n",
              "        [ 7.8294063e-01],\n",
              "        [ 8.5138911e-01],\n",
              "        ...,\n",
              "        [-1.1031008e+00],\n",
              "        [ 5.9876628e-02],\n",
              "        [ 2.8000000e+01]]], dtype=float32)"
            ]
          },
          "metadata": {
            "tags": []
          },
          "execution_count": 33
        }
      ]
    },
    {
      "cell_type": "code",
      "metadata": {
        "colab": {
          "base_uri": "https://localhost:8080/"
        },
        "id": "8CEEm0dekH31",
        "outputId": "4e93ee83-2666-4d40-ca45-b21a446ac41c"
      },
      "source": [
        "import numpy as np\n",
        "history=model1.fit(\n",
        "    train,\n",
        "    train_lab,\n",
        "    batch_size=1,\n",
        "    epochs=100,\n",
        "    validation_data=(val,val_lab))"
      ],
      "execution_count": 34,
      "outputs": [
        {
          "output_type": "stream",
          "text": [
            "Epoch 1/100\n",
            "488/488 [==============================] - 2s 2ms/step - loss: 405.7940 - mean_absolute_error: 9.0449 - val_loss: 0.6274 - val_mean_absolute_error: 0.6168\n",
            "Epoch 2/100\n",
            "488/488 [==============================] - 1s 1ms/step - loss: 0.8397 - mean_absolute_error: 0.7186 - val_loss: 0.5622 - val_mean_absolute_error: 0.6230\n",
            "Epoch 3/100\n",
            "488/488 [==============================] - 1s 1ms/step - loss: 0.6431 - mean_absolute_error: 0.6204 - val_loss: 0.7158 - val_mean_absolute_error: 0.6832\n",
            "Epoch 4/100\n",
            "488/488 [==============================] - 1s 2ms/step - loss: 0.7589 - mean_absolute_error: 0.6090 - val_loss: 0.3152 - val_mean_absolute_error: 0.4425\n",
            "Epoch 5/100\n",
            "488/488 [==============================] - 1s 1ms/step - loss: 0.5320 - mean_absolute_error: 0.5276 - val_loss: 0.6904 - val_mean_absolute_error: 0.5469\n",
            "Epoch 6/100\n",
            "488/488 [==============================] - 1s 1ms/step - loss: 0.5863 - mean_absolute_error: 0.5170 - val_loss: 0.2689 - val_mean_absolute_error: 0.4062\n",
            "Epoch 7/100\n",
            "488/488 [==============================] - 1s 1ms/step - loss: 0.4618 - mean_absolute_error: 0.4869 - val_loss: 0.2570 - val_mean_absolute_error: 0.3979\n",
            "Epoch 8/100\n",
            "488/488 [==============================] - 1s 1ms/step - loss: 0.4529 - mean_absolute_error: 0.5070 - val_loss: 0.2913 - val_mean_absolute_error: 0.4108\n",
            "Epoch 9/100\n",
            "488/488 [==============================] - 1s 1ms/step - loss: 0.6085 - mean_absolute_error: 0.4768 - val_loss: 0.2755 - val_mean_absolute_error: 0.4087\n",
            "Epoch 10/100\n",
            "488/488 [==============================] - 1s 1ms/step - loss: 0.4592 - mean_absolute_error: 0.5130 - val_loss: 0.2383 - val_mean_absolute_error: 0.3848\n",
            "Epoch 11/100\n",
            "488/488 [==============================] - 1s 2ms/step - loss: 0.3415 - mean_absolute_error: 0.4257 - val_loss: 0.2336 - val_mean_absolute_error: 0.3874\n",
            "Epoch 12/100\n",
            "488/488 [==============================] - 1s 1ms/step - loss: 0.3830 - mean_absolute_error: 0.4527 - val_loss: 0.2204 - val_mean_absolute_error: 0.3722\n",
            "Epoch 13/100\n",
            "488/488 [==============================] - 1s 1ms/step - loss: 0.3324 - mean_absolute_error: 0.4112 - val_loss: 0.2417 - val_mean_absolute_error: 0.3808\n",
            "Epoch 14/100\n",
            "488/488 [==============================] - 1s 1ms/step - loss: 0.3633 - mean_absolute_error: 0.4135 - val_loss: 0.2166 - val_mean_absolute_error: 0.3578\n",
            "Epoch 15/100\n",
            "488/488 [==============================] - 1s 1ms/step - loss: 0.3511 - mean_absolute_error: 0.4381 - val_loss: 0.3748 - val_mean_absolute_error: 0.4646\n",
            "Epoch 16/100\n",
            "488/488 [==============================] - 1s 1ms/step - loss: 0.3217 - mean_absolute_error: 0.4294 - val_loss: 0.2583 - val_mean_absolute_error: 0.3953\n",
            "Epoch 17/100\n",
            "488/488 [==============================] - 1s 1ms/step - loss: 0.3293 - mean_absolute_error: 0.4117 - val_loss: 0.1926 - val_mean_absolute_error: 0.3415\n",
            "Epoch 18/100\n",
            "488/488 [==============================] - 1s 1ms/step - loss: 0.2849 - mean_absolute_error: 0.4037 - val_loss: 0.1920 - val_mean_absolute_error: 0.3395\n",
            "Epoch 19/100\n",
            "488/488 [==============================] - 1s 1ms/step - loss: 0.2849 - mean_absolute_error: 0.4047 - val_loss: 0.2674 - val_mean_absolute_error: 0.4057\n",
            "Epoch 20/100\n",
            "488/488 [==============================] - 1s 1ms/step - loss: 0.2514 - mean_absolute_error: 0.3840 - val_loss: 0.2332 - val_mean_absolute_error: 0.3619\n",
            "Epoch 21/100\n",
            "488/488 [==============================] - 1s 1ms/step - loss: 0.3060 - mean_absolute_error: 0.4015 - val_loss: 0.2366 - val_mean_absolute_error: 0.3767\n",
            "Epoch 22/100\n",
            "488/488 [==============================] - 1s 1ms/step - loss: 0.3136 - mean_absolute_error: 0.3950 - val_loss: 0.1685 - val_mean_absolute_error: 0.3133\n",
            "Epoch 23/100\n",
            "488/488 [==============================] - 1s 1ms/step - loss: 0.2331 - mean_absolute_error: 0.3558 - val_loss: 0.1628 - val_mean_absolute_error: 0.3241\n",
            "Epoch 24/100\n",
            "488/488 [==============================] - 1s 1ms/step - loss: 0.2847 - mean_absolute_error: 0.3796 - val_loss: 0.1812 - val_mean_absolute_error: 0.3224\n",
            "Epoch 25/100\n",
            "488/488 [==============================] - 1s 1ms/step - loss: 0.2426 - mean_absolute_error: 0.3708 - val_loss: 0.2484 - val_mean_absolute_error: 0.3772\n",
            "Epoch 26/100\n",
            "488/488 [==============================] - 1s 1ms/step - loss: 0.2709 - mean_absolute_error: 0.3878 - val_loss: 0.1624 - val_mean_absolute_error: 0.3108\n",
            "Epoch 27/100\n",
            "488/488 [==============================] - 1s 1ms/step - loss: 0.2513 - mean_absolute_error: 0.3731 - val_loss: 0.1494 - val_mean_absolute_error: 0.3096\n",
            "Epoch 28/100\n",
            "488/488 [==============================] - 1s 1ms/step - loss: 0.2548 - mean_absolute_error: 0.3649 - val_loss: 0.1927 - val_mean_absolute_error: 0.3485\n",
            "Epoch 29/100\n",
            "488/488 [==============================] - 1s 1ms/step - loss: 0.2086 - mean_absolute_error: 0.3424 - val_loss: 0.1670 - val_mean_absolute_error: 0.3240\n",
            "Epoch 30/100\n",
            "488/488 [==============================] - 1s 1ms/step - loss: 0.2104 - mean_absolute_error: 0.3309 - val_loss: 0.1508 - val_mean_absolute_error: 0.3069\n",
            "Epoch 31/100\n",
            "488/488 [==============================] - 1s 1ms/step - loss: 0.2081 - mean_absolute_error: 0.3334 - val_loss: 0.1829 - val_mean_absolute_error: 0.3328\n",
            "Epoch 32/100\n",
            "488/488 [==============================] - 1s 1ms/step - loss: 0.2195 - mean_absolute_error: 0.3320 - val_loss: 0.1661 - val_mean_absolute_error: 0.3051\n",
            "Epoch 33/100\n",
            "488/488 [==============================] - 1s 1ms/step - loss: 0.2209 - mean_absolute_error: 0.3430 - val_loss: 0.1642 - val_mean_absolute_error: 0.3148\n",
            "Epoch 34/100\n",
            "488/488 [==============================] - 1s 1ms/step - loss: 0.2336 - mean_absolute_error: 0.3587 - val_loss: 0.1508 - val_mean_absolute_error: 0.2944\n",
            "Epoch 35/100\n",
            "488/488 [==============================] - 1s 2ms/step - loss: 0.2412 - mean_absolute_error: 0.3638 - val_loss: 0.1774 - val_mean_absolute_error: 0.3245\n",
            "Epoch 36/100\n",
            "488/488 [==============================] - 1s 1ms/step - loss: 0.2150 - mean_absolute_error: 0.3360 - val_loss: 0.2149 - val_mean_absolute_error: 0.3462\n",
            "Epoch 37/100\n",
            "488/488 [==============================] - 1s 1ms/step - loss: 0.2178 - mean_absolute_error: 0.3252 - val_loss: 0.1546 - val_mean_absolute_error: 0.3036\n",
            "Epoch 38/100\n",
            "488/488 [==============================] - 1s 1ms/step - loss: 0.2318 - mean_absolute_error: 0.3503 - val_loss: 0.1712 - val_mean_absolute_error: 0.3104\n",
            "Epoch 39/100\n",
            "488/488 [==============================] - 1s 1ms/step - loss: 0.2065 - mean_absolute_error: 0.3461 - val_loss: 0.1640 - val_mean_absolute_error: 0.3071\n",
            "Epoch 40/100\n",
            "488/488 [==============================] - 1s 1ms/step - loss: 0.2135 - mean_absolute_error: 0.3462 - val_loss: 0.1434 - val_mean_absolute_error: 0.2869\n",
            "Epoch 41/100\n",
            "488/488 [==============================] - 1s 1ms/step - loss: 0.2194 - mean_absolute_error: 0.3293 - val_loss: 0.1613 - val_mean_absolute_error: 0.2982\n",
            "Epoch 42/100\n",
            "488/488 [==============================] - 1s 1ms/step - loss: 0.2124 - mean_absolute_error: 0.3455 - val_loss: 0.1457 - val_mean_absolute_error: 0.2852\n",
            "Epoch 43/100\n",
            "488/488 [==============================] - 1s 1ms/step - loss: 0.2086 - mean_absolute_error: 0.3250 - val_loss: 0.1777 - val_mean_absolute_error: 0.3250\n",
            "Epoch 44/100\n",
            "488/488 [==============================] - 1s 1ms/step - loss: 0.1941 - mean_absolute_error: 0.3317 - val_loss: 0.1805 - val_mean_absolute_error: 0.3246\n",
            "Epoch 45/100\n",
            "488/488 [==============================] - 1s 1ms/step - loss: 0.2278 - mean_absolute_error: 0.3558 - val_loss: 0.1696 - val_mean_absolute_error: 0.3221\n",
            "Epoch 46/100\n",
            "488/488 [==============================] - 1s 1ms/step - loss: 0.2007 - mean_absolute_error: 0.3295 - val_loss: 0.1556 - val_mean_absolute_error: 0.2997\n",
            "Epoch 47/100\n",
            "488/488 [==============================] - 1s 1ms/step - loss: 0.2032 - mean_absolute_error: 0.3373 - val_loss: 0.1527 - val_mean_absolute_error: 0.2980\n",
            "Epoch 48/100\n",
            "488/488 [==============================] - 1s 1ms/step - loss: 0.1989 - mean_absolute_error: 0.3317 - val_loss: 0.1437 - val_mean_absolute_error: 0.2901\n",
            "Epoch 49/100\n",
            "488/488 [==============================] - 1s 1ms/step - loss: 0.1756 - mean_absolute_error: 0.3169 - val_loss: 0.1523 - val_mean_absolute_error: 0.2992\n",
            "Epoch 50/100\n",
            "488/488 [==============================] - 1s 1ms/step - loss: 0.2179 - mean_absolute_error: 0.3404 - val_loss: 0.1720 - val_mean_absolute_error: 0.3106\n",
            "Epoch 51/100\n",
            "488/488 [==============================] - 1s 1ms/step - loss: 0.1742 - mean_absolute_error: 0.3084 - val_loss: 0.1803 - val_mean_absolute_error: 0.3166\n",
            "Epoch 52/100\n",
            "488/488 [==============================] - 1s 1ms/step - loss: 0.1988 - mean_absolute_error: 0.3222 - val_loss: 0.1607 - val_mean_absolute_error: 0.3056\n",
            "Epoch 53/100\n",
            "488/488 [==============================] - 1s 1ms/step - loss: 0.2422 - mean_absolute_error: 0.3579 - val_loss: 0.1816 - val_mean_absolute_error: 0.3264\n",
            "Epoch 54/100\n",
            "488/488 [==============================] - 1s 2ms/step - loss: 0.2171 - mean_absolute_error: 0.3475 - val_loss: 0.1415 - val_mean_absolute_error: 0.2904\n",
            "Epoch 55/100\n",
            "488/488 [==============================] - 1s 1ms/step - loss: 0.2021 - mean_absolute_error: 0.3233 - val_loss: 0.1535 - val_mean_absolute_error: 0.3031\n",
            "Epoch 56/100\n",
            "488/488 [==============================] - 1s 1ms/step - loss: 0.1748 - mean_absolute_error: 0.3183 - val_loss: 0.1537 - val_mean_absolute_error: 0.3024\n",
            "Epoch 57/100\n",
            "488/488 [==============================] - 1s 1ms/step - loss: 0.2294 - mean_absolute_error: 0.3400 - val_loss: 0.2200 - val_mean_absolute_error: 0.3594\n",
            "Epoch 58/100\n",
            "488/488 [==============================] - 1s 1ms/step - loss: 0.1705 - mean_absolute_error: 0.3168 - val_loss: 0.1469 - val_mean_absolute_error: 0.2999\n",
            "Epoch 59/100\n",
            "488/488 [==============================] - 1s 1ms/step - loss: 0.1724 - mean_absolute_error: 0.2946 - val_loss: 0.1541 - val_mean_absolute_error: 0.2962\n",
            "Epoch 60/100\n",
            "488/488 [==============================] - 1s 1ms/step - loss: 0.1829 - mean_absolute_error: 0.3108 - val_loss: 0.3280 - val_mean_absolute_error: 0.3989\n",
            "Epoch 61/100\n",
            "488/488 [==============================] - 1s 1ms/step - loss: 0.1917 - mean_absolute_error: 0.3157 - val_loss: 0.1674 - val_mean_absolute_error: 0.3088\n",
            "Epoch 62/100\n",
            "488/488 [==============================] - 1s 1ms/step - loss: 0.1930 - mean_absolute_error: 0.3070 - val_loss: 0.1439 - val_mean_absolute_error: 0.2891\n",
            "Epoch 63/100\n",
            "488/488 [==============================] - 1s 1ms/step - loss: 0.2162 - mean_absolute_error: 0.3342 - val_loss: 0.1432 - val_mean_absolute_error: 0.2865\n",
            "Epoch 64/100\n",
            "488/488 [==============================] - 1s 1ms/step - loss: 0.1748 - mean_absolute_error: 0.3070 - val_loss: 0.1442 - val_mean_absolute_error: 0.2942\n",
            "Epoch 65/100\n",
            "488/488 [==============================] - 1s 1ms/step - loss: 0.1841 - mean_absolute_error: 0.3266 - val_loss: 0.1507 - val_mean_absolute_error: 0.2986\n",
            "Epoch 66/100\n",
            "488/488 [==============================] - 1s 1ms/step - loss: 0.1855 - mean_absolute_error: 0.3197 - val_loss: 0.1671 - val_mean_absolute_error: 0.3012\n",
            "Epoch 67/100\n",
            "488/488 [==============================] - 1s 1ms/step - loss: 0.2180 - mean_absolute_error: 0.3292 - val_loss: 0.1621 - val_mean_absolute_error: 0.3109\n",
            "Epoch 68/100\n",
            "488/488 [==============================] - 1s 1ms/step - loss: 0.1755 - mean_absolute_error: 0.3143 - val_loss: 0.1493 - val_mean_absolute_error: 0.2961\n",
            "Epoch 69/100\n",
            "488/488 [==============================] - 1s 1ms/step - loss: 0.2210 - mean_absolute_error: 0.3344 - val_loss: 0.1701 - val_mean_absolute_error: 0.3136\n",
            "Epoch 70/100\n",
            "488/488 [==============================] - 1s 1ms/step - loss: 0.2098 - mean_absolute_error: 0.3128 - val_loss: 0.1498 - val_mean_absolute_error: 0.2910\n",
            "Epoch 71/100\n",
            "488/488 [==============================] - 1s 1ms/step - loss: 0.1591 - mean_absolute_error: 0.2970 - val_loss: 0.1546 - val_mean_absolute_error: 0.3000\n",
            "Epoch 72/100\n",
            "488/488 [==============================] - 1s 1ms/step - loss: 0.1502 - mean_absolute_error: 0.2823 - val_loss: 0.1422 - val_mean_absolute_error: 0.2887\n",
            "Epoch 73/100\n",
            "488/488 [==============================] - 1s 1ms/step - loss: 0.1872 - mean_absolute_error: 0.3145 - val_loss: 0.1435 - val_mean_absolute_error: 0.2768\n",
            "Epoch 74/100\n",
            "488/488 [==============================] - 1s 1ms/step - loss: 0.1780 - mean_absolute_error: 0.3055 - val_loss: 0.1467 - val_mean_absolute_error: 0.2892\n",
            "Epoch 75/100\n",
            "488/488 [==============================] - 1s 1ms/step - loss: 0.1439 - mean_absolute_error: 0.2816 - val_loss: 0.1544 - val_mean_absolute_error: 0.2891\n",
            "Epoch 76/100\n",
            "488/488 [==============================] - 1s 1ms/step - loss: 0.1873 - mean_absolute_error: 0.3093 - val_loss: 0.1438 - val_mean_absolute_error: 0.2836\n",
            "Epoch 77/100\n",
            "488/488 [==============================] - 1s 1ms/step - loss: 0.1528 - mean_absolute_error: 0.2835 - val_loss: 0.2249 - val_mean_absolute_error: 0.3455\n",
            "Epoch 78/100\n",
            "488/488 [==============================] - 1s 1ms/step - loss: 0.1630 - mean_absolute_error: 0.2884 - val_loss: 0.1761 - val_mean_absolute_error: 0.3098\n",
            "Epoch 79/100\n",
            "488/488 [==============================] - 1s 1ms/step - loss: 0.1769 - mean_absolute_error: 0.3055 - val_loss: 0.1430 - val_mean_absolute_error: 0.2812\n",
            "Epoch 80/100\n",
            "488/488 [==============================] - 1s 1ms/step - loss: 0.1871 - mean_absolute_error: 0.3137 - val_loss: 0.1794 - val_mean_absolute_error: 0.3196\n",
            "Epoch 81/100\n",
            "488/488 [==============================] - 1s 1ms/step - loss: 0.1648 - mean_absolute_error: 0.2962 - val_loss: 0.1869 - val_mean_absolute_error: 0.3331\n",
            "Epoch 82/100\n",
            "488/488 [==============================] - 1s 1ms/step - loss: 0.1649 - mean_absolute_error: 0.2938 - val_loss: 0.1524 - val_mean_absolute_error: 0.2900\n",
            "Epoch 83/100\n",
            "488/488 [==============================] - 1s 2ms/step - loss: 0.1894 - mean_absolute_error: 0.3110 - val_loss: 0.1608 - val_mean_absolute_error: 0.2967\n",
            "Epoch 84/100\n",
            "488/488 [==============================] - 1s 1ms/step - loss: 0.1570 - mean_absolute_error: 0.2837 - val_loss: 0.1901 - val_mean_absolute_error: 0.3187\n",
            "Epoch 85/100\n",
            "488/488 [==============================] - 1s 1ms/step - loss: 0.1845 - mean_absolute_error: 0.3100 - val_loss: 0.2267 - val_mean_absolute_error: 0.3431\n",
            "Epoch 86/100\n",
            "488/488 [==============================] - 1s 1ms/step - loss: 0.1664 - mean_absolute_error: 0.2993 - val_loss: 0.1499 - val_mean_absolute_error: 0.2869\n",
            "Epoch 87/100\n",
            "488/488 [==============================] - 1s 1ms/step - loss: 0.1623 - mean_absolute_error: 0.2856 - val_loss: 0.1547 - val_mean_absolute_error: 0.3012\n",
            "Epoch 88/100\n",
            "488/488 [==============================] - 1s 1ms/step - loss: 0.1482 - mean_absolute_error: 0.2842 - val_loss: 0.1727 - val_mean_absolute_error: 0.3128\n",
            "Epoch 89/100\n",
            "488/488 [==============================] - 1s 1ms/step - loss: 0.1710 - mean_absolute_error: 0.3078 - val_loss: 0.1558 - val_mean_absolute_error: 0.2998\n",
            "Epoch 90/100\n",
            "488/488 [==============================] - 1s 1ms/step - loss: 0.1585 - mean_absolute_error: 0.2849 - val_loss: 0.1783 - val_mean_absolute_error: 0.3159\n",
            "Epoch 91/100\n",
            "488/488 [==============================] - 1s 1ms/step - loss: 0.1498 - mean_absolute_error: 0.2778 - val_loss: 0.1690 - val_mean_absolute_error: 0.3198\n",
            "Epoch 92/100\n",
            "488/488 [==============================] - 1s 2ms/step - loss: 0.1534 - mean_absolute_error: 0.2814 - val_loss: 0.1811 - val_mean_absolute_error: 0.3154\n",
            "Epoch 93/100\n",
            "488/488 [==============================] - 1s 1ms/step - loss: 0.1534 - mean_absolute_error: 0.2908 - val_loss: 0.1719 - val_mean_absolute_error: 0.3093\n",
            "Epoch 94/100\n",
            "488/488 [==============================] - 1s 1ms/step - loss: 0.1464 - mean_absolute_error: 0.2692 - val_loss: 0.1918 - val_mean_absolute_error: 0.3181\n",
            "Epoch 95/100\n",
            "488/488 [==============================] - 1s 1ms/step - loss: 0.1632 - mean_absolute_error: 0.2970 - val_loss: 0.1731 - val_mean_absolute_error: 0.3124\n",
            "Epoch 96/100\n",
            "488/488 [==============================] - 1s 1ms/step - loss: 0.1782 - mean_absolute_error: 0.2935 - val_loss: 0.1778 - val_mean_absolute_error: 0.3147\n",
            "Epoch 97/100\n",
            "488/488 [==============================] - 1s 1ms/step - loss: 0.1565 - mean_absolute_error: 0.2860 - val_loss: 0.2159 - val_mean_absolute_error: 0.3441\n",
            "Epoch 98/100\n",
            "488/488 [==============================] - 1s 1ms/step - loss: 0.1311 - mean_absolute_error: 0.2697 - val_loss: 0.1436 - val_mean_absolute_error: 0.2839\n",
            "Epoch 99/100\n",
            "488/488 [==============================] - 1s 1ms/step - loss: 0.1755 - mean_absolute_error: 0.3084 - val_loss: 0.1577 - val_mean_absolute_error: 0.3011\n",
            "Epoch 100/100\n",
            "488/488 [==============================] - 1s 1ms/step - loss: 0.1679 - mean_absolute_error: 0.2928 - val_loss: 0.1786 - val_mean_absolute_error: 0.3167\n"
          ],
          "name": "stdout"
        }
      ]
    },
    {
      "cell_type": "code",
      "metadata": {
        "colab": {
          "base_uri": "https://localhost:8080/"
        },
        "id": "t3Y-fzYJkxQ6",
        "outputId": "9f697d62-146a-4a7e-ae9b-67568334917c"
      },
      "source": [
        "model_reg=build_model_regular('relu')\n",
        "history_reg=model_reg.fit(\n",
        "    train,\n",
        "    train_lab,\n",
        "    batch_size=1,\n",
        "    epochs=100,\n",
        "    validation_data=(val,val_lab))"
      ],
      "execution_count": 35,
      "outputs": [
        {
          "output_type": "stream",
          "text": [
            "Epoch 1/100\n",
            "488/488 [==============================] - 2s 2ms/step - loss: 1.1875 - mae: 0.8254 - val_loss: 0.7746 - val_mae: 0.6895\n",
            "Epoch 2/100\n",
            "488/488 [==============================] - 1s 1ms/step - loss: 0.8325 - mae: 0.6932 - val_loss: 0.6393 - val_mae: 0.6233\n",
            "Epoch 3/100\n",
            "488/488 [==============================] - 1s 1ms/step - loss: 0.8239 - mae: 0.6837 - val_loss: 0.4864 - val_mae: 0.5387\n",
            "Epoch 4/100\n",
            "488/488 [==============================] - 1s 2ms/step - loss: 0.5815 - mae: 0.5847 - val_loss: 0.4413 - val_mae: 0.5293\n",
            "Epoch 5/100\n",
            "488/488 [==============================] - 1s 1ms/step - loss: 0.4891 - mae: 0.5327 - val_loss: 0.4282 - val_mae: 0.5267\n",
            "Epoch 6/100\n",
            "488/488 [==============================] - 1s 1ms/step - loss: 0.4590 - mae: 0.5039 - val_loss: 0.3402 - val_mae: 0.4621\n",
            "Epoch 7/100\n",
            "488/488 [==============================] - 1s 2ms/step - loss: 0.4869 - mae: 0.5233 - val_loss: 0.3761 - val_mae: 0.4907\n",
            "Epoch 8/100\n",
            "488/488 [==============================] - 1s 1ms/step - loss: 0.5186 - mae: 0.4972 - val_loss: 0.3282 - val_mae: 0.4383\n",
            "Epoch 9/100\n",
            "488/488 [==============================] - 1s 1ms/step - loss: 0.4255 - mae: 0.4796 - val_loss: 0.3193 - val_mae: 0.4479\n",
            "Epoch 10/100\n",
            "488/488 [==============================] - 1s 1ms/step - loss: 0.3802 - mae: 0.4609 - val_loss: 0.2814 - val_mae: 0.4160\n",
            "Epoch 11/100\n",
            "488/488 [==============================] - 1s 1ms/step - loss: 0.3719 - mae: 0.4339 - val_loss: 0.3016 - val_mae: 0.4025\n",
            "Epoch 12/100\n",
            "488/488 [==============================] - 1s 1ms/step - loss: 0.3420 - mae: 0.4376 - val_loss: 0.2749 - val_mae: 0.3786\n",
            "Epoch 13/100\n",
            "488/488 [==============================] - 1s 1ms/step - loss: 0.3560 - mae: 0.4246 - val_loss: 0.2797 - val_mae: 0.3969\n",
            "Epoch 14/100\n",
            "488/488 [==============================] - 1s 1ms/step - loss: 0.3096 - mae: 0.3962 - val_loss: 0.2601 - val_mae: 0.3763\n",
            "Epoch 15/100\n",
            "488/488 [==============================] - 1s 1ms/step - loss: 0.2778 - mae: 0.3676 - val_loss: 0.2232 - val_mae: 0.3460\n",
            "Epoch 16/100\n",
            "488/488 [==============================] - 1s 1ms/step - loss: 0.2442 - mae: 0.3383 - val_loss: 0.2102 - val_mae: 0.3258\n",
            "Epoch 17/100\n",
            "488/488 [==============================] - 1s 1ms/step - loss: 0.2449 - mae: 0.3459 - val_loss: 0.1989 - val_mae: 0.3218\n",
            "Epoch 18/100\n",
            "488/488 [==============================] - 1s 1ms/step - loss: 0.2550 - mae: 0.3524 - val_loss: 0.4143 - val_mae: 0.4474\n",
            "Epoch 19/100\n",
            "488/488 [==============================] - 1s 1ms/step - loss: 0.2776 - mae: 0.3586 - val_loss: 0.2043 - val_mae: 0.3241\n",
            "Epoch 20/100\n",
            "488/488 [==============================] - 1s 1ms/step - loss: 0.2512 - mae: 0.3576 - val_loss: 0.2599 - val_mae: 0.3582\n",
            "Epoch 21/100\n",
            "488/488 [==============================] - 1s 1ms/step - loss: 0.2887 - mae: 0.3559 - val_loss: 0.1848 - val_mae: 0.3028\n",
            "Epoch 22/100\n",
            "488/488 [==============================] - 1s 1ms/step - loss: 0.2421 - mae: 0.3392 - val_loss: 0.1905 - val_mae: 0.3144\n",
            "Epoch 23/100\n",
            "488/488 [==============================] - 1s 1ms/step - loss: 0.2224 - mae: 0.3194 - val_loss: 0.1866 - val_mae: 0.3122\n",
            "Epoch 24/100\n",
            "488/488 [==============================] - 1s 1ms/step - loss: 0.2597 - mae: 0.3422 - val_loss: 0.1840 - val_mae: 0.3058\n",
            "Epoch 25/100\n",
            "488/488 [==============================] - 1s 1ms/step - loss: 0.2623 - mae: 0.3368 - val_loss: 0.1917 - val_mae: 0.3170\n",
            "Epoch 26/100\n",
            "488/488 [==============================] - 1s 1ms/step - loss: 0.2024 - mae: 0.3129 - val_loss: 0.2213 - val_mae: 0.3392\n",
            "Epoch 27/100\n",
            "488/488 [==============================] - 1s 1ms/step - loss: 0.2259 - mae: 0.3226 - val_loss: 0.1931 - val_mae: 0.3209\n",
            "Epoch 28/100\n",
            "488/488 [==============================] - 1s 1ms/step - loss: 0.1951 - mae: 0.3025 - val_loss: 0.1733 - val_mae: 0.2935\n",
            "Epoch 29/100\n",
            "488/488 [==============================] - 1s 1ms/step - loss: 0.2201 - mae: 0.3216 - val_loss: 0.2223 - val_mae: 0.3338\n",
            "Epoch 30/100\n",
            "488/488 [==============================] - 1s 1ms/step - loss: 0.2301 - mae: 0.3066 - val_loss: 0.1749 - val_mae: 0.2974\n",
            "Epoch 31/100\n",
            "488/488 [==============================] - 1s 1ms/step - loss: 0.2090 - mae: 0.3136 - val_loss: 0.1719 - val_mae: 0.2964\n",
            "Epoch 32/100\n",
            "488/488 [==============================] - 1s 1ms/step - loss: 0.2296 - mae: 0.3309 - val_loss: 0.1857 - val_mae: 0.3127\n",
            "Epoch 33/100\n",
            "488/488 [==============================] - 1s 1ms/step - loss: 0.2087 - mae: 0.2965 - val_loss: 0.2568 - val_mae: 0.3794\n",
            "Epoch 34/100\n",
            "488/488 [==============================] - 1s 1ms/step - loss: 0.2367 - mae: 0.3344 - val_loss: 0.2356 - val_mae: 0.3607\n",
            "Epoch 35/100\n",
            "488/488 [==============================] - 1s 1ms/step - loss: 0.2122 - mae: 0.3158 - val_loss: 0.1932 - val_mae: 0.3112\n",
            "Epoch 36/100\n",
            "488/488 [==============================] - 1s 1ms/step - loss: 0.2509 - mae: 0.3491 - val_loss: 0.2123 - val_mae: 0.3310\n",
            "Epoch 37/100\n",
            "488/488 [==============================] - 1s 1ms/step - loss: 0.1980 - mae: 0.2963 - val_loss: 0.1894 - val_mae: 0.3117\n",
            "Epoch 38/100\n",
            "488/488 [==============================] - 1s 1ms/step - loss: 0.2082 - mae: 0.3050 - val_loss: 0.1861 - val_mae: 0.3057\n",
            "Epoch 39/100\n",
            "488/488 [==============================] - 1s 1ms/step - loss: 0.2095 - mae: 0.3130 - val_loss: 0.1866 - val_mae: 0.2967\n",
            "Epoch 40/100\n",
            "488/488 [==============================] - 1s 1ms/step - loss: 0.2177 - mae: 0.3106 - val_loss: 0.1836 - val_mae: 0.3072\n",
            "Epoch 41/100\n",
            "488/488 [==============================] - 1s 1ms/step - loss: 0.2311 - mae: 0.3341 - val_loss: 0.1705 - val_mae: 0.2933\n",
            "Epoch 42/100\n",
            "488/488 [==============================] - 1s 2ms/step - loss: 0.1924 - mae: 0.2934 - val_loss: 0.1879 - val_mae: 0.3003\n",
            "Epoch 43/100\n",
            "488/488 [==============================] - 1s 1ms/step - loss: 0.2052 - mae: 0.3096 - val_loss: 0.1835 - val_mae: 0.3097\n",
            "Epoch 44/100\n",
            "488/488 [==============================] - 1s 1ms/step - loss: 0.2022 - mae: 0.3041 - val_loss: 0.1783 - val_mae: 0.2896\n",
            "Epoch 45/100\n",
            "488/488 [==============================] - 1s 1ms/step - loss: 0.2171 - mae: 0.3205 - val_loss: 0.1671 - val_mae: 0.2855\n",
            "Epoch 46/100\n",
            "488/488 [==============================] - 1s 1ms/step - loss: 0.1925 - mae: 0.2954 - val_loss: 0.1723 - val_mae: 0.2903\n",
            "Epoch 47/100\n",
            "488/488 [==============================] - 1s 1ms/step - loss: 0.1831 - mae: 0.2966 - val_loss: 0.1677 - val_mae: 0.2905\n",
            "Epoch 48/100\n",
            "488/488 [==============================] - 1s 2ms/step - loss: 0.2045 - mae: 0.3112 - val_loss: 0.1789 - val_mae: 0.3064\n",
            "Epoch 49/100\n",
            "488/488 [==============================] - 1s 1ms/step - loss: 0.2082 - mae: 0.3178 - val_loss: 0.1713 - val_mae: 0.2960\n",
            "Epoch 50/100\n",
            "488/488 [==============================] - 1s 1ms/step - loss: 0.2011 - mae: 0.2918 - val_loss: 0.1700 - val_mae: 0.2941\n",
            "Epoch 51/100\n",
            "488/488 [==============================] - 1s 1ms/step - loss: 0.1790 - mae: 0.2843 - val_loss: 0.2270 - val_mae: 0.3537\n",
            "Epoch 52/100\n",
            "488/488 [==============================] - 1s 1ms/step - loss: 0.1920 - mae: 0.2898 - val_loss: 0.1703 - val_mae: 0.2894\n",
            "Epoch 53/100\n",
            "488/488 [==============================] - 1s 2ms/step - loss: 0.2067 - mae: 0.3131 - val_loss: 0.1968 - val_mae: 0.3027\n",
            "Epoch 54/100\n",
            "488/488 [==============================] - 1s 1ms/step - loss: 0.2128 - mae: 0.3025 - val_loss: 0.1792 - val_mae: 0.3046\n",
            "Epoch 55/100\n",
            "488/488 [==============================] - 1s 1ms/step - loss: 0.2066 - mae: 0.3087 - val_loss: 0.1927 - val_mae: 0.3210\n",
            "Epoch 56/100\n",
            "488/488 [==============================] - 1s 1ms/step - loss: 0.2105 - mae: 0.3108 - val_loss: 0.1754 - val_mae: 0.2925\n",
            "Epoch 57/100\n",
            "488/488 [==============================] - 1s 1ms/step - loss: 0.1889 - mae: 0.2953 - val_loss: 0.1860 - val_mae: 0.2975\n",
            "Epoch 58/100\n",
            "488/488 [==============================] - 1s 1ms/step - loss: 0.2078 - mae: 0.3077 - val_loss: 0.1802 - val_mae: 0.3011\n",
            "Epoch 59/100\n",
            "488/488 [==============================] - 1s 1ms/step - loss: 0.2233 - mae: 0.3075 - val_loss: 0.1704 - val_mae: 0.2877\n",
            "Epoch 60/100\n",
            "488/488 [==============================] - 1s 1ms/step - loss: 0.2121 - mae: 0.3078 - val_loss: 0.1813 - val_mae: 0.3070\n",
            "Epoch 61/100\n",
            "488/488 [==============================] - 1s 1ms/step - loss: 0.1970 - mae: 0.3026 - val_loss: 0.1860 - val_mae: 0.2996\n",
            "Epoch 62/100\n",
            "488/488 [==============================] - 1s 1ms/step - loss: 0.1916 - mae: 0.2989 - val_loss: 0.2259 - val_mae: 0.3543\n",
            "Epoch 63/100\n",
            "488/488 [==============================] - 1s 2ms/step - loss: 0.2180 - mae: 0.3131 - val_loss: 0.1797 - val_mae: 0.2935\n",
            "Epoch 64/100\n",
            "488/488 [==============================] - 1s 1ms/step - loss: 0.1982 - mae: 0.3010 - val_loss: 0.1707 - val_mae: 0.2888\n",
            "Epoch 65/100\n",
            "488/488 [==============================] - 1s 2ms/step - loss: 0.1958 - mae: 0.2984 - val_loss: 0.1706 - val_mae: 0.2910\n",
            "Epoch 66/100\n",
            "488/488 [==============================] - 1s 2ms/step - loss: 0.1850 - mae: 0.2973 - val_loss: 0.1895 - val_mae: 0.3026\n",
            "Epoch 67/100\n",
            "488/488 [==============================] - 1s 2ms/step - loss: 0.1952 - mae: 0.2937 - val_loss: 0.1759 - val_mae: 0.2901\n",
            "Epoch 68/100\n",
            "488/488 [==============================] - 1s 1ms/step - loss: 0.1944 - mae: 0.2998 - val_loss: 0.1728 - val_mae: 0.2949\n",
            "Epoch 69/100\n",
            "488/488 [==============================] - 1s 2ms/step - loss: 0.1956 - mae: 0.3023 - val_loss: 0.1885 - val_mae: 0.2951\n",
            "Epoch 70/100\n",
            "488/488 [==============================] - 1s 1ms/step - loss: 0.1972 - mae: 0.3025 - val_loss: 0.1665 - val_mae: 0.2853\n",
            "Epoch 71/100\n",
            "488/488 [==============================] - 1s 2ms/step - loss: 0.1910 - mae: 0.2994 - val_loss: 0.2053 - val_mae: 0.3272\n",
            "Epoch 72/100\n",
            "488/488 [==============================] - 1s 1ms/step - loss: 0.1914 - mae: 0.3029 - val_loss: 0.1720 - val_mae: 0.2854\n",
            "Epoch 73/100\n",
            "488/488 [==============================] - 1s 1ms/step - loss: 0.1856 - mae: 0.2928 - val_loss: 0.1934 - val_mae: 0.3214\n",
            "Epoch 74/100\n",
            "488/488 [==============================] - 1s 1ms/step - loss: 0.2157 - mae: 0.3232 - val_loss: 0.2018 - val_mae: 0.3306\n",
            "Epoch 75/100\n",
            "488/488 [==============================] - 1s 1ms/step - loss: 0.1752 - mae: 0.2881 - val_loss: 0.1681 - val_mae: 0.2841\n",
            "Epoch 76/100\n",
            "488/488 [==============================] - 1s 1ms/step - loss: 0.1838 - mae: 0.2824 - val_loss: 0.1695 - val_mae: 0.2825\n",
            "Epoch 77/100\n",
            "488/488 [==============================] - 1s 2ms/step - loss: 0.1909 - mae: 0.2990 - val_loss: 0.1872 - val_mae: 0.2935\n",
            "Epoch 78/100\n",
            "488/488 [==============================] - 1s 1ms/step - loss: 0.1853 - mae: 0.2862 - val_loss: 0.1691 - val_mae: 0.2768\n",
            "Epoch 79/100\n",
            "488/488 [==============================] - 1s 1ms/step - loss: 0.1815 - mae: 0.2946 - val_loss: 0.1637 - val_mae: 0.2812\n",
            "Epoch 80/100\n",
            "488/488 [==============================] - 1s 1ms/step - loss: 0.1645 - mae: 0.2679 - val_loss: 0.2027 - val_mae: 0.3197\n",
            "Epoch 81/100\n",
            "488/488 [==============================] - 1s 1ms/step - loss: 0.1840 - mae: 0.2861 - val_loss: 0.1768 - val_mae: 0.2899\n",
            "Epoch 82/100\n",
            "488/488 [==============================] - 1s 1ms/step - loss: 0.1956 - mae: 0.2970 - val_loss: 0.1708 - val_mae: 0.2864\n",
            "Epoch 83/100\n",
            "488/488 [==============================] - 1s 1ms/step - loss: 0.2191 - mae: 0.3164 - val_loss: 0.1837 - val_mae: 0.2885\n",
            "Epoch 84/100\n",
            "488/488 [==============================] - 1s 1ms/step - loss: 0.1852 - mae: 0.2911 - val_loss: 0.1972 - val_mae: 0.3003\n",
            "Epoch 85/100\n",
            "488/488 [==============================] - 1s 1ms/step - loss: 0.2052 - mae: 0.2907 - val_loss: 0.1598 - val_mae: 0.2724\n",
            "Epoch 86/100\n",
            "488/488 [==============================] - 1s 1ms/step - loss: 0.1701 - mae: 0.2743 - val_loss: 0.1688 - val_mae: 0.2824\n",
            "Epoch 87/100\n",
            "488/488 [==============================] - 1s 1ms/step - loss: 0.1752 - mae: 0.2833 - val_loss: 0.1686 - val_mae: 0.2778\n",
            "Epoch 88/100\n",
            "488/488 [==============================] - 1s 1ms/step - loss: 0.1861 - mae: 0.2892 - val_loss: 0.1821 - val_mae: 0.2852\n",
            "Epoch 89/100\n",
            "488/488 [==============================] - 1s 1ms/step - loss: 0.1961 - mae: 0.3095 - val_loss: 0.1700 - val_mae: 0.2844\n",
            "Epoch 90/100\n",
            "488/488 [==============================] - 1s 1ms/step - loss: 0.1989 - mae: 0.2973 - val_loss: 0.1711 - val_mae: 0.2785\n",
            "Epoch 91/100\n",
            "488/488 [==============================] - 1s 1ms/step - loss: 0.1844 - mae: 0.2825 - val_loss: 0.1598 - val_mae: 0.2763\n",
            "Epoch 92/100\n",
            "488/488 [==============================] - 1s 1ms/step - loss: 0.2017 - mae: 0.2938 - val_loss: 0.1640 - val_mae: 0.2779\n",
            "Epoch 93/100\n",
            "488/488 [==============================] - 1s 2ms/step - loss: 0.1936 - mae: 0.2948 - val_loss: 0.1849 - val_mae: 0.3030\n",
            "Epoch 94/100\n",
            "488/488 [==============================] - 1s 2ms/step - loss: 0.1843 - mae: 0.2872 - val_loss: 0.1795 - val_mae: 0.2957\n",
            "Epoch 95/100\n",
            "488/488 [==============================] - 1s 1ms/step - loss: 0.1854 - mae: 0.2877 - val_loss: 0.1710 - val_mae: 0.2858\n",
            "Epoch 96/100\n",
            "488/488 [==============================] - 1s 1ms/step - loss: 0.2088 - mae: 0.3029 - val_loss: 0.1688 - val_mae: 0.2858\n",
            "Epoch 97/100\n",
            "488/488 [==============================] - 1s 2ms/step - loss: 0.1864 - mae: 0.2897 - val_loss: 0.1744 - val_mae: 0.2834\n",
            "Epoch 98/100\n",
            "488/488 [==============================] - 1s 1ms/step - loss: 0.2031 - mae: 0.2912 - val_loss: 0.1659 - val_mae: 0.2720\n",
            "Epoch 99/100\n",
            "488/488 [==============================] - 1s 2ms/step - loss: 0.1892 - mae: 0.2906 - val_loss: 0.2179 - val_mae: 0.3172\n",
            "Epoch 100/100\n",
            "488/488 [==============================] - 1s 1ms/step - loss: 0.1935 - mae: 0.2808 - val_loss: 0.1680 - val_mae: 0.2804\n"
          ],
          "name": "stdout"
        }
      ]
    },
    {
      "cell_type": "code",
      "metadata": {
        "colab": {
          "base_uri": "https://localhost:8080/"
        },
        "id": "1NNLUNE9l-ux",
        "outputId": "9a7f91a9-953f-4749-cff0-3b4c46e5fb0a"
      },
      "source": [
        "model_drop1=build_model_drop1('relu')\n",
        "history_drop1=model_drop1.fit(\n",
        "    train,\n",
        "    train_lab,\n",
        "    batch_size=1,\n",
        "    epochs=100,\n",
        "    validation_data=(val,val_lab))"
      ],
      "execution_count": 36,
      "outputs": [
        {
          "output_type": "stream",
          "text": [
            "Epoch 1/100\n",
            "488/488 [==============================] - 2s 2ms/step - loss: 3.7547 - mae: 1.2129 - val_loss: 0.8704 - val_mae: 0.7660\n",
            "Epoch 2/100\n",
            "488/488 [==============================] - 1s 2ms/step - loss: 1.8560 - mae: 0.9027 - val_loss: 0.7455 - val_mae: 0.7037\n",
            "Epoch 3/100\n",
            "488/488 [==============================] - 1s 2ms/step - loss: 1.4398 - mae: 0.7951 - val_loss: 0.6396 - val_mae: 0.6232\n",
            "Epoch 4/100\n",
            "488/488 [==============================] - 1s 2ms/step - loss: 3.3804 - mae: 0.8948 - val_loss: 0.5973 - val_mae: 0.6138\n",
            "Epoch 5/100\n",
            "488/488 [==============================] - 1s 2ms/step - loss: 0.9167 - mae: 0.6993 - val_loss: 0.4925 - val_mae: 0.5416\n",
            "Epoch 6/100\n",
            "488/488 [==============================] - 1s 2ms/step - loss: 0.7049 - mae: 0.6044 - val_loss: 0.3791 - val_mae: 0.4564\n",
            "Epoch 7/100\n",
            "488/488 [==============================] - 1s 2ms/step - loss: 0.6445 - mae: 0.5754 - val_loss: 0.3389 - val_mae: 0.4440\n",
            "Epoch 8/100\n",
            "488/488 [==============================] - 1s 2ms/step - loss: 0.5383 - mae: 0.5447 - val_loss: 0.2554 - val_mae: 0.3884\n",
            "Epoch 9/100\n",
            "488/488 [==============================] - 1s 2ms/step - loss: 0.4700 - mae: 0.5007 - val_loss: 0.2514 - val_mae: 0.3842\n",
            "Epoch 10/100\n",
            "488/488 [==============================] - 1s 2ms/step - loss: 0.7592 - mae: 0.5396 - val_loss: 0.2817 - val_mae: 0.3992\n",
            "Epoch 11/100\n",
            "488/488 [==============================] - 1s 2ms/step - loss: 0.4400 - mae: 0.4810 - val_loss: 0.2401 - val_mae: 0.3847\n",
            "Epoch 12/100\n",
            "488/488 [==============================] - 1s 2ms/step - loss: 0.3823 - mae: 0.4697 - val_loss: 0.2637 - val_mae: 0.3887\n",
            "Epoch 13/100\n",
            "488/488 [==============================] - 1s 2ms/step - loss: 0.3915 - mae: 0.4352 - val_loss: 0.3036 - val_mae: 0.3886\n",
            "Epoch 14/100\n",
            "488/488 [==============================] - 1s 2ms/step - loss: 0.4865 - mae: 0.4698 - val_loss: 0.2506 - val_mae: 0.3895\n",
            "Epoch 15/100\n",
            "488/488 [==============================] - 1s 2ms/step - loss: 0.5920 - mae: 0.4929 - val_loss: 0.4536 - val_mae: 0.4751\n",
            "Epoch 16/100\n",
            "488/488 [==============================] - 1s 2ms/step - loss: 0.3380 - mae: 0.4294 - val_loss: 0.2112 - val_mae: 0.3604\n",
            "Epoch 17/100\n",
            "488/488 [==============================] - 1s 2ms/step - loss: 0.3230 - mae: 0.4323 - val_loss: 0.1864 - val_mae: 0.3360\n",
            "Epoch 18/100\n",
            "488/488 [==============================] - 1s 2ms/step - loss: 0.3662 - mae: 0.4339 - val_loss: 0.2145 - val_mae: 0.3787\n",
            "Epoch 19/100\n",
            "488/488 [==============================] - 1s 2ms/step - loss: 0.3465 - mae: 0.4055 - val_loss: 0.1970 - val_mae: 0.3481\n",
            "Epoch 20/100\n",
            "488/488 [==============================] - 1s 2ms/step - loss: 0.2889 - mae: 0.3930 - val_loss: 0.1894 - val_mae: 0.3459\n",
            "Epoch 21/100\n",
            "488/488 [==============================] - 1s 2ms/step - loss: 0.2851 - mae: 0.4021 - val_loss: 0.1939 - val_mae: 0.3408\n",
            "Epoch 22/100\n",
            "488/488 [==============================] - 1s 2ms/step - loss: 0.2622 - mae: 0.3938 - val_loss: 0.2062 - val_mae: 0.3597\n",
            "Epoch 23/100\n",
            "488/488 [==============================] - 1s 2ms/step - loss: 0.3046 - mae: 0.4159 - val_loss: 0.1939 - val_mae: 0.3524\n",
            "Epoch 24/100\n",
            "488/488 [==============================] - 1s 2ms/step - loss: 0.3611 - mae: 0.4413 - val_loss: 0.1988 - val_mae: 0.3642\n",
            "Epoch 25/100\n",
            "488/488 [==============================] - 1s 2ms/step - loss: 0.2764 - mae: 0.3940 - val_loss: 0.1811 - val_mae: 0.3271\n",
            "Epoch 26/100\n",
            "488/488 [==============================] - 1s 2ms/step - loss: 0.2516 - mae: 0.3760 - val_loss: 0.1954 - val_mae: 0.3576\n",
            "Epoch 27/100\n",
            "488/488 [==============================] - 1s 2ms/step - loss: 0.3342 - mae: 0.3845 - val_loss: 0.2958 - val_mae: 0.4255\n",
            "Epoch 28/100\n",
            "488/488 [==============================] - 1s 2ms/step - loss: 0.2869 - mae: 0.3982 - val_loss: 0.2034 - val_mae: 0.3447\n",
            "Epoch 29/100\n",
            "488/488 [==============================] - 1s 2ms/step - loss: 0.2262 - mae: 0.3737 - val_loss: 0.1829 - val_mae: 0.3480\n",
            "Epoch 30/100\n",
            "488/488 [==============================] - 1s 2ms/step - loss: 0.3088 - mae: 0.4050 - val_loss: 0.1654 - val_mae: 0.3141\n",
            "Epoch 31/100\n",
            "488/488 [==============================] - 1s 2ms/step - loss: 0.2513 - mae: 0.3795 - val_loss: 0.1431 - val_mae: 0.2914\n",
            "Epoch 32/100\n",
            "488/488 [==============================] - 1s 2ms/step - loss: 0.4244 - mae: 0.4322 - val_loss: 0.1853 - val_mae: 0.3283\n",
            "Epoch 33/100\n",
            "488/488 [==============================] - 1s 2ms/step - loss: 0.3042 - mae: 0.3982 - val_loss: 0.1626 - val_mae: 0.3192\n",
            "Epoch 34/100\n",
            "488/488 [==============================] - 1s 2ms/step - loss: 0.2292 - mae: 0.3679 - val_loss: 0.4341 - val_mae: 0.4459\n",
            "Epoch 35/100\n",
            "488/488 [==============================] - 1s 2ms/step - loss: 0.3791 - mae: 0.4032 - val_loss: 0.1554 - val_mae: 0.3034\n",
            "Epoch 36/100\n",
            "488/488 [==============================] - 1s 2ms/step - loss: 0.2640 - mae: 0.3845 - val_loss: 0.1945 - val_mae: 0.3584\n",
            "Epoch 37/100\n",
            "488/488 [==============================] - 1s 2ms/step - loss: 0.2515 - mae: 0.3846 - val_loss: 0.1481 - val_mae: 0.2941\n",
            "Epoch 38/100\n",
            "488/488 [==============================] - 1s 2ms/step - loss: 0.2621 - mae: 0.3874 - val_loss: 0.1762 - val_mae: 0.3426\n",
            "Epoch 39/100\n",
            "488/488 [==============================] - 1s 2ms/step - loss: 0.2647 - mae: 0.3736 - val_loss: 0.1768 - val_mae: 0.3419\n",
            "Epoch 40/100\n",
            "488/488 [==============================] - 1s 2ms/step - loss: 0.2311 - mae: 0.3601 - val_loss: 0.2484 - val_mae: 0.3894\n",
            "Epoch 41/100\n",
            "488/488 [==============================] - 1s 2ms/step - loss: 0.2454 - mae: 0.3663 - val_loss: 0.1813 - val_mae: 0.3471\n",
            "Epoch 42/100\n",
            "488/488 [==============================] - 1s 2ms/step - loss: 0.2271 - mae: 0.3624 - val_loss: 0.1601 - val_mae: 0.3188\n",
            "Epoch 43/100\n",
            "488/488 [==============================] - 1s 2ms/step - loss: 0.2384 - mae: 0.3768 - val_loss: 0.1675 - val_mae: 0.3292\n",
            "Epoch 44/100\n",
            "488/488 [==============================] - 1s 2ms/step - loss: 0.2296 - mae: 0.3691 - val_loss: 0.1766 - val_mae: 0.3228\n",
            "Epoch 45/100\n",
            "488/488 [==============================] - 1s 2ms/step - loss: 0.2354 - mae: 0.3606 - val_loss: 0.1520 - val_mae: 0.3052\n",
            "Epoch 46/100\n",
            "488/488 [==============================] - 1s 2ms/step - loss: 0.2322 - mae: 0.3655 - val_loss: 0.1444 - val_mae: 0.2875\n",
            "Epoch 47/100\n",
            "488/488 [==============================] - 1s 2ms/step - loss: 0.2803 - mae: 0.3862 - val_loss: 0.1836 - val_mae: 0.3443\n",
            "Epoch 48/100\n",
            "488/488 [==============================] - 1s 2ms/step - loss: 0.2100 - mae: 0.3599 - val_loss: 0.1724 - val_mae: 0.3219\n",
            "Epoch 49/100\n",
            "488/488 [==============================] - 1s 2ms/step - loss: 0.2244 - mae: 0.3562 - val_loss: 0.2320 - val_mae: 0.3471\n",
            "Epoch 50/100\n",
            "488/488 [==============================] - 1s 2ms/step - loss: 0.2797 - mae: 0.3833 - val_loss: 0.1552 - val_mae: 0.2983\n",
            "Epoch 51/100\n",
            "488/488 [==============================] - 1s 2ms/step - loss: 0.2113 - mae: 0.3479 - val_loss: 0.1572 - val_mae: 0.3081\n",
            "Epoch 52/100\n",
            "488/488 [==============================] - 1s 2ms/step - loss: 0.2776 - mae: 0.3798 - val_loss: 0.2076 - val_mae: 0.3713\n",
            "Epoch 53/100\n",
            "488/488 [==============================] - 1s 2ms/step - loss: 0.2026 - mae: 0.3439 - val_loss: 0.1477 - val_mae: 0.3102\n",
            "Epoch 54/100\n",
            "488/488 [==============================] - 1s 2ms/step - loss: 0.2539 - mae: 0.3568 - val_loss: 0.1715 - val_mae: 0.3250\n",
            "Epoch 55/100\n",
            "488/488 [==============================] - 1s 2ms/step - loss: 0.2482 - mae: 0.3774 - val_loss: 0.1360 - val_mae: 0.2812\n",
            "Epoch 56/100\n",
            "488/488 [==============================] - 1s 2ms/step - loss: 0.2308 - mae: 0.3535 - val_loss: 0.1756 - val_mae: 0.3360\n",
            "Epoch 57/100\n",
            "488/488 [==============================] - 1s 2ms/step - loss: 0.2302 - mae: 0.3415 - val_loss: 0.1512 - val_mae: 0.3138\n",
            "Epoch 58/100\n",
            "488/488 [==============================] - 1s 2ms/step - loss: 0.2362 - mae: 0.3596 - val_loss: 0.1452 - val_mae: 0.3016\n",
            "Epoch 59/100\n",
            "488/488 [==============================] - 1s 2ms/step - loss: 0.2237 - mae: 0.3513 - val_loss: 0.1574 - val_mae: 0.3113\n",
            "Epoch 60/100\n",
            "488/488 [==============================] - 1s 2ms/step - loss: 0.2453 - mae: 0.3711 - val_loss: 0.1611 - val_mae: 0.3128\n",
            "Epoch 61/100\n",
            "488/488 [==============================] - 1s 2ms/step - loss: 0.2043 - mae: 0.3403 - val_loss: 0.2050 - val_mae: 0.3695\n",
            "Epoch 62/100\n",
            "488/488 [==============================] - 1s 2ms/step - loss: 0.2237 - mae: 0.3603 - val_loss: 0.1392 - val_mae: 0.2782\n",
            "Epoch 63/100\n",
            "488/488 [==============================] - 1s 2ms/step - loss: 0.2427 - mae: 0.3761 - val_loss: 0.1695 - val_mae: 0.3226\n",
            "Epoch 64/100\n",
            "488/488 [==============================] - 1s 2ms/step - loss: 0.2524 - mae: 0.3686 - val_loss: 0.1679 - val_mae: 0.3302\n",
            "Epoch 65/100\n",
            "488/488 [==============================] - 1s 2ms/step - loss: 0.2499 - mae: 0.3706 - val_loss: 0.1323 - val_mae: 0.2788\n",
            "Epoch 66/100\n",
            "488/488 [==============================] - 1s 2ms/step - loss: 0.2048 - mae: 0.3343 - val_loss: 0.1589 - val_mae: 0.3207\n",
            "Epoch 67/100\n",
            "488/488 [==============================] - 1s 2ms/step - loss: 0.2102 - mae: 0.3369 - val_loss: 0.1430 - val_mae: 0.2869\n",
            "Epoch 68/100\n",
            "488/488 [==============================] - 1s 2ms/step - loss: 0.2515 - mae: 0.3727 - val_loss: 0.1656 - val_mae: 0.3271\n",
            "Epoch 69/100\n",
            "488/488 [==============================] - 1s 2ms/step - loss: 0.2191 - mae: 0.3479 - val_loss: 0.1542 - val_mae: 0.3121\n",
            "Epoch 70/100\n",
            "488/488 [==============================] - 1s 2ms/step - loss: 0.2029 - mae: 0.3350 - val_loss: 0.2828 - val_mae: 0.4282\n",
            "Epoch 71/100\n",
            "488/488 [==============================] - 1s 2ms/step - loss: 0.2492 - mae: 0.3424 - val_loss: 0.1751 - val_mae: 0.3378\n",
            "Epoch 72/100\n",
            "488/488 [==============================] - 1s 2ms/step - loss: 0.2081 - mae: 0.3402 - val_loss: 0.1707 - val_mae: 0.3356\n",
            "Epoch 73/100\n",
            "488/488 [==============================] - 1s 2ms/step - loss: 0.2482 - mae: 0.3806 - val_loss: 0.1264 - val_mae: 0.2820\n",
            "Epoch 74/100\n",
            "488/488 [==============================] - 1s 2ms/step - loss: 0.2136 - mae: 0.3471 - val_loss: 0.1653 - val_mae: 0.3236\n",
            "Epoch 75/100\n",
            "488/488 [==============================] - 1s 2ms/step - loss: 0.1911 - mae: 0.3355 - val_loss: 0.1299 - val_mae: 0.2812\n",
            "Epoch 76/100\n",
            "488/488 [==============================] - 1s 2ms/step - loss: 0.2052 - mae: 0.3363 - val_loss: 0.1319 - val_mae: 0.2853\n",
            "Epoch 77/100\n",
            "488/488 [==============================] - 1s 2ms/step - loss: 0.2059 - mae: 0.3442 - val_loss: 0.1383 - val_mae: 0.2854\n",
            "Epoch 78/100\n",
            "488/488 [==============================] - 1s 2ms/step - loss: 0.1758 - mae: 0.3110 - val_loss: 0.1564 - val_mae: 0.3151\n",
            "Epoch 79/100\n",
            "488/488 [==============================] - 1s 2ms/step - loss: 0.1695 - mae: 0.3055 - val_loss: 0.1461 - val_mae: 0.2933\n",
            "Epoch 80/100\n",
            "488/488 [==============================] - 1s 2ms/step - loss: 0.1799 - mae: 0.3223 - val_loss: 0.1305 - val_mae: 0.2869\n",
            "Epoch 81/100\n",
            "488/488 [==============================] - 1s 2ms/step - loss: 0.1908 - mae: 0.3307 - val_loss: 0.1402 - val_mae: 0.2872\n",
            "Epoch 82/100\n",
            "488/488 [==============================] - 1s 2ms/step - loss: 0.1885 - mae: 0.3172 - val_loss: 0.1492 - val_mae: 0.2895\n",
            "Epoch 83/100\n",
            "488/488 [==============================] - 1s 2ms/step - loss: 0.1925 - mae: 0.3299 - val_loss: 0.1328 - val_mae: 0.2813\n",
            "Epoch 84/100\n",
            "488/488 [==============================] - 1s 2ms/step - loss: 0.1981 - mae: 0.3256 - val_loss: 0.1797 - val_mae: 0.3514\n",
            "Epoch 85/100\n",
            "488/488 [==============================] - 1s 2ms/step - loss: 0.1884 - mae: 0.3357 - val_loss: 0.1417 - val_mae: 0.2949\n",
            "Epoch 86/100\n",
            "488/488 [==============================] - 1s 2ms/step - loss: 0.2346 - mae: 0.3571 - val_loss: 0.1372 - val_mae: 0.2831\n",
            "Epoch 87/100\n",
            "488/488 [==============================] - 1s 2ms/step - loss: 0.2275 - mae: 0.3419 - val_loss: 0.1713 - val_mae: 0.3353\n",
            "Epoch 88/100\n",
            "488/488 [==============================] - 1s 2ms/step - loss: 0.1852 - mae: 0.3170 - val_loss: 0.1488 - val_mae: 0.3174\n",
            "Epoch 89/100\n",
            "488/488 [==============================] - 1s 2ms/step - loss: 0.1808 - mae: 0.3324 - val_loss: 0.1436 - val_mae: 0.2927\n",
            "Epoch 90/100\n",
            "488/488 [==============================] - 1s 2ms/step - loss: 0.2166 - mae: 0.3465 - val_loss: 0.1350 - val_mae: 0.2762\n",
            "Epoch 91/100\n",
            "488/488 [==============================] - 1s 2ms/step - loss: 0.1993 - mae: 0.3417 - val_loss: 0.1367 - val_mae: 0.2847\n",
            "Epoch 92/100\n",
            "488/488 [==============================] - 1s 2ms/step - loss: 0.2210 - mae: 0.3555 - val_loss: 0.1408 - val_mae: 0.3002\n",
            "Epoch 93/100\n",
            "488/488 [==============================] - 1s 2ms/step - loss: 0.2190 - mae: 0.3438 - val_loss: 0.1550 - val_mae: 0.2891\n",
            "Epoch 94/100\n",
            "488/488 [==============================] - 1s 2ms/step - loss: 0.2086 - mae: 0.3277 - val_loss: 0.1853 - val_mae: 0.3211\n",
            "Epoch 95/100\n",
            "488/488 [==============================] - 1s 2ms/step - loss: 0.2174 - mae: 0.3453 - val_loss: 0.1325 - val_mae: 0.2870\n",
            "Epoch 96/100\n",
            "488/488 [==============================] - 1s 2ms/step - loss: 0.2152 - mae: 0.3384 - val_loss: 0.1335 - val_mae: 0.2711\n",
            "Epoch 97/100\n",
            "488/488 [==============================] - 1s 2ms/step - loss: 0.2473 - mae: 0.3647 - val_loss: 0.1526 - val_mae: 0.3048\n",
            "Epoch 98/100\n",
            "488/488 [==============================] - 1s 2ms/step - loss: 0.1870 - mae: 0.3249 - val_loss: 0.1619 - val_mae: 0.3164\n",
            "Epoch 99/100\n",
            "488/488 [==============================] - 1s 2ms/step - loss: 0.1946 - mae: 0.3393 - val_loss: 0.1988 - val_mae: 0.3145\n",
            "Epoch 100/100\n",
            "488/488 [==============================] - 1s 2ms/step - loss: 0.2087 - mae: 0.3463 - val_loss: 0.1372 - val_mae: 0.2864\n"
          ],
          "name": "stdout"
        }
      ]
    },
    {
      "cell_type": "code",
      "metadata": {
        "id": "A9KtTvgSfpHk"
      },
      "source": [
        ""
      ],
      "execution_count": 36,
      "outputs": []
    },
    {
      "cell_type": "code",
      "metadata": {
        "id": "oltPZOya9vKH",
        "colab": {
          "base_uri": "https://localhost:8080/",
          "height": 295
        },
        "outputId": "8284f585-0fc9-4d53-8b19-88b0c8625803"
      },
      "source": [
        "import matplotlib.pyplot as plt\n",
        "plt.plot(history.history['loss'])\n",
        "plt.plot(history.history['val_loss'])\n",
        "plt.title('model loss')\n",
        "plt.ylabel('loss')\n",
        "plt.xlabel('epoch')\n",
        "plt.legend(['train', 'test'], loc='upper left')\n",
        "plt.show()"
      ],
      "execution_count": 37,
      "outputs": [
        {
          "output_type": "display_data",
          "data": {
            "image/png": "[encoded data removed]",
            "text/plain": [
              "<Figure size 432x288 with 1 Axes>"
            ]
          },
          "metadata": {
            "tags": [],
            "needs_background": "light"
          }
        }
      ]
    },
    {
      "cell_type": "code",
      "metadata": {
        "colab": {
          "base_uri": "https://localhost:8080/",
          "height": 295
        },
        "id": "JOcQHa7zcu9z",
        "outputId": "d3010c6c-4e7f-453a-8694-53b6ae938e37"
      },
      "source": [
        "plt.plot(history_reg.history['loss'])\n",
        "plt.plot(history_reg.history['val_loss'])\n",
        "plt.title('model loss')\n",
        "plt.ylabel('loss')\n",
        "plt.xlabel('epoch')\n",
        "plt.legend(['train', 'test'], loc='upper left')\n",
        "plt.show()"
      ],
      "execution_count": 38,
      "outputs": [
        {
          "output_type": "display_data",
          "data": {
            "image/png": "[encoded data removed]",
            "text/plain": [
              "<Figure size 432x288 with 1 Axes>"
            ]
          },
          "metadata": {
            "tags": [],
            "needs_background": "light"
          }
        }
      ]
    },
    {
      "cell_type": "code",
      "metadata": {
        "colab": {
          "base_uri": "https://localhost:8080/",
          "height": 295
        },
        "id": "bxi7bgtAcvQE",
        "outputId": "ef547617-9b83-46ce-da96-c8ced180ddd2"
      },
      "source": [
        "plt.plot(history_drop1.history['loss'])\n",
        "plt.plot(history_drop1.history['val_loss'])\n",
        "plt.title('model loss')\n",
        "plt.ylabel('loss')\n",
        "plt.xlabel('epoch')\n",
        "plt.legend(['train', 'test'], loc='upper left')\n",
        "plt.show()"
      ],
      "execution_count": 39,
      "outputs": [
        {
          "output_type": "display_data",
          "data": {
            "image/png": "[encoded data removed]",
            "text/plain": [
              "<Figure size 432x288 with 1 Axes>"
            ]
          },
          "metadata": {
            "tags": [],
            "needs_background": "light"
          }
        }
      ]
    },
    {
      "cell_type": "code",
      "metadata": {
        "colab": {
          "base_uri": "https://localhost:8080/"
        },
        "id": "77jFpHqqmyfT",
        "outputId": "533584a3-4273-4e95-c9f9-aaf1c43f5acb"
      },
      "source": [
        "test_mse_score, test_mae_score = model1.evaluate(test, test_lab)"
      ],
      "execution_count": 40,
      "outputs": [
        {
          "output_type": "stream",
          "text": [
            "10/10 [==============================] - 0s 2ms/step - loss: 0.1890 - mean_absolute_error: 0.3127\n"
          ],
          "name": "stdout"
        }
      ]
    },
    {
      "cell_type": "code",
      "metadata": {
        "colab": {
          "base_uri": "https://localhost:8080/"
        },
        "id": "8mrlg5hAm0Px",
        "outputId": "686cec3c-403b-4702-ce8c-b4e5db02e453"
      },
      "source": [
        "test_mse_score, test_mae_score = model_reg.evaluate(test, test_lab)"
      ],
      "execution_count": 41,
      "outputs": [
        {
          "output_type": "stream",
          "text": [
            "10/10 [==============================] - 0s 2ms/step - loss: 0.1990 - mae: 0.2940\n"
          ],
          "name": "stdout"
        }
      ]
    },
    {
      "cell_type": "code",
      "metadata": {
        "colab": {
          "base_uri": "https://localhost:8080/"
        },
        "id": "19ho1qQ6m5JM",
        "outputId": "4105fae5-f7a8-431c-becc-a0dcc63bef60"
      },
      "source": [
        "test_mse_score, test_mae_score = model_drop1.evaluate(test, test_lab)"
      ],
      "execution_count": 42,
      "outputs": [
        {
          "output_type": "stream",
          "text": [
            "10/10 [==============================] - 0s 2ms/step - loss: 0.1546 - mae: 0.3008\n"
          ],
          "name": "stdout"
        }
      ]
    },
    {
      "cell_type": "code",
      "metadata": {
        "colab": {
          "base_uri": "https://localhost:8080/"
        },
        "id": "XE58JybOnIXL",
        "outputId": "ee2ed7e1-ffa4-4504-e712-da88fae352df"
      },
      "source": [
        "x_1 = model1.predict(test[5].reshape(1,test.shape[1]))\n",
        "x_1 * std_label + mean_label"
      ],
      "execution_count": 43,
      "outputs": [
        {
          "output_type": "execute_result",
          "data": {
            "text/plain": [
              "array([[58.37629]], dtype=float32)"
            ]
          },
          "metadata": {
            "tags": []
          },
          "execution_count": 43
        }
      ]
    },
    {
      "cell_type": "code",
      "metadata": {
        "colab": {
          "base_uri": "https://localhost:8080/"
        },
        "id": "_AKQ4-iXnRA5",
        "outputId": "4b700df8-cbd2-4691-86da-0c48ffaeaf8b"
      },
      "source": [
        "x_2 = model_reg.predict(test[5].reshape(1,test.shape[1]))\n",
        "x_2 * std_label + mean_label"
      ],
      "execution_count": 44,
      "outputs": [
        {
          "output_type": "execute_result",
          "data": {
            "text/plain": [
              "array([[46.46593]], dtype=float32)"
            ]
          },
          "metadata": {
            "tags": []
          },
          "execution_count": 44
        }
      ]
    },
    {
      "cell_type": "code",
      "metadata": {
        "colab": {
          "base_uri": "https://localhost:8080/"
        },
        "id": "651V1xAInX_0",
        "outputId": "ba64d6d6-3a99-44c3-c03f-55834049031b"
      },
      "source": [
        "x_3 = model_drop1.predict(test[5].reshape(1,test.shape[1]))\n",
        "x_3 * std_label + mean_label"
      ],
      "execution_count": 45,
      "outputs": [
        {
          "output_type": "execute_result",
          "data": {
            "text/plain": [
              "array([[41.25963]], dtype=float32)"
            ]
          },
          "metadata": {
            "tags": []
          },
          "execution_count": 45
        }
      ]
    }
  ]
}