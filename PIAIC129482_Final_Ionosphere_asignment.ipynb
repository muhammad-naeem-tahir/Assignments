{
  "nbformat": 4,
  "nbformat_minor": 0,
  "metadata": {
    "colab": {
      "name": "PIAIC129482-Muhammad-Naeem-Tahir-Ionosphere-asignment.ipynb",
      "provenance": [],
      "collapsed_sections": [],
      "include_colab_link": true
    },
    "kernelspec": {
      "name": "python3",
      "display_name": "Python 3"
    },
    "language_info": {
      "name": "python"
    },
    "accelerator": "GPU"
  },
  "cells": [
    {
      "cell_type": "markdown",
      "metadata": {
        "id": "view-in-github",
        "colab_type": "text"
      },
      "source": [
        "<a href=\"https://colab.research.google.com/github/muhammad-naeem-tahir/Assignments/blob/main/PIAIC129482_Final_Ionosphere_asignment.ipynb\" target=\"_parent\"><img src=\"https://colab.research.google.com/assets/colab-badge.svg\" alt=\"Open In Colab\"/></a>"
      ]
    },
    {
      "cell_type": "code",
      "metadata": {
        "id": "r2vRgUyos7_x"
      },
      "source": [
        "import tensorflow as tf\n",
        "import pandas as pd\n",
        "import numpy as np\n",
        "import matplotlib.pyplot as plt"
      ],
      "execution_count": 6,
      "outputs": []
    },
    {
      "cell_type": "code",
      "metadata": {
        "colab": {
          "resources": {
            "http://localhost:8080/nbextensions/google.colab/files.js": {
              "data": "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",
              "ok": true,
              "headers": [
                [
                  "content-type",
                  "application/javascript"
                ]
              ],
              "status": 200,
              "status_text": "OK"
            }
          },
          "base_uri": "https://localhost:8080/",
          "height": 75
        },
        "id": "gjEtiBsbvzCK",
        "outputId": "d7f5308c-7ad1-4546-d824-dec3125e4033"
      },
      "source": [
        "import pandas as pd\n",
        "import numpy as np\n",
        "from google.colab import files\n",
        "uploaded = files.upload()\n"
      ],
      "execution_count": 5,
      "outputs": [
        {
          "output_type": "display_data",
          "data": {
            "text/html": [
              "\n",
              "     <input type=\"file\" id=\"files-a20df070-ce33-4bf1-b17f-52e435dfc1d6\" name=\"files[]\" multiple disabled\n",
              "        style=\"border:none\" />\n",
              "     <output id=\"result-a20df070-ce33-4bf1-b17f-52e435dfc1d6\">\n",
              "      Upload widget is only available when the cell has been executed in the\n",
              "      current browser session. Please rerun this cell to enable.\n",
              "      </output>\n",
              "      <script src=\"/nbextensions/google.colab/files.js\"></script> "
            ],
            "text/plain": [
              "<IPython.core.display.HTML object>"
            ]
          },
          "metadata": {
            "tags": []
          }
        },
        {
          "output_type": "stream",
          "text": [
            "Saving ionosphere_data.csv to ionosphere_data.csv\n"
          ],
          "name": "stdout"
        }
      ]
    },
    {
      "cell_type": "code",
      "metadata": {
        "id": "zm_biAFku9mx",
        "outputId": "a7b91a9f-449d-4422-bb40-72f276fdc2ea",
        "colab": {
          "base_uri": "https://localhost:8080/"
        }
      },
      "source": [
        "%tensorflow_version 2.x\n",
        "import tensorflow as tf\n",
        "device_name = tf.test.gpu_device_name()\n",
        "if device_name != '/device:GPU:0':\n",
        "  raise SystemError('GPU device not found')\n",
        "print('Found GPU at: {}'.format(device_name))"
      ],
      "execution_count": 84,
      "outputs": [
        {
          "output_type": "stream",
          "text": [
            "Found GPU at: /device:GPU:0\n"
          ],
          "name": "stdout"
        }
      ]
    },
    {
      "cell_type": "code",
      "metadata": {
        "id": "TZwnNFdI2wjl"
      },
      "source": [
        "import io\n",
        "df = pd.read_csv(io.BytesIO(uploaded['ionosphere_data.csv']))"
      ],
      "execution_count": 85,
      "outputs": []
    },
    {
      "cell_type": "code",
      "metadata": {
        "colab": {
          "base_uri": "https://localhost:8080/"
        },
        "id": "J7gt0loz3SS_",
        "outputId": "01282d35-c88e-43e6-d54d-132123c4ee3d"
      },
      "source": [
        "df.shape"
      ],
      "execution_count": 86,
      "outputs": [
        {
          "output_type": "execute_result",
          "data": {
            "text/plain": [
              "(351, 35)"
            ]
          },
          "metadata": {
            "tags": []
          },
          "execution_count": 86
        }
      ]
    },
    {
      "cell_type": "code",
      "metadata": {
        "colab": {
          "base_uri": "https://localhost:8080/",
          "height": 226
        },
        "id": "QfMqbrVA3jaY",
        "outputId": "77072375-7528-4ae3-b20e-097726b57d4b"
      },
      "source": [
        "df.head()"
      ],
      "execution_count": 87,
      "outputs": [
        {
          "output_type": "execute_result",
          "data": {
            "text/html": [
              "<div>\n",
              "<style scoped>\n",
              "    .dataframe tbody tr th:only-of-type {\n",
              "        vertical-align: middle;\n",
              "    }\n",
              "\n",
              "    .dataframe tbody tr th {\n",
              "        vertical-align: top;\n",
              "    }\n",
              "\n",
              "    .dataframe thead th {\n",
              "        text-align: right;\n",
              "    }\n",
              "</style>\n",
              "<table border=\"1\" class=\"dataframe\">\n",
              "  <thead>\n",
              "    <tr style=\"text-align: right;\">\n",
              "      <th></th>\n",
              "      <th>feature1</th>\n",
              "      <th>feature2</th>\n",
              "      <th>feature3</th>\n",
              "      <th>feature4</th>\n",
              "      <th>feature5</th>\n",
              "      <th>feature6</th>\n",
              "      <th>feature7</th>\n",
              "      <th>feature8</th>\n",
              "      <th>feature9</th>\n",
              "      <th>feature10</th>\n",
              "      <th>feature11</th>\n",
              "      <th>feature12</th>\n",
              "      <th>feature13</th>\n",
              "      <th>feature14</th>\n",
              "      <th>feature15</th>\n",
              "      <th>feature16</th>\n",
              "      <th>feature17</th>\n",
              "      <th>feature18</th>\n",
              "      <th>feature19</th>\n",
              "      <th>feature20</th>\n",
              "      <th>feature21</th>\n",
              "      <th>feature22</th>\n",
              "      <th>feature23</th>\n",
              "      <th>feature24</th>\n",
              "      <th>feature25</th>\n",
              "      <th>feature26</th>\n",
              "      <th>feature27</th>\n",
              "      <th>feature28</th>\n",
              "      <th>feature29</th>\n",
              "      <th>feature30</th>\n",
              "      <th>feature31</th>\n",
              "      <th>feature32</th>\n",
              "      <th>feature33</th>\n",
              "      <th>feature34</th>\n",
              "      <th>label</th>\n",
              "    </tr>\n",
              "  </thead>\n",
              "  <tbody>\n",
              "    <tr>\n",
              "      <th>0</th>\n",
              "      <td>1</td>\n",
              "      <td>0</td>\n",
              "      <td>0.99539</td>\n",
              "      <td>-0.05889</td>\n",
              "      <td>0.85243</td>\n",
              "      <td>0.02306</td>\n",
              "      <td>0.83398</td>\n",
              "      <td>-0.37708</td>\n",
              "      <td>1.00000</td>\n",
              "      <td>0.03760</td>\n",
              "      <td>0.85243</td>\n",
              "      <td>-0.17755</td>\n",
              "      <td>0.59755</td>\n",
              "      <td>-0.44945</td>\n",
              "      <td>0.60536</td>\n",
              "      <td>-0.38223</td>\n",
              "      <td>0.84356</td>\n",
              "      <td>-0.38542</td>\n",
              "      <td>0.58212</td>\n",
              "      <td>-0.32192</td>\n",
              "      <td>0.56971</td>\n",
              "      <td>-0.29674</td>\n",
              "      <td>0.36946</td>\n",
              "      <td>-0.47357</td>\n",
              "      <td>0.56811</td>\n",
              "      <td>-0.51171</td>\n",
              "      <td>0.41078</td>\n",
              "      <td>-0.46168</td>\n",
              "      <td>0.21266</td>\n",
              "      <td>-0.34090</td>\n",
              "      <td>0.42267</td>\n",
              "      <td>-0.54487</td>\n",
              "      <td>0.18641</td>\n",
              "      <td>-0.45300</td>\n",
              "      <td>g</td>\n",
              "    </tr>\n",
              "    <tr>\n",
              "      <th>1</th>\n",
              "      <td>1</td>\n",
              "      <td>0</td>\n",
              "      <td>1.00000</td>\n",
              "      <td>-0.18829</td>\n",
              "      <td>0.93035</td>\n",
              "      <td>-0.36156</td>\n",
              "      <td>-0.10868</td>\n",
              "      <td>-0.93597</td>\n",
              "      <td>1.00000</td>\n",
              "      <td>-0.04549</td>\n",
              "      <td>0.50874</td>\n",
              "      <td>-0.67743</td>\n",
              "      <td>0.34432</td>\n",
              "      <td>-0.69707</td>\n",
              "      <td>-0.51685</td>\n",
              "      <td>-0.97515</td>\n",
              "      <td>0.05499</td>\n",
              "      <td>-0.62237</td>\n",
              "      <td>0.33109</td>\n",
              "      <td>-1.00000</td>\n",
              "      <td>-0.13151</td>\n",
              "      <td>-0.45300</td>\n",
              "      <td>-0.18056</td>\n",
              "      <td>-0.35734</td>\n",
              "      <td>-0.20332</td>\n",
              "      <td>-0.26569</td>\n",
              "      <td>-0.20468</td>\n",
              "      <td>-0.18401</td>\n",
              "      <td>-0.19040</td>\n",
              "      <td>-0.11593</td>\n",
              "      <td>-0.16626</td>\n",
              "      <td>-0.06288</td>\n",
              "      <td>-0.13738</td>\n",
              "      <td>-0.02447</td>\n",
              "      <td>b</td>\n",
              "    </tr>\n",
              "    <tr>\n",
              "      <th>2</th>\n",
              "      <td>1</td>\n",
              "      <td>0</td>\n",
              "      <td>1.00000</td>\n",
              "      <td>-0.03365</td>\n",
              "      <td>1.00000</td>\n",
              "      <td>0.00485</td>\n",
              "      <td>1.00000</td>\n",
              "      <td>-0.12062</td>\n",
              "      <td>0.88965</td>\n",
              "      <td>0.01198</td>\n",
              "      <td>0.73082</td>\n",
              "      <td>0.05346</td>\n",
              "      <td>0.85443</td>\n",
              "      <td>0.00827</td>\n",
              "      <td>0.54591</td>\n",
              "      <td>0.00299</td>\n",
              "      <td>0.83775</td>\n",
              "      <td>-0.13644</td>\n",
              "      <td>0.75535</td>\n",
              "      <td>-0.08540</td>\n",
              "      <td>0.70887</td>\n",
              "      <td>-0.27502</td>\n",
              "      <td>0.43385</td>\n",
              "      <td>-0.12062</td>\n",
              "      <td>0.57528</td>\n",
              "      <td>-0.40220</td>\n",
              "      <td>0.58984</td>\n",
              "      <td>-0.22145</td>\n",
              "      <td>0.43100</td>\n",
              "      <td>-0.17365</td>\n",
              "      <td>0.60436</td>\n",
              "      <td>-0.24180</td>\n",
              "      <td>0.56045</td>\n",
              "      <td>-0.38238</td>\n",
              "      <td>g</td>\n",
              "    </tr>\n",
              "    <tr>\n",
              "      <th>3</th>\n",
              "      <td>1</td>\n",
              "      <td>0</td>\n",
              "      <td>1.00000</td>\n",
              "      <td>-0.45161</td>\n",
              "      <td>1.00000</td>\n",
              "      <td>1.00000</td>\n",
              "      <td>0.71216</td>\n",
              "      <td>-1.00000</td>\n",
              "      <td>0.00000</td>\n",
              "      <td>0.00000</td>\n",
              "      <td>0.00000</td>\n",
              "      <td>0.00000</td>\n",
              "      <td>0.00000</td>\n",
              "      <td>0.00000</td>\n",
              "      <td>-1.00000</td>\n",
              "      <td>0.14516</td>\n",
              "      <td>0.54094</td>\n",
              "      <td>-0.39330</td>\n",
              "      <td>-1.00000</td>\n",
              "      <td>-0.54467</td>\n",
              "      <td>-0.69975</td>\n",
              "      <td>1.00000</td>\n",
              "      <td>0.00000</td>\n",
              "      <td>0.00000</td>\n",
              "      <td>1.00000</td>\n",
              "      <td>0.90695</td>\n",
              "      <td>0.51613</td>\n",
              "      <td>1.00000</td>\n",
              "      <td>1.00000</td>\n",
              "      <td>-0.20099</td>\n",
              "      <td>0.25682</td>\n",
              "      <td>1.00000</td>\n",
              "      <td>-0.32382</td>\n",
              "      <td>1.00000</td>\n",
              "      <td>b</td>\n",
              "    </tr>\n",
              "    <tr>\n",
              "      <th>4</th>\n",
              "      <td>1</td>\n",
              "      <td>0</td>\n",
              "      <td>1.00000</td>\n",
              "      <td>-0.02401</td>\n",
              "      <td>0.94140</td>\n",
              "      <td>0.06531</td>\n",
              "      <td>0.92106</td>\n",
              "      <td>-0.23255</td>\n",
              "      <td>0.77152</td>\n",
              "      <td>-0.16399</td>\n",
              "      <td>0.52798</td>\n",
              "      <td>-0.20275</td>\n",
              "      <td>0.56409</td>\n",
              "      <td>-0.00712</td>\n",
              "      <td>0.34395</td>\n",
              "      <td>-0.27457</td>\n",
              "      <td>0.52940</td>\n",
              "      <td>-0.21780</td>\n",
              "      <td>0.45107</td>\n",
              "      <td>-0.17813</td>\n",
              "      <td>0.05982</td>\n",
              "      <td>-0.35575</td>\n",
              "      <td>0.02309</td>\n",
              "      <td>-0.52879</td>\n",
              "      <td>0.03286</td>\n",
              "      <td>-0.65158</td>\n",
              "      <td>0.13290</td>\n",
              "      <td>-0.53206</td>\n",
              "      <td>0.02431</td>\n",
              "      <td>-0.62197</td>\n",
              "      <td>-0.05707</td>\n",
              "      <td>-0.59573</td>\n",
              "      <td>-0.04608</td>\n",
              "      <td>-0.65697</td>\n",
              "      <td>g</td>\n",
              "    </tr>\n",
              "  </tbody>\n",
              "</table>\n",
              "</div>"
            ],
            "text/plain": [
              "   feature1  feature2  feature3  ...  feature33  feature34  label\n",
              "0         1         0   0.99539  ...    0.18641   -0.45300      g\n",
              "1         1         0   1.00000  ...   -0.13738   -0.02447      b\n",
              "2         1         0   1.00000  ...    0.56045   -0.38238      g\n",
              "3         1         0   1.00000  ...   -0.32382    1.00000      b\n",
              "4         1         0   1.00000  ...   -0.04608   -0.65697      g\n",
              "\n",
              "[5 rows x 35 columns]"
            ]
          },
          "metadata": {
            "tags": []
          },
          "execution_count": 87
        }
      ]
    },
    {
      "cell_type": "code",
      "metadata": {
        "colab": {
          "base_uri": "https://localhost:8080/",
          "height": 320
        },
        "id": "LfeNWACg3rK8",
        "outputId": "ee9b5af1-355f-4348-ba32-327cdefda927"
      },
      "source": [
        "df.describe()"
      ],
      "execution_count": 88,
      "outputs": [
        {
          "output_type": "execute_result",
          "data": {
            "text/html": [
              "<div>\n",
              "<style scoped>\n",
              "    .dataframe tbody tr th:only-of-type {\n",
              "        vertical-align: middle;\n",
              "    }\n",
              "\n",
              "    .dataframe tbody tr th {\n",
              "        vertical-align: top;\n",
              "    }\n",
              "\n",
              "    .dataframe thead th {\n",
              "        text-align: right;\n",
              "    }\n",
              "</style>\n",
              "<table border=\"1\" class=\"dataframe\">\n",
              "  <thead>\n",
              "    <tr style=\"text-align: right;\">\n",
              "      <th></th>\n",
              "      <th>feature1</th>\n",
              "      <th>feature2</th>\n",
              "      <th>feature3</th>\n",
              "      <th>feature4</th>\n",
              "      <th>feature5</th>\n",
              "      <th>feature6</th>\n",
              "      <th>feature7</th>\n",
              "      <th>feature8</th>\n",
              "      <th>feature9</th>\n",
              "      <th>feature10</th>\n",
              "      <th>feature11</th>\n",
              "      <th>feature12</th>\n",
              "      <th>feature13</th>\n",
              "      <th>feature14</th>\n",
              "      <th>feature15</th>\n",
              "      <th>feature16</th>\n",
              "      <th>feature17</th>\n",
              "      <th>feature18</th>\n",
              "      <th>feature19</th>\n",
              "      <th>feature20</th>\n",
              "      <th>feature21</th>\n",
              "      <th>feature22</th>\n",
              "      <th>feature23</th>\n",
              "      <th>feature24</th>\n",
              "      <th>feature25</th>\n",
              "      <th>feature26</th>\n",
              "      <th>feature27</th>\n",
              "      <th>feature28</th>\n",
              "      <th>feature29</th>\n",
              "      <th>feature30</th>\n",
              "      <th>feature31</th>\n",
              "      <th>feature32</th>\n",
              "      <th>feature33</th>\n",
              "      <th>feature34</th>\n",
              "    </tr>\n",
              "  </thead>\n",
              "  <tbody>\n",
              "    <tr>\n",
              "      <th>count</th>\n",
              "      <td>351.000000</td>\n",
              "      <td>351.0</td>\n",
              "      <td>351.000000</td>\n",
              "      <td>351.000000</td>\n",
              "      <td>351.000000</td>\n",
              "      <td>351.000000</td>\n",
              "      <td>351.000000</td>\n",
              "      <td>351.000000</td>\n",
              "      <td>351.000000</td>\n",
              "      <td>351.000000</td>\n",
              "      <td>351.000000</td>\n",
              "      <td>351.000000</td>\n",
              "      <td>351.000000</td>\n",
              "      <td>351.000000</td>\n",
              "      <td>351.000000</td>\n",
              "      <td>351.000000</td>\n",
              "      <td>351.000000</td>\n",
              "      <td>351.000000</td>\n",
              "      <td>351.000000</td>\n",
              "      <td>351.000000</td>\n",
              "      <td>351.000000</td>\n",
              "      <td>351.000000</td>\n",
              "      <td>351.000000</td>\n",
              "      <td>351.000000</td>\n",
              "      <td>351.000000</td>\n",
              "      <td>351.000000</td>\n",
              "      <td>351.000000</td>\n",
              "      <td>351.000000</td>\n",
              "      <td>351.000000</td>\n",
              "      <td>351.000000</td>\n",
              "      <td>351.000000</td>\n",
              "      <td>351.000000</td>\n",
              "      <td>351.000000</td>\n",
              "      <td>351.000000</td>\n",
              "    </tr>\n",
              "    <tr>\n",
              "      <th>mean</th>\n",
              "      <td>0.891738</td>\n",
              "      <td>0.0</td>\n",
              "      <td>0.641342</td>\n",
              "      <td>0.044372</td>\n",
              "      <td>0.601068</td>\n",
              "      <td>0.115889</td>\n",
              "      <td>0.550095</td>\n",
              "      <td>0.119360</td>\n",
              "      <td>0.511848</td>\n",
              "      <td>0.181345</td>\n",
              "      <td>0.476183</td>\n",
              "      <td>0.155040</td>\n",
              "      <td>0.400801</td>\n",
              "      <td>0.093414</td>\n",
              "      <td>0.344159</td>\n",
              "      <td>0.071132</td>\n",
              "      <td>0.381949</td>\n",
              "      <td>-0.003617</td>\n",
              "      <td>0.359390</td>\n",
              "      <td>-0.024025</td>\n",
              "      <td>0.336695</td>\n",
              "      <td>0.008296</td>\n",
              "      <td>0.362475</td>\n",
              "      <td>-0.057406</td>\n",
              "      <td>0.396135</td>\n",
              "      <td>-0.071187</td>\n",
              "      <td>0.541641</td>\n",
              "      <td>-0.069538</td>\n",
              "      <td>0.378445</td>\n",
              "      <td>-0.027907</td>\n",
              "      <td>0.352514</td>\n",
              "      <td>-0.003794</td>\n",
              "      <td>0.349364</td>\n",
              "      <td>0.014480</td>\n",
              "    </tr>\n",
              "    <tr>\n",
              "      <th>std</th>\n",
              "      <td>0.311155</td>\n",
              "      <td>0.0</td>\n",
              "      <td>0.497708</td>\n",
              "      <td>0.441435</td>\n",
              "      <td>0.519862</td>\n",
              "      <td>0.460810</td>\n",
              "      <td>0.492654</td>\n",
              "      <td>0.520750</td>\n",
              "      <td>0.507066</td>\n",
              "      <td>0.483851</td>\n",
              "      <td>0.563496</td>\n",
              "      <td>0.494817</td>\n",
              "      <td>0.622186</td>\n",
              "      <td>0.494873</td>\n",
              "      <td>0.652828</td>\n",
              "      <td>0.458371</td>\n",
              "      <td>0.618020</td>\n",
              "      <td>0.496762</td>\n",
              "      <td>0.626267</td>\n",
              "      <td>0.519076</td>\n",
              "      <td>0.609828</td>\n",
              "      <td>0.518166</td>\n",
              "      <td>0.603767</td>\n",
              "      <td>0.527456</td>\n",
              "      <td>0.578451</td>\n",
              "      <td>0.508495</td>\n",
              "      <td>0.516205</td>\n",
              "      <td>0.550025</td>\n",
              "      <td>0.575886</td>\n",
              "      <td>0.507974</td>\n",
              "      <td>0.571483</td>\n",
              "      <td>0.513574</td>\n",
              "      <td>0.522663</td>\n",
              "      <td>0.468337</td>\n",
              "    </tr>\n",
              "    <tr>\n",
              "      <th>min</th>\n",
              "      <td>0.000000</td>\n",
              "      <td>0.0</td>\n",
              "      <td>-1.000000</td>\n",
              "      <td>-1.000000</td>\n",
              "      <td>-1.000000</td>\n",
              "      <td>-1.000000</td>\n",
              "      <td>-1.000000</td>\n",
              "      <td>-1.000000</td>\n",
              "      <td>-1.000000</td>\n",
              "      <td>-1.000000</td>\n",
              "      <td>-1.000000</td>\n",
              "      <td>-1.000000</td>\n",
              "      <td>-1.000000</td>\n",
              "      <td>-1.000000</td>\n",
              "      <td>-1.000000</td>\n",
              "      <td>-1.000000</td>\n",
              "      <td>-1.000000</td>\n",
              "      <td>-1.000000</td>\n",
              "      <td>-1.000000</td>\n",
              "      <td>-1.000000</td>\n",
              "      <td>-1.000000</td>\n",
              "      <td>-1.000000</td>\n",
              "      <td>-1.000000</td>\n",
              "      <td>-1.000000</td>\n",
              "      <td>-1.000000</td>\n",
              "      <td>-1.000000</td>\n",
              "      <td>-1.000000</td>\n",
              "      <td>-1.000000</td>\n",
              "      <td>-1.000000</td>\n",
              "      <td>-1.000000</td>\n",
              "      <td>-1.000000</td>\n",
              "      <td>-1.000000</td>\n",
              "      <td>-1.000000</td>\n",
              "      <td>-1.000000</td>\n",
              "    </tr>\n",
              "    <tr>\n",
              "      <th>25%</th>\n",
              "      <td>1.000000</td>\n",
              "      <td>0.0</td>\n",
              "      <td>0.472135</td>\n",
              "      <td>-0.064735</td>\n",
              "      <td>0.412660</td>\n",
              "      <td>-0.024795</td>\n",
              "      <td>0.211310</td>\n",
              "      <td>-0.054840</td>\n",
              "      <td>0.087110</td>\n",
              "      <td>-0.048075</td>\n",
              "      <td>0.021120</td>\n",
              "      <td>-0.065265</td>\n",
              "      <td>0.000000</td>\n",
              "      <td>-0.073725</td>\n",
              "      <td>0.000000</td>\n",
              "      <td>-0.081705</td>\n",
              "      <td>0.000000</td>\n",
              "      <td>-0.225690</td>\n",
              "      <td>0.000000</td>\n",
              "      <td>-0.234670</td>\n",
              "      <td>0.000000</td>\n",
              "      <td>-0.243870</td>\n",
              "      <td>0.000000</td>\n",
              "      <td>-0.366885</td>\n",
              "      <td>0.000000</td>\n",
              "      <td>-0.332390</td>\n",
              "      <td>0.286435</td>\n",
              "      <td>-0.443165</td>\n",
              "      <td>0.000000</td>\n",
              "      <td>-0.236885</td>\n",
              "      <td>0.000000</td>\n",
              "      <td>-0.242595</td>\n",
              "      <td>0.000000</td>\n",
              "      <td>-0.165350</td>\n",
              "    </tr>\n",
              "    <tr>\n",
              "      <th>50%</th>\n",
              "      <td>1.000000</td>\n",
              "      <td>0.0</td>\n",
              "      <td>0.871110</td>\n",
              "      <td>0.016310</td>\n",
              "      <td>0.809200</td>\n",
              "      <td>0.022800</td>\n",
              "      <td>0.728730</td>\n",
              "      <td>0.014710</td>\n",
              "      <td>0.684210</td>\n",
              "      <td>0.018290</td>\n",
              "      <td>0.667980</td>\n",
              "      <td>0.028250</td>\n",
              "      <td>0.644070</td>\n",
              "      <td>0.030270</td>\n",
              "      <td>0.601940</td>\n",
              "      <td>0.000000</td>\n",
              "      <td>0.590910</td>\n",
              "      <td>0.000000</td>\n",
              "      <td>0.576190</td>\n",
              "      <td>0.000000</td>\n",
              "      <td>0.499090</td>\n",
              "      <td>0.000000</td>\n",
              "      <td>0.531760</td>\n",
              "      <td>0.000000</td>\n",
              "      <td>0.553890</td>\n",
              "      <td>-0.015050</td>\n",
              "      <td>0.708240</td>\n",
              "      <td>-0.017690</td>\n",
              "      <td>0.496640</td>\n",
              "      <td>0.000000</td>\n",
              "      <td>0.442770</td>\n",
              "      <td>0.000000</td>\n",
              "      <td>0.409560</td>\n",
              "      <td>0.000000</td>\n",
              "    </tr>\n",
              "    <tr>\n",
              "      <th>75%</th>\n",
              "      <td>1.000000</td>\n",
              "      <td>0.0</td>\n",
              "      <td>1.000000</td>\n",
              "      <td>0.194185</td>\n",
              "      <td>1.000000</td>\n",
              "      <td>0.334655</td>\n",
              "      <td>0.969240</td>\n",
              "      <td>0.445675</td>\n",
              "      <td>0.953240</td>\n",
              "      <td>0.534195</td>\n",
              "      <td>0.957895</td>\n",
              "      <td>0.482375</td>\n",
              "      <td>0.955505</td>\n",
              "      <td>0.374860</td>\n",
              "      <td>0.919330</td>\n",
              "      <td>0.308975</td>\n",
              "      <td>0.935705</td>\n",
              "      <td>0.195285</td>\n",
              "      <td>0.899265</td>\n",
              "      <td>0.134370</td>\n",
              "      <td>0.894865</td>\n",
              "      <td>0.188760</td>\n",
              "      <td>0.911235</td>\n",
              "      <td>0.164630</td>\n",
              "      <td>0.905240</td>\n",
              "      <td>0.156765</td>\n",
              "      <td>0.999945</td>\n",
              "      <td>0.153535</td>\n",
              "      <td>0.883465</td>\n",
              "      <td>0.154075</td>\n",
              "      <td>0.857620</td>\n",
              "      <td>0.200120</td>\n",
              "      <td>0.813765</td>\n",
              "      <td>0.171660</td>\n",
              "    </tr>\n",
              "    <tr>\n",
              "      <th>max</th>\n",
              "      <td>1.000000</td>\n",
              "      <td>0.0</td>\n",
              "      <td>1.000000</td>\n",
              "      <td>1.000000</td>\n",
              "      <td>1.000000</td>\n",
              "      <td>1.000000</td>\n",
              "      <td>1.000000</td>\n",
              "      <td>1.000000</td>\n",
              "      <td>1.000000</td>\n",
              "      <td>1.000000</td>\n",
              "      <td>1.000000</td>\n",
              "      <td>1.000000</td>\n",
              "      <td>1.000000</td>\n",
              "      <td>1.000000</td>\n",
              "      <td>1.000000</td>\n",
              "      <td>1.000000</td>\n",
              "      <td>1.000000</td>\n",
              "      <td>1.000000</td>\n",
              "      <td>1.000000</td>\n",
              "      <td>1.000000</td>\n",
              "      <td>1.000000</td>\n",
              "      <td>1.000000</td>\n",
              "      <td>1.000000</td>\n",
              "      <td>1.000000</td>\n",
              "      <td>1.000000</td>\n",
              "      <td>1.000000</td>\n",
              "      <td>1.000000</td>\n",
              "      <td>1.000000</td>\n",
              "      <td>1.000000</td>\n",
              "      <td>1.000000</td>\n",
              "      <td>1.000000</td>\n",
              "      <td>1.000000</td>\n",
              "      <td>1.000000</td>\n",
              "      <td>1.000000</td>\n",
              "    </tr>\n",
              "  </tbody>\n",
              "</table>\n",
              "</div>"
            ],
            "text/plain": [
              "         feature1  feature2    feature3  ...   feature32   feature33   feature34\n",
              "count  351.000000     351.0  351.000000  ...  351.000000  351.000000  351.000000\n",
              "mean     0.891738       0.0    0.641342  ...   -0.003794    0.349364    0.014480\n",
              "std      0.311155       0.0    0.497708  ...    0.513574    0.522663    0.468337\n",
              "min      0.000000       0.0   -1.000000  ...   -1.000000   -1.000000   -1.000000\n",
              "25%      1.000000       0.0    0.472135  ...   -0.242595    0.000000   -0.165350\n",
              "50%      1.000000       0.0    0.871110  ...    0.000000    0.409560    0.000000\n",
              "75%      1.000000       0.0    1.000000  ...    0.200120    0.813765    0.171660\n",
              "max      1.000000       0.0    1.000000  ...    1.000000    1.000000    1.000000\n",
              "\n",
              "[8 rows x 34 columns]"
            ]
          },
          "metadata": {
            "tags": []
          },
          "execution_count": 88
        }
      ]
    },
    {
      "cell_type": "markdown",
      "metadata": {
        "id": "9d0uy8QhklmO"
      },
      "source": [
        "##drop useless column"
      ]
    },
    {
      "cell_type": "code",
      "metadata": {
        "id": "nbZVPTmL3_8X"
      },
      "source": [
        "df.drop(df.columns[1], inplace=True, axis=1)"
      ],
      "execution_count": 89,
      "outputs": []
    },
    {
      "cell_type": "code",
      "metadata": {
        "colab": {
          "base_uri": "https://localhost:8080/",
          "height": 226
        },
        "id": "o0zp_7qk4Cqg",
        "outputId": "78360e42-34b9-4267-8d03-36eb9aea8446"
      },
      "source": [
        "df.head()"
      ],
      "execution_count": 90,
      "outputs": [
        {
          "output_type": "execute_result",
          "data": {
            "text/html": [
              "<div>\n",
              "<style scoped>\n",
              "    .dataframe tbody tr th:only-of-type {\n",
              "        vertical-align: middle;\n",
              "    }\n",
              "\n",
              "    .dataframe tbody tr th {\n",
              "        vertical-align: top;\n",
              "    }\n",
              "\n",
              "    .dataframe thead th {\n",
              "        text-align: right;\n",
              "    }\n",
              "</style>\n",
              "<table border=\"1\" class=\"dataframe\">\n",
              "  <thead>\n",
              "    <tr style=\"text-align: right;\">\n",
              "      <th></th>\n",
              "      <th>feature1</th>\n",
              "      <th>feature3</th>\n",
              "      <th>feature4</th>\n",
              "      <th>feature5</th>\n",
              "      <th>feature6</th>\n",
              "      <th>feature7</th>\n",
              "      <th>feature8</th>\n",
              "      <th>feature9</th>\n",
              "      <th>feature10</th>\n",
              "      <th>feature11</th>\n",
              "      <th>feature12</th>\n",
              "      <th>feature13</th>\n",
              "      <th>feature14</th>\n",
              "      <th>feature15</th>\n",
              "      <th>feature16</th>\n",
              "      <th>feature17</th>\n",
              "      <th>feature18</th>\n",
              "      <th>feature19</th>\n",
              "      <th>feature20</th>\n",
              "      <th>feature21</th>\n",
              "      <th>feature22</th>\n",
              "      <th>feature23</th>\n",
              "      <th>feature24</th>\n",
              "      <th>feature25</th>\n",
              "      <th>feature26</th>\n",
              "      <th>feature27</th>\n",
              "      <th>feature28</th>\n",
              "      <th>feature29</th>\n",
              "      <th>feature30</th>\n",
              "      <th>feature31</th>\n",
              "      <th>feature32</th>\n",
              "      <th>feature33</th>\n",
              "      <th>feature34</th>\n",
              "      <th>label</th>\n",
              "    </tr>\n",
              "  </thead>\n",
              "  <tbody>\n",
              "    <tr>\n",
              "      <th>0</th>\n",
              "      <td>1</td>\n",
              "      <td>0.99539</td>\n",
              "      <td>-0.05889</td>\n",
              "      <td>0.85243</td>\n",
              "      <td>0.02306</td>\n",
              "      <td>0.83398</td>\n",
              "      <td>-0.37708</td>\n",
              "      <td>1.00000</td>\n",
              "      <td>0.03760</td>\n",
              "      <td>0.85243</td>\n",
              "      <td>-0.17755</td>\n",
              "      <td>0.59755</td>\n",
              "      <td>-0.44945</td>\n",
              "      <td>0.60536</td>\n",
              "      <td>-0.38223</td>\n",
              "      <td>0.84356</td>\n",
              "      <td>-0.38542</td>\n",
              "      <td>0.58212</td>\n",
              "      <td>-0.32192</td>\n",
              "      <td>0.56971</td>\n",
              "      <td>-0.29674</td>\n",
              "      <td>0.36946</td>\n",
              "      <td>-0.47357</td>\n",
              "      <td>0.56811</td>\n",
              "      <td>-0.51171</td>\n",
              "      <td>0.41078</td>\n",
              "      <td>-0.46168</td>\n",
              "      <td>0.21266</td>\n",
              "      <td>-0.34090</td>\n",
              "      <td>0.42267</td>\n",
              "      <td>-0.54487</td>\n",
              "      <td>0.18641</td>\n",
              "      <td>-0.45300</td>\n",
              "      <td>g</td>\n",
              "    </tr>\n",
              "    <tr>\n",
              "      <th>1</th>\n",
              "      <td>1</td>\n",
              "      <td>1.00000</td>\n",
              "      <td>-0.18829</td>\n",
              "      <td>0.93035</td>\n",
              "      <td>-0.36156</td>\n",
              "      <td>-0.10868</td>\n",
              "      <td>-0.93597</td>\n",
              "      <td>1.00000</td>\n",
              "      <td>-0.04549</td>\n",
              "      <td>0.50874</td>\n",
              "      <td>-0.67743</td>\n",
              "      <td>0.34432</td>\n",
              "      <td>-0.69707</td>\n",
              "      <td>-0.51685</td>\n",
              "      <td>-0.97515</td>\n",
              "      <td>0.05499</td>\n",
              "      <td>-0.62237</td>\n",
              "      <td>0.33109</td>\n",
              "      <td>-1.00000</td>\n",
              "      <td>-0.13151</td>\n",
              "      <td>-0.45300</td>\n",
              "      <td>-0.18056</td>\n",
              "      <td>-0.35734</td>\n",
              "      <td>-0.20332</td>\n",
              "      <td>-0.26569</td>\n",
              "      <td>-0.20468</td>\n",
              "      <td>-0.18401</td>\n",
              "      <td>-0.19040</td>\n",
              "      <td>-0.11593</td>\n",
              "      <td>-0.16626</td>\n",
              "      <td>-0.06288</td>\n",
              "      <td>-0.13738</td>\n",
              "      <td>-0.02447</td>\n",
              "      <td>b</td>\n",
              "    </tr>\n",
              "    <tr>\n",
              "      <th>2</th>\n",
              "      <td>1</td>\n",
              "      <td>1.00000</td>\n",
              "      <td>-0.03365</td>\n",
              "      <td>1.00000</td>\n",
              "      <td>0.00485</td>\n",
              "      <td>1.00000</td>\n",
              "      <td>-0.12062</td>\n",
              "      <td>0.88965</td>\n",
              "      <td>0.01198</td>\n",
              "      <td>0.73082</td>\n",
              "      <td>0.05346</td>\n",
              "      <td>0.85443</td>\n",
              "      <td>0.00827</td>\n",
              "      <td>0.54591</td>\n",
              "      <td>0.00299</td>\n",
              "      <td>0.83775</td>\n",
              "      <td>-0.13644</td>\n",
              "      <td>0.75535</td>\n",
              "      <td>-0.08540</td>\n",
              "      <td>0.70887</td>\n",
              "      <td>-0.27502</td>\n",
              "      <td>0.43385</td>\n",
              "      <td>-0.12062</td>\n",
              "      <td>0.57528</td>\n",
              "      <td>-0.40220</td>\n",
              "      <td>0.58984</td>\n",
              "      <td>-0.22145</td>\n",
              "      <td>0.43100</td>\n",
              "      <td>-0.17365</td>\n",
              "      <td>0.60436</td>\n",
              "      <td>-0.24180</td>\n",
              "      <td>0.56045</td>\n",
              "      <td>-0.38238</td>\n",
              "      <td>g</td>\n",
              "    </tr>\n",
              "    <tr>\n",
              "      <th>3</th>\n",
              "      <td>1</td>\n",
              "      <td>1.00000</td>\n",
              "      <td>-0.45161</td>\n",
              "      <td>1.00000</td>\n",
              "      <td>1.00000</td>\n",
              "      <td>0.71216</td>\n",
              "      <td>-1.00000</td>\n",
              "      <td>0.00000</td>\n",
              "      <td>0.00000</td>\n",
              "      <td>0.00000</td>\n",
              "      <td>0.00000</td>\n",
              "      <td>0.00000</td>\n",
              "      <td>0.00000</td>\n",
              "      <td>-1.00000</td>\n",
              "      <td>0.14516</td>\n",
              "      <td>0.54094</td>\n",
              "      <td>-0.39330</td>\n",
              "      <td>-1.00000</td>\n",
              "      <td>-0.54467</td>\n",
              "      <td>-0.69975</td>\n",
              "      <td>1.00000</td>\n",
              "      <td>0.00000</td>\n",
              "      <td>0.00000</td>\n",
              "      <td>1.00000</td>\n",
              "      <td>0.90695</td>\n",
              "      <td>0.51613</td>\n",
              "      <td>1.00000</td>\n",
              "      <td>1.00000</td>\n",
              "      <td>-0.20099</td>\n",
              "      <td>0.25682</td>\n",
              "      <td>1.00000</td>\n",
              "      <td>-0.32382</td>\n",
              "      <td>1.00000</td>\n",
              "      <td>b</td>\n",
              "    </tr>\n",
              "    <tr>\n",
              "      <th>4</th>\n",
              "      <td>1</td>\n",
              "      <td>1.00000</td>\n",
              "      <td>-0.02401</td>\n",
              "      <td>0.94140</td>\n",
              "      <td>0.06531</td>\n",
              "      <td>0.92106</td>\n",
              "      <td>-0.23255</td>\n",
              "      <td>0.77152</td>\n",
              "      <td>-0.16399</td>\n",
              "      <td>0.52798</td>\n",
              "      <td>-0.20275</td>\n",
              "      <td>0.56409</td>\n",
              "      <td>-0.00712</td>\n",
              "      <td>0.34395</td>\n",
              "      <td>-0.27457</td>\n",
              "      <td>0.52940</td>\n",
              "      <td>-0.21780</td>\n",
              "      <td>0.45107</td>\n",
              "      <td>-0.17813</td>\n",
              "      <td>0.05982</td>\n",
              "      <td>-0.35575</td>\n",
              "      <td>0.02309</td>\n",
              "      <td>-0.52879</td>\n",
              "      <td>0.03286</td>\n",
              "      <td>-0.65158</td>\n",
              "      <td>0.13290</td>\n",
              "      <td>-0.53206</td>\n",
              "      <td>0.02431</td>\n",
              "      <td>-0.62197</td>\n",
              "      <td>-0.05707</td>\n",
              "      <td>-0.59573</td>\n",
              "      <td>-0.04608</td>\n",
              "      <td>-0.65697</td>\n",
              "      <td>g</td>\n",
              "    </tr>\n",
              "  </tbody>\n",
              "</table>\n",
              "</div>"
            ],
            "text/plain": [
              "   feature1  feature3  feature4  ...  feature33  feature34  label\n",
              "0         1   0.99539  -0.05889  ...    0.18641   -0.45300      g\n",
              "1         1   1.00000  -0.18829  ...   -0.13738   -0.02447      b\n",
              "2         1   1.00000  -0.03365  ...    0.56045   -0.38238      g\n",
              "3         1   1.00000  -0.45161  ...   -0.32382    1.00000      b\n",
              "4         1   1.00000  -0.02401  ...   -0.04608   -0.65697      g\n",
              "\n",
              "[5 rows x 34 columns]"
            ]
          },
          "metadata": {
            "tags": []
          },
          "execution_count": 90
        }
      ]
    },
    {
      "cell_type": "code",
      "metadata": {
        "colab": {
          "base_uri": "https://localhost:8080/"
        },
        "id": "ewftaz-G4Hiu",
        "outputId": "6e6065fd-960d-4493-91ae-0b572adc4690"
      },
      "source": [
        "df.info()"
      ],
      "execution_count": 91,
      "outputs": [
        {
          "output_type": "stream",
          "text": [
            "<class 'pandas.core.frame.DataFrame'>\n",
            "RangeIndex: 351 entries, 0 to 350\n",
            "Data columns (total 34 columns):\n",
            " #   Column     Non-Null Count  Dtype  \n",
            "---  ------     --------------  -----  \n",
            " 0   feature1   351 non-null    int64  \n",
            " 1   feature3   351 non-null    float64\n",
            " 2   feature4   351 non-null    float64\n",
            " 3   feature5   351 non-null    float64\n",
            " 4   feature6   351 non-null    float64\n",
            " 5   feature7   351 non-null    float64\n",
            " 6   feature8   351 non-null    float64\n",
            " 7   feature9   351 non-null    float64\n",
            " 8   feature10  351 non-null    float64\n",
            " 9   feature11  351 non-null    float64\n",
            " 10  feature12  351 non-null    float64\n",
            " 11  feature13  351 non-null    float64\n",
            " 12  feature14  351 non-null    float64\n",
            " 13  feature15  351 non-null    float64\n",
            " 14  feature16  351 non-null    float64\n",
            " 15  feature17  351 non-null    float64\n",
            " 16  feature18  351 non-null    float64\n",
            " 17  feature19  351 non-null    float64\n",
            " 18  feature20  351 non-null    float64\n",
            " 19  feature21  351 non-null    float64\n",
            " 20  feature22  351 non-null    float64\n",
            " 21  feature23  351 non-null    float64\n",
            " 22  feature24  351 non-null    float64\n",
            " 23  feature25  351 non-null    float64\n",
            " 24  feature26  351 non-null    float64\n",
            " 25  feature27  351 non-null    float64\n",
            " 26  feature28  351 non-null    float64\n",
            " 27  feature29  351 non-null    float64\n",
            " 28  feature30  351 non-null    float64\n",
            " 29  feature31  351 non-null    float64\n",
            " 30  feature32  351 non-null    float64\n",
            " 31  feature33  351 non-null    float64\n",
            " 32  feature34  351 non-null    float64\n",
            " 33  label      351 non-null    object \n",
            "dtypes: float64(32), int64(1), object(1)\n",
            "memory usage: 93.4+ KB\n"
          ],
          "name": "stdout"
        }
      ]
    },
    {
      "cell_type": "code",
      "metadata": {
        "colab": {
          "base_uri": "https://localhost:8080/"
        },
        "id": "hKhvvPff4e90",
        "outputId": "61bc13a9-5b21-4760-9f9f-9c0c5221d5c7"
      },
      "source": [
        "df.isnull().sum()"
      ],
      "execution_count": 92,
      "outputs": [
        {
          "output_type": "execute_result",
          "data": {
            "text/plain": [
              "feature1     0\n",
              "feature3     0\n",
              "feature4     0\n",
              "feature5     0\n",
              "feature6     0\n",
              "feature7     0\n",
              "feature8     0\n",
              "feature9     0\n",
              "feature10    0\n",
              "feature11    0\n",
              "feature12    0\n",
              "feature13    0\n",
              "feature14    0\n",
              "feature15    0\n",
              "feature16    0\n",
              "feature17    0\n",
              "feature18    0\n",
              "feature19    0\n",
              "feature20    0\n",
              "feature21    0\n",
              "feature22    0\n",
              "feature23    0\n",
              "feature24    0\n",
              "feature25    0\n",
              "feature26    0\n",
              "feature27    0\n",
              "feature28    0\n",
              "feature29    0\n",
              "feature30    0\n",
              "feature31    0\n",
              "feature32    0\n",
              "feature33    0\n",
              "feature34    0\n",
              "label        0\n",
              "dtype: int64"
            ]
          },
          "metadata": {
            "tags": []
          },
          "execution_count": 92
        }
      ]
    },
    {
      "cell_type": "code",
      "metadata": {
        "id": "vYR8biKfo3x9"
      },
      "source": [
        "from sklearn.utils import shuffle\n",
        "df = shuffle(df)"
      ],
      "execution_count": 93,
      "outputs": []
    },
    {
      "cell_type": "code",
      "metadata": {
        "id": "QWO8zNlc5HWR"
      },
      "source": [
        "df['label'] = [1 if lbl == 'g' else 0 for lbl in df['label']]"
      ],
      "execution_count": 94,
      "outputs": []
    },
    {
      "cell_type": "code",
      "metadata": {
        "id": "6vZstwEf5KL0"
      },
      "source": [
        "np.random.seed(11111)\n",
        "msk = np.random.rand(len(df)) <= 0.60\n",
        "train_data = df[msk]\n",
        "val_data = df[~msk]\n",
        "test_data = df[~msk]"
      ],
      "execution_count": 95,
      "outputs": []
    },
    {
      "cell_type": "code",
      "metadata": {
        "id": "oO6a7I3B6Kib"
      },
      "source": [
        "train_label = train_data.iloc[:,-1]\n",
        "train_data = train_data.iloc[:,0:-1]\n",
        "test_label = test_data.iloc[:,-1]\n",
        "test_data = test_data.iloc[:,0:-1]\n",
        "val_label = val_data.iloc[:,-1]\n",
        "val_data = val_data.iloc[:,0:-1]"
      ],
      "execution_count": 96,
      "outputs": []
    },
    {
      "cell_type": "code",
      "metadata": {
        "colab": {
          "base_uri": "https://localhost:8080/",
          "height": 226
        },
        "id": "rRTrw6kA6qvk",
        "outputId": "4dafbe0d-9187-4641-c639-4d67514c03a2"
      },
      "source": [
        "train_data.head()"
      ],
      "execution_count": 97,
      "outputs": [
        {
          "output_type": "execute_result",
          "data": {
            "text/html": [
              "<div>\n",
              "<style scoped>\n",
              "    .dataframe tbody tr th:only-of-type {\n",
              "        vertical-align: middle;\n",
              "    }\n",
              "\n",
              "    .dataframe tbody tr th {\n",
              "        vertical-align: top;\n",
              "    }\n",
              "\n",
              "    .dataframe thead th {\n",
              "        text-align: right;\n",
              "    }\n",
              "</style>\n",
              "<table border=\"1\" class=\"dataframe\">\n",
              "  <thead>\n",
              "    <tr style=\"text-align: right;\">\n",
              "      <th></th>\n",
              "      <th>feature1</th>\n",
              "      <th>feature3</th>\n",
              "      <th>feature4</th>\n",
              "      <th>feature5</th>\n",
              "      <th>feature6</th>\n",
              "      <th>feature7</th>\n",
              "      <th>feature8</th>\n",
              "      <th>feature9</th>\n",
              "      <th>feature10</th>\n",
              "      <th>feature11</th>\n",
              "      <th>feature12</th>\n",
              "      <th>feature13</th>\n",
              "      <th>feature14</th>\n",
              "      <th>feature15</th>\n",
              "      <th>feature16</th>\n",
              "      <th>feature17</th>\n",
              "      <th>feature18</th>\n",
              "      <th>feature19</th>\n",
              "      <th>feature20</th>\n",
              "      <th>feature21</th>\n",
              "      <th>feature22</th>\n",
              "      <th>feature23</th>\n",
              "      <th>feature24</th>\n",
              "      <th>feature25</th>\n",
              "      <th>feature26</th>\n",
              "      <th>feature27</th>\n",
              "      <th>feature28</th>\n",
              "      <th>feature29</th>\n",
              "      <th>feature30</th>\n",
              "      <th>feature31</th>\n",
              "      <th>feature32</th>\n",
              "      <th>feature33</th>\n",
              "      <th>feature34</th>\n",
              "    </tr>\n",
              "  </thead>\n",
              "  <tbody>\n",
              "    <tr>\n",
              "      <th>5</th>\n",
              "      <td>1</td>\n",
              "      <td>0.02337</td>\n",
              "      <td>-0.00592</td>\n",
              "      <td>-0.09924</td>\n",
              "      <td>-0.11949</td>\n",
              "      <td>-0.00763</td>\n",
              "      <td>-0.11824</td>\n",
              "      <td>0.14706</td>\n",
              "      <td>0.06637</td>\n",
              "      <td>0.03786</td>\n",
              "      <td>-0.06302</td>\n",
              "      <td>0.00000</td>\n",
              "      <td>0.00000</td>\n",
              "      <td>-0.04572</td>\n",
              "      <td>-0.15540</td>\n",
              "      <td>-0.00343</td>\n",
              "      <td>-0.10196</td>\n",
              "      <td>-0.11575</td>\n",
              "      <td>-0.05414</td>\n",
              "      <td>0.01838</td>\n",
              "      <td>0.03669</td>\n",
              "      <td>0.01519</td>\n",
              "      <td>0.00888</td>\n",
              "      <td>0.03513</td>\n",
              "      <td>-0.01535</td>\n",
              "      <td>-0.03240</td>\n",
              "      <td>0.09223</td>\n",
              "      <td>-0.07859</td>\n",
              "      <td>0.00732</td>\n",
              "      <td>0.00000</td>\n",
              "      <td>0.00000</td>\n",
              "      <td>-0.00039</td>\n",
              "      <td>0.12011</td>\n",
              "    </tr>\n",
              "    <tr>\n",
              "      <th>210</th>\n",
              "      <td>0</td>\n",
              "      <td>-1.00000</td>\n",
              "      <td>-1.00000</td>\n",
              "      <td>1.00000</td>\n",
              "      <td>-1.00000</td>\n",
              "      <td>-1.00000</td>\n",
              "      <td>1.00000</td>\n",
              "      <td>0.00000</td>\n",
              "      <td>0.00000</td>\n",
              "      <td>1.00000</td>\n",
              "      <td>-1.00000</td>\n",
              "      <td>1.00000</td>\n",
              "      <td>-1.00000</td>\n",
              "      <td>0.00000</td>\n",
              "      <td>0.00000</td>\n",
              "      <td>0.00000</td>\n",
              "      <td>0.00000</td>\n",
              "      <td>0.00000</td>\n",
              "      <td>0.00000</td>\n",
              "      <td>-1.00000</td>\n",
              "      <td>1.00000</td>\n",
              "      <td>1.00000</td>\n",
              "      <td>-1.00000</td>\n",
              "      <td>-1.00000</td>\n",
              "      <td>1.00000</td>\n",
              "      <td>1.00000</td>\n",
              "      <td>1.00000</td>\n",
              "      <td>0.00000</td>\n",
              "      <td>0.00000</td>\n",
              "      <td>1.00000</td>\n",
              "      <td>0.50000</td>\n",
              "      <td>0.00000</td>\n",
              "      <td>0.00000</td>\n",
              "    </tr>\n",
              "    <tr>\n",
              "      <th>26</th>\n",
              "      <td>1</td>\n",
              "      <td>1.00000</td>\n",
              "      <td>-0.08714</td>\n",
              "      <td>1.00000</td>\n",
              "      <td>-0.17263</td>\n",
              "      <td>0.86635</td>\n",
              "      <td>-0.81779</td>\n",
              "      <td>0.94817</td>\n",
              "      <td>0.61053</td>\n",
              "      <td>0.95473</td>\n",
              "      <td>-0.41382</td>\n",
              "      <td>0.88486</td>\n",
              "      <td>-0.31736</td>\n",
              "      <td>0.87937</td>\n",
              "      <td>-0.23433</td>\n",
              "      <td>0.81051</td>\n",
              "      <td>-0.62180</td>\n",
              "      <td>0.12245</td>\n",
              "      <td>-1.00000</td>\n",
              "      <td>0.90284</td>\n",
              "      <td>0.11053</td>\n",
              "      <td>0.62357</td>\n",
              "      <td>-0.78547</td>\n",
              "      <td>0.55389</td>\n",
              "      <td>-0.82868</td>\n",
              "      <td>0.48136</td>\n",
              "      <td>-0.86583</td>\n",
              "      <td>0.40650</td>\n",
              "      <td>-0.89674</td>\n",
              "      <td>0.32984</td>\n",
              "      <td>-0.92128</td>\n",
              "      <td>-0.13341</td>\n",
              "      <td>-1.00000</td>\n",
              "    </tr>\n",
              "    <tr>\n",
              "      <th>230</th>\n",
              "      <td>0</td>\n",
              "      <td>0.00000</td>\n",
              "      <td>0.00000</td>\n",
              "      <td>0.00000</td>\n",
              "      <td>0.00000</td>\n",
              "      <td>0.00000</td>\n",
              "      <td>0.00000</td>\n",
              "      <td>0.00000</td>\n",
              "      <td>0.00000</td>\n",
              "      <td>0.00000</td>\n",
              "      <td>0.00000</td>\n",
              "      <td>0.00000</td>\n",
              "      <td>0.00000</td>\n",
              "      <td>0.00000</td>\n",
              "      <td>0.00000</td>\n",
              "      <td>0.00000</td>\n",
              "      <td>0.00000</td>\n",
              "      <td>0.00000</td>\n",
              "      <td>0.00000</td>\n",
              "      <td>0.00000</td>\n",
              "      <td>0.00000</td>\n",
              "      <td>0.00000</td>\n",
              "      <td>0.00000</td>\n",
              "      <td>0.00000</td>\n",
              "      <td>0.00000</td>\n",
              "      <td>1.00000</td>\n",
              "      <td>1.00000</td>\n",
              "      <td>0.00000</td>\n",
              "      <td>0.00000</td>\n",
              "      <td>0.00000</td>\n",
              "      <td>0.00000</td>\n",
              "      <td>0.00000</td>\n",
              "      <td>0.00000</td>\n",
              "    </tr>\n",
              "    <tr>\n",
              "      <th>331</th>\n",
              "      <td>1</td>\n",
              "      <td>0.74468</td>\n",
              "      <td>0.10638</td>\n",
              "      <td>0.88706</td>\n",
              "      <td>0.00982</td>\n",
              "      <td>0.88542</td>\n",
              "      <td>0.01471</td>\n",
              "      <td>0.87234</td>\n",
              "      <td>-0.01418</td>\n",
              "      <td>0.73050</td>\n",
              "      <td>0.10638</td>\n",
              "      <td>0.87657</td>\n",
              "      <td>0.02912</td>\n",
              "      <td>0.87235</td>\n",
              "      <td>0.03382</td>\n",
              "      <td>0.95745</td>\n",
              "      <td>0.07801</td>\n",
              "      <td>0.95035</td>\n",
              "      <td>0.04255</td>\n",
              "      <td>0.85597</td>\n",
              "      <td>0.04743</td>\n",
              "      <td>0.84931</td>\n",
              "      <td>0.05178</td>\n",
              "      <td>0.87234</td>\n",
              "      <td>0.11348</td>\n",
              "      <td>0.83429</td>\n",
              "      <td>0.06014</td>\n",
              "      <td>0.74468</td>\n",
              "      <td>-0.03546</td>\n",
              "      <td>0.81710</td>\n",
              "      <td>0.06800</td>\n",
              "      <td>0.80774</td>\n",
              "      <td>0.07173</td>\n",
              "    </tr>\n",
              "  </tbody>\n",
              "</table>\n",
              "</div>"
            ],
            "text/plain": [
              "     feature1  feature3  feature4  ...  feature32  feature33  feature34\n",
              "5           1   0.02337  -0.00592  ...    0.00000   -0.00039    0.12011\n",
              "210         0  -1.00000  -1.00000  ...    0.50000    0.00000    0.00000\n",
              "26          1   1.00000  -0.08714  ...   -0.92128   -0.13341   -1.00000\n",
              "230         0   0.00000   0.00000  ...    0.00000    0.00000    0.00000\n",
              "331         1   0.74468   0.10638  ...    0.06800    0.80774    0.07173\n",
              "\n",
              "[5 rows x 33 columns]"
            ]
          },
          "metadata": {
            "tags": []
          },
          "execution_count": 97
        }
      ]
    },
    {
      "cell_type": "code",
      "metadata": {
        "colab": {
          "base_uri": "https://localhost:8080/"
        },
        "id": "nnKqYgTm6TyB",
        "outputId": "5267effb-00ee-4daf-fa42-348c2a239af5"
      },
      "source": [
        "train_label"
      ],
      "execution_count": 98,
      "outputs": [
        {
          "output_type": "execute_result",
          "data": {
            "text/plain": [
              "5      0\n",
              "210    0\n",
              "26     1\n",
              "230    0\n",
              "331    1\n",
              "      ..\n",
              "254    1\n",
              "114    0\n",
              "264    1\n",
              "56     1\n",
              "215    1\n",
              "Name: label, Length: 204, dtype: int64"
            ]
          },
          "metadata": {
            "tags": []
          },
          "execution_count": 98
        }
      ]
    },
    {
      "cell_type": "code",
      "metadata": {
        "id": "HBE6JUDn7Ibw"
      },
      "source": [
        "# # Normalize the data\n",
        "train_mean = train_data.mean()\n",
        "train_data -= train_mean\n",
        "train_std = train_data.std()\n",
        "train_data /= train_std\n",
        "test_data -= train_mean\n",
        "test_data /= train_std"
      ],
      "execution_count": 99,
      "outputs": []
    },
    {
      "cell_type": "code",
      "metadata": {
        "colab": {
          "base_uri": "https://localhost:8080/"
        },
        "id": "M8oxCBvl7W83",
        "outputId": "3d645be5-7991-4daf-9f4e-c2b54690378d"
      },
      "source": [
        "train_data.shape\n"
      ],
      "execution_count": 100,
      "outputs": [
        {
          "output_type": "execute_result",
          "data": {
            "text/plain": [
              "(204, 33)"
            ]
          },
          "metadata": {
            "tags": []
          },
          "execution_count": 100
        }
      ]
    },
    {
      "cell_type": "code",
      "metadata": {
        "colab": {
          "base_uri": "https://localhost:8080/"
        },
        "id": "BACca9TR7jsm",
        "outputId": "12adb1c7-8c93-40aa-8f3f-0b7791b28919"
      },
      "source": [
        "test_data.shape\n"
      ],
      "execution_count": 101,
      "outputs": [
        {
          "output_type": "execute_result",
          "data": {
            "text/plain": [
              "(147, 33)"
            ]
          },
          "metadata": {
            "tags": []
          },
          "execution_count": 101
        }
      ]
    },
    {
      "cell_type": "code",
      "metadata": {
        "colab": {
          "base_uri": "https://localhost:8080/"
        },
        "id": "vmfNSmt17lsw",
        "outputId": "117a8974-7950-4ee5-972c-5c9c50c0e355"
      },
      "source": [
        "val_data.shape"
      ],
      "execution_count": 102,
      "outputs": [
        {
          "output_type": "execute_result",
          "data": {
            "text/plain": [
              "(147, 33)"
            ]
          },
          "metadata": {
            "tags": []
          },
          "execution_count": 102
        }
      ]
    },
    {
      "cell_type": "code",
      "metadata": {
        "id": "1E76Daf_7zdo"
      },
      "source": [
        "train_data = train_data.to_numpy()"
      ],
      "execution_count": 103,
      "outputs": []
    },
    {
      "cell_type": "code",
      "metadata": {
        "id": "wUNw8bO577Fw"
      },
      "source": [
        "train_label = train_label.to_numpy().astype('float32')"
      ],
      "execution_count": 104,
      "outputs": []
    },
    {
      "cell_type": "code",
      "metadata": {
        "id": "jE4Kgxfx8Dcv"
      },
      "source": [
        "test_data = test_data.to_numpy()"
      ],
      "execution_count": 105,
      "outputs": []
    },
    {
      "cell_type": "code",
      "metadata": {
        "id": "tWDYUC4m8Hri"
      },
      "source": [
        "test_label = test_label.to_numpy().astype('float32')"
      ],
      "execution_count": 106,
      "outputs": []
    },
    {
      "cell_type": "code",
      "metadata": {
        "id": "xNwvZ6Xk8J2h"
      },
      "source": [
        "val_data = val_data.to_numpy()"
      ],
      "execution_count": 107,
      "outputs": []
    },
    {
      "cell_type": "code",
      "metadata": {
        "id": "OMdn2U9-8QJG"
      },
      "source": [
        "val_label = val_label.to_numpy().astype('float32')"
      ],
      "execution_count": 108,
      "outputs": []
    },
    {
      "cell_type": "code",
      "metadata": {
        "id": "pbu6Yr7m8fOs"
      },
      "source": [
        "from tensorflow.keras.models import Sequential\n",
        "from tensorflow.keras.layers import Dense, Dropout\n"
      ],
      "execution_count": 109,
      "outputs": []
    },
    {
      "cell_type": "code",
      "metadata": {
        "id": "KjTZ1hn1-kJ_"
      },
      "source": [
        "model = Sequential()\n",
        "model.add(Dense(10, activation='relu', input_shape=(train_data.shape[1],)))\n",
        "model.add(Dense(8, activation='relu'))\n",
        "model.add(Dense(6, activation='relu'))\n",
        "model.add(Dense(1,  activation='sigmoid'))"
      ],
      "execution_count": 110,
      "outputs": []
    },
    {
      "cell_type": "code",
      "metadata": {
        "id": "bfH9hdZU_BV2"
      },
      "source": [
        "model.compile(optimizer = 'RMSprop', loss='binary_crossentropy', metrics=['accuracy'])"
      ],
      "execution_count": 111,
      "outputs": []
    },
    {
      "cell_type": "code",
      "metadata": {
        "colab": {
          "base_uri": "https://localhost:8080/"
        },
        "id": "AWrLJDJw_PVJ",
        "outputId": "ea848e49-f2d7-486a-94db-f52ed21b6490"
      },
      "source": [
        "history = model.fit(train_data, train_label, validation_data=(val_data,val_label), epochs=100, batch_size = 16)"
      ],
      "execution_count": 112,
      "outputs": [
        {
          "output_type": "stream",
          "text": [
            "Epoch 1/100\n",
            "13/13 [==============================] - 1s 15ms/step - loss: 0.6607 - accuracy: 0.6860 - val_loss: 0.6176 - val_accuracy: 0.7755\n",
            "Epoch 2/100\n",
            "13/13 [==============================] - 0s 6ms/step - loss: 0.5721 - accuracy: 0.8352 - val_loss: 0.5955 - val_accuracy: 0.7823\n",
            "Epoch 3/100\n",
            "13/13 [==============================] - 0s 5ms/step - loss: 0.5789 - accuracy: 0.7992 - val_loss: 0.5773 - val_accuracy: 0.7687\n",
            "Epoch 4/100\n",
            "13/13 [==============================] - 0s 5ms/step - loss: 0.5484 - accuracy: 0.8361 - val_loss: 0.5656 - val_accuracy: 0.7755\n",
            "Epoch 5/100\n",
            "13/13 [==============================] - 0s 5ms/step - loss: 0.5290 - accuracy: 0.8513 - val_loss: 0.5554 - val_accuracy: 0.7755\n",
            "Epoch 6/100\n",
            "13/13 [==============================] - 0s 6ms/step - loss: 0.4993 - accuracy: 0.8515 - val_loss: 0.5470 - val_accuracy: 0.7755\n",
            "Epoch 7/100\n",
            "13/13 [==============================] - 0s 6ms/step - loss: 0.4587 - accuracy: 0.8718 - val_loss: 0.5392 - val_accuracy: 0.7687\n",
            "Epoch 8/100\n",
            "13/13 [==============================] - 0s 6ms/step - loss: 0.4695 - accuracy: 0.8197 - val_loss: 0.5311 - val_accuracy: 0.7755\n",
            "Epoch 9/100\n",
            "13/13 [==============================] - 0s 6ms/step - loss: 0.4404 - accuracy: 0.8619 - val_loss: 0.5240 - val_accuracy: 0.7687\n",
            "Epoch 10/100\n",
            "13/13 [==============================] - 0s 6ms/step - loss: 0.3803 - accuracy: 0.8966 - val_loss: 0.5156 - val_accuracy: 0.7687\n",
            "Epoch 11/100\n",
            "13/13 [==============================] - 0s 6ms/step - loss: 0.3730 - accuracy: 0.8829 - val_loss: 0.5073 - val_accuracy: 0.7687\n",
            "Epoch 12/100\n",
            "13/13 [==============================] - 0s 6ms/step - loss: 0.3592 - accuracy: 0.8680 - val_loss: 0.4998 - val_accuracy: 0.7687\n",
            "Epoch 13/100\n",
            "13/13 [==============================] - 0s 6ms/step - loss: 0.3420 - accuracy: 0.8804 - val_loss: 0.4912 - val_accuracy: 0.7755\n",
            "Epoch 14/100\n",
            "13/13 [==============================] - 0s 6ms/step - loss: 0.3373 - accuracy: 0.8733 - val_loss: 0.4856 - val_accuracy: 0.7755\n",
            "Epoch 15/100\n",
            "13/13 [==============================] - 0s 6ms/step - loss: 0.3336 - accuracy: 0.8816 - val_loss: 0.4774 - val_accuracy: 0.8095\n",
            "Epoch 16/100\n",
            "13/13 [==============================] - 0s 6ms/step - loss: 0.2600 - accuracy: 0.9312 - val_loss: 0.4690 - val_accuracy: 0.8163\n",
            "Epoch 17/100\n",
            "13/13 [==============================] - 0s 7ms/step - loss: 0.2767 - accuracy: 0.9025 - val_loss: 0.4645 - val_accuracy: 0.8231\n",
            "Epoch 18/100\n",
            "13/13 [==============================] - 0s 6ms/step - loss: 0.2671 - accuracy: 0.9196 - val_loss: 0.4661 - val_accuracy: 0.8163\n",
            "Epoch 19/100\n",
            "13/13 [==============================] - 0s 6ms/step - loss: 0.2344 - accuracy: 0.9282 - val_loss: 0.4605 - val_accuracy: 0.8299\n",
            "Epoch 20/100\n",
            "13/13 [==============================] - 0s 6ms/step - loss: 0.2147 - accuracy: 0.9350 - val_loss: 0.4631 - val_accuracy: 0.8299\n",
            "Epoch 21/100\n",
            "13/13 [==============================] - 0s 6ms/step - loss: 0.2482 - accuracy: 0.8915 - val_loss: 0.4692 - val_accuracy: 0.8231\n",
            "Epoch 22/100\n",
            "13/13 [==============================] - 0s 6ms/step - loss: 0.2234 - accuracy: 0.8939 - val_loss: 0.4615 - val_accuracy: 0.8231\n",
            "Epoch 23/100\n",
            "13/13 [==============================] - 0s 6ms/step - loss: 0.1829 - accuracy: 0.9485 - val_loss: 0.4643 - val_accuracy: 0.8231\n",
            "Epoch 24/100\n",
            "13/13 [==============================] - 0s 6ms/step - loss: 0.2374 - accuracy: 0.9116 - val_loss: 0.4728 - val_accuracy: 0.8231\n",
            "Epoch 25/100\n",
            "13/13 [==============================] - 0s 7ms/step - loss: 0.1956 - accuracy: 0.9273 - val_loss: 0.4705 - val_accuracy: 0.8367\n",
            "Epoch 26/100\n",
            "13/13 [==============================] - 0s 6ms/step - loss: 0.1714 - accuracy: 0.9411 - val_loss: 0.4763 - val_accuracy: 0.8367\n",
            "Epoch 27/100\n",
            "13/13 [==============================] - 0s 6ms/step - loss: 0.1409 - accuracy: 0.9511 - val_loss: 0.4891 - val_accuracy: 0.8367\n",
            "Epoch 28/100\n",
            "13/13 [==============================] - 0s 6ms/step - loss: 0.1847 - accuracy: 0.9269 - val_loss: 0.4944 - val_accuracy: 0.8367\n",
            "Epoch 29/100\n",
            "13/13 [==============================] - 0s 6ms/step - loss: 0.1592 - accuracy: 0.9314 - val_loss: 0.5004 - val_accuracy: 0.8367\n",
            "Epoch 30/100\n",
            "13/13 [==============================] - 0s 6ms/step - loss: 0.1570 - accuracy: 0.9487 - val_loss: 0.5105 - val_accuracy: 0.8367\n",
            "Epoch 31/100\n",
            "13/13 [==============================] - 0s 6ms/step - loss: 0.1387 - accuracy: 0.9535 - val_loss: 0.5112 - val_accuracy: 0.8367\n",
            "Epoch 32/100\n",
            "13/13 [==============================] - 0s 6ms/step - loss: 0.1386 - accuracy: 0.9513 - val_loss: 0.5191 - val_accuracy: 0.8299\n",
            "Epoch 33/100\n",
            "13/13 [==============================] - 0s 6ms/step - loss: 0.1242 - accuracy: 0.9648 - val_loss: 0.5285 - val_accuracy: 0.8299\n",
            "Epoch 34/100\n",
            "13/13 [==============================] - 0s 7ms/step - loss: 0.1482 - accuracy: 0.9380 - val_loss: 0.5428 - val_accuracy: 0.8299\n",
            "Epoch 35/100\n",
            "13/13 [==============================] - 0s 6ms/step - loss: 0.1144 - accuracy: 0.9494 - val_loss: 0.5445 - val_accuracy: 0.8299\n",
            "Epoch 36/100\n",
            "13/13 [==============================] - 0s 6ms/step - loss: 0.1088 - accuracy: 0.9603 - val_loss: 0.5498 - val_accuracy: 0.8299\n",
            "Epoch 37/100\n",
            "13/13 [==============================] - 0s 6ms/step - loss: 0.0836 - accuracy: 0.9669 - val_loss: 0.5592 - val_accuracy: 0.8299\n",
            "Epoch 38/100\n",
            "13/13 [==============================] - 0s 6ms/step - loss: 0.1250 - accuracy: 0.9553 - val_loss: 0.5676 - val_accuracy: 0.8299\n",
            "Epoch 39/100\n",
            "13/13 [==============================] - 0s 5ms/step - loss: 0.0763 - accuracy: 0.9848 - val_loss: 0.5777 - val_accuracy: 0.8299\n",
            "Epoch 40/100\n",
            "13/13 [==============================] - 0s 6ms/step - loss: 0.0755 - accuracy: 0.9877 - val_loss: 0.5754 - val_accuracy: 0.8299\n",
            "Epoch 41/100\n",
            "13/13 [==============================] - 0s 6ms/step - loss: 0.1078 - accuracy: 0.9682 - val_loss: 0.5939 - val_accuracy: 0.8299\n",
            "Epoch 42/100\n",
            "13/13 [==============================] - 0s 5ms/step - loss: 0.1101 - accuracy: 0.9703 - val_loss: 0.5952 - val_accuracy: 0.8299\n",
            "Epoch 43/100\n",
            "13/13 [==============================] - 0s 6ms/step - loss: 0.0552 - accuracy: 0.9903 - val_loss: 0.6014 - val_accuracy: 0.8299\n",
            "Epoch 44/100\n",
            "13/13 [==============================] - 0s 6ms/step - loss: 0.0745 - accuracy: 0.9751 - val_loss: 0.6130 - val_accuracy: 0.8299\n",
            "Epoch 45/100\n",
            "13/13 [==============================] - 0s 6ms/step - loss: 0.0655 - accuracy: 0.9787 - val_loss: 0.6178 - val_accuracy: 0.8299\n",
            "Epoch 46/100\n",
            "13/13 [==============================] - 0s 6ms/step - loss: 0.0789 - accuracy: 0.9687 - val_loss: 0.6327 - val_accuracy: 0.8231\n",
            "Epoch 47/100\n",
            "13/13 [==============================] - 0s 6ms/step - loss: 0.0461 - accuracy: 0.9860 - val_loss: 0.6384 - val_accuracy: 0.8231\n",
            "Epoch 48/100\n",
            "13/13 [==============================] - 0s 6ms/step - loss: 0.0593 - accuracy: 0.9815 - val_loss: 0.6471 - val_accuracy: 0.8231\n",
            "Epoch 49/100\n",
            "13/13 [==============================] - 0s 6ms/step - loss: 0.0815 - accuracy: 0.9771 - val_loss: 0.6495 - val_accuracy: 0.8231\n",
            "Epoch 50/100\n",
            "13/13 [==============================] - 0s 6ms/step - loss: 0.0394 - accuracy: 0.9888 - val_loss: 0.6550 - val_accuracy: 0.8231\n",
            "Epoch 51/100\n",
            "13/13 [==============================] - 0s 6ms/step - loss: 0.0397 - accuracy: 0.9877 - val_loss: 0.6616 - val_accuracy: 0.8231\n",
            "Epoch 52/100\n",
            "13/13 [==============================] - 0s 6ms/step - loss: 0.0892 - accuracy: 0.9619 - val_loss: 0.6761 - val_accuracy: 0.8231\n",
            "Epoch 53/100\n",
            "13/13 [==============================] - 0s 6ms/step - loss: 0.0633 - accuracy: 0.9777 - val_loss: 0.6858 - val_accuracy: 0.8231\n",
            "Epoch 54/100\n",
            "13/13 [==============================] - 0s 6ms/step - loss: 0.0497 - accuracy: 0.9673 - val_loss: 0.6964 - val_accuracy: 0.8163\n",
            "Epoch 55/100\n",
            "13/13 [==============================] - 0s 5ms/step - loss: 0.0322 - accuracy: 0.9888 - val_loss: 0.6906 - val_accuracy: 0.8231\n",
            "Epoch 56/100\n",
            "13/13 [==============================] - 0s 5ms/step - loss: 0.0343 - accuracy: 0.9835 - val_loss: 0.6965 - val_accuracy: 0.8231\n",
            "Epoch 57/100\n",
            "13/13 [==============================] - 0s 6ms/step - loss: 0.0535 - accuracy: 0.9843 - val_loss: 0.7020 - val_accuracy: 0.8231\n",
            "Epoch 58/100\n",
            "13/13 [==============================] - 0s 6ms/step - loss: 0.0629 - accuracy: 0.9863 - val_loss: 0.7187 - val_accuracy: 0.8163\n",
            "Epoch 59/100\n",
            "13/13 [==============================] - 0s 6ms/step - loss: 0.0678 - accuracy: 0.9829 - val_loss: 0.7289 - val_accuracy: 0.8163\n",
            "Epoch 60/100\n",
            "13/13 [==============================] - 0s 6ms/step - loss: 0.0284 - accuracy: 0.9970 - val_loss: 0.7230 - val_accuracy: 0.8163\n",
            "Epoch 61/100\n",
            "13/13 [==============================] - 0s 6ms/step - loss: 0.0242 - accuracy: 0.9934 - val_loss: 0.7308 - val_accuracy: 0.8163\n",
            "Epoch 62/100\n",
            "13/13 [==============================] - 0s 6ms/step - loss: 0.0651 - accuracy: 0.9835 - val_loss: 0.7509 - val_accuracy: 0.8027\n",
            "Epoch 63/100\n",
            "13/13 [==============================] - 0s 6ms/step - loss: 0.0210 - accuracy: 0.9978 - val_loss: 0.7492 - val_accuracy: 0.8163\n",
            "Epoch 64/100\n",
            "13/13 [==============================] - 0s 6ms/step - loss: 0.0219 - accuracy: 0.9951 - val_loss: 0.7547 - val_accuracy: 0.8027\n",
            "Epoch 65/100\n",
            "13/13 [==============================] - 0s 6ms/step - loss: 0.0313 - accuracy: 0.9949 - val_loss: 0.7610 - val_accuracy: 0.8027\n",
            "Epoch 66/100\n",
            "13/13 [==============================] - 0s 6ms/step - loss: 0.0259 - accuracy: 0.9942 - val_loss: 0.7601 - val_accuracy: 0.8027\n",
            "Epoch 67/100\n",
            "13/13 [==============================] - 0s 6ms/step - loss: 0.0359 - accuracy: 0.9811 - val_loss: 0.7679 - val_accuracy: 0.8163\n",
            "Epoch 68/100\n",
            "13/13 [==============================] - 0s 7ms/step - loss: 0.0294 - accuracy: 0.9947 - val_loss: 0.7713 - val_accuracy: 0.8163\n",
            "Epoch 69/100\n",
            "13/13 [==============================] - 0s 6ms/step - loss: 0.0221 - accuracy: 0.9976 - val_loss: 0.7690 - val_accuracy: 0.8163\n",
            "Epoch 70/100\n",
            "13/13 [==============================] - 0s 6ms/step - loss: 0.0151 - accuracy: 0.9985 - val_loss: 0.7720 - val_accuracy: 0.8163\n",
            "Epoch 71/100\n",
            "13/13 [==============================] - 0s 6ms/step - loss: 0.0258 - accuracy: 0.9956 - val_loss: 0.7775 - val_accuracy: 0.8163\n",
            "Epoch 72/100\n",
            "13/13 [==============================] - 0s 6ms/step - loss: 0.0164 - accuracy: 0.9981 - val_loss: 0.7886 - val_accuracy: 0.8163\n",
            "Epoch 73/100\n",
            "13/13 [==============================] - 0s 6ms/step - loss: 0.0142 - accuracy: 0.9985 - val_loss: 0.7882 - val_accuracy: 0.8163\n",
            "Epoch 74/100\n",
            "13/13 [==============================] - 0s 6ms/step - loss: 0.0158 - accuracy: 0.9976 - val_loss: 0.7898 - val_accuracy: 0.8163\n",
            "Epoch 75/100\n",
            "13/13 [==============================] - 0s 6ms/step - loss: 0.0152 - accuracy: 0.9981 - val_loss: 0.7892 - val_accuracy: 0.8231\n",
            "Epoch 76/100\n",
            "13/13 [==============================] - 0s 7ms/step - loss: 0.0152 - accuracy: 0.9981 - val_loss: 0.7919 - val_accuracy: 0.8231\n",
            "Epoch 77/100\n",
            "13/13 [==============================] - 0s 6ms/step - loss: 0.0179 - accuracy: 0.9970 - val_loss: 0.8005 - val_accuracy: 0.8163\n",
            "Epoch 78/100\n",
            "13/13 [==============================] - 0s 6ms/step - loss: 0.0145 - accuracy: 0.9981 - val_loss: 0.8082 - val_accuracy: 0.8163\n",
            "Epoch 79/100\n",
            "13/13 [==============================] - 0s 6ms/step - loss: 0.0500 - accuracy: 0.9854 - val_loss: 0.8181 - val_accuracy: 0.8163\n",
            "Epoch 80/100\n",
            "13/13 [==============================] - 0s 6ms/step - loss: 0.0142 - accuracy: 0.9976 - val_loss: 0.8251 - val_accuracy: 0.8163\n",
            "Epoch 81/100\n",
            "13/13 [==============================] - 0s 6ms/step - loss: 0.0262 - accuracy: 0.9936 - val_loss: 0.8369 - val_accuracy: 0.8163\n",
            "Epoch 82/100\n",
            "13/13 [==============================] - 0s 6ms/step - loss: 0.0145 - accuracy: 0.9976 - val_loss: 0.8326 - val_accuracy: 0.8163\n",
            "Epoch 83/100\n",
            "13/13 [==============================] - 0s 6ms/step - loss: 0.0266 - accuracy: 0.9936 - val_loss: 0.8475 - val_accuracy: 0.8163\n",
            "Epoch 84/100\n",
            "13/13 [==============================] - 0s 6ms/step - loss: 0.0110 - accuracy: 0.9985 - val_loss: 0.8523 - val_accuracy: 0.8163\n",
            "Epoch 85/100\n",
            "13/13 [==============================] - 0s 7ms/step - loss: 0.0137 - accuracy: 0.9970 - val_loss: 0.8623 - val_accuracy: 0.8163\n",
            "Epoch 86/100\n",
            "13/13 [==============================] - 0s 6ms/step - loss: 0.0132 - accuracy: 0.9981 - val_loss: 0.8639 - val_accuracy: 0.8163\n",
            "Epoch 87/100\n",
            "13/13 [==============================] - 0s 6ms/step - loss: 0.0291 - accuracy: 0.9921 - val_loss: 0.8705 - val_accuracy: 0.8163\n",
            "Epoch 88/100\n",
            "13/13 [==============================] - 0s 6ms/step - loss: 0.0251 - accuracy: 0.9921 - val_loss: 0.8793 - val_accuracy: 0.8163\n",
            "Epoch 89/100\n",
            "13/13 [==============================] - 0s 6ms/step - loss: 0.0170 - accuracy: 0.9956 - val_loss: 0.8865 - val_accuracy: 0.8163\n",
            "Epoch 90/100\n",
            "13/13 [==============================] - 0s 7ms/step - loss: 0.0211 - accuracy: 0.9936 - val_loss: 0.8965 - val_accuracy: 0.8163\n",
            "Epoch 91/100\n",
            "13/13 [==============================] - 0s 6ms/step - loss: 0.0074 - accuracy: 0.9985 - val_loss: 0.8958 - val_accuracy: 0.8163\n",
            "Epoch 92/100\n",
            "13/13 [==============================] - 0s 6ms/step - loss: 0.0108 - accuracy: 0.9985 - val_loss: 0.9026 - val_accuracy: 0.8163\n",
            "Epoch 93/100\n",
            "13/13 [==============================] - 0s 6ms/step - loss: 0.0080 - accuracy: 0.9985 - val_loss: 0.9052 - val_accuracy: 0.8163\n",
            "Epoch 94/100\n",
            "13/13 [==============================] - 0s 6ms/step - loss: 0.0110 - accuracy: 0.9981 - val_loss: 0.9148 - val_accuracy: 0.8163\n",
            "Epoch 95/100\n",
            "13/13 [==============================] - 0s 6ms/step - loss: 0.0139 - accuracy: 0.9964 - val_loss: 0.9189 - val_accuracy: 0.8163\n",
            "Epoch 96/100\n",
            "13/13 [==============================] - 0s 6ms/step - loss: 0.0083 - accuracy: 0.9981 - val_loss: 0.9114 - val_accuracy: 0.8231\n",
            "Epoch 97/100\n",
            "13/13 [==============================] - 0s 6ms/step - loss: 0.0323 - accuracy: 0.9854 - val_loss: 0.9298 - val_accuracy: 0.8163\n",
            "Epoch 98/100\n",
            "13/13 [==============================] - 0s 6ms/step - loss: 0.0118 - accuracy: 0.9956 - val_loss: 0.9408 - val_accuracy: 0.8163\n",
            "Epoch 99/100\n",
            "13/13 [==============================] - 0s 6ms/step - loss: 0.0063 - accuracy: 0.9985 - val_loss: 0.9573 - val_accuracy: 0.8163\n",
            "Epoch 100/100\n",
            "13/13 [==============================] - 0s 6ms/step - loss: 0.0141 - accuracy: 0.9947 - val_loss: 0.9624 - val_accuracy: 0.8163\n"
          ],
          "name": "stdout"
        }
      ]
    },
    {
      "cell_type": "code",
      "metadata": {
        "id": "H3BFSbHPhUpU",
        "outputId": "5b0da139-1d6e-40af-ca9f-87cfb58267bb",
        "colab": {
          "base_uri": "https://localhost:8080/",
          "height": 295
        }
      },
      "source": [
        "import matplotlib.pyplot as plt\n",
        "plt.plot(history.history['accuracy'])\n",
        "plt.plot(history.history['val_accuracy'])\n",
        "plt.title('model accuracy')\n",
        "plt.ylabel('accuracy')\n",
        "plt.xlabel('epoch')\n",
        "plt.legend(['train', 'test'], loc='upper left')\n",
        "plt.show()"
      ],
      "execution_count": 113,
      "outputs": [
        {
          "output_type": "display_data",
          "data": {
            "image/png": "[encoded data removed]",
            "text/plain": [
              "<Figure size 432x288 with 1 Axes>"
            ]
          },
          "metadata": {
            "tags": [],
            "needs_background": "light"
          }
        }
      ]
    },
    {
      "cell_type": "code",
      "metadata": {
        "id": "V5fkNfqrhiEC",
        "outputId": "62b6740a-f7de-4f52-88d5-ec1a8a359bb9",
        "colab": {
          "base_uri": "https://localhost:8080/",
          "height": 295
        }
      },
      "source": [
        "plt.plot(history.history['loss'])\n",
        "plt.plot(history.history['val_loss'])\n",
        "plt.title('model loss')\n",
        "plt.ylabel('loss')\n",
        "plt.xlabel('epoch')\n",
        "plt.legend(['train', 'test'], loc='upper left')\n",
        "plt.show()"
      ],
      "execution_count": 114,
      "outputs": [
        {
          "output_type": "display_data",
          "data": {
            "image/png": "[encoded data removed]",
            "text/plain": [
              "<Figure size 432x288 with 1 Axes>"
            ]
          },
          "metadata": {
            "tags": [],
            "needs_background": "light"
          }
        }
      ]
    },
    {
      "cell_type": "code",
      "metadata": {
        "id": "TRskOCNFAPDE"
      },
      "source": [
        "model_1 = Sequential()\n",
        "model_1.add(Dense(5, activation='relu', input_shape=(train_data.shape[1],)))\n",
        "model_1.add(Dropout(0.3))\n",
        "model_1.add(Dense(5, activation='relu'))\n",
        "model_1.add(Dropout(0.3))\n",
        "model_1.add(Dense(5, activation='relu'))\n",
        "model_1.add(Dropout(0.3))\n",
        "model_1.add(Dense(5, activation='relu'))\n",
        "model_1.add(Dense(1,  activation='sigmoid'))"
      ],
      "execution_count": 138,
      "outputs": []
    },
    {
      "cell_type": "code",
      "metadata": {
        "id": "-D8n1pd3Ai16"
      },
      "source": [
        "model_1.compile(optimizer = 'rmsprop', loss='binary_crossentropy', metrics=['accuracy'])"
      ],
      "execution_count": 139,
      "outputs": []
    },
    {
      "cell_type": "code",
      "metadata": {
        "colab": {
          "base_uri": "https://localhost:8080/"
        },
        "id": "8PJMD9f2AsC7",
        "outputId": "1a11eb7a-9fa4-42a4-8940-6fb6da008636"
      },
      "source": [
        "history_1 = model_1.fit(train_data, train_label, validation_data=(val_data,val_label), epochs=100, batch_size = 5)"
      ],
      "execution_count": 140,
      "outputs": [
        {
          "output_type": "stream",
          "text": [
            "Epoch 1/100\n",
            "41/41 [==============================] - 1s 7ms/step - loss: 0.6949 - accuracy: 0.5416 - val_loss: 0.6787 - val_accuracy: 0.7075\n",
            "Epoch 2/100\n",
            "41/41 [==============================] - 0s 4ms/step - loss: 0.6616 - accuracy: 0.6798 - val_loss: 0.6706 - val_accuracy: 0.7415\n",
            "Epoch 3/100\n",
            "41/41 [==============================] - 0s 4ms/step - loss: 0.6564 - accuracy: 0.6220 - val_loss: 0.6651 - val_accuracy: 0.7279\n",
            "Epoch 4/100\n",
            "41/41 [==============================] - 0s 4ms/step - loss: 0.6555 - accuracy: 0.7059 - val_loss: 0.6607 - val_accuracy: 0.7279\n",
            "Epoch 5/100\n",
            "41/41 [==============================] - 0s 4ms/step - loss: 0.6828 - accuracy: 0.6682 - val_loss: 0.6557 - val_accuracy: 0.7075\n",
            "Epoch 6/100\n",
            "41/41 [==============================] - 0s 4ms/step - loss: 0.6093 - accuracy: 0.7553 - val_loss: 0.6480 - val_accuracy: 0.7279\n",
            "Epoch 7/100\n",
            "41/41 [==============================] - 0s 4ms/step - loss: 0.6282 - accuracy: 0.7302 - val_loss: 0.6422 - val_accuracy: 0.7279\n",
            "Epoch 8/100\n",
            "41/41 [==============================] - 0s 5ms/step - loss: 0.6053 - accuracy: 0.7789 - val_loss: 0.6359 - val_accuracy: 0.7279\n",
            "Epoch 9/100\n",
            "41/41 [==============================] - 0s 4ms/step - loss: 0.5744 - accuracy: 0.8056 - val_loss: 0.6293 - val_accuracy: 0.7211\n",
            "Epoch 10/100\n",
            "41/41 [==============================] - 0s 4ms/step - loss: 0.5624 - accuracy: 0.7711 - val_loss: 0.6232 - val_accuracy: 0.7279\n",
            "Epoch 11/100\n",
            "41/41 [==============================] - 0s 5ms/step - loss: 0.5791 - accuracy: 0.7593 - val_loss: 0.6186 - val_accuracy: 0.7211\n",
            "Epoch 12/100\n",
            "41/41 [==============================] - 0s 4ms/step - loss: 0.5890 - accuracy: 0.7338 - val_loss: 0.6143 - val_accuracy: 0.7211\n",
            "Epoch 13/100\n",
            "41/41 [==============================] - 0s 4ms/step - loss: 0.5612 - accuracy: 0.7820 - val_loss: 0.6103 - val_accuracy: 0.7143\n",
            "Epoch 14/100\n",
            "41/41 [==============================] - 0s 5ms/step - loss: 0.5654 - accuracy: 0.8144 - val_loss: 0.6053 - val_accuracy: 0.7211\n",
            "Epoch 15/100\n",
            "41/41 [==============================] - 0s 5ms/step - loss: 0.5708 - accuracy: 0.7541 - val_loss: 0.6037 - val_accuracy: 0.7143\n",
            "Epoch 16/100\n",
            "41/41 [==============================] - 0s 5ms/step - loss: 0.5083 - accuracy: 0.7964 - val_loss: 0.5990 - val_accuracy: 0.7143\n",
            "Epoch 17/100\n",
            "41/41 [==============================] - 0s 5ms/step - loss: 0.5160 - accuracy: 0.8364 - val_loss: 0.5987 - val_accuracy: 0.6939\n",
            "Epoch 18/100\n",
            "41/41 [==============================] - 0s 5ms/step - loss: 0.5152 - accuracy: 0.8301 - val_loss: 0.5928 - val_accuracy: 0.7007\n",
            "Epoch 19/100\n",
            "41/41 [==============================] - 0s 5ms/step - loss: 0.4905 - accuracy: 0.8646 - val_loss: 0.5942 - val_accuracy: 0.6871\n",
            "Epoch 20/100\n",
            "41/41 [==============================] - 0s 5ms/step - loss: 0.4998 - accuracy: 0.8281 - val_loss: 0.5902 - val_accuracy: 0.6871\n",
            "Epoch 21/100\n",
            "41/41 [==============================] - 0s 4ms/step - loss: 0.4757 - accuracy: 0.8431 - val_loss: 0.5818 - val_accuracy: 0.7007\n",
            "Epoch 22/100\n",
            "41/41 [==============================] - 0s 5ms/step - loss: 0.4841 - accuracy: 0.8081 - val_loss: 0.5816 - val_accuracy: 0.6939\n",
            "Epoch 23/100\n",
            "41/41 [==============================] - 0s 5ms/step - loss: 0.5161 - accuracy: 0.7578 - val_loss: 0.5804 - val_accuracy: 0.6871\n",
            "Epoch 24/100\n",
            "41/41 [==============================] - 0s 5ms/step - loss: 0.4188 - accuracy: 0.8699 - val_loss: 0.5772 - val_accuracy: 0.6871\n",
            "Epoch 25/100\n",
            "41/41 [==============================] - 0s 4ms/step - loss: 0.5254 - accuracy: 0.7820 - val_loss: 0.5739 - val_accuracy: 0.6871\n",
            "Epoch 26/100\n",
            "41/41 [==============================] - 0s 4ms/step - loss: 0.4100 - accuracy: 0.8451 - val_loss: 0.5704 - val_accuracy: 0.6939\n",
            "Epoch 27/100\n",
            "41/41 [==============================] - 0s 5ms/step - loss: 0.4624 - accuracy: 0.8301 - val_loss: 0.5718 - val_accuracy: 0.6871\n",
            "Epoch 28/100\n",
            "41/41 [==============================] - 0s 4ms/step - loss: 0.4093 - accuracy: 0.8647 - val_loss: 0.5760 - val_accuracy: 0.6871\n",
            "Epoch 29/100\n",
            "41/41 [==============================] - 0s 4ms/step - loss: 0.4794 - accuracy: 0.7721 - val_loss: 0.5696 - val_accuracy: 0.6939\n",
            "Epoch 30/100\n",
            "41/41 [==============================] - 0s 5ms/step - loss: 0.4199 - accuracy: 0.8568 - val_loss: 0.5681 - val_accuracy: 0.6939\n",
            "Epoch 31/100\n",
            "41/41 [==============================] - 0s 5ms/step - loss: 0.3922 - accuracy: 0.8719 - val_loss: 0.5671 - val_accuracy: 0.6939\n",
            "Epoch 32/100\n",
            "41/41 [==============================] - 0s 4ms/step - loss: 0.4409 - accuracy: 0.8279 - val_loss: 0.5714 - val_accuracy: 0.6871\n",
            "Epoch 33/100\n",
            "41/41 [==============================] - 0s 4ms/step - loss: 0.4211 - accuracy: 0.8488 - val_loss: 0.5680 - val_accuracy: 0.7007\n",
            "Epoch 34/100\n",
            "41/41 [==============================] - 0s 5ms/step - loss: 0.4149 - accuracy: 0.8411 - val_loss: 0.5618 - val_accuracy: 0.7007\n",
            "Epoch 35/100\n",
            "41/41 [==============================] - 0s 5ms/step - loss: 0.4257 - accuracy: 0.8149 - val_loss: 0.5572 - val_accuracy: 0.7075\n",
            "Epoch 36/100\n",
            "41/41 [==============================] - 0s 4ms/step - loss: 0.3478 - accuracy: 0.8906 - val_loss: 0.5585 - val_accuracy: 0.7143\n",
            "Epoch 37/100\n",
            "41/41 [==============================] - 0s 5ms/step - loss: 0.4094 - accuracy: 0.8174 - val_loss: 0.5611 - val_accuracy: 0.7143\n",
            "Epoch 38/100\n",
            "41/41 [==============================] - 0s 5ms/step - loss: 0.4507 - accuracy: 0.8088 - val_loss: 0.5618 - val_accuracy: 0.7143\n",
            "Epoch 39/100\n",
            "41/41 [==============================] - 0s 4ms/step - loss: 0.3585 - accuracy: 0.8732 - val_loss: 0.5642 - val_accuracy: 0.7143\n",
            "Epoch 40/100\n",
            "41/41 [==============================] - 0s 5ms/step - loss: 0.3797 - accuracy: 0.8349 - val_loss: 0.5606 - val_accuracy: 0.7143\n",
            "Epoch 41/100\n",
            "41/41 [==============================] - 0s 5ms/step - loss: 0.3793 - accuracy: 0.8377 - val_loss: 0.5618 - val_accuracy: 0.7143\n",
            "Epoch 42/100\n",
            "41/41 [==============================] - 0s 4ms/step - loss: 0.3805 - accuracy: 0.8548 - val_loss: 0.5616 - val_accuracy: 0.7143\n",
            "Epoch 43/100\n",
            "41/41 [==============================] - 0s 4ms/step - loss: 0.3415 - accuracy: 0.8783 - val_loss: 0.5640 - val_accuracy: 0.7075\n",
            "Epoch 44/100\n",
            "41/41 [==============================] - 0s 4ms/step - loss: 0.2737 - accuracy: 0.9195 - val_loss: 0.5637 - val_accuracy: 0.7211\n",
            "Epoch 45/100\n",
            "41/41 [==============================] - 0s 5ms/step - loss: 0.3937 - accuracy: 0.8325 - val_loss: 0.5630 - val_accuracy: 0.7347\n",
            "Epoch 46/100\n",
            "41/41 [==============================] - 0s 4ms/step - loss: 0.4359 - accuracy: 0.8023 - val_loss: 0.5594 - val_accuracy: 0.7347\n",
            "Epoch 47/100\n",
            "41/41 [==============================] - 0s 5ms/step - loss: 0.3270 - accuracy: 0.8678 - val_loss: 0.5560 - val_accuracy: 0.7347\n",
            "Epoch 48/100\n",
            "41/41 [==============================] - 0s 5ms/step - loss: 0.2898 - accuracy: 0.8995 - val_loss: 0.5592 - val_accuracy: 0.7347\n",
            "Epoch 49/100\n",
            "41/41 [==============================] - 0s 5ms/step - loss: 0.3356 - accuracy: 0.8593 - val_loss: 0.5593 - val_accuracy: 0.7347\n",
            "Epoch 50/100\n",
            "41/41 [==============================] - 0s 5ms/step - loss: 0.2632 - accuracy: 0.9192 - val_loss: 0.5488 - val_accuracy: 0.7347\n",
            "Epoch 51/100\n",
            "41/41 [==============================] - 0s 5ms/step - loss: 0.3553 - accuracy: 0.8706 - val_loss: 0.5559 - val_accuracy: 0.7279\n",
            "Epoch 52/100\n",
            "41/41 [==============================] - 0s 5ms/step - loss: 0.3460 - accuracy: 0.8844 - val_loss: 0.5508 - val_accuracy: 0.7347\n",
            "Epoch 53/100\n",
            "41/41 [==============================] - 0s 5ms/step - loss: 0.2919 - accuracy: 0.8941 - val_loss: 0.5512 - val_accuracy: 0.7347\n",
            "Epoch 54/100\n",
            "41/41 [==============================] - 0s 4ms/step - loss: 0.3603 - accuracy: 0.8559 - val_loss: 0.5499 - val_accuracy: 0.7347\n",
            "Epoch 55/100\n",
            "41/41 [==============================] - 0s 5ms/step - loss: 0.3744 - accuracy: 0.8399 - val_loss: 0.5602 - val_accuracy: 0.7347\n",
            "Epoch 56/100\n",
            "41/41 [==============================] - 0s 5ms/step - loss: 0.2499 - accuracy: 0.9124 - val_loss: 0.5547 - val_accuracy: 0.7347\n",
            "Epoch 57/100\n",
            "41/41 [==============================] - 0s 4ms/step - loss: 0.3387 - accuracy: 0.8704 - val_loss: 0.5637 - val_accuracy: 0.7347\n",
            "Epoch 58/100\n",
            "41/41 [==============================] - 0s 4ms/step - loss: 0.3130 - accuracy: 0.8874 - val_loss: 0.5626 - val_accuracy: 0.7347\n",
            "Epoch 59/100\n",
            "41/41 [==============================] - 0s 4ms/step - loss: 0.3655 - accuracy: 0.8603 - val_loss: 0.5609 - val_accuracy: 0.7347\n",
            "Epoch 60/100\n",
            "41/41 [==============================] - 0s 4ms/step - loss: 0.3534 - accuracy: 0.8730 - val_loss: 0.5600 - val_accuracy: 0.7347\n",
            "Epoch 61/100\n",
            "41/41 [==============================] - 0s 5ms/step - loss: 0.2917 - accuracy: 0.8897 - val_loss: 0.5544 - val_accuracy: 0.7347\n",
            "Epoch 62/100\n",
            "41/41 [==============================] - 0s 5ms/step - loss: 0.3041 - accuracy: 0.8924 - val_loss: 0.5498 - val_accuracy: 0.7415\n",
            "Epoch 63/100\n",
            "41/41 [==============================] - 0s 4ms/step - loss: 0.4040 - accuracy: 0.8153 - val_loss: 0.5557 - val_accuracy: 0.7415\n",
            "Epoch 64/100\n",
            "41/41 [==============================] - 0s 4ms/step - loss: 0.2664 - accuracy: 0.8935 - val_loss: 0.5597 - val_accuracy: 0.7415\n",
            "Epoch 65/100\n",
            "41/41 [==============================] - 0s 4ms/step - loss: 0.2565 - accuracy: 0.9247 - val_loss: 0.5655 - val_accuracy: 0.7415\n",
            "Epoch 66/100\n",
            "41/41 [==============================] - 0s 5ms/step - loss: 0.2383 - accuracy: 0.9308 - val_loss: 0.5711 - val_accuracy: 0.7347\n",
            "Epoch 67/100\n",
            "41/41 [==============================] - 0s 5ms/step - loss: 0.2773 - accuracy: 0.8998 - val_loss: 0.5727 - val_accuracy: 0.7347\n",
            "Epoch 68/100\n",
            "41/41 [==============================] - 0s 5ms/step - loss: 0.3023 - accuracy: 0.8843 - val_loss: 0.5686 - val_accuracy: 0.7347\n",
            "Epoch 69/100\n",
            "41/41 [==============================] - 0s 5ms/step - loss: 0.3217 - accuracy: 0.8647 - val_loss: 0.5739 - val_accuracy: 0.7347\n",
            "Epoch 70/100\n",
            "41/41 [==============================] - 0s 5ms/step - loss: 0.2603 - accuracy: 0.9032 - val_loss: 0.5745 - val_accuracy: 0.7415\n",
            "Epoch 71/100\n",
            "41/41 [==============================] - 0s 5ms/step - loss: 0.2479 - accuracy: 0.9165 - val_loss: 0.5777 - val_accuracy: 0.7415\n",
            "Epoch 72/100\n",
            "41/41 [==============================] - 0s 5ms/step - loss: 0.3213 - accuracy: 0.8675 - val_loss: 0.5826 - val_accuracy: 0.7483\n",
            "Epoch 73/100\n",
            "41/41 [==============================] - 0s 5ms/step - loss: 0.2275 - accuracy: 0.9334 - val_loss: 0.5793 - val_accuracy: 0.7483\n",
            "Epoch 74/100\n",
            "41/41 [==============================] - 0s 5ms/step - loss: 0.2699 - accuracy: 0.9054 - val_loss: 0.5739 - val_accuracy: 0.7483\n",
            "Epoch 75/100\n",
            "41/41 [==============================] - 0s 4ms/step - loss: 0.3434 - accuracy: 0.8665 - val_loss: 0.5776 - val_accuracy: 0.7483\n",
            "Epoch 76/100\n",
            "41/41 [==============================] - 0s 4ms/step - loss: 0.2921 - accuracy: 0.8660 - val_loss: 0.5802 - val_accuracy: 0.7483\n",
            "Epoch 77/100\n",
            "41/41 [==============================] - 0s 5ms/step - loss: 0.2936 - accuracy: 0.9114 - val_loss: 0.5781 - val_accuracy: 0.7483\n",
            "Epoch 78/100\n",
            "41/41 [==============================] - 0s 5ms/step - loss: 0.2354 - accuracy: 0.9140 - val_loss: 0.5822 - val_accuracy: 0.7483\n",
            "Epoch 79/100\n",
            "41/41 [==============================] - 0s 5ms/step - loss: 0.1978 - accuracy: 0.9394 - val_loss: 0.5862 - val_accuracy: 0.7483\n",
            "Epoch 80/100\n",
            "41/41 [==============================] - 0s 4ms/step - loss: 0.2503 - accuracy: 0.9028 - val_loss: 0.5932 - val_accuracy: 0.7483\n",
            "Epoch 81/100\n",
            "41/41 [==============================] - 0s 4ms/step - loss: 0.3081 - accuracy: 0.8797 - val_loss: 0.5928 - val_accuracy: 0.7483\n",
            "Epoch 82/100\n",
            "41/41 [==============================] - 0s 5ms/step - loss: 0.2495 - accuracy: 0.9147 - val_loss: 0.5889 - val_accuracy: 0.7483\n",
            "Epoch 83/100\n",
            "41/41 [==============================] - 0s 4ms/step - loss: 0.2575 - accuracy: 0.9103 - val_loss: 0.5901 - val_accuracy: 0.7483\n",
            "Epoch 84/100\n",
            "41/41 [==============================] - 0s 5ms/step - loss: 0.2526 - accuracy: 0.9137 - val_loss: 0.5969 - val_accuracy: 0.7483\n",
            "Epoch 85/100\n",
            "41/41 [==============================] - 0s 5ms/step - loss: 0.2484 - accuracy: 0.9209 - val_loss: 0.5915 - val_accuracy: 0.7483\n",
            "Epoch 86/100\n",
            "41/41 [==============================] - 0s 5ms/step - loss: 0.1794 - accuracy: 0.9438 - val_loss: 0.5911 - val_accuracy: 0.7483\n",
            "Epoch 87/100\n",
            "41/41 [==============================] - 0s 5ms/step - loss: 0.2011 - accuracy: 0.9361 - val_loss: 0.5874 - val_accuracy: 0.7619\n",
            "Epoch 88/100\n",
            "41/41 [==============================] - 0s 5ms/step - loss: 0.2210 - accuracy: 0.9416 - val_loss: 0.5856 - val_accuracy: 0.7619\n",
            "Epoch 89/100\n",
            "41/41 [==============================] - 0s 5ms/step - loss: 0.2045 - accuracy: 0.9358 - val_loss: 0.5876 - val_accuracy: 0.7551\n",
            "Epoch 90/100\n",
            "41/41 [==============================] - 0s 4ms/step - loss: 0.3155 - accuracy: 0.8852 - val_loss: 0.5884 - val_accuracy: 0.7551\n",
            "Epoch 91/100\n",
            "41/41 [==============================] - 0s 5ms/step - loss: 0.1904 - accuracy: 0.9399 - val_loss: 0.5876 - val_accuracy: 0.7551\n",
            "Epoch 92/100\n",
            "41/41 [==============================] - 0s 4ms/step - loss: 0.2889 - accuracy: 0.8973 - val_loss: 0.5818 - val_accuracy: 0.7687\n",
            "Epoch 93/100\n",
            "41/41 [==============================] - 0s 5ms/step - loss: 0.1947 - accuracy: 0.9465 - val_loss: 0.5829 - val_accuracy: 0.7687\n",
            "Epoch 94/100\n",
            "41/41 [==============================] - 0s 5ms/step - loss: 0.2263 - accuracy: 0.9006 - val_loss: 0.5799 - val_accuracy: 0.7687\n",
            "Epoch 95/100\n",
            "41/41 [==============================] - 0s 4ms/step - loss: 0.2799 - accuracy: 0.9036 - val_loss: 0.5794 - val_accuracy: 0.7619\n",
            "Epoch 96/100\n",
            "41/41 [==============================] - 0s 4ms/step - loss: 0.2936 - accuracy: 0.8808 - val_loss: 0.5788 - val_accuracy: 0.7619\n",
            "Epoch 97/100\n",
            "41/41 [==============================] - 0s 5ms/step - loss: 0.2720 - accuracy: 0.9068 - val_loss: 0.5680 - val_accuracy: 0.7755\n",
            "Epoch 98/100\n",
            "41/41 [==============================] - 0s 5ms/step - loss: 0.2164 - accuracy: 0.9374 - val_loss: 0.5782 - val_accuracy: 0.7619\n",
            "Epoch 99/100\n",
            "41/41 [==============================] - 0s 4ms/step - loss: 0.2786 - accuracy: 0.9036 - val_loss: 0.5806 - val_accuracy: 0.7619\n",
            "Epoch 100/100\n",
            "41/41 [==============================] - 0s 4ms/step - loss: 0.2019 - accuracy: 0.9379 - val_loss: 0.5904 - val_accuracy: 0.7619\n"
          ],
          "name": "stdout"
        }
      ]
    },
    {
      "cell_type": "code",
      "metadata": {
        "id": "EAtfAQBJov92"
      },
      "source": [
        ""
      ],
      "execution_count": 140,
      "outputs": []
    },
    {
      "cell_type": "code",
      "metadata": {
        "id": "-fFaCZhXmiyb",
        "outputId": "2bf51753-9458-4d4c-8435-fc00283911ad",
        "colab": {
          "base_uri": "https://localhost:8080/",
          "height": 295
        }
      },
      "source": [
        "import matplotlib.pyplot as plt\n",
        "plt.plot(history_1.history['accuracy'])\n",
        "plt.plot(history_1.history['val_accuracy'])\n",
        "plt.title('model accuracy')\n",
        "plt.ylabel('accuracy')\n",
        "plt.xlabel('epoch')\n",
        "plt.legend(['train', 'test'], loc='upper left')\n",
        "plt.show()"
      ],
      "execution_count": 141,
      "outputs": [
        {
          "output_type": "display_data",
          "data": {
            "image/png": "[encoded data removed]",
            "text/plain": [
              "<Figure size 432x288 with 1 Axes>"
            ]
          },
          "metadata": {
            "tags": [],
            "needs_background": "light"
          }
        }
      ]
    },
    {
      "cell_type": "code",
      "metadata": {
        "id": "blmN1L3gmiyd",
        "outputId": "61ca9fb4-f3e9-4050-985a-c021e5a2fef6",
        "colab": {
          "base_uri": "https://localhost:8080/",
          "height": 295
        }
      },
      "source": [
        "plt.plot(history_1.history['loss'])\n",
        "plt.plot(history_1.history['val_loss'])\n",
        "plt.title('model loss')\n",
        "plt.ylabel('loss')\n",
        "plt.xlabel('epoch')\n",
        "plt.legend(['train', 'test'], loc='upper left')\n",
        "plt.show()"
      ],
      "execution_count": 142,
      "outputs": [
        {
          "output_type": "display_data",
          "data": {
            "image/png": "[encoded data removed]",
            "text/plain": [
              "<Figure size 432x288 with 1 Axes>"
            ]
          },
          "metadata": {
            "tags": [],
            "needs_background": "light"
          }
        }
      ]
    },
    {
      "cell_type": "code",
      "metadata": {
        "id": "TOY-gPKBmiXm"
      },
      "source": [
        ""
      ],
      "execution_count": 142,
      "outputs": []
    },
    {
      "cell_type": "code",
      "metadata": {
        "colab": {
          "base_uri": "https://localhost:8080/"
        },
        "id": "ywBpZ_mXCRLi",
        "outputId": "f6012ac3-a02b-46bf-f005-d268570ecdf0"
      },
      "source": [
        "score = model.evaluate(test_data, test_label)\n",
        "score_1 = model_1.evaluate(test_data, test_label)\n"
      ],
      "execution_count": 143,
      "outputs": [
        {
          "output_type": "stream",
          "text": [
            "5/5 [==============================] - 0s 2ms/step - loss: 0.2731 - accuracy: 0.9252\n",
            "5/5 [==============================] - 0s 2ms/step - loss: 0.2123 - accuracy: 0.9524\n"
          ],
          "name": "stdout"
        }
      ]
    },
    {
      "cell_type": "code",
      "metadata": {
        "id": "a6ib7-TgDYKY"
      },
      "source": [
        "predictions=model_1.predict(test_data)"
      ],
      "execution_count": 148,
      "outputs": []
    },
    {
      "cell_type": "code",
      "metadata": {
        "id": "D0ldSn5VD3us"
      },
      "source": [
        "y_pred = (predictions > 0.5)"
      ],
      "execution_count": 149,
      "outputs": []
    },
    {
      "cell_type": "code",
      "metadata": {
        "colab": {
          "base_uri": "https://localhost:8080/"
        },
        "id": "ErnsldNaD5pb",
        "outputId": "2178f7c5-019b-46a2-b426-c05cafb34b35"
      },
      "source": [
        "tf.math.confusion_matrix(\n",
        "    test_label, y_pred, num_classes=2, weights=None, dtype=tf.dtypes.int32,\n",
        "    name=None\n",
        ")"
      ],
      "execution_count": 150,
      "outputs": [
        {
          "output_type": "execute_result",
          "data": {
            "text/plain": [
              "<tf.Tensor: shape=(2, 2), dtype=int32, numpy=\n",
              "array([[44,  6],\n",
              "       [ 1, 96]], dtype=int32)>"
            ]
          },
          "metadata": {
            "tags": []
          },
          "execution_count": 150
        }
      ]
    },
    {
      "cell_type": "code",
      "metadata": {
        "colab": {
          "base_uri": "https://localhost:8080/"
        },
        "id": "hRwEF7NgELBp",
        "outputId": "f49a8fbd-ebdf-4a52-dca1-9696203051d5"
      },
      "source": [
        "from sklearn.metrics import classification_report\n",
        "print(classification_report(test_label,y_pred))"
      ],
      "execution_count": 151,
      "outputs": [
        {
          "output_type": "stream",
          "text": [
            "              precision    recall  f1-score   support\n",
            "\n",
            "         0.0       0.98      0.88      0.93        50\n",
            "         1.0       0.94      0.99      0.96        97\n",
            "\n",
            "    accuracy                           0.95       147\n",
            "   macro avg       0.96      0.93      0.95       147\n",
            "weighted avg       0.95      0.95      0.95       147\n",
            "\n"
          ],
          "name": "stdout"
        }
      ]
    }
  ]
}