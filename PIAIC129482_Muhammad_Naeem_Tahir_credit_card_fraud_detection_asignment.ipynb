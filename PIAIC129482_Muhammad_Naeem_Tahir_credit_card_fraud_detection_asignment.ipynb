{
  "nbformat": 4,
  "nbformat_minor": 0,
  "metadata": {
    "colab": {
      "name": "PIAIC129482-Muhammad-Naeem-Tahir-credit-card-fraud-detection-asignment.ipynb",
      "provenance": [],
      "authorship_tag": "ABX9TyMB+jkpojeGEdglao1VDj88",
      "include_colab_link": true
    },
    "kernelspec": {
      "name": "python3",
      "display_name": "Python 3"
    },
    "language_info": {
      "name": "python"
    }
  },
  "cells": [
    {
      "cell_type": "markdown",
      "metadata": {
        "id": "view-in-github",
        "colab_type": "text"
      },
      "source": [
        "<a href=\"https://colab.research.google.com/github/muhammad-naeem-tahir/Assignments/blob/main/PIAIC129482_Muhammad_Naeem_Tahir_credit_card_fraud_detection_asignment.ipynb\" target=\"_parent\"><img src=\"https://colab.research.google.com/assets/colab-badge.svg\" alt=\"Open In Colab\"/></a>"
      ]
    },
    {
      "cell_type": "code",
      "metadata": {
        "id": "8PtHQ_w1PHcs"
      },
      "source": [
        "import numpy as np\n",
        "import pandas as pd\n",
        "import tensorflow as tf\n",
        "from tensorflow.keras import models\n",
        "from tensorflow.keras import layers\n",
        "from tensorflow.keras.preprocessing.image import ImageDataGenerator\n",
        "from tensorflow.keras.models import Sequential\n",
        "from tensorflow.keras.layers import Dense, Flatten\n",
        "from tensorflow.keras.optimizers import RMSprop\n",
        "from keras import models,layers\n",
        "from keras import regularizers"
      ],
      "execution_count": 58,
      "outputs": []
    },
    {
      "cell_type": "code",
      "metadata": {
        "colab": {
          "resources": {
            "http://localhost:8080/nbextensions/google.colab/files.js": {
              "data": "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",
              "ok": true,
              "headers": [
                [
                  "content-type",
                  "application/javascript"
                ]
              ],
              "status": 200,
              "status_text": "OK"
            }
          },
          "base_uri": "https://localhost:8080/",
          "height": 79
        },
        "id": "J4_5KDQdzEdW",
        "outputId": "86b1f395-1dc2-47c1-9712-dfe63688c538"
      },
      "source": [
        "from google.colab import files\n",
        "uploaded = files.upload()\n"
      ],
      "execution_count": 2,
      "outputs": [
        {
          "output_type": "display_data",
          "data": {
            "text/html": [
              "\n",
              "     <input type=\"file\" id=\"files-720eb4a2-bf93-49b3-ba70-5002d22dd1f3\" name=\"files[]\" multiple disabled\n",
              "        style=\"border:none\" />\n",
              "     <output id=\"result-720eb4a2-bf93-49b3-ba70-5002d22dd1f3\">\n",
              "      Upload widget is only available when the cell has been executed in the\n",
              "      current browser session. Please rerun this cell to enable.\n",
              "      </output>\n",
              "      <script src=\"/nbextensions/google.colab/files.js\"></script> "
            ],
            "text/plain": [
              "<IPython.core.display.HTML object>"
            ]
          },
          "metadata": {
            "tags": []
          }
        },
        {
          "output_type": "stream",
          "text": [
            "Saving creditcard.csv to creditcard.csv\n"
          ],
          "name": "stdout"
        }
      ]
    },
    {
      "cell_type": "code",
      "metadata": {
        "id": "QnMQW94gNPs9"
      },
      "source": [
        "import io\n",
        "df = pd.read_csv(io.BytesIO(uploaded['creditcard.csv']))"
      ],
      "execution_count": 4,
      "outputs": []
    },
    {
      "cell_type": "code",
      "metadata": {
        "colab": {
          "base_uri": "https://localhost:8080/",
          "height": 226
        },
        "id": "3TdV-Se8Nl2S",
        "outputId": "6f9ac4b3-fa8b-400d-bcaa-32d423004681"
      },
      "source": [
        "df.head(5)"
      ],
      "execution_count": 6,
      "outputs": [
        {
          "output_type": "execute_result",
          "data": {
            "text/html": [
              "<div>\n",
              "<style scoped>\n",
              "    .dataframe tbody tr th:only-of-type {\n",
              "        vertical-align: middle;\n",
              "    }\n",
              "\n",
              "    .dataframe tbody tr th {\n",
              "        vertical-align: top;\n",
              "    }\n",
              "\n",
              "    .dataframe thead th {\n",
              "        text-align: right;\n",
              "    }\n",
              "</style>\n",
              "<table border=\"1\" class=\"dataframe\">\n",
              "  <thead>\n",
              "    <tr style=\"text-align: right;\">\n",
              "      <th></th>\n",
              "      <th>Time</th>\n",
              "      <th>V1</th>\n",
              "      <th>V2</th>\n",
              "      <th>V3</th>\n",
              "      <th>V4</th>\n",
              "      <th>V5</th>\n",
              "      <th>V6</th>\n",
              "      <th>V7</th>\n",
              "      <th>V8</th>\n",
              "      <th>V9</th>\n",
              "      <th>V10</th>\n",
              "      <th>V11</th>\n",
              "      <th>V12</th>\n",
              "      <th>V13</th>\n",
              "      <th>V14</th>\n",
              "      <th>V15</th>\n",
              "      <th>V16</th>\n",
              "      <th>V17</th>\n",
              "      <th>V18</th>\n",
              "      <th>V19</th>\n",
              "      <th>V20</th>\n",
              "      <th>V21</th>\n",
              "      <th>V22</th>\n",
              "      <th>V23</th>\n",
              "      <th>V24</th>\n",
              "      <th>V25</th>\n",
              "      <th>V26</th>\n",
              "      <th>V27</th>\n",
              "      <th>V28</th>\n",
              "      <th>Amount</th>\n",
              "      <th>Class</th>\n",
              "    </tr>\n",
              "  </thead>\n",
              "  <tbody>\n",
              "    <tr>\n",
              "      <th>0</th>\n",
              "      <td>0.0</td>\n",
              "      <td>-1.359807</td>\n",
              "      <td>-0.072781</td>\n",
              "      <td>2.536347</td>\n",
              "      <td>1.378155</td>\n",
              "      <td>-0.338321</td>\n",
              "      <td>0.462388</td>\n",
              "      <td>0.239599</td>\n",
              "      <td>0.098698</td>\n",
              "      <td>0.363787</td>\n",
              "      <td>0.090794</td>\n",
              "      <td>-0.551600</td>\n",
              "      <td>-0.617801</td>\n",
              "      <td>-0.991390</td>\n",
              "      <td>-0.311169</td>\n",
              "      <td>1.468177</td>\n",
              "      <td>-0.470401</td>\n",
              "      <td>0.207971</td>\n",
              "      <td>0.025791</td>\n",
              "      <td>0.403993</td>\n",
              "      <td>0.251412</td>\n",
              "      <td>-0.018307</td>\n",
              "      <td>0.277838</td>\n",
              "      <td>-0.110474</td>\n",
              "      <td>0.066928</td>\n",
              "      <td>0.128539</td>\n",
              "      <td>-0.189115</td>\n",
              "      <td>0.133558</td>\n",
              "      <td>-0.021053</td>\n",
              "      <td>149.62</td>\n",
              "      <td>0</td>\n",
              "    </tr>\n",
              "    <tr>\n",
              "      <th>1</th>\n",
              "      <td>0.0</td>\n",
              "      <td>1.191857</td>\n",
              "      <td>0.266151</td>\n",
              "      <td>0.166480</td>\n",
              "      <td>0.448154</td>\n",
              "      <td>0.060018</td>\n",
              "      <td>-0.082361</td>\n",
              "      <td>-0.078803</td>\n",
              "      <td>0.085102</td>\n",
              "      <td>-0.255425</td>\n",
              "      <td>-0.166974</td>\n",
              "      <td>1.612727</td>\n",
              "      <td>1.065235</td>\n",
              "      <td>0.489095</td>\n",
              "      <td>-0.143772</td>\n",
              "      <td>0.635558</td>\n",
              "      <td>0.463917</td>\n",
              "      <td>-0.114805</td>\n",
              "      <td>-0.183361</td>\n",
              "      <td>-0.145783</td>\n",
              "      <td>-0.069083</td>\n",
              "      <td>-0.225775</td>\n",
              "      <td>-0.638672</td>\n",
              "      <td>0.101288</td>\n",
              "      <td>-0.339846</td>\n",
              "      <td>0.167170</td>\n",
              "      <td>0.125895</td>\n",
              "      <td>-0.008983</td>\n",
              "      <td>0.014724</td>\n",
              "      <td>2.69</td>\n",
              "      <td>0</td>\n",
              "    </tr>\n",
              "    <tr>\n",
              "      <th>2</th>\n",
              "      <td>1.0</td>\n",
              "      <td>-1.358354</td>\n",
              "      <td>-1.340163</td>\n",
              "      <td>1.773209</td>\n",
              "      <td>0.379780</td>\n",
              "      <td>-0.503198</td>\n",
              "      <td>1.800499</td>\n",
              "      <td>0.791461</td>\n",
              "      <td>0.247676</td>\n",
              "      <td>-1.514654</td>\n",
              "      <td>0.207643</td>\n",
              "      <td>0.624501</td>\n",
              "      <td>0.066084</td>\n",
              "      <td>0.717293</td>\n",
              "      <td>-0.165946</td>\n",
              "      <td>2.345865</td>\n",
              "      <td>-2.890083</td>\n",
              "      <td>1.109969</td>\n",
              "      <td>-0.121359</td>\n",
              "      <td>-2.261857</td>\n",
              "      <td>0.524980</td>\n",
              "      <td>0.247998</td>\n",
              "      <td>0.771679</td>\n",
              "      <td>0.909412</td>\n",
              "      <td>-0.689281</td>\n",
              "      <td>-0.327642</td>\n",
              "      <td>-0.139097</td>\n",
              "      <td>-0.055353</td>\n",
              "      <td>-0.059752</td>\n",
              "      <td>378.66</td>\n",
              "      <td>0</td>\n",
              "    </tr>\n",
              "    <tr>\n",
              "      <th>3</th>\n",
              "      <td>1.0</td>\n",
              "      <td>-0.966272</td>\n",
              "      <td>-0.185226</td>\n",
              "      <td>1.792993</td>\n",
              "      <td>-0.863291</td>\n",
              "      <td>-0.010309</td>\n",
              "      <td>1.247203</td>\n",
              "      <td>0.237609</td>\n",
              "      <td>0.377436</td>\n",
              "      <td>-1.387024</td>\n",
              "      <td>-0.054952</td>\n",
              "      <td>-0.226487</td>\n",
              "      <td>0.178228</td>\n",
              "      <td>0.507757</td>\n",
              "      <td>-0.287924</td>\n",
              "      <td>-0.631418</td>\n",
              "      <td>-1.059647</td>\n",
              "      <td>-0.684093</td>\n",
              "      <td>1.965775</td>\n",
              "      <td>-1.232622</td>\n",
              "      <td>-0.208038</td>\n",
              "      <td>-0.108300</td>\n",
              "      <td>0.005274</td>\n",
              "      <td>-0.190321</td>\n",
              "      <td>-1.175575</td>\n",
              "      <td>0.647376</td>\n",
              "      <td>-0.221929</td>\n",
              "      <td>0.062723</td>\n",
              "      <td>0.061458</td>\n",
              "      <td>123.50</td>\n",
              "      <td>0</td>\n",
              "    </tr>\n",
              "    <tr>\n",
              "      <th>4</th>\n",
              "      <td>2.0</td>\n",
              "      <td>-1.158233</td>\n",
              "      <td>0.877737</td>\n",
              "      <td>1.548718</td>\n",
              "      <td>0.403034</td>\n",
              "      <td>-0.407193</td>\n",
              "      <td>0.095921</td>\n",
              "      <td>0.592941</td>\n",
              "      <td>-0.270533</td>\n",
              "      <td>0.817739</td>\n",
              "      <td>0.753074</td>\n",
              "      <td>-0.822843</td>\n",
              "      <td>0.538196</td>\n",
              "      <td>1.345852</td>\n",
              "      <td>-1.119670</td>\n",
              "      <td>0.175121</td>\n",
              "      <td>-0.451449</td>\n",
              "      <td>-0.237033</td>\n",
              "      <td>-0.038195</td>\n",
              "      <td>0.803487</td>\n",
              "      <td>0.408542</td>\n",
              "      <td>-0.009431</td>\n",
              "      <td>0.798278</td>\n",
              "      <td>-0.137458</td>\n",
              "      <td>0.141267</td>\n",
              "      <td>-0.206010</td>\n",
              "      <td>0.502292</td>\n",
              "      <td>0.219422</td>\n",
              "      <td>0.215153</td>\n",
              "      <td>69.99</td>\n",
              "      <td>0</td>\n",
              "    </tr>\n",
              "  </tbody>\n",
              "</table>\n",
              "</div>"
            ],
            "text/plain": [
              "   Time        V1        V2        V3  ...       V27       V28  Amount  Class\n",
              "0   0.0 -1.359807 -0.072781  2.536347  ...  0.133558 -0.021053  149.62      0\n",
              "1   0.0  1.191857  0.266151  0.166480  ... -0.008983  0.014724    2.69      0\n",
              "2   1.0 -1.358354 -1.340163  1.773209  ... -0.055353 -0.059752  378.66      0\n",
              "3   1.0 -0.966272 -0.185226  1.792993  ...  0.062723  0.061458  123.50      0\n",
              "4   2.0 -1.158233  0.877737  1.548718  ...  0.219422  0.215153   69.99      0\n",
              "\n",
              "[5 rows x 31 columns]"
            ]
          },
          "metadata": {
            "tags": []
          },
          "execution_count": 6
        }
      ]
    },
    {
      "cell_type": "code",
      "metadata": {
        "colab": {
          "base_uri": "https://localhost:8080/"
        },
        "id": "QwXceARdNz3n",
        "outputId": "616d5b5a-68fe-41e3-80d6-6c82d877eff7"
      },
      "source": [
        "df.shape"
      ],
      "execution_count": 8,
      "outputs": [
        {
          "output_type": "execute_result",
          "data": {
            "text/plain": [
              "(284807, 31)"
            ]
          },
          "metadata": {
            "tags": []
          },
          "execution_count": 8
        }
      ]
    },
    {
      "cell_type": "code",
      "metadata": {
        "id": "UkjL81R5QcTy"
      },
      "source": [
        ""
      ],
      "execution_count": null,
      "outputs": []
    },
    {
      "cell_type": "code",
      "metadata": {
        "id": "fKQ-CZNMYlU9",
        "colab": {
          "base_uri": "https://localhost:8080/"
        },
        "outputId": "3f8f07c3-b958-4ce1-fc3f-42127fbcc2a7"
      },
      "source": [
        "train_data.shape"
      ],
      "execution_count": 88,
      "outputs": [
        {
          "output_type": "execute_result",
          "data": {
            "text/plain": [
              "(989, 31)"
            ]
          },
          "metadata": {
            "tags": []
          },
          "execution_count": 88
        }
      ]
    },
    {
      "cell_type": "code",
      "metadata": {
        "id": "81i6zbJnN6O9"
      },
      "source": [
        "non_fraud=df[df[\"Class\"]==0]\n",
        "fraud = df[df[\"Class\"]==1]\n",
        "non_fraud=non_fraud.sample(3*fraud.shape[0])\n",
        "data = fraud.append(non_fraud, ignore_index=True)\n",
        "# data[\"Class\"].value_counts()\n",
        "# x_data= data.drop(columns=\"Class\", axis=0)\n",
        "# label = data[\"Class\"]"
      ],
      "execution_count": 70,
      "outputs": []
    },
    {
      "cell_type": "code",
      "metadata": {
        "id": "f_xCtMXJOLdu"
      },
      "source": [
        "np.random.seed(11)\n",
        "msk = np.random.rand(len(data)) <= 0.50\n",
        "train_data = data[msk]\n",
        "temp = data[~msk]\n",
        "msk1 = np.random.rand(len(temp)) <= 0.60\n",
        "test_data = temp[msk1]\n",
        "val_data = temp[~msk1]\n"
      ],
      "execution_count": 87,
      "outputs": []
    },
    {
      "cell_type": "code",
      "metadata": {
        "id": "oO6a7I3B6Kib"
      },
      "source": [
        "train_label = train_data.iloc[:,-1]\n",
        "train_data = train_data.iloc[:,0:-1]\n",
        "test_label = test_data.iloc[:,-1]\n",
        "test_data = test_data.iloc[:,0:-1]\n",
        "val_label = val_data.iloc[:,-1]\n",
        "val_data = val_data.iloc[:,0:-1]"
      ],
      "execution_count": 89,
      "outputs": []
    },
    {
      "cell_type": "code",
      "metadata": {
        "colab": {
          "base_uri": "https://localhost:8080/",
          "height": 226
        },
        "id": "IMuT2a8yYiU8",
        "outputId": "234a3260-52c9-44af-ebbf-46044f87d4fd"
      },
      "source": [
        "train_data.head()\n"
      ],
      "execution_count": 90,
      "outputs": [
        {
          "output_type": "execute_result",
          "data": {
            "text/html": [
              "<div>\n",
              "<style scoped>\n",
              "    .dataframe tbody tr th:only-of-type {\n",
              "        vertical-align: middle;\n",
              "    }\n",
              "\n",
              "    .dataframe tbody tr th {\n",
              "        vertical-align: top;\n",
              "    }\n",
              "\n",
              "    .dataframe thead th {\n",
              "        text-align: right;\n",
              "    }\n",
              "</style>\n",
              "<table border=\"1\" class=\"dataframe\">\n",
              "  <thead>\n",
              "    <tr style=\"text-align: right;\">\n",
              "      <th></th>\n",
              "      <th>Time</th>\n",
              "      <th>V1</th>\n",
              "      <th>V2</th>\n",
              "      <th>V3</th>\n",
              "      <th>V4</th>\n",
              "      <th>V5</th>\n",
              "      <th>V6</th>\n",
              "      <th>V7</th>\n",
              "      <th>V8</th>\n",
              "      <th>V9</th>\n",
              "      <th>V10</th>\n",
              "      <th>V11</th>\n",
              "      <th>V12</th>\n",
              "      <th>V13</th>\n",
              "      <th>V14</th>\n",
              "      <th>V15</th>\n",
              "      <th>V16</th>\n",
              "      <th>V17</th>\n",
              "      <th>V18</th>\n",
              "      <th>V19</th>\n",
              "      <th>V20</th>\n",
              "      <th>V21</th>\n",
              "      <th>V22</th>\n",
              "      <th>V23</th>\n",
              "      <th>V24</th>\n",
              "      <th>V25</th>\n",
              "      <th>V26</th>\n",
              "      <th>V27</th>\n",
              "      <th>V28</th>\n",
              "      <th>Amount</th>\n",
              "    </tr>\n",
              "  </thead>\n",
              "  <tbody>\n",
              "    <tr>\n",
              "      <th>0</th>\n",
              "      <td>406.0</td>\n",
              "      <td>-2.312227</td>\n",
              "      <td>1.951992</td>\n",
              "      <td>-1.609851</td>\n",
              "      <td>3.997906</td>\n",
              "      <td>-0.522188</td>\n",
              "      <td>-1.426545</td>\n",
              "      <td>-2.537387</td>\n",
              "      <td>1.391657</td>\n",
              "      <td>-2.770089</td>\n",
              "      <td>-2.772272</td>\n",
              "      <td>3.202033</td>\n",
              "      <td>-2.899907</td>\n",
              "      <td>-0.595222</td>\n",
              "      <td>-4.289254</td>\n",
              "      <td>0.389724</td>\n",
              "      <td>-1.140747</td>\n",
              "      <td>-2.830056</td>\n",
              "      <td>-0.016822</td>\n",
              "      <td>0.416956</td>\n",
              "      <td>0.126911</td>\n",
              "      <td>0.517232</td>\n",
              "      <td>-0.035049</td>\n",
              "      <td>-0.465211</td>\n",
              "      <td>0.320198</td>\n",
              "      <td>0.044519</td>\n",
              "      <td>0.177840</td>\n",
              "      <td>0.261145</td>\n",
              "      <td>-0.143276</td>\n",
              "      <td>0.00</td>\n",
              "    </tr>\n",
              "    <tr>\n",
              "      <th>1</th>\n",
              "      <td>472.0</td>\n",
              "      <td>-3.043541</td>\n",
              "      <td>-3.157307</td>\n",
              "      <td>1.088463</td>\n",
              "      <td>2.288644</td>\n",
              "      <td>1.359805</td>\n",
              "      <td>-1.064823</td>\n",
              "      <td>0.325574</td>\n",
              "      <td>-0.067794</td>\n",
              "      <td>-0.270953</td>\n",
              "      <td>-0.838587</td>\n",
              "      <td>-0.414575</td>\n",
              "      <td>-0.503141</td>\n",
              "      <td>0.676502</td>\n",
              "      <td>-1.692029</td>\n",
              "      <td>2.000635</td>\n",
              "      <td>0.666780</td>\n",
              "      <td>0.599717</td>\n",
              "      <td>1.725321</td>\n",
              "      <td>0.283345</td>\n",
              "      <td>2.102339</td>\n",
              "      <td>0.661696</td>\n",
              "      <td>0.435477</td>\n",
              "      <td>1.375966</td>\n",
              "      <td>-0.293803</td>\n",
              "      <td>0.279798</td>\n",
              "      <td>-0.145362</td>\n",
              "      <td>-0.252773</td>\n",
              "      <td>0.035764</td>\n",
              "      <td>529.00</td>\n",
              "    </tr>\n",
              "    <tr>\n",
              "      <th>2</th>\n",
              "      <td>4462.0</td>\n",
              "      <td>-2.303350</td>\n",
              "      <td>1.759247</td>\n",
              "      <td>-0.359745</td>\n",
              "      <td>2.330243</td>\n",
              "      <td>-0.821628</td>\n",
              "      <td>-0.075788</td>\n",
              "      <td>0.562320</td>\n",
              "      <td>-0.399147</td>\n",
              "      <td>-0.238253</td>\n",
              "      <td>-1.525412</td>\n",
              "      <td>2.032912</td>\n",
              "      <td>-6.560124</td>\n",
              "      <td>0.022937</td>\n",
              "      <td>-1.470102</td>\n",
              "      <td>-0.698826</td>\n",
              "      <td>-2.282194</td>\n",
              "      <td>-4.781831</td>\n",
              "      <td>-2.615665</td>\n",
              "      <td>-1.334441</td>\n",
              "      <td>-0.430022</td>\n",
              "      <td>-0.294166</td>\n",
              "      <td>-0.932391</td>\n",
              "      <td>0.172726</td>\n",
              "      <td>-0.087330</td>\n",
              "      <td>-0.156114</td>\n",
              "      <td>-0.542628</td>\n",
              "      <td>0.039566</td>\n",
              "      <td>-0.153029</td>\n",
              "      <td>239.93</td>\n",
              "    </tr>\n",
              "    <tr>\n",
              "      <th>4</th>\n",
              "      <td>7519.0</td>\n",
              "      <td>1.234235</td>\n",
              "      <td>3.019740</td>\n",
              "      <td>-4.304597</td>\n",
              "      <td>4.732795</td>\n",
              "      <td>3.624201</td>\n",
              "      <td>-1.357746</td>\n",
              "      <td>1.713445</td>\n",
              "      <td>-0.496358</td>\n",
              "      <td>-1.282858</td>\n",
              "      <td>-2.447469</td>\n",
              "      <td>2.101344</td>\n",
              "      <td>-4.609628</td>\n",
              "      <td>1.464378</td>\n",
              "      <td>-6.079337</td>\n",
              "      <td>-0.339237</td>\n",
              "      <td>2.581851</td>\n",
              "      <td>6.739384</td>\n",
              "      <td>3.042493</td>\n",
              "      <td>-2.721853</td>\n",
              "      <td>0.009061</td>\n",
              "      <td>-0.379068</td>\n",
              "      <td>-0.704181</td>\n",
              "      <td>-0.656805</td>\n",
              "      <td>-1.632653</td>\n",
              "      <td>1.488901</td>\n",
              "      <td>0.566797</td>\n",
              "      <td>-0.010016</td>\n",
              "      <td>0.146793</td>\n",
              "      <td>1.00</td>\n",
              "    </tr>\n",
              "    <tr>\n",
              "      <th>5</th>\n",
              "      <td>7526.0</td>\n",
              "      <td>0.008430</td>\n",
              "      <td>4.137837</td>\n",
              "      <td>-6.240697</td>\n",
              "      <td>6.675732</td>\n",
              "      <td>0.768307</td>\n",
              "      <td>-3.353060</td>\n",
              "      <td>-1.631735</td>\n",
              "      <td>0.154612</td>\n",
              "      <td>-2.795892</td>\n",
              "      <td>-6.187891</td>\n",
              "      <td>5.664395</td>\n",
              "      <td>-9.854485</td>\n",
              "      <td>-0.306167</td>\n",
              "      <td>-10.691196</td>\n",
              "      <td>-0.638498</td>\n",
              "      <td>-2.041974</td>\n",
              "      <td>-1.129056</td>\n",
              "      <td>0.116453</td>\n",
              "      <td>-1.934666</td>\n",
              "      <td>0.488378</td>\n",
              "      <td>0.364514</td>\n",
              "      <td>-0.608057</td>\n",
              "      <td>-0.539528</td>\n",
              "      <td>0.128940</td>\n",
              "      <td>1.488481</td>\n",
              "      <td>0.507963</td>\n",
              "      <td>0.735822</td>\n",
              "      <td>0.513574</td>\n",
              "      <td>1.00</td>\n",
              "    </tr>\n",
              "  </tbody>\n",
              "</table>\n",
              "</div>"
            ],
            "text/plain": [
              "     Time        V1        V2        V3  ...       V26       V27       V28  Amount\n",
              "0   406.0 -2.312227  1.951992 -1.609851  ...  0.177840  0.261145 -0.143276    0.00\n",
              "1   472.0 -3.043541 -3.157307  1.088463  ... -0.145362 -0.252773  0.035764  529.00\n",
              "2  4462.0 -2.303350  1.759247 -0.359745  ... -0.542628  0.039566 -0.153029  239.93\n",
              "4  7519.0  1.234235  3.019740 -4.304597  ...  0.566797 -0.010016  0.146793    1.00\n",
              "5  7526.0  0.008430  4.137837 -6.240697  ...  0.507963  0.735822  0.513574    1.00\n",
              "\n",
              "[5 rows x 30 columns]"
            ]
          },
          "metadata": {
            "tags": []
          },
          "execution_count": 90
        }
      ]
    },
    {
      "cell_type": "code",
      "metadata": {
        "id": "5aaQQMXCOVEo"
      },
      "source": [
        "train_mean = train_data.mean(axis=0) # taking the mean of \n",
        "train_data -= train_mean\n",
        "train_std = train_data.std(axis=0)\n",
        "train_data /= train_std\n",
        "test_data -= train_mean\n",
        "test_data /= train_std\n",
        "val_data -= train_mean\n",
        "val_data /= train_std"
      ],
      "execution_count": 91,
      "outputs": []
    },
    {
      "cell_type": "code",
      "metadata": {
        "colab": {
          "base_uri": "https://localhost:8080/"
        },
        "id": "rWTqNgwvR9Q7",
        "outputId": "703285f9-f609-4d42-da58-effcc5824150"
      },
      "source": [
        "train_data.shape"
      ],
      "execution_count": 92,
      "outputs": [
        {
          "output_type": "execute_result",
          "data": {
            "text/plain": [
              "(989, 30)"
            ]
          },
          "metadata": {
            "tags": []
          },
          "execution_count": 92
        }
      ]
    },
    {
      "cell_type": "code",
      "metadata": {
        "colab": {
          "base_uri": "https://localhost:8080/"
        },
        "id": "eEekd239SF0X",
        "outputId": "bb799196-ea6b-4314-c58c-469c0a0365b1"
      },
      "source": [
        "test_data.shape"
      ],
      "execution_count": 93,
      "outputs": [
        {
          "output_type": "execute_result",
          "data": {
            "text/plain": [
              "(579, 30)"
            ]
          },
          "metadata": {
            "tags": []
          },
          "execution_count": 93
        }
      ]
    },
    {
      "cell_type": "code",
      "metadata": {
        "colab": {
          "base_uri": "https://localhost:8080/"
        },
        "id": "DNMtVViYSKu3",
        "outputId": "8cd2ca02-42e7-4ace-f009-ddc3cc4972a4"
      },
      "source": [
        "val_data.shape"
      ],
      "execution_count": 94,
      "outputs": [
        {
          "output_type": "execute_result",
          "data": {
            "text/plain": [
              "(400, 30)"
            ]
          },
          "metadata": {
            "tags": []
          },
          "execution_count": 94
        }
      ]
    },
    {
      "cell_type": "code",
      "metadata": {
        "colab": {
          "base_uri": "https://localhost:8080/",
          "height": 321
        },
        "id": "-SL6FatJOc5m",
        "outputId": "919067d0-f1a0-4737-dbaa-5efc59d5ca3a"
      },
      "source": [
        "train_data.describe()"
      ],
      "execution_count": 95,
      "outputs": [
        {
          "output_type": "execute_result",
          "data": {
            "text/html": [
              "<div>\n",
              "<style scoped>\n",
              "    .dataframe tbody tr th:only-of-type {\n",
              "        vertical-align: middle;\n",
              "    }\n",
              "\n",
              "    .dataframe tbody tr th {\n",
              "        vertical-align: top;\n",
              "    }\n",
              "\n",
              "    .dataframe thead th {\n",
              "        text-align: right;\n",
              "    }\n",
              "</style>\n",
              "<table border=\"1\" class=\"dataframe\">\n",
              "  <thead>\n",
              "    <tr style=\"text-align: right;\">\n",
              "      <th></th>\n",
              "      <th>Time</th>\n",
              "      <th>V1</th>\n",
              "      <th>V2</th>\n",
              "      <th>V3</th>\n",
              "      <th>V4</th>\n",
              "      <th>V5</th>\n",
              "      <th>V6</th>\n",
              "      <th>V7</th>\n",
              "      <th>V8</th>\n",
              "      <th>V9</th>\n",
              "      <th>V10</th>\n",
              "      <th>V11</th>\n",
              "      <th>V12</th>\n",
              "      <th>V13</th>\n",
              "      <th>V14</th>\n",
              "      <th>V15</th>\n",
              "      <th>V16</th>\n",
              "      <th>V17</th>\n",
              "      <th>V18</th>\n",
              "      <th>V19</th>\n",
              "      <th>V20</th>\n",
              "      <th>V21</th>\n",
              "      <th>V22</th>\n",
              "      <th>V23</th>\n",
              "      <th>V24</th>\n",
              "      <th>V25</th>\n",
              "      <th>V26</th>\n",
              "      <th>V27</th>\n",
              "      <th>V28</th>\n",
              "      <th>Amount</th>\n",
              "    </tr>\n",
              "  </thead>\n",
              "  <tbody>\n",
              "    <tr>\n",
              "      <th>count</th>\n",
              "      <td>9.890000e+02</td>\n",
              "      <td>9.890000e+02</td>\n",
              "      <td>9.890000e+02</td>\n",
              "      <td>9.890000e+02</td>\n",
              "      <td>9.890000e+02</td>\n",
              "      <td>9.890000e+02</td>\n",
              "      <td>9.890000e+02</td>\n",
              "      <td>9.890000e+02</td>\n",
              "      <td>9.890000e+02</td>\n",
              "      <td>9.890000e+02</td>\n",
              "      <td>9.890000e+02</td>\n",
              "      <td>9.890000e+02</td>\n",
              "      <td>9.890000e+02</td>\n",
              "      <td>9.890000e+02</td>\n",
              "      <td>9.890000e+02</td>\n",
              "      <td>9.890000e+02</td>\n",
              "      <td>9.890000e+02</td>\n",
              "      <td>9.890000e+02</td>\n",
              "      <td>9.890000e+02</td>\n",
              "      <td>9.890000e+02</td>\n",
              "      <td>9.890000e+02</td>\n",
              "      <td>9.890000e+02</td>\n",
              "      <td>9.890000e+02</td>\n",
              "      <td>9.890000e+02</td>\n",
              "      <td>9.890000e+02</td>\n",
              "      <td>9.890000e+02</td>\n",
              "      <td>9.890000e+02</td>\n",
              "      <td>9.890000e+02</td>\n",
              "      <td>9.890000e+02</td>\n",
              "      <td>9.890000e+02</td>\n",
              "    </tr>\n",
              "    <tr>\n",
              "      <th>mean</th>\n",
              "      <td>5.601631e-17</td>\n",
              "      <td>7.871470e-16</td>\n",
              "      <td>-2.629062e-16</td>\n",
              "      <td>6.545713e-16</td>\n",
              "      <td>1.068449e-15</td>\n",
              "      <td>6.789873e-16</td>\n",
              "      <td>-1.158820e-15</td>\n",
              "      <td>-4.237707e-16</td>\n",
              "      <td>-4.213852e-17</td>\n",
              "      <td>-9.953559e-16</td>\n",
              "      <td>-4.891604e-16</td>\n",
              "      <td>-2.841228e-16</td>\n",
              "      <td>-9.134924e-16</td>\n",
              "      <td>-6.061885e-18</td>\n",
              "      <td>-2.402303e-17</td>\n",
              "      <td>2.593140e-17</td>\n",
              "      <td>-1.855470e-16</td>\n",
              "      <td>-8.031998e-17</td>\n",
              "      <td>1.102646e-16</td>\n",
              "      <td>-1.547465e-16</td>\n",
              "      <td>3.536100e-18</td>\n",
              "      <td>-2.748896e-17</td>\n",
              "      <td>-1.613696e-16</td>\n",
              "      <td>1.858557e-17</td>\n",
              "      <td>4.355577e-17</td>\n",
              "      <td>7.970256e-18</td>\n",
              "      <td>1.436891e-17</td>\n",
              "      <td>-1.073178e-16</td>\n",
              "      <td>1.234828e-17</td>\n",
              "      <td>3.728621e-16</td>\n",
              "    </tr>\n",
              "    <tr>\n",
              "      <th>std</th>\n",
              "      <td>1.000000e+00</td>\n",
              "      <td>1.000000e+00</td>\n",
              "      <td>1.000000e+00</td>\n",
              "      <td>1.000000e+00</td>\n",
              "      <td>1.000000e+00</td>\n",
              "      <td>1.000000e+00</td>\n",
              "      <td>1.000000e+00</td>\n",
              "      <td>1.000000e+00</td>\n",
              "      <td>1.000000e+00</td>\n",
              "      <td>1.000000e+00</td>\n",
              "      <td>1.000000e+00</td>\n",
              "      <td>1.000000e+00</td>\n",
              "      <td>1.000000e+00</td>\n",
              "      <td>1.000000e+00</td>\n",
              "      <td>1.000000e+00</td>\n",
              "      <td>1.000000e+00</td>\n",
              "      <td>1.000000e+00</td>\n",
              "      <td>1.000000e+00</td>\n",
              "      <td>1.000000e+00</td>\n",
              "      <td>1.000000e+00</td>\n",
              "      <td>1.000000e+00</td>\n",
              "      <td>1.000000e+00</td>\n",
              "      <td>1.000000e+00</td>\n",
              "      <td>1.000000e+00</td>\n",
              "      <td>1.000000e+00</td>\n",
              "      <td>1.000000e+00</td>\n",
              "      <td>1.000000e+00</td>\n",
              "      <td>1.000000e+00</td>\n",
              "      <td>1.000000e+00</td>\n",
              "      <td>1.000000e+00</td>\n",
              "    </tr>\n",
              "    <tr>\n",
              "      <th>min</th>\n",
              "      <td>-1.875949e+00</td>\n",
              "      <td>-7.230755e+00</td>\n",
              "      <td>-6.330493e+00</td>\n",
              "      <td>-6.431356e+00</td>\n",
              "      <td>-1.925881e+00</td>\n",
              "      <td>-6.900496e+00</td>\n",
              "      <td>-6.747446e+00</td>\n",
              "      <td>-8.426474e+00</td>\n",
              "      <td>-1.033405e+01</td>\n",
              "      <td>-5.740453e+00</td>\n",
              "      <td>-6.400746e+00</td>\n",
              "      <td>-1.823751e+00</td>\n",
              "      <td>-4.734676e+00</td>\n",
              "      <td>-3.058163e+00</td>\n",
              "      <td>-4.636154e+00</td>\n",
              "      <td>-4.617147e+00</td>\n",
              "      <td>-4.707534e+00</td>\n",
              "      <td>-5.044233e+00</td>\n",
              "      <td>-4.890763e+00</td>\n",
              "      <td>-3.119455e+00</td>\n",
              "      <td>-4.008682e+00</td>\n",
              "      <td>-7.597257e+00</td>\n",
              "      <td>-8.761770e+00</td>\n",
              "      <td>-1.615179e+01</td>\n",
              "      <td>-3.466768e+00</td>\n",
              "      <td>-8.029666e+00</td>\n",
              "      <td>-2.551862e+00</td>\n",
              "      <td>-1.043949e+01</td>\n",
              "      <td>-1.451041e+01</td>\n",
              "      <td>-3.389241e-01</td>\n",
              "    </tr>\n",
              "    <tr>\n",
              "      <th>25%</th>\n",
              "      <td>-8.273515e-01</td>\n",
              "      <td>-1.125110e-01</td>\n",
              "      <td>-4.171342e-01</td>\n",
              "      <td>-7.604530e-02</td>\n",
              "      <td>-6.451992e-01</td>\n",
              "      <td>-1.018561e-01</td>\n",
              "      <td>-4.303992e-01</td>\n",
              "      <td>3.847608e-02</td>\n",
              "      <td>-9.142938e-02</td>\n",
              "      <td>-3.179472e-01</td>\n",
              "      <td>2.804904e-02</td>\n",
              "      <td>-6.441072e-01</td>\n",
              "      <td>-1.514484e-01</td>\n",
              "      <td>-6.824493e-01</td>\n",
              "      <td>2.691909e-02</td>\n",
              "      <td>-6.453083e-01</td>\n",
              "      <td>-9.819295e-02</td>\n",
              "      <td>1.702116e-01</td>\n",
              "      <td>-1.545404e-01</td>\n",
              "      <td>-5.517539e-01</td>\n",
              "      <td>-3.366291e-01</td>\n",
              "      <td>-2.188846e-01</td>\n",
              "      <td>-5.234533e-01</td>\n",
              "      <td>-1.789139e-01</td>\n",
              "      <td>-6.157472e-01</td>\n",
              "      <td>-5.614876e-01</td>\n",
              "      <td>-6.662777e-01</td>\n",
              "      <td>-2.000474e-01</td>\n",
              "      <td>-1.858426e-01</td>\n",
              "      <td>-3.297406e-01</td>\n",
              "    </tr>\n",
              "    <tr>\n",
              "      <th>50%</th>\n",
              "      <td>-1.918699e-01</td>\n",
              "      <td>1.793667e-01</td>\n",
              "      <td>-1.924404e-01</td>\n",
              "      <td>2.885590e-01</td>\n",
              "      <td>-2.781499e-01</td>\n",
              "      <td>1.685611e-01</td>\n",
              "      <td>-7.900084e-02</td>\n",
              "      <td>2.713440e-01</td>\n",
              "      <td>-9.047300e-03</td>\n",
              "      <td>1.786914e-01</td>\n",
              "      <td>3.059679e-01</td>\n",
              "      <td>-2.656551e-01</td>\n",
              "      <td>3.849457e-01</td>\n",
              "      <td>-1.387220e-02</td>\n",
              "      <td>4.026956e-01</td>\n",
              "      <td>8.583512e-02</td>\n",
              "      <td>3.193557e-01</td>\n",
              "      <td>3.008616e-01</td>\n",
              "      <td>2.293888e-01</td>\n",
              "      <td>-7.311499e-02</td>\n",
              "      <td>-1.354053e-01</td>\n",
              "      <td>-1.062500e-01</td>\n",
              "      <td>9.450538e-02</td>\n",
              "      <td>-3.180563e-02</td>\n",
              "      <td>1.140151e-01</td>\n",
              "      <td>3.693265e-02</td>\n",
              "      <td>-9.809736e-02</td>\n",
              "      <td>-6.742966e-02</td>\n",
              "      <td>-1.421512e-03</td>\n",
              "      <td>-2.742983e-01</td>\n",
              "    </tr>\n",
              "    <tr>\n",
              "      <th>75%</th>\n",
              "      <td>9.686215e-01</td>\n",
              "      <td>5.674262e-01</td>\n",
              "      <td>1.618213e-01</td>\n",
              "      <td>5.297171e-01</td>\n",
              "      <td>3.541327e-01</td>\n",
              "      <td>4.190996e-01</td>\n",
              "      <td>3.556872e-01</td>\n",
              "      <td>4.079172e-01</td>\n",
              "      <td>1.262970e-01</td>\n",
              "      <td>5.594752e-01</td>\n",
              "      <td>4.389692e-01</td>\n",
              "      <td>2.188365e-01</td>\n",
              "      <td>5.488080e-01</td>\n",
              "      <td>6.562708e-01</td>\n",
              "      <td>5.458231e-01</td>\n",
              "      <td>6.969310e-01</td>\n",
              "      <td>5.463128e-01</td>\n",
              "      <td>4.386821e-01</td>\n",
              "      <td>5.174198e-01</td>\n",
              "      <td>4.521096e-01</td>\n",
              "      <td>1.959445e-01</td>\n",
              "      <td>2.043010e-02</td>\n",
              "      <td>5.641154e-01</td>\n",
              "      <td>1.347605e-01</td>\n",
              "      <td>7.532104e-01</td>\n",
              "      <td>5.727011e-01</td>\n",
              "      <td>5.447924e-01</td>\n",
              "      <td>2.492837e-01</td>\n",
              "      <td>2.497483e-01</td>\n",
              "      <td>-2.176984e-02</td>\n",
              "    </tr>\n",
              "    <tr>\n",
              "      <th>max</th>\n",
              "      <td>1.678548e+00</td>\n",
              "      <td>8.579529e-01</td>\n",
              "      <td>6.203987e+00</td>\n",
              "      <td>1.097525e+00</td>\n",
              "      <td>4.062697e+00</td>\n",
              "      <td>5.382657e+00</td>\n",
              "      <td>6.847224e+00</td>\n",
              "      <td>5.718593e+00</td>\n",
              "      <td>5.494046e+00</td>\n",
              "      <td>3.623988e+00</td>\n",
              "      <td>3.231784e+00</td>\n",
              "      <td>4.875724e+00</td>\n",
              "      <td>1.345416e+00</td>\n",
              "      <td>3.092210e+00</td>\n",
              "      <td>1.537948e+00</td>\n",
              "      <td>2.657131e+00</td>\n",
              "      <td>1.333870e+00</td>\n",
              "      <td>1.891090e+00</td>\n",
              "      <td>2.188467e+00</td>\n",
              "      <td>3.840820e+00</td>\n",
              "      <td>1.587635e+01</td>\n",
              "      <td>1.189892e+01</td>\n",
              "      <td>5.800731e+00</td>\n",
              "      <td>1.292337e+01</td>\n",
              "      <td>2.134011e+00</td>\n",
              "      <td>4.670729e+00</td>\n",
              "      <td>5.765311e+00</td>\n",
              "      <td>4.237645e+00</td>\n",
              "      <td>4.473658e+00</td>\n",
              "      <td>2.242858e+01</td>\n",
              "    </tr>\n",
              "  </tbody>\n",
              "</table>\n",
              "</div>"
            ],
            "text/plain": [
              "               Time            V1  ...           V28        Amount\n",
              "count  9.890000e+02  9.890000e+02  ...  9.890000e+02  9.890000e+02\n",
              "mean   5.601631e-17  7.871470e-16  ...  1.234828e-17  3.728621e-16\n",
              "std    1.000000e+00  1.000000e+00  ...  1.000000e+00  1.000000e+00\n",
              "min   -1.875949e+00 -7.230755e+00  ... -1.451041e+01 -3.389241e-01\n",
              "25%   -8.273515e-01 -1.125110e-01  ... -1.858426e-01 -3.297406e-01\n",
              "50%   -1.918699e-01  1.793667e-01  ... -1.421512e-03 -2.742983e-01\n",
              "75%    9.686215e-01  5.674262e-01  ...  2.497483e-01 -2.176984e-02\n",
              "max    1.678548e+00  8.579529e-01  ...  4.473658e+00  2.242858e+01\n",
              "\n",
              "[8 rows x 30 columns]"
            ]
          },
          "metadata": {
            "tags": []
          },
          "execution_count": 95
        }
      ]
    },
    {
      "cell_type": "code",
      "metadata": {
        "id": "86-dglQASk6_"
      },
      "source": [
        ""
      ],
      "execution_count": null,
      "outputs": []
    },
    {
      "cell_type": "code",
      "metadata": {
        "id": "D1FkL7hkOtVZ"
      },
      "source": [
        "model = models.Sequential()\n",
        "model.add(layers.Dense(10, activation='relu', input_shape=(train_data.shape[1],)))\n",
        "model.add(layers.Dropout(0.5))\n",
        "model.add(layers.Dense(8, activation='relu'))\n",
        "model.add(layers.Dropout(0.5))\n",
        "model.add(layers.Dense(6, activation='relu'))\n",
        "model.add(layers.Dropout(0.5))\n",
        "model.add(layers.Dense(1, activation='sigmoid'))"
      ],
      "execution_count": 120,
      "outputs": []
    },
    {
      "cell_type": "code",
      "metadata": {
        "id": "wm3pgvCyO-Rg"
      },
      "source": [
        "model.compile(loss= 'binary_crossentropy', optimizer= 'rmsprop', metrics=['accuracy'])"
      ],
      "execution_count": 121,
      "outputs": []
    },
    {
      "cell_type": "code",
      "metadata": {
        "colab": {
          "base_uri": "https://localhost:8080/"
        },
        "id": "v03x9crxPIiG",
        "outputId": "220de36b-81af-431d-e3b1-65968e73de17"
      },
      "source": [
        "model.fit(train_data, train_label, epochs=100,validation_data=(val_data,val_label))"
      ],
      "execution_count": 122,
      "outputs": [
        {
          "output_type": "stream",
          "text": [
            "Epoch 1/100\n",
            "31/31 [==============================] - 1s 9ms/step - loss: 0.8819 - accuracy: 0.5247 - val_loss: 0.6842 - val_accuracy: 0.4750\n",
            "Epoch 2/100\n",
            "31/31 [==============================] - 0s 3ms/step - loss: 0.7430 - accuracy: 0.6208 - val_loss: 0.6373 - val_accuracy: 0.7425\n",
            "Epoch 3/100\n",
            "31/31 [==============================] - 0s 3ms/step - loss: 0.7513 - accuracy: 0.6608 - val_loss: 0.6067 - val_accuracy: 0.8525\n",
            "Epoch 4/100\n",
            "31/31 [==============================] - 0s 3ms/step - loss: 0.6892 - accuracy: 0.7230 - val_loss: 0.5737 - val_accuracy: 0.8875\n",
            "Epoch 5/100\n",
            "31/31 [==============================] - 0s 4ms/step - loss: 0.6312 - accuracy: 0.7327 - val_loss: 0.5479 - val_accuracy: 0.8875\n",
            "Epoch 6/100\n",
            "31/31 [==============================] - 0s 3ms/step - loss: 0.6345 - accuracy: 0.7932 - val_loss: 0.5199 - val_accuracy: 0.8925\n",
            "Epoch 7/100\n",
            "31/31 [==============================] - 0s 3ms/step - loss: 0.6067 - accuracy: 0.7643 - val_loss: 0.4941 - val_accuracy: 0.9000\n",
            "Epoch 8/100\n",
            "31/31 [==============================] - 0s 3ms/step - loss: 0.5550 - accuracy: 0.8023 - val_loss: 0.4730 - val_accuracy: 0.8950\n",
            "Epoch 9/100\n",
            "31/31 [==============================] - 0s 3ms/step - loss: 0.5649 - accuracy: 0.7899 - val_loss: 0.4460 - val_accuracy: 0.8975\n",
            "Epoch 10/100\n",
            "31/31 [==============================] - 0s 3ms/step - loss: 0.5510 - accuracy: 0.7994 - val_loss: 0.4204 - val_accuracy: 0.9000\n",
            "Epoch 11/100\n",
            "31/31 [==============================] - 0s 3ms/step - loss: 0.4916 - accuracy: 0.8339 - val_loss: 0.3985 - val_accuracy: 0.9075\n",
            "Epoch 12/100\n",
            "31/31 [==============================] - 0s 3ms/step - loss: 0.4781 - accuracy: 0.8332 - val_loss: 0.3726 - val_accuracy: 0.9225\n",
            "Epoch 13/100\n",
            "31/31 [==============================] - 0s 3ms/step - loss: 0.5162 - accuracy: 0.8036 - val_loss: 0.3588 - val_accuracy: 0.9250\n",
            "Epoch 14/100\n",
            "31/31 [==============================] - 0s 3ms/step - loss: 0.4773 - accuracy: 0.8174 - val_loss: 0.3386 - val_accuracy: 0.9300\n",
            "Epoch 15/100\n",
            "31/31 [==============================] - 0s 3ms/step - loss: 0.4844 - accuracy: 0.8112 - val_loss: 0.3248 - val_accuracy: 0.9300\n",
            "Epoch 16/100\n",
            "31/31 [==============================] - 0s 3ms/step - loss: 0.4403 - accuracy: 0.8334 - val_loss: 0.3126 - val_accuracy: 0.9300\n",
            "Epoch 17/100\n",
            "31/31 [==============================] - 0s 3ms/step - loss: 0.4232 - accuracy: 0.8556 - val_loss: 0.3030 - val_accuracy: 0.9350\n",
            "Epoch 18/100\n",
            "31/31 [==============================] - 0s 3ms/step - loss: 0.4389 - accuracy: 0.8365 - val_loss: 0.2943 - val_accuracy: 0.9350\n",
            "Epoch 19/100\n",
            "31/31 [==============================] - 0s 3ms/step - loss: 0.4326 - accuracy: 0.8358 - val_loss: 0.2875 - val_accuracy: 0.9350\n",
            "Epoch 20/100\n",
            "31/31 [==============================] - 0s 3ms/step - loss: 0.4630 - accuracy: 0.8363 - val_loss: 0.2831 - val_accuracy: 0.9350\n",
            "Epoch 21/100\n",
            "31/31 [==============================] - 0s 3ms/step - loss: 0.4116 - accuracy: 0.8434 - val_loss: 0.2775 - val_accuracy: 0.9375\n",
            "Epoch 22/100\n",
            "31/31 [==============================] - 0s 3ms/step - loss: 0.4090 - accuracy: 0.8528 - val_loss: 0.2731 - val_accuracy: 0.9375\n",
            "Epoch 23/100\n",
            "31/31 [==============================] - 0s 3ms/step - loss: 0.3883 - accuracy: 0.8470 - val_loss: 0.2703 - val_accuracy: 0.9350\n",
            "Epoch 24/100\n",
            "31/31 [==============================] - 0s 3ms/step - loss: 0.4133 - accuracy: 0.8500 - val_loss: 0.2682 - val_accuracy: 0.9350\n",
            "Epoch 25/100\n",
            "31/31 [==============================] - 0s 3ms/step - loss: 0.4275 - accuracy: 0.8482 - val_loss: 0.2680 - val_accuracy: 0.9325\n",
            "Epoch 26/100\n",
            "31/31 [==============================] - 0s 3ms/step - loss: 0.3764 - accuracy: 0.8747 - val_loss: 0.2661 - val_accuracy: 0.9350\n",
            "Epoch 27/100\n",
            "31/31 [==============================] - 0s 3ms/step - loss: 0.4010 - accuracy: 0.8555 - val_loss: 0.2638 - val_accuracy: 0.9350\n",
            "Epoch 28/100\n",
            "31/31 [==============================] - 0s 3ms/step - loss: 0.3521 - accuracy: 0.8787 - val_loss: 0.2627 - val_accuracy: 0.9350\n",
            "Epoch 29/100\n",
            "31/31 [==============================] - 0s 3ms/step - loss: 0.3608 - accuracy: 0.8824 - val_loss: 0.2600 - val_accuracy: 0.9350\n",
            "Epoch 30/100\n",
            "31/31 [==============================] - 0s 3ms/step - loss: 0.4153 - accuracy: 0.8359 - val_loss: 0.2596 - val_accuracy: 0.9350\n",
            "Epoch 31/100\n",
            "31/31 [==============================] - 0s 3ms/step - loss: 0.3513 - accuracy: 0.8648 - val_loss: 0.2587 - val_accuracy: 0.9350\n",
            "Epoch 32/100\n",
            "31/31 [==============================] - 0s 3ms/step - loss: 0.3704 - accuracy: 0.8701 - val_loss: 0.2591 - val_accuracy: 0.9350\n",
            "Epoch 33/100\n",
            "31/31 [==============================] - 0s 3ms/step - loss: 0.3489 - accuracy: 0.8729 - val_loss: 0.2590 - val_accuracy: 0.9350\n",
            "Epoch 34/100\n",
            "31/31 [==============================] - 0s 3ms/step - loss: 0.3644 - accuracy: 0.8891 - val_loss: 0.2573 - val_accuracy: 0.9350\n",
            "Epoch 35/100\n",
            "31/31 [==============================] - 0s 3ms/step - loss: 0.3228 - accuracy: 0.8836 - val_loss: 0.2590 - val_accuracy: 0.9350\n",
            "Epoch 36/100\n",
            "31/31 [==============================] - 0s 3ms/step - loss: 0.3161 - accuracy: 0.8836 - val_loss: 0.2597 - val_accuracy: 0.9350\n",
            "Epoch 37/100\n",
            "31/31 [==============================] - 0s 3ms/step - loss: 0.3138 - accuracy: 0.8982 - val_loss: 0.2620 - val_accuracy: 0.9350\n",
            "Epoch 38/100\n",
            "31/31 [==============================] - 0s 3ms/step - loss: 0.3454 - accuracy: 0.8737 - val_loss: 0.2657 - val_accuracy: 0.9350\n",
            "Epoch 39/100\n",
            "31/31 [==============================] - 0s 3ms/step - loss: 0.3053 - accuracy: 0.8888 - val_loss: 0.2671 - val_accuracy: 0.9350\n",
            "Epoch 40/100\n",
            "31/31 [==============================] - 0s 3ms/step - loss: 0.3256 - accuracy: 0.8832 - val_loss: 0.2670 - val_accuracy: 0.9350\n",
            "Epoch 41/100\n",
            "31/31 [==============================] - 0s 3ms/step - loss: 0.2836 - accuracy: 0.8999 - val_loss: 0.2663 - val_accuracy: 0.9350\n",
            "Epoch 42/100\n",
            "31/31 [==============================] - 0s 3ms/step - loss: 0.3331 - accuracy: 0.8897 - val_loss: 0.2676 - val_accuracy: 0.9350\n",
            "Epoch 43/100\n",
            "31/31 [==============================] - 0s 4ms/step - loss: 0.3911 - accuracy: 0.8729 - val_loss: 0.2678 - val_accuracy: 0.9350\n",
            "Epoch 44/100\n",
            "31/31 [==============================] - 0s 3ms/step - loss: 0.2938 - accuracy: 0.8925 - val_loss: 0.2684 - val_accuracy: 0.9375\n",
            "Epoch 45/100\n",
            "31/31 [==============================] - 0s 3ms/step - loss: 0.2727 - accuracy: 0.9097 - val_loss: 0.2736 - val_accuracy: 0.9400\n",
            "Epoch 46/100\n",
            "31/31 [==============================] - 0s 3ms/step - loss: 0.3199 - accuracy: 0.8829 - val_loss: 0.2779 - val_accuracy: 0.9400\n",
            "Epoch 47/100\n",
            "31/31 [==============================] - 0s 3ms/step - loss: 0.2933 - accuracy: 0.8976 - val_loss: 0.2799 - val_accuracy: 0.9400\n",
            "Epoch 48/100\n",
            "31/31 [==============================] - 0s 3ms/step - loss: 0.2792 - accuracy: 0.9083 - val_loss: 0.2814 - val_accuracy: 0.9400\n",
            "Epoch 49/100\n",
            "31/31 [==============================] - 0s 3ms/step - loss: 0.3295 - accuracy: 0.8887 - val_loss: 0.2877 - val_accuracy: 0.9400\n",
            "Epoch 50/100\n",
            "31/31 [==============================] - 0s 3ms/step - loss: 0.2707 - accuracy: 0.9113 - val_loss: 0.2890 - val_accuracy: 0.9400\n",
            "Epoch 51/100\n",
            "31/31 [==============================] - 0s 3ms/step - loss: 0.2826 - accuracy: 0.9070 - val_loss: 0.2945 - val_accuracy: 0.9400\n",
            "Epoch 52/100\n",
            "31/31 [==============================] - 0s 3ms/step - loss: 0.2839 - accuracy: 0.9008 - val_loss: 0.2962 - val_accuracy: 0.9425\n",
            "Epoch 53/100\n",
            "31/31 [==============================] - 0s 3ms/step - loss: 0.2577 - accuracy: 0.9012 - val_loss: 0.2987 - val_accuracy: 0.9425\n",
            "Epoch 54/100\n",
            "31/31 [==============================] - 0s 3ms/step - loss: 0.2799 - accuracy: 0.9161 - val_loss: 0.3032 - val_accuracy: 0.9425\n",
            "Epoch 55/100\n",
            "31/31 [==============================] - 0s 3ms/step - loss: 0.2588 - accuracy: 0.9131 - val_loss: 0.3064 - val_accuracy: 0.9450\n",
            "Epoch 56/100\n",
            "31/31 [==============================] - 0s 3ms/step - loss: 0.3153 - accuracy: 0.8693 - val_loss: 0.3108 - val_accuracy: 0.9450\n",
            "Epoch 57/100\n",
            "31/31 [==============================] - 0s 3ms/step - loss: 0.2500 - accuracy: 0.9143 - val_loss: 0.3167 - val_accuracy: 0.9475\n",
            "Epoch 58/100\n",
            "31/31 [==============================] - 0s 3ms/step - loss: 0.3066 - accuracy: 0.8970 - val_loss: 0.3210 - val_accuracy: 0.9475\n",
            "Epoch 59/100\n",
            "31/31 [==============================] - 0s 3ms/step - loss: 0.2905 - accuracy: 0.8952 - val_loss: 0.3219 - val_accuracy: 0.9450\n",
            "Epoch 60/100\n",
            "31/31 [==============================] - 0s 3ms/step - loss: 0.2759 - accuracy: 0.9074 - val_loss: 0.3244 - val_accuracy: 0.9450\n",
            "Epoch 61/100\n",
            "31/31 [==============================] - 0s 3ms/step - loss: 0.2570 - accuracy: 0.9172 - val_loss: 0.3268 - val_accuracy: 0.9450\n",
            "Epoch 62/100\n",
            "31/31 [==============================] - 0s 3ms/step - loss: 0.2681 - accuracy: 0.9110 - val_loss: 0.3347 - val_accuracy: 0.9450\n",
            "Epoch 63/100\n",
            "31/31 [==============================] - 0s 3ms/step - loss: 0.2735 - accuracy: 0.9019 - val_loss: 0.3369 - val_accuracy: 0.9450\n",
            "Epoch 64/100\n",
            "31/31 [==============================] - 0s 3ms/step - loss: 0.2911 - accuracy: 0.8959 - val_loss: 0.3408 - val_accuracy: 0.9450\n",
            "Epoch 65/100\n",
            "31/31 [==============================] - 0s 3ms/step - loss: 0.2757 - accuracy: 0.9022 - val_loss: 0.3433 - val_accuracy: 0.9475\n",
            "Epoch 66/100\n",
            "31/31 [==============================] - 0s 3ms/step - loss: 0.2502 - accuracy: 0.9135 - val_loss: 0.3448 - val_accuracy: 0.9475\n",
            "Epoch 67/100\n",
            "31/31 [==============================] - 0s 3ms/step - loss: 0.2688 - accuracy: 0.9041 - val_loss: 0.3491 - val_accuracy: 0.9450\n",
            "Epoch 68/100\n",
            "31/31 [==============================] - 0s 3ms/step - loss: 0.2750 - accuracy: 0.9054 - val_loss: 0.3502 - val_accuracy: 0.9425\n",
            "Epoch 69/100\n",
            "31/31 [==============================] - 0s 3ms/step - loss: 0.2352 - accuracy: 0.9183 - val_loss: 0.3564 - val_accuracy: 0.9450\n",
            "Epoch 70/100\n",
            "31/31 [==============================] - 0s 3ms/step - loss: 0.2529 - accuracy: 0.9103 - val_loss: 0.3556 - val_accuracy: 0.9475\n",
            "Epoch 71/100\n",
            "31/31 [==============================] - 0s 3ms/step - loss: 0.2268 - accuracy: 0.9148 - val_loss: 0.3642 - val_accuracy: 0.9475\n",
            "Epoch 72/100\n",
            "31/31 [==============================] - 0s 3ms/step - loss: 0.2540 - accuracy: 0.9043 - val_loss: 0.3682 - val_accuracy: 0.9450\n",
            "Epoch 73/100\n",
            "31/31 [==============================] - 0s 3ms/step - loss: 0.2382 - accuracy: 0.9222 - val_loss: 0.3726 - val_accuracy: 0.9450\n",
            "Epoch 74/100\n",
            "31/31 [==============================] - 0s 3ms/step - loss: 0.2409 - accuracy: 0.9138 - val_loss: 0.3770 - val_accuracy: 0.9450\n",
            "Epoch 75/100\n",
            "31/31 [==============================] - 0s 3ms/step - loss: 0.2655 - accuracy: 0.9159 - val_loss: 0.3825 - val_accuracy: 0.9475\n",
            "Epoch 76/100\n",
            "31/31 [==============================] - 0s 3ms/step - loss: 0.1863 - accuracy: 0.9475 - val_loss: 0.3891 - val_accuracy: 0.9425\n",
            "Epoch 77/100\n",
            "31/31 [==============================] - 0s 3ms/step - loss: 0.2064 - accuracy: 0.9384 - val_loss: 0.3945 - val_accuracy: 0.9450\n",
            "Epoch 78/100\n",
            "31/31 [==============================] - 0s 3ms/step - loss: 0.2382 - accuracy: 0.9170 - val_loss: 0.3956 - val_accuracy: 0.9450\n",
            "Epoch 79/100\n",
            "31/31 [==============================] - 0s 4ms/step - loss: 0.2613 - accuracy: 0.9069 - val_loss: 0.4033 - val_accuracy: 0.9450\n",
            "Epoch 80/100\n",
            "31/31 [==============================] - 0s 3ms/step - loss: 0.2428 - accuracy: 0.9197 - val_loss: 0.4143 - val_accuracy: 0.9450\n",
            "Epoch 81/100\n",
            "31/31 [==============================] - 0s 3ms/step - loss: 0.2077 - accuracy: 0.9379 - val_loss: 0.4180 - val_accuracy: 0.9450\n",
            "Epoch 82/100\n",
            "31/31 [==============================] - 0s 3ms/step - loss: 0.2333 - accuracy: 0.9257 - val_loss: 0.4193 - val_accuracy: 0.9450\n",
            "Epoch 83/100\n",
            "31/31 [==============================] - 0s 3ms/step - loss: 0.2526 - accuracy: 0.9189 - val_loss: 0.4194 - val_accuracy: 0.9425\n",
            "Epoch 84/100\n",
            "31/31 [==============================] - 0s 3ms/step - loss: 0.2405 - accuracy: 0.9052 - val_loss: 0.4253 - val_accuracy: 0.9450\n",
            "Epoch 85/100\n",
            "31/31 [==============================] - 0s 3ms/step - loss: 0.2603 - accuracy: 0.9031 - val_loss: 0.4333 - val_accuracy: 0.9450\n",
            "Epoch 86/100\n",
            "31/31 [==============================] - 0s 3ms/step - loss: 0.2163 - accuracy: 0.9234 - val_loss: 0.4362 - val_accuracy: 0.9450\n",
            "Epoch 87/100\n",
            "31/31 [==============================] - 0s 3ms/step - loss: 0.2143 - accuracy: 0.9367 - val_loss: 0.4434 - val_accuracy: 0.9450\n",
            "Epoch 88/100\n",
            "31/31 [==============================] - 0s 3ms/step - loss: 0.2505 - accuracy: 0.9217 - val_loss: 0.4473 - val_accuracy: 0.9450\n",
            "Epoch 89/100\n",
            "31/31 [==============================] - 0s 3ms/step - loss: 0.2554 - accuracy: 0.9128 - val_loss: 0.4527 - val_accuracy: 0.9450\n",
            "Epoch 90/100\n",
            "31/31 [==============================] - 0s 3ms/step - loss: 0.2376 - accuracy: 0.9250 - val_loss: 0.4664 - val_accuracy: 0.9450\n",
            "Epoch 91/100\n",
            "31/31 [==============================] - 0s 3ms/step - loss: 0.2720 - accuracy: 0.9096 - val_loss: 0.4705 - val_accuracy: 0.9450\n",
            "Epoch 92/100\n",
            "31/31 [==============================] - 0s 3ms/step - loss: 0.2371 - accuracy: 0.9182 - val_loss: 0.4745 - val_accuracy: 0.9450\n",
            "Epoch 93/100\n",
            "31/31 [==============================] - 0s 3ms/step - loss: 0.2632 - accuracy: 0.9157 - val_loss: 0.4797 - val_accuracy: 0.9450\n",
            "Epoch 94/100\n",
            "31/31 [==============================] - 0s 3ms/step - loss: 0.2529 - accuracy: 0.9211 - val_loss: 0.4941 - val_accuracy: 0.9450\n",
            "Epoch 95/100\n",
            "31/31 [==============================] - 0s 3ms/step - loss: 0.2299 - accuracy: 0.9293 - val_loss: 0.4997 - val_accuracy: 0.9450\n",
            "Epoch 96/100\n",
            "31/31 [==============================] - 0s 3ms/step - loss: 0.2423 - accuracy: 0.9154 - val_loss: 0.5041 - val_accuracy: 0.9475\n",
            "Epoch 97/100\n",
            "31/31 [==============================] - 0s 3ms/step - loss: 0.2584 - accuracy: 0.9135 - val_loss: 0.5111 - val_accuracy: 0.9475\n",
            "Epoch 98/100\n",
            "31/31 [==============================] - 0s 3ms/step - loss: 0.2207 - accuracy: 0.9308 - val_loss: 0.5119 - val_accuracy: 0.9475\n",
            "Epoch 99/100\n",
            "31/31 [==============================] - 0s 3ms/step - loss: 0.2207 - accuracy: 0.9291 - val_loss: 0.5113 - val_accuracy: 0.9475\n",
            "Epoch 100/100\n",
            "31/31 [==============================] - 0s 3ms/step - loss: 0.2237 - accuracy: 0.9256 - val_loss: 0.5106 - val_accuracy: 0.9475\n"
          ],
          "name": "stdout"
        },
        {
          "output_type": "execute_result",
          "data": {
            "text/plain": [
              "<tensorflow.python.keras.callbacks.History at 0x7fddbab79b90>"
            ]
          },
          "metadata": {
            "tags": []
          },
          "execution_count": 122
        }
      ]
    },
    {
      "cell_type": "code",
      "metadata": {
        "colab": {
          "base_uri": "https://localhost:8080/"
        },
        "id": "KmQVE-oZPLLD",
        "outputId": "f8340258-effb-4467-9e55-6aa88a2921b7"
      },
      "source": [
        "loss, accuracy = model.evaluate(test_data, test_label)"
      ],
      "execution_count": 123,
      "outputs": [
        {
          "output_type": "stream",
          "text": [
            "19/19 [==============================] - 0s 1ms/step - loss: 0.1036 - accuracy: 0.9758\n"
          ],
          "name": "stdout"
        }
      ]
    },
    {
      "cell_type": "code",
      "metadata": {
        "id": "x84DlN_DPZdE"
      },
      "source": [
        "predictions = model.predict(test_data)"
      ],
      "execution_count": 124,
      "outputs": []
    },
    {
      "cell_type": "code",
      "metadata": {
        "id": "vPc1F-7EPbaG"
      },
      "source": [
        "y_pred = (predictions > 0.5)"
      ],
      "execution_count": 125,
      "outputs": []
    },
    {
      "cell_type": "code",
      "metadata": {
        "id": "UDrzam_sPgdH"
      },
      "source": [
        "con = tf.math.confusion_matrix(\n",
        "    test_label, y_pred, num_classes=2, weights=None, dtype=tf.dtypes.int32,\n",
        "    name=None\n",
        ")"
      ],
      "execution_count": 126,
      "outputs": []
    },
    {
      "cell_type": "code",
      "metadata": {
        "colab": {
          "base_uri": "https://localhost:8080/"
        },
        "id": "T9H73pvbPnQ6",
        "outputId": "0fcd5ae9-151d-4b15-9157-33ea1dbd99f5"
      },
      "source": [
        "con"
      ],
      "execution_count": 127,
      "outputs": [
        {
          "output_type": "execute_result",
          "data": {
            "text/plain": [
              "<tf.Tensor: shape=(2, 2), dtype=int32, numpy=\n",
              "array([[432,   3],\n",
              "       [ 11, 133]], dtype=int32)>"
            ]
          },
          "metadata": {
            "tags": []
          },
          "execution_count": 127
        }
      ]
    },
    {
      "cell_type": "code",
      "metadata": {
        "colab": {
          "base_uri": "https://localhost:8080/"
        },
        "id": "Buav0aksPtxY",
        "outputId": "15230109-6f80-44f0-ae44-fd56921bd152"
      },
      "source": [
        "from sklearn.metrics import classification_report\n",
        "print(classification_report(test_label,y_pred))"
      ],
      "execution_count": 128,
      "outputs": [
        {
          "output_type": "stream",
          "text": [
            "              precision    recall  f1-score   support\n",
            "\n",
            "           0       0.98      0.99      0.98       435\n",
            "           1       0.98      0.92      0.95       144\n",
            "\n",
            "    accuracy                           0.98       579\n",
            "   macro avg       0.98      0.96      0.97       579\n",
            "weighted avg       0.98      0.98      0.98       579\n",
            "\n"
          ],
          "name": "stdout"
        }
      ]
    }
  ]
}