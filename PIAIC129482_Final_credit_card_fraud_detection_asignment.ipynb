{
  "nbformat": 4,
  "nbformat_minor": 0,
  "metadata": {
    "colab": {
      "name": "PIAIC129482-Muhammad-Naeem-Tahir-credit-card-fraud-detection-asignment.ipynb",
      "provenance": [],
      "include_colab_link": true
    },
    "kernelspec": {
      "name": "python3",
      "display_name": "Python 3"
    },
    "language_info": {
      "name": "python"
    },
    "accelerator": "GPU"
  },
  "cells": [
    {
      "cell_type": "markdown",
      "metadata": {
        "id": "view-in-github",
        "colab_type": "text"
      },
      "source": [
        "<a href=\"https://colab.research.google.com/github/muhammad-naeem-tahir/Assignments/blob/main/PIAIC129482_Final_credit_card_fraud_detection_asignment.ipynb\" target=\"_parent\"><img src=\"https://colab.research.google.com/assets/colab-badge.svg\" alt=\"Open In Colab\"/></a>"
      ]
    },
    {
      "cell_type": "code",
      "metadata": {
        "id": "8PtHQ_w1PHcs"
      },
      "source": [
        "import numpy as np\n",
        "import pandas as pd\n",
        "import tensorflow as tf\n",
        "from tensorflow.keras import models\n",
        "from tensorflow.keras import layers\n",
        "from tensorflow.keras.preprocessing.image import ImageDataGenerator\n",
        "from tensorflow.keras.models import Sequential\n",
        "from tensorflow.keras.layers import Dense, Flatten\n",
        "from tensorflow.keras.optimizers import RMSprop\n",
        "from keras import models,layers\n",
        "from keras import regularizers"
      ],
      "execution_count": 2,
      "outputs": []
    },
    {
      "cell_type": "code",
      "metadata": {
        "id": "_p5iX-YpjC1o",
        "outputId": "b7680907-1616-44c1-9325-c1fc0ebd96be",
        "colab": {
          "base_uri": "https://localhost:8080/"
        }
      },
      "source": [
        "%tensorflow_version 2.x\n",
        "import tensorflow as tf\n",
        "device_name = tf.test.gpu_device_name()\n",
        "if device_name != '/device:GPU:0':\n",
        "  raise SystemError('GPU device not found')\n",
        "print('Found GPU at: {}'.format(device_name))"
      ],
      "execution_count": 3,
      "outputs": [
        {
          "output_type": "stream",
          "text": [
            "Found GPU at: /device:GPU:0\n"
          ],
          "name": "stdout"
        }
      ]
    },
    {
      "cell_type": "code",
      "metadata": {
        "colab": {
          "resources": {
            "http://localhost:8080/nbextensions/google.colab/files.js": {
              "data": "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",
              "ok": true,
              "headers": [
                [
                  "content-type",
                  "application/javascript"
                ]
              ],
              "status": 200,
              "status_text": "OK"
            }
          },
          "base_uri": "https://localhost:8080/",
          "height": 75
        },
        "id": "J4_5KDQdzEdW",
        "outputId": "a28bc2f6-325e-454c-d475-c1b8ea32e47e"
      },
      "source": [
        "from google.colab import files\n",
        "uploaded = files.upload()\n"
      ],
      "execution_count": 1,
      "outputs": [
        {
          "output_type": "display_data",
          "data": {
            "text/html": [
              "\n",
              "     <input type=\"file\" id=\"files-52cb5682-b08d-4c5f-9a8a-a65cf59f4570\" name=\"files[]\" multiple disabled\n",
              "        style=\"border:none\" />\n",
              "     <output id=\"result-52cb5682-b08d-4c5f-9a8a-a65cf59f4570\">\n",
              "      Upload widget is only available when the cell has been executed in the\n",
              "      current browser session. Please rerun this cell to enable.\n",
              "      </output>\n",
              "      <script src=\"/nbextensions/google.colab/files.js\"></script> "
            ],
            "text/plain": [
              "<IPython.core.display.HTML object>"
            ]
          },
          "metadata": {
            "tags": []
          }
        },
        {
          "output_type": "stream",
          "text": [
            "Saving creditcard.csv to creditcard.csv\n"
          ],
          "name": "stdout"
        }
      ]
    },
    {
      "cell_type": "code",
      "metadata": {
        "id": "QnMQW94gNPs9"
      },
      "source": [
        "import io\n",
        "df = pd.read_csv(io.BytesIO(uploaded['creditcard.csv']))"
      ],
      "execution_count": 4,
      "outputs": []
    },
    {
      "cell_type": "code",
      "metadata": {
        "colab": {
          "base_uri": "https://localhost:8080/",
          "height": 226
        },
        "id": "3TdV-Se8Nl2S",
        "outputId": "b6751e0f-160f-4a87-e01b-412f09f0edff"
      },
      "source": [
        "df.head(5)"
      ],
      "execution_count": 6,
      "outputs": [
        {
          "output_type": "execute_result",
          "data": {
            "text/html": [
              "<div>\n",
              "<style scoped>\n",
              "    .dataframe tbody tr th:only-of-type {\n",
              "        vertical-align: middle;\n",
              "    }\n",
              "\n",
              "    .dataframe tbody tr th {\n",
              "        vertical-align: top;\n",
              "    }\n",
              "\n",
              "    .dataframe thead th {\n",
              "        text-align: right;\n",
              "    }\n",
              "</style>\n",
              "<table border=\"1\" class=\"dataframe\">\n",
              "  <thead>\n",
              "    <tr style=\"text-align: right;\">\n",
              "      <th></th>\n",
              "      <th>Time</th>\n",
              "      <th>V1</th>\n",
              "      <th>V2</th>\n",
              "      <th>V3</th>\n",
              "      <th>V4</th>\n",
              "      <th>V5</th>\n",
              "      <th>V6</th>\n",
              "      <th>V7</th>\n",
              "      <th>V8</th>\n",
              "      <th>V9</th>\n",
              "      <th>V10</th>\n",
              "      <th>V11</th>\n",
              "      <th>V12</th>\n",
              "      <th>V13</th>\n",
              "      <th>V14</th>\n",
              "      <th>V15</th>\n",
              "      <th>V16</th>\n",
              "      <th>V17</th>\n",
              "      <th>V18</th>\n",
              "      <th>V19</th>\n",
              "      <th>V20</th>\n",
              "      <th>V21</th>\n",
              "      <th>V22</th>\n",
              "      <th>V23</th>\n",
              "      <th>V24</th>\n",
              "      <th>V25</th>\n",
              "      <th>V26</th>\n",
              "      <th>V27</th>\n",
              "      <th>V28</th>\n",
              "      <th>Amount</th>\n",
              "      <th>Class</th>\n",
              "    </tr>\n",
              "  </thead>\n",
              "  <tbody>\n",
              "    <tr>\n",
              "      <th>0</th>\n",
              "      <td>0.0</td>\n",
              "      <td>-1.359807</td>\n",
              "      <td>-0.072781</td>\n",
              "      <td>2.536347</td>\n",
              "      <td>1.378155</td>\n",
              "      <td>-0.338321</td>\n",
              "      <td>0.462388</td>\n",
              "      <td>0.239599</td>\n",
              "      <td>0.098698</td>\n",
              "      <td>0.363787</td>\n",
              "      <td>0.090794</td>\n",
              "      <td>-0.551600</td>\n",
              "      <td>-0.617801</td>\n",
              "      <td>-0.991390</td>\n",
              "      <td>-0.311169</td>\n",
              "      <td>1.468177</td>\n",
              "      <td>-0.470401</td>\n",
              "      <td>0.207971</td>\n",
              "      <td>0.025791</td>\n",
              "      <td>0.403993</td>\n",
              "      <td>0.251412</td>\n",
              "      <td>-0.018307</td>\n",
              "      <td>0.277838</td>\n",
              "      <td>-0.110474</td>\n",
              "      <td>0.066928</td>\n",
              "      <td>0.128539</td>\n",
              "      <td>-0.189115</td>\n",
              "      <td>0.133558</td>\n",
              "      <td>-0.021053</td>\n",
              "      <td>149.62</td>\n",
              "      <td>0</td>\n",
              "    </tr>\n",
              "    <tr>\n",
              "      <th>1</th>\n",
              "      <td>0.0</td>\n",
              "      <td>1.191857</td>\n",
              "      <td>0.266151</td>\n",
              "      <td>0.166480</td>\n",
              "      <td>0.448154</td>\n",
              "      <td>0.060018</td>\n",
              "      <td>-0.082361</td>\n",
              "      <td>-0.078803</td>\n",
              "      <td>0.085102</td>\n",
              "      <td>-0.255425</td>\n",
              "      <td>-0.166974</td>\n",
              "      <td>1.612727</td>\n",
              "      <td>1.065235</td>\n",
              "      <td>0.489095</td>\n",
              "      <td>-0.143772</td>\n",
              "      <td>0.635558</td>\n",
              "      <td>0.463917</td>\n",
              "      <td>-0.114805</td>\n",
              "      <td>-0.183361</td>\n",
              "      <td>-0.145783</td>\n",
              "      <td>-0.069083</td>\n",
              "      <td>-0.225775</td>\n",
              "      <td>-0.638672</td>\n",
              "      <td>0.101288</td>\n",
              "      <td>-0.339846</td>\n",
              "      <td>0.167170</td>\n",
              "      <td>0.125895</td>\n",
              "      <td>-0.008983</td>\n",
              "      <td>0.014724</td>\n",
              "      <td>2.69</td>\n",
              "      <td>0</td>\n",
              "    </tr>\n",
              "    <tr>\n",
              "      <th>2</th>\n",
              "      <td>1.0</td>\n",
              "      <td>-1.358354</td>\n",
              "      <td>-1.340163</td>\n",
              "      <td>1.773209</td>\n",
              "      <td>0.379780</td>\n",
              "      <td>-0.503198</td>\n",
              "      <td>1.800499</td>\n",
              "      <td>0.791461</td>\n",
              "      <td>0.247676</td>\n",
              "      <td>-1.514654</td>\n",
              "      <td>0.207643</td>\n",
              "      <td>0.624501</td>\n",
              "      <td>0.066084</td>\n",
              "      <td>0.717293</td>\n",
              "      <td>-0.165946</td>\n",
              "      <td>2.345865</td>\n",
              "      <td>-2.890083</td>\n",
              "      <td>1.109969</td>\n",
              "      <td>-0.121359</td>\n",
              "      <td>-2.261857</td>\n",
              "      <td>0.524980</td>\n",
              "      <td>0.247998</td>\n",
              "      <td>0.771679</td>\n",
              "      <td>0.909412</td>\n",
              "      <td>-0.689281</td>\n",
              "      <td>-0.327642</td>\n",
              "      <td>-0.139097</td>\n",
              "      <td>-0.055353</td>\n",
              "      <td>-0.059752</td>\n",
              "      <td>378.66</td>\n",
              "      <td>0</td>\n",
              "    </tr>\n",
              "    <tr>\n",
              "      <th>3</th>\n",
              "      <td>1.0</td>\n",
              "      <td>-0.966272</td>\n",
              "      <td>-0.185226</td>\n",
              "      <td>1.792993</td>\n",
              "      <td>-0.863291</td>\n",
              "      <td>-0.010309</td>\n",
              "      <td>1.247203</td>\n",
              "      <td>0.237609</td>\n",
              "      <td>0.377436</td>\n",
              "      <td>-1.387024</td>\n",
              "      <td>-0.054952</td>\n",
              "      <td>-0.226487</td>\n",
              "      <td>0.178228</td>\n",
              "      <td>0.507757</td>\n",
              "      <td>-0.287924</td>\n",
              "      <td>-0.631418</td>\n",
              "      <td>-1.059647</td>\n",
              "      <td>-0.684093</td>\n",
              "      <td>1.965775</td>\n",
              "      <td>-1.232622</td>\n",
              "      <td>-0.208038</td>\n",
              "      <td>-0.108300</td>\n",
              "      <td>0.005274</td>\n",
              "      <td>-0.190321</td>\n",
              "      <td>-1.175575</td>\n",
              "      <td>0.647376</td>\n",
              "      <td>-0.221929</td>\n",
              "      <td>0.062723</td>\n",
              "      <td>0.061458</td>\n",
              "      <td>123.50</td>\n",
              "      <td>0</td>\n",
              "    </tr>\n",
              "    <tr>\n",
              "      <th>4</th>\n",
              "      <td>2.0</td>\n",
              "      <td>-1.158233</td>\n",
              "      <td>0.877737</td>\n",
              "      <td>1.548718</td>\n",
              "      <td>0.403034</td>\n",
              "      <td>-0.407193</td>\n",
              "      <td>0.095921</td>\n",
              "      <td>0.592941</td>\n",
              "      <td>-0.270533</td>\n",
              "      <td>0.817739</td>\n",
              "      <td>0.753074</td>\n",
              "      <td>-0.822843</td>\n",
              "      <td>0.538196</td>\n",
              "      <td>1.345852</td>\n",
              "      <td>-1.119670</td>\n",
              "      <td>0.175121</td>\n",
              "      <td>-0.451449</td>\n",
              "      <td>-0.237033</td>\n",
              "      <td>-0.038195</td>\n",
              "      <td>0.803487</td>\n",
              "      <td>0.408542</td>\n",
              "      <td>-0.009431</td>\n",
              "      <td>0.798278</td>\n",
              "      <td>-0.137458</td>\n",
              "      <td>0.141267</td>\n",
              "      <td>-0.206010</td>\n",
              "      <td>0.502292</td>\n",
              "      <td>0.219422</td>\n",
              "      <td>0.215153</td>\n",
              "      <td>69.99</td>\n",
              "      <td>0</td>\n",
              "    </tr>\n",
              "  </tbody>\n",
              "</table>\n",
              "</div>"
            ],
            "text/plain": [
              "   Time        V1        V2        V3  ...       V27       V28  Amount  Class\n",
              "0   0.0 -1.359807 -0.072781  2.536347  ...  0.133558 -0.021053  149.62      0\n",
              "1   0.0  1.191857  0.266151  0.166480  ... -0.008983  0.014724    2.69      0\n",
              "2   1.0 -1.358354 -1.340163  1.773209  ... -0.055353 -0.059752  378.66      0\n",
              "3   1.0 -0.966272 -0.185226  1.792993  ...  0.062723  0.061458  123.50      0\n",
              "4   2.0 -1.158233  0.877737  1.548718  ...  0.219422  0.215153   69.99      0\n",
              "\n",
              "[5 rows x 31 columns]"
            ]
          },
          "metadata": {
            "tags": []
          },
          "execution_count": 6
        }
      ]
    },
    {
      "cell_type": "code",
      "metadata": {
        "colab": {
          "base_uri": "https://localhost:8080/"
        },
        "id": "QwXceARdNz3n",
        "outputId": "920abb8c-bc6b-45fb-ee4e-947d62819da3"
      },
      "source": [
        "df.shape"
      ],
      "execution_count": 7,
      "outputs": [
        {
          "output_type": "execute_result",
          "data": {
            "text/plain": [
              "(284807, 31)"
            ]
          },
          "metadata": {
            "tags": []
          },
          "execution_count": 7
        }
      ]
    },
    {
      "cell_type": "code",
      "metadata": {
        "id": "UkjL81R5QcTy"
      },
      "source": [
        ""
      ],
      "execution_count": 7,
      "outputs": []
    },
    {
      "cell_type": "code",
      "metadata": {
        "id": "81i6zbJnN6O9"
      },
      "source": [
        "non_fraud=df[df[\"Class\"]==0]\n",
        "fraud = df[df[\"Class\"]==1]\n",
        "non_fraud=non_fraud.sample(3*fraud.shape[0])\n",
        "data = fraud.append(non_fraud, ignore_index=True)\n",
        "# data[\"Class\"].value_counts()\n",
        "# x_data= data.drop(columns=\"Class\", axis=0)\n",
        "# label = data[\"Class\"]"
      ],
      "execution_count": 11,
      "outputs": []
    },
    {
      "cell_type": "code",
      "metadata": {
        "id": "f_xCtMXJOLdu"
      },
      "source": [
        "np.random.seed(11)\n",
        "msk = np.random.rand(len(data)) <= 0.50\n",
        "train_data = data[msk]\n",
        "temp = data[~msk]\n",
        "msk1 = np.random.rand(len(temp)) <= 0.60\n",
        "test_data = temp[msk1]\n",
        "val_data = temp[~msk1]\n"
      ],
      "execution_count": 12,
      "outputs": []
    },
    {
      "cell_type": "code",
      "metadata": {
        "id": "oO6a7I3B6Kib"
      },
      "source": [
        "train_label = train_data.iloc[:,-1]\n",
        "train_data = train_data.iloc[:,0:-1]\n",
        "test_label = test_data.iloc[:,-1]\n",
        "test_data = test_data.iloc[:,0:-1]\n",
        "val_label = val_data.iloc[:,-1]\n",
        "val_data = val_data.iloc[:,0:-1]"
      ],
      "execution_count": 13,
      "outputs": []
    },
    {
      "cell_type": "code",
      "metadata": {
        "colab": {
          "base_uri": "https://localhost:8080/",
          "height": 226
        },
        "id": "IMuT2a8yYiU8",
        "outputId": "970738b9-ee79-43e5-cccb-417c116c2f5d"
      },
      "source": [
        "train_data.head()\n"
      ],
      "execution_count": 14,
      "outputs": [
        {
          "output_type": "execute_result",
          "data": {
            "text/html": [
              "<div>\n",
              "<style scoped>\n",
              "    .dataframe tbody tr th:only-of-type {\n",
              "        vertical-align: middle;\n",
              "    }\n",
              "\n",
              "    .dataframe tbody tr th {\n",
              "        vertical-align: top;\n",
              "    }\n",
              "\n",
              "    .dataframe thead th {\n",
              "        text-align: right;\n",
              "    }\n",
              "</style>\n",
              "<table border=\"1\" class=\"dataframe\">\n",
              "  <thead>\n",
              "    <tr style=\"text-align: right;\">\n",
              "      <th></th>\n",
              "      <th>Time</th>\n",
              "      <th>V1</th>\n",
              "      <th>V2</th>\n",
              "      <th>V3</th>\n",
              "      <th>V4</th>\n",
              "      <th>V5</th>\n",
              "      <th>V6</th>\n",
              "      <th>V7</th>\n",
              "      <th>V8</th>\n",
              "      <th>V9</th>\n",
              "      <th>V10</th>\n",
              "      <th>V11</th>\n",
              "      <th>V12</th>\n",
              "      <th>V13</th>\n",
              "      <th>V14</th>\n",
              "      <th>V15</th>\n",
              "      <th>V16</th>\n",
              "      <th>V17</th>\n",
              "      <th>V18</th>\n",
              "      <th>V19</th>\n",
              "      <th>V20</th>\n",
              "      <th>V21</th>\n",
              "      <th>V22</th>\n",
              "      <th>V23</th>\n",
              "      <th>V24</th>\n",
              "      <th>V25</th>\n",
              "      <th>V26</th>\n",
              "      <th>V27</th>\n",
              "      <th>V28</th>\n",
              "      <th>Amount</th>\n",
              "    </tr>\n",
              "  </thead>\n",
              "  <tbody>\n",
              "    <tr>\n",
              "      <th>0</th>\n",
              "      <td>406.0</td>\n",
              "      <td>-2.312227</td>\n",
              "      <td>1.951992</td>\n",
              "      <td>-1.609851</td>\n",
              "      <td>3.997906</td>\n",
              "      <td>-0.522188</td>\n",
              "      <td>-1.426545</td>\n",
              "      <td>-2.537387</td>\n",
              "      <td>1.391657</td>\n",
              "      <td>-2.770089</td>\n",
              "      <td>-2.772272</td>\n",
              "      <td>3.202033</td>\n",
              "      <td>-2.899907</td>\n",
              "      <td>-0.595222</td>\n",
              "      <td>-4.289254</td>\n",
              "      <td>0.389724</td>\n",
              "      <td>-1.140747</td>\n",
              "      <td>-2.830056</td>\n",
              "      <td>-0.016822</td>\n",
              "      <td>0.416956</td>\n",
              "      <td>0.126911</td>\n",
              "      <td>0.517232</td>\n",
              "      <td>-0.035049</td>\n",
              "      <td>-0.465211</td>\n",
              "      <td>0.320198</td>\n",
              "      <td>0.044519</td>\n",
              "      <td>0.177840</td>\n",
              "      <td>0.261145</td>\n",
              "      <td>-0.143276</td>\n",
              "      <td>0.00</td>\n",
              "    </tr>\n",
              "    <tr>\n",
              "      <th>1</th>\n",
              "      <td>472.0</td>\n",
              "      <td>-3.043541</td>\n",
              "      <td>-3.157307</td>\n",
              "      <td>1.088463</td>\n",
              "      <td>2.288644</td>\n",
              "      <td>1.359805</td>\n",
              "      <td>-1.064823</td>\n",
              "      <td>0.325574</td>\n",
              "      <td>-0.067794</td>\n",
              "      <td>-0.270953</td>\n",
              "      <td>-0.838587</td>\n",
              "      <td>-0.414575</td>\n",
              "      <td>-0.503141</td>\n",
              "      <td>0.676502</td>\n",
              "      <td>-1.692029</td>\n",
              "      <td>2.000635</td>\n",
              "      <td>0.666780</td>\n",
              "      <td>0.599717</td>\n",
              "      <td>1.725321</td>\n",
              "      <td>0.283345</td>\n",
              "      <td>2.102339</td>\n",
              "      <td>0.661696</td>\n",
              "      <td>0.435477</td>\n",
              "      <td>1.375966</td>\n",
              "      <td>-0.293803</td>\n",
              "      <td>0.279798</td>\n",
              "      <td>-0.145362</td>\n",
              "      <td>-0.252773</td>\n",
              "      <td>0.035764</td>\n",
              "      <td>529.00</td>\n",
              "    </tr>\n",
              "    <tr>\n",
              "      <th>2</th>\n",
              "      <td>4462.0</td>\n",
              "      <td>-2.303350</td>\n",
              "      <td>1.759247</td>\n",
              "      <td>-0.359745</td>\n",
              "      <td>2.330243</td>\n",
              "      <td>-0.821628</td>\n",
              "      <td>-0.075788</td>\n",
              "      <td>0.562320</td>\n",
              "      <td>-0.399147</td>\n",
              "      <td>-0.238253</td>\n",
              "      <td>-1.525412</td>\n",
              "      <td>2.032912</td>\n",
              "      <td>-6.560124</td>\n",
              "      <td>0.022937</td>\n",
              "      <td>-1.470102</td>\n",
              "      <td>-0.698826</td>\n",
              "      <td>-2.282194</td>\n",
              "      <td>-4.781831</td>\n",
              "      <td>-2.615665</td>\n",
              "      <td>-1.334441</td>\n",
              "      <td>-0.430022</td>\n",
              "      <td>-0.294166</td>\n",
              "      <td>-0.932391</td>\n",
              "      <td>0.172726</td>\n",
              "      <td>-0.087330</td>\n",
              "      <td>-0.156114</td>\n",
              "      <td>-0.542628</td>\n",
              "      <td>0.039566</td>\n",
              "      <td>-0.153029</td>\n",
              "      <td>239.93</td>\n",
              "    </tr>\n",
              "    <tr>\n",
              "      <th>4</th>\n",
              "      <td>7519.0</td>\n",
              "      <td>1.234235</td>\n",
              "      <td>3.019740</td>\n",
              "      <td>-4.304597</td>\n",
              "      <td>4.732795</td>\n",
              "      <td>3.624201</td>\n",
              "      <td>-1.357746</td>\n",
              "      <td>1.713445</td>\n",
              "      <td>-0.496358</td>\n",
              "      <td>-1.282858</td>\n",
              "      <td>-2.447469</td>\n",
              "      <td>2.101344</td>\n",
              "      <td>-4.609628</td>\n",
              "      <td>1.464378</td>\n",
              "      <td>-6.079337</td>\n",
              "      <td>-0.339237</td>\n",
              "      <td>2.581851</td>\n",
              "      <td>6.739384</td>\n",
              "      <td>3.042493</td>\n",
              "      <td>-2.721853</td>\n",
              "      <td>0.009061</td>\n",
              "      <td>-0.379068</td>\n",
              "      <td>-0.704181</td>\n",
              "      <td>-0.656805</td>\n",
              "      <td>-1.632653</td>\n",
              "      <td>1.488901</td>\n",
              "      <td>0.566797</td>\n",
              "      <td>-0.010016</td>\n",
              "      <td>0.146793</td>\n",
              "      <td>1.00</td>\n",
              "    </tr>\n",
              "    <tr>\n",
              "      <th>5</th>\n",
              "      <td>7526.0</td>\n",
              "      <td>0.008430</td>\n",
              "      <td>4.137837</td>\n",
              "      <td>-6.240697</td>\n",
              "      <td>6.675732</td>\n",
              "      <td>0.768307</td>\n",
              "      <td>-3.353060</td>\n",
              "      <td>-1.631735</td>\n",
              "      <td>0.154612</td>\n",
              "      <td>-2.795892</td>\n",
              "      <td>-6.187891</td>\n",
              "      <td>5.664395</td>\n",
              "      <td>-9.854485</td>\n",
              "      <td>-0.306167</td>\n",
              "      <td>-10.691196</td>\n",
              "      <td>-0.638498</td>\n",
              "      <td>-2.041974</td>\n",
              "      <td>-1.129056</td>\n",
              "      <td>0.116453</td>\n",
              "      <td>-1.934666</td>\n",
              "      <td>0.488378</td>\n",
              "      <td>0.364514</td>\n",
              "      <td>-0.608057</td>\n",
              "      <td>-0.539528</td>\n",
              "      <td>0.128940</td>\n",
              "      <td>1.488481</td>\n",
              "      <td>0.507963</td>\n",
              "      <td>0.735822</td>\n",
              "      <td>0.513574</td>\n",
              "      <td>1.00</td>\n",
              "    </tr>\n",
              "  </tbody>\n",
              "</table>\n",
              "</div>"
            ],
            "text/plain": [
              "     Time        V1        V2        V3  ...       V26       V27       V28  Amount\n",
              "0   406.0 -2.312227  1.951992 -1.609851  ...  0.177840  0.261145 -0.143276    0.00\n",
              "1   472.0 -3.043541 -3.157307  1.088463  ... -0.145362 -0.252773  0.035764  529.00\n",
              "2  4462.0 -2.303350  1.759247 -0.359745  ... -0.542628  0.039566 -0.153029  239.93\n",
              "4  7519.0  1.234235  3.019740 -4.304597  ...  0.566797 -0.010016  0.146793    1.00\n",
              "5  7526.0  0.008430  4.137837 -6.240697  ...  0.507963  0.735822  0.513574    1.00\n",
              "\n",
              "[5 rows x 30 columns]"
            ]
          },
          "metadata": {
            "tags": []
          },
          "execution_count": 14
        }
      ]
    },
    {
      "cell_type": "code",
      "metadata": {
        "id": "5aaQQMXCOVEo"
      },
      "source": [
        "train_mean = train_data.mean(axis=0) # taking the mean of \n",
        "train_data -= train_mean\n",
        "train_std = train_data.std(axis=0)\n",
        "train_data /= train_std\n",
        "test_data -= train_mean\n",
        "test_data /= train_std\n",
        "val_data -= train_mean\n",
        "val_data /= train_std"
      ],
      "execution_count": 15,
      "outputs": []
    },
    {
      "cell_type": "code",
      "metadata": {
        "colab": {
          "base_uri": "https://localhost:8080/"
        },
        "id": "rWTqNgwvR9Q7",
        "outputId": "f2903c69-3cd1-4fd9-8cac-e9d892cccce4"
      },
      "source": [
        "train_data.shape"
      ],
      "execution_count": 16,
      "outputs": [
        {
          "output_type": "execute_result",
          "data": {
            "text/plain": [
              "(989, 30)"
            ]
          },
          "metadata": {
            "tags": []
          },
          "execution_count": 16
        }
      ]
    },
    {
      "cell_type": "code",
      "metadata": {
        "colab": {
          "base_uri": "https://localhost:8080/"
        },
        "id": "eEekd239SF0X",
        "outputId": "21762d5a-88a6-4c6c-d6e7-1eb2df18c7ba"
      },
      "source": [
        "test_data.shape"
      ],
      "execution_count": 17,
      "outputs": [
        {
          "output_type": "execute_result",
          "data": {
            "text/plain": [
              "(579, 30)"
            ]
          },
          "metadata": {
            "tags": []
          },
          "execution_count": 17
        }
      ]
    },
    {
      "cell_type": "code",
      "metadata": {
        "colab": {
          "base_uri": "https://localhost:8080/"
        },
        "id": "DNMtVViYSKu3",
        "outputId": "b1a74de6-3674-4af5-beea-c6c53f3205d6"
      },
      "source": [
        "val_data.shape"
      ],
      "execution_count": 18,
      "outputs": [
        {
          "output_type": "execute_result",
          "data": {
            "text/plain": [
              "(400, 30)"
            ]
          },
          "metadata": {
            "tags": []
          },
          "execution_count": 18
        }
      ]
    },
    {
      "cell_type": "code",
      "metadata": {
        "colab": {
          "base_uri": "https://localhost:8080/",
          "height": 320
        },
        "id": "-SL6FatJOc5m",
        "outputId": "23b98c5c-c1ed-4868-8534-4fee8cc792b5"
      },
      "source": [
        "train_data.describe()"
      ],
      "execution_count": 19,
      "outputs": [
        {
          "output_type": "execute_result",
          "data": {
            "text/html": [
              "<div>\n",
              "<style scoped>\n",
              "    .dataframe tbody tr th:only-of-type {\n",
              "        vertical-align: middle;\n",
              "    }\n",
              "\n",
              "    .dataframe tbody tr th {\n",
              "        vertical-align: top;\n",
              "    }\n",
              "\n",
              "    .dataframe thead th {\n",
              "        text-align: right;\n",
              "    }\n",
              "</style>\n",
              "<table border=\"1\" class=\"dataframe\">\n",
              "  <thead>\n",
              "    <tr style=\"text-align: right;\">\n",
              "      <th></th>\n",
              "      <th>Time</th>\n",
              "      <th>V1</th>\n",
              "      <th>V2</th>\n",
              "      <th>V3</th>\n",
              "      <th>V4</th>\n",
              "      <th>V5</th>\n",
              "      <th>V6</th>\n",
              "      <th>V7</th>\n",
              "      <th>V8</th>\n",
              "      <th>V9</th>\n",
              "      <th>V10</th>\n",
              "      <th>V11</th>\n",
              "      <th>V12</th>\n",
              "      <th>V13</th>\n",
              "      <th>V14</th>\n",
              "      <th>V15</th>\n",
              "      <th>V16</th>\n",
              "      <th>V17</th>\n",
              "      <th>V18</th>\n",
              "      <th>V19</th>\n",
              "      <th>V20</th>\n",
              "      <th>V21</th>\n",
              "      <th>V22</th>\n",
              "      <th>V23</th>\n",
              "      <th>V24</th>\n",
              "      <th>V25</th>\n",
              "      <th>V26</th>\n",
              "      <th>V27</th>\n",
              "      <th>V28</th>\n",
              "      <th>Amount</th>\n",
              "    </tr>\n",
              "  </thead>\n",
              "  <tbody>\n",
              "    <tr>\n",
              "      <th>count</th>\n",
              "      <td>9.890000e+02</td>\n",
              "      <td>9.890000e+02</td>\n",
              "      <td>9.890000e+02</td>\n",
              "      <td>9.890000e+02</td>\n",
              "      <td>9.890000e+02</td>\n",
              "      <td>9.890000e+02</td>\n",
              "      <td>9.890000e+02</td>\n",
              "      <td>9.890000e+02</td>\n",
              "      <td>9.890000e+02</td>\n",
              "      <td>9.890000e+02</td>\n",
              "      <td>9.890000e+02</td>\n",
              "      <td>9.890000e+02</td>\n",
              "      <td>9.890000e+02</td>\n",
              "      <td>9.890000e+02</td>\n",
              "      <td>9.890000e+02</td>\n",
              "      <td>9.890000e+02</td>\n",
              "      <td>9.890000e+02</td>\n",
              "      <td>9.890000e+02</td>\n",
              "      <td>9.890000e+02</td>\n",
              "      <td>9.890000e+02</td>\n",
              "      <td>9.890000e+02</td>\n",
              "      <td>9.890000e+02</td>\n",
              "      <td>9.890000e+02</td>\n",
              "      <td>9.890000e+02</td>\n",
              "      <td>9.890000e+02</td>\n",
              "      <td>9.890000e+02</td>\n",
              "      <td>9.890000e+02</td>\n",
              "      <td>9.890000e+02</td>\n",
              "      <td>9.890000e+02</td>\n",
              "      <td>9.890000e+02</td>\n",
              "    </tr>\n",
              "    <tr>\n",
              "      <th>mean</th>\n",
              "      <td>-1.526697e-17</td>\n",
              "      <td>3.520384e-16</td>\n",
              "      <td>-2.735706e-16</td>\n",
              "      <td>-2.141305e-16</td>\n",
              "      <td>-4.153514e-17</td>\n",
              "      <td>1.263103e-16</td>\n",
              "      <td>-4.713677e-16</td>\n",
              "      <td>-1.191609e-16</td>\n",
              "      <td>-2.950959e-17</td>\n",
              "      <td>5.483761e-16</td>\n",
              "      <td>5.757107e-16</td>\n",
              "      <td>-2.937769e-16</td>\n",
              "      <td>5.817165e-16</td>\n",
              "      <td>-1.121449e-16</td>\n",
              "      <td>-1.100120e-17</td>\n",
              "      <td>-2.245143e-17</td>\n",
              "      <td>-1.050727e-16</td>\n",
              "      <td>-2.433173e-16</td>\n",
              "      <td>9.659726e-17</td>\n",
              "      <td>-2.182419e-16</td>\n",
              "      <td>6.033821e-18</td>\n",
              "      <td>5.598824e-17</td>\n",
              "      <td>-9.828112e-17</td>\n",
              "      <td>-3.957064e-18</td>\n",
              "      <td>1.481794e-17</td>\n",
              "      <td>-2.814848e-17</td>\n",
              "      <td>-3.098297e-17</td>\n",
              "      <td>-9.561501e-17</td>\n",
              "      <td>-5.809307e-18</td>\n",
              "      <td>1.494142e-16</td>\n",
              "    </tr>\n",
              "    <tr>\n",
              "      <th>std</th>\n",
              "      <td>1.000000e+00</td>\n",
              "      <td>1.000000e+00</td>\n",
              "      <td>1.000000e+00</td>\n",
              "      <td>1.000000e+00</td>\n",
              "      <td>1.000000e+00</td>\n",
              "      <td>1.000000e+00</td>\n",
              "      <td>1.000000e+00</td>\n",
              "      <td>1.000000e+00</td>\n",
              "      <td>1.000000e+00</td>\n",
              "      <td>1.000000e+00</td>\n",
              "      <td>1.000000e+00</td>\n",
              "      <td>1.000000e+00</td>\n",
              "      <td>1.000000e+00</td>\n",
              "      <td>1.000000e+00</td>\n",
              "      <td>1.000000e+00</td>\n",
              "      <td>1.000000e+00</td>\n",
              "      <td>1.000000e+00</td>\n",
              "      <td>1.000000e+00</td>\n",
              "      <td>1.000000e+00</td>\n",
              "      <td>1.000000e+00</td>\n",
              "      <td>1.000000e+00</td>\n",
              "      <td>1.000000e+00</td>\n",
              "      <td>1.000000e+00</td>\n",
              "      <td>1.000000e+00</td>\n",
              "      <td>1.000000e+00</td>\n",
              "      <td>1.000000e+00</td>\n",
              "      <td>1.000000e+00</td>\n",
              "      <td>1.000000e+00</td>\n",
              "      <td>1.000000e+00</td>\n",
              "      <td>1.000000e+00</td>\n",
              "    </tr>\n",
              "    <tr>\n",
              "      <th>min</th>\n",
              "      <td>-1.925586e+00</td>\n",
              "      <td>-7.291072e+00</td>\n",
              "      <td>-4.690597e+00</td>\n",
              "      <td>-6.418443e+00</td>\n",
              "      <td>-1.965082e+00</td>\n",
              "      <td>-7.108944e+00</td>\n",
              "      <td>-3.824632e+00</td>\n",
              "      <td>-8.590227e+00</td>\n",
              "      <td>-1.024748e+01</td>\n",
              "      <td>-5.774552e+00</td>\n",
              "      <td>-6.480078e+00</td>\n",
              "      <td>-1.671664e+00</td>\n",
              "      <td>-4.733168e+00</td>\n",
              "      <td>-3.077439e+00</td>\n",
              "      <td>-4.647261e+00</td>\n",
              "      <td>-4.711520e+00</td>\n",
              "      <td>-4.722483e+00</td>\n",
              "      <td>-5.038881e+00</td>\n",
              "      <td>-4.887039e+00</td>\n",
              "      <td>-2.901097e+00</td>\n",
              "      <td>-1.190899e+01</td>\n",
              "      <td>-7.534901e+00</td>\n",
              "      <td>-8.715652e+00</td>\n",
              "      <td>-1.812996e+01</td>\n",
              "      <td>-3.612246e+00</td>\n",
              "      <td>-7.814848e+00</td>\n",
              "      <td>-2.831247e+00</td>\n",
              "      <td>-1.028865e+01</td>\n",
              "      <td>-9.430810e+00</td>\n",
              "      <td>-4.263301e-01</td>\n",
              "    </tr>\n",
              "    <tr>\n",
              "      <th>25%</th>\n",
              "      <td>-8.810956e-01</td>\n",
              "      <td>-9.790865e-02</td>\n",
              "      <td>-4.326018e-01</td>\n",
              "      <td>-8.617268e-02</td>\n",
              "      <td>-6.355025e-01</td>\n",
              "      <td>-1.223768e-01</td>\n",
              "      <td>-4.578011e-01</td>\n",
              "      <td>4.641380e-02</td>\n",
              "      <td>-7.565047e-02</td>\n",
              "      <td>-3.192317e-01</td>\n",
              "      <td>3.675924e-02</td>\n",
              "      <td>-6.584450e-01</td>\n",
              "      <td>-1.517037e-01</td>\n",
              "      <td>-6.833652e-01</td>\n",
              "      <td>3.937308e-02</td>\n",
              "      <td>-5.843395e-01</td>\n",
              "      <td>-5.621347e-02</td>\n",
              "      <td>1.601141e-01</td>\n",
              "      <td>-1.691552e-01</td>\n",
              "      <td>-5.600380e-01</td>\n",
              "      <td>-2.916423e-01</td>\n",
              "      <td>-2.034590e-01</td>\n",
              "      <td>-5.074149e-01</td>\n",
              "      <td>-1.735131e-01</td>\n",
              "      <td>-6.249001e-01</td>\n",
              "      <td>-5.775143e-01</td>\n",
              "      <td>-6.680834e-01</td>\n",
              "      <td>-1.934579e-01</td>\n",
              "      <td>-2.240420e-01</td>\n",
              "      <td>-4.118336e-01</td>\n",
              "    </tr>\n",
              "    <tr>\n",
              "      <th>50%</th>\n",
              "      <td>-1.598422e-01</td>\n",
              "      <td>1.602741e-01</td>\n",
              "      <td>-1.721592e-01</td>\n",
              "      <td>2.807421e-01</td>\n",
              "      <td>-2.818260e-01</td>\n",
              "      <td>1.504606e-01</td>\n",
              "      <td>-3.248830e-02</td>\n",
              "      <td>2.788723e-01</td>\n",
              "      <td>1.463528e-03</td>\n",
              "      <td>1.573921e-01</td>\n",
              "      <td>3.090113e-01</td>\n",
              "      <td>-2.330907e-01</td>\n",
              "      <td>3.836362e-01</td>\n",
              "      <td>3.431649e-02</td>\n",
              "      <td>4.047452e-01</td>\n",
              "      <td>4.824740e-02</td>\n",
              "      <td>3.057661e-01</td>\n",
              "      <td>3.037646e-01</td>\n",
              "      <td>2.310778e-01</td>\n",
              "      <td>-9.002974e-02</td>\n",
              "      <td>-8.847637e-02</td>\n",
              "      <td>-9.592375e-02</td>\n",
              "      <td>5.744769e-02</td>\n",
              "      <td>-4.972849e-03</td>\n",
              "      <td>9.157051e-02</td>\n",
              "      <td>2.266151e-02</td>\n",
              "      <td>-1.493712e-01</td>\n",
              "      <td>-6.269551e-02</td>\n",
              "      <td>-3.734650e-02</td>\n",
              "      <td>-3.267877e-01</td>\n",
              "    </tr>\n",
              "    <tr>\n",
              "      <th>75%</th>\n",
              "      <td>9.701464e-01</td>\n",
              "      <td>5.616283e-01</td>\n",
              "      <td>1.562496e-01</td>\n",
              "      <td>5.337254e-01</td>\n",
              "      <td>2.887345e-01</td>\n",
              "      <td>4.040371e-01</td>\n",
              "      <td>3.840361e-01</td>\n",
              "      <td>4.256311e-01</td>\n",
              "      <td>1.293260e-01</td>\n",
              "      <td>5.730704e-01</td>\n",
              "      <td>4.573322e-01</td>\n",
              "      <td>2.353695e-01</td>\n",
              "      <td>5.586151e-01</td>\n",
              "      <td>6.608331e-01</td>\n",
              "      <td>5.431742e-01</td>\n",
              "      <td>6.930691e-01</td>\n",
              "      <td>5.359256e-01</td>\n",
              "      <td>4.360840e-01</td>\n",
              "      <td>5.250911e-01</td>\n",
              "      <td>4.635472e-01</td>\n",
              "      <td>2.249327e-01</td>\n",
              "      <td>3.125672e-02</td>\n",
              "      <td>5.593584e-01</td>\n",
              "      <td>1.840214e-01</td>\n",
              "      <td>7.304055e-01</td>\n",
              "      <td>5.656885e-01</td>\n",
              "      <td>5.492981e-01</td>\n",
              "      <td>2.598747e-01</td>\n",
              "      <td>2.919984e-01</td>\n",
              "      <td>-3.869470e-02</td>\n",
              "    </tr>\n",
              "    <tr>\n",
              "      <th>max</th>\n",
              "      <td>1.631419e+00</td>\n",
              "      <td>8.399193e-01</td>\n",
              "      <td>6.459982e+00</td>\n",
              "      <td>9.841812e-01</td>\n",
              "      <td>4.089730e+00</td>\n",
              "      <td>3.886164e+00</td>\n",
              "      <td>3.827445e+00</td>\n",
              "      <td>2.050214e+00</td>\n",
              "      <td>5.453653e+00</td>\n",
              "      <td>4.051278e+00</td>\n",
              "      <td>3.919526e+00</td>\n",
              "      <td>4.837617e+00</td>\n",
              "      <td>9.579950e-01</td>\n",
              "      <td>3.152704e+00</td>\n",
              "      <td>1.370809e+00</td>\n",
              "      <td>2.840636e+00</td>\n",
              "      <td>1.342945e+00</td>\n",
              "      <td>1.885748e+00</td>\n",
              "      <td>2.202253e+00</td>\n",
              "      <td>3.662447e+00</td>\n",
              "      <td>9.035518e+00</td>\n",
              "      <td>1.179693e+01</td>\n",
              "      <td>5.696424e+00</td>\n",
              "      <td>5.026883e+00</td>\n",
              "      <td>2.196928e+00</td>\n",
              "      <td>3.568515e+00</td>\n",
              "      <td>5.469138e+00</td>\n",
              "      <td>4.191413e+00</td>\n",
              "      <td>1.263751e+01</td>\n",
              "      <td>1.028172e+01</td>\n",
              "    </tr>\n",
              "  </tbody>\n",
              "</table>\n",
              "</div>"
            ],
            "text/plain": [
              "               Time            V1  ...           V28        Amount\n",
              "count  9.890000e+02  9.890000e+02  ...  9.890000e+02  9.890000e+02\n",
              "mean  -1.526697e-17  3.520384e-16  ... -5.809307e-18  1.494142e-16\n",
              "std    1.000000e+00  1.000000e+00  ...  1.000000e+00  1.000000e+00\n",
              "min   -1.925586e+00 -7.291072e+00  ... -9.430810e+00 -4.263301e-01\n",
              "25%   -8.810956e-01 -9.790865e-02  ... -2.240420e-01 -4.118336e-01\n",
              "50%   -1.598422e-01  1.602741e-01  ... -3.734650e-02 -3.267877e-01\n",
              "75%    9.701464e-01  5.616283e-01  ...  2.919984e-01 -3.869470e-02\n",
              "max    1.631419e+00  8.399193e-01  ...  1.263751e+01  1.028172e+01\n",
              "\n",
              "[8 rows x 30 columns]"
            ]
          },
          "metadata": {
            "tags": []
          },
          "execution_count": 19
        }
      ]
    },
    {
      "cell_type": "code",
      "metadata": {
        "id": "86-dglQASk6_"
      },
      "source": [
        ""
      ],
      "execution_count": null,
      "outputs": []
    },
    {
      "cell_type": "code",
      "metadata": {
        "id": "D1FkL7hkOtVZ"
      },
      "source": [
        "model = models.Sequential()\n",
        "model.add(layers.Dense(10, activation='relu', input_shape=(train_data.shape[1],)))\n",
        "model.add(layers.Dropout(0.5))\n",
        "model.add(layers.Dense(8, activation='relu'))\n",
        "model.add(layers.Dropout(0.5))\n",
        "model.add(layers.Dense(6, activation='relu'))\n",
        "model.add(layers.Dropout(0.5))\n",
        "model.add(layers.Dense(1, activation='sigmoid'))"
      ],
      "execution_count": 20,
      "outputs": []
    },
    {
      "cell_type": "code",
      "metadata": {
        "id": "wm3pgvCyO-Rg"
      },
      "source": [
        "model.compile(loss= 'binary_crossentropy', optimizer= 'rmsprop', metrics=['accuracy'])"
      ],
      "execution_count": 21,
      "outputs": []
    },
    {
      "cell_type": "code",
      "metadata": {
        "colab": {
          "base_uri": "https://localhost:8080/"
        },
        "id": "v03x9crxPIiG",
        "outputId": "d2171d2b-409d-4f5e-9f52-1662811bcda9"
      },
      "source": [
        "history=model.fit(train_data, train_label, epochs=100,validation_data=(val_data,val_label))"
      ],
      "execution_count": 22,
      "outputs": [
        {
          "output_type": "stream",
          "text": [
            "Epoch 1/100\n",
            "31/31 [==============================] - 3s 10ms/step - loss: 0.7774 - accuracy: 0.5392 - val_loss: 0.6330 - val_accuracy: 0.7450\n",
            "Epoch 2/100\n",
            "31/31 [==============================] - 0s 4ms/step - loss: 0.7151 - accuracy: 0.6698 - val_loss: 0.6102 - val_accuracy: 0.8700\n",
            "Epoch 3/100\n",
            "31/31 [==============================] - 0s 4ms/step - loss: 0.6656 - accuracy: 0.7258 - val_loss: 0.5913 - val_accuracy: 0.9050\n",
            "Epoch 4/100\n",
            "31/31 [==============================] - 0s 4ms/step - loss: 0.6295 - accuracy: 0.7735 - val_loss: 0.5646 - val_accuracy: 0.9025\n",
            "Epoch 5/100\n",
            "31/31 [==============================] - 0s 4ms/step - loss: 0.6094 - accuracy: 0.7844 - val_loss: 0.5338 - val_accuracy: 0.9075\n",
            "Epoch 6/100\n",
            "31/31 [==============================] - 0s 4ms/step - loss: 0.5801 - accuracy: 0.7979 - val_loss: 0.5052 - val_accuracy: 0.9075\n",
            "Epoch 7/100\n",
            "31/31 [==============================] - 0s 4ms/step - loss: 0.5616 - accuracy: 0.8101 - val_loss: 0.4767 - val_accuracy: 0.9125\n",
            "Epoch 8/100\n",
            "31/31 [==============================] - 0s 4ms/step - loss: 0.5213 - accuracy: 0.8339 - val_loss: 0.4436 - val_accuracy: 0.9175\n",
            "Epoch 9/100\n",
            "31/31 [==============================] - 0s 4ms/step - loss: 0.5083 - accuracy: 0.8506 - val_loss: 0.4176 - val_accuracy: 0.9225\n",
            "Epoch 10/100\n",
            "31/31 [==============================] - 0s 4ms/step - loss: 0.5136 - accuracy: 0.8191 - val_loss: 0.3954 - val_accuracy: 0.9250\n",
            "Epoch 11/100\n",
            "31/31 [==============================] - 0s 4ms/step - loss: 0.5220 - accuracy: 0.8556 - val_loss: 0.3735 - val_accuracy: 0.9250\n",
            "Epoch 12/100\n",
            "31/31 [==============================] - 0s 4ms/step - loss: 0.4618 - accuracy: 0.8557 - val_loss: 0.3528 - val_accuracy: 0.9250\n",
            "Epoch 13/100\n",
            "31/31 [==============================] - 0s 4ms/step - loss: 0.4316 - accuracy: 0.8561 - val_loss: 0.3282 - val_accuracy: 0.9275\n",
            "Epoch 14/100\n",
            "31/31 [==============================] - 0s 4ms/step - loss: 0.4379 - accuracy: 0.8394 - val_loss: 0.3073 - val_accuracy: 0.9375\n",
            "Epoch 15/100\n",
            "31/31 [==============================] - 0s 4ms/step - loss: 0.4251 - accuracy: 0.8430 - val_loss: 0.2906 - val_accuracy: 0.9400\n",
            "Epoch 16/100\n",
            "31/31 [==============================] - 0s 4ms/step - loss: 0.4034 - accuracy: 0.8827 - val_loss: 0.2769 - val_accuracy: 0.9400\n",
            "Epoch 17/100\n",
            "31/31 [==============================] - 0s 4ms/step - loss: 0.3792 - accuracy: 0.8784 - val_loss: 0.2671 - val_accuracy: 0.9400\n",
            "Epoch 18/100\n",
            "31/31 [==============================] - 0s 4ms/step - loss: 0.3978 - accuracy: 0.8567 - val_loss: 0.2541 - val_accuracy: 0.9400\n",
            "Epoch 19/100\n",
            "31/31 [==============================] - 0s 4ms/step - loss: 0.3639 - accuracy: 0.8857 - val_loss: 0.2465 - val_accuracy: 0.9400\n",
            "Epoch 20/100\n",
            "31/31 [==============================] - 0s 4ms/step - loss: 0.3636 - accuracy: 0.8693 - val_loss: 0.2394 - val_accuracy: 0.9400\n",
            "Epoch 21/100\n",
            "31/31 [==============================] - 0s 4ms/step - loss: 0.3517 - accuracy: 0.8775 - val_loss: 0.2317 - val_accuracy: 0.9425\n",
            "Epoch 22/100\n",
            "31/31 [==============================] - 0s 4ms/step - loss: 0.3967 - accuracy: 0.8761 - val_loss: 0.2280 - val_accuracy: 0.9425\n",
            "Epoch 23/100\n",
            "31/31 [==============================] - 0s 4ms/step - loss: 0.3150 - accuracy: 0.8966 - val_loss: 0.2221 - val_accuracy: 0.9425\n",
            "Epoch 24/100\n",
            "31/31 [==============================] - 0s 4ms/step - loss: 0.3120 - accuracy: 0.9045 - val_loss: 0.2159 - val_accuracy: 0.9450\n",
            "Epoch 25/100\n",
            "31/31 [==============================] - 0s 4ms/step - loss: 0.3832 - accuracy: 0.8775 - val_loss: 0.2143 - val_accuracy: 0.9450\n",
            "Epoch 26/100\n",
            "31/31 [==============================] - 0s 4ms/step - loss: 0.3840 - accuracy: 0.8689 - val_loss: 0.2111 - val_accuracy: 0.9450\n",
            "Epoch 27/100\n",
            "31/31 [==============================] - 0s 4ms/step - loss: 0.3432 - accuracy: 0.8804 - val_loss: 0.2074 - val_accuracy: 0.9450\n",
            "Epoch 28/100\n",
            "31/31 [==============================] - 0s 4ms/step - loss: 0.3185 - accuracy: 0.9026 - val_loss: 0.2042 - val_accuracy: 0.9475\n",
            "Epoch 29/100\n",
            "31/31 [==============================] - 0s 4ms/step - loss: 0.3428 - accuracy: 0.8984 - val_loss: 0.2024 - val_accuracy: 0.9475\n",
            "Epoch 30/100\n",
            "31/31 [==============================] - 0s 4ms/step - loss: 0.3091 - accuracy: 0.8795 - val_loss: 0.1989 - val_accuracy: 0.9475\n",
            "Epoch 31/100\n",
            "31/31 [==============================] - 0s 4ms/step - loss: 0.3303 - accuracy: 0.9035 - val_loss: 0.1992 - val_accuracy: 0.9475\n",
            "Epoch 32/100\n",
            "31/31 [==============================] - 0s 4ms/step - loss: 0.3083 - accuracy: 0.9017 - val_loss: 0.1951 - val_accuracy: 0.9500\n",
            "Epoch 33/100\n",
            "31/31 [==============================] - 0s 4ms/step - loss: 0.3328 - accuracy: 0.8881 - val_loss: 0.1933 - val_accuracy: 0.9500\n",
            "Epoch 34/100\n",
            "31/31 [==============================] - 0s 4ms/step - loss: 0.2833 - accuracy: 0.9114 - val_loss: 0.1901 - val_accuracy: 0.9500\n",
            "Epoch 35/100\n",
            "31/31 [==============================] - 0s 4ms/step - loss: 0.2930 - accuracy: 0.9037 - val_loss: 0.1881 - val_accuracy: 0.9500\n",
            "Epoch 36/100\n",
            "31/31 [==============================] - 0s 4ms/step - loss: 0.2707 - accuracy: 0.9208 - val_loss: 0.1869 - val_accuracy: 0.9500\n",
            "Epoch 37/100\n",
            "31/31 [==============================] - 0s 4ms/step - loss: 0.2970 - accuracy: 0.9060 - val_loss: 0.1842 - val_accuracy: 0.9500\n",
            "Epoch 38/100\n",
            "31/31 [==============================] - 0s 4ms/step - loss: 0.3577 - accuracy: 0.8909 - val_loss: 0.1830 - val_accuracy: 0.9500\n",
            "Epoch 39/100\n",
            "31/31 [==============================] - 0s 4ms/step - loss: 0.3088 - accuracy: 0.8972 - val_loss: 0.1823 - val_accuracy: 0.9525\n",
            "Epoch 40/100\n",
            "31/31 [==============================] - 0s 4ms/step - loss: 0.2842 - accuracy: 0.9050 - val_loss: 0.1803 - val_accuracy: 0.9525\n",
            "Epoch 41/100\n",
            "31/31 [==============================] - 0s 4ms/step - loss: 0.2905 - accuracy: 0.8997 - val_loss: 0.1802 - val_accuracy: 0.9525\n",
            "Epoch 42/100\n",
            "31/31 [==============================] - 0s 4ms/step - loss: 0.2875 - accuracy: 0.9176 - val_loss: 0.1795 - val_accuracy: 0.9525\n",
            "Epoch 43/100\n",
            "31/31 [==============================] - 0s 4ms/step - loss: 0.2865 - accuracy: 0.8949 - val_loss: 0.1778 - val_accuracy: 0.9525\n",
            "Epoch 44/100\n",
            "31/31 [==============================] - 0s 4ms/step - loss: 0.2400 - accuracy: 0.9251 - val_loss: 0.1764 - val_accuracy: 0.9525\n",
            "Epoch 45/100\n",
            "31/31 [==============================] - 0s 4ms/step - loss: 0.2643 - accuracy: 0.9250 - val_loss: 0.1754 - val_accuracy: 0.9525\n",
            "Epoch 46/100\n",
            "31/31 [==============================] - 0s 4ms/step - loss: 0.2859 - accuracy: 0.8978 - val_loss: 0.1752 - val_accuracy: 0.9525\n",
            "Epoch 47/100\n",
            "31/31 [==============================] - 0s 4ms/step - loss: 0.2740 - accuracy: 0.9256 - val_loss: 0.1751 - val_accuracy: 0.9525\n",
            "Epoch 48/100\n",
            "31/31 [==============================] - 0s 4ms/step - loss: 0.2531 - accuracy: 0.9149 - val_loss: 0.1726 - val_accuracy: 0.9525\n",
            "Epoch 49/100\n",
            "31/31 [==============================] - 0s 4ms/step - loss: 0.3018 - accuracy: 0.8963 - val_loss: 0.1721 - val_accuracy: 0.9525\n",
            "Epoch 50/100\n",
            "31/31 [==============================] - 0s 4ms/step - loss: 0.2807 - accuracy: 0.9068 - val_loss: 0.1711 - val_accuracy: 0.9525\n",
            "Epoch 51/100\n",
            "31/31 [==============================] - 0s 4ms/step - loss: 0.2558 - accuracy: 0.9058 - val_loss: 0.1701 - val_accuracy: 0.9525\n",
            "Epoch 52/100\n",
            "31/31 [==============================] - 0s 4ms/step - loss: 0.2984 - accuracy: 0.9017 - val_loss: 0.1686 - val_accuracy: 0.9525\n",
            "Epoch 53/100\n",
            "31/31 [==============================] - 0s 4ms/step - loss: 0.2724 - accuracy: 0.9116 - val_loss: 0.1678 - val_accuracy: 0.9525\n",
            "Epoch 54/100\n",
            "31/31 [==============================] - 0s 4ms/step - loss: 0.2266 - accuracy: 0.9346 - val_loss: 0.1667 - val_accuracy: 0.9525\n",
            "Epoch 55/100\n",
            "31/31 [==============================] - 0s 4ms/step - loss: 0.2592 - accuracy: 0.9138 - val_loss: 0.1660 - val_accuracy: 0.9525\n",
            "Epoch 56/100\n",
            "31/31 [==============================] - 0s 4ms/step - loss: 0.2608 - accuracy: 0.9263 - val_loss: 0.1664 - val_accuracy: 0.9525\n",
            "Epoch 57/100\n",
            "31/31 [==============================] - 0s 4ms/step - loss: 0.2782 - accuracy: 0.9082 - val_loss: 0.1652 - val_accuracy: 0.9525\n",
            "Epoch 58/100\n",
            "31/31 [==============================] - 0s 4ms/step - loss: 0.3015 - accuracy: 0.9042 - val_loss: 0.1648 - val_accuracy: 0.9525\n",
            "Epoch 59/100\n",
            "31/31 [==============================] - 0s 4ms/step - loss: 0.2799 - accuracy: 0.9108 - val_loss: 0.1637 - val_accuracy: 0.9525\n",
            "Epoch 60/100\n",
            "31/31 [==============================] - 0s 4ms/step - loss: 0.2608 - accuracy: 0.9072 - val_loss: 0.1632 - val_accuracy: 0.9525\n",
            "Epoch 61/100\n",
            "31/31 [==============================] - 0s 4ms/step - loss: 0.2633 - accuracy: 0.9150 - val_loss: 0.1623 - val_accuracy: 0.9525\n",
            "Epoch 62/100\n",
            "31/31 [==============================] - 0s 4ms/step - loss: 0.2457 - accuracy: 0.9276 - val_loss: 0.1614 - val_accuracy: 0.9525\n",
            "Epoch 63/100\n",
            "31/31 [==============================] - 0s 4ms/step - loss: 0.3341 - accuracy: 0.8924 - val_loss: 0.1623 - val_accuracy: 0.9525\n",
            "Epoch 64/100\n",
            "31/31 [==============================] - 0s 4ms/step - loss: 0.2403 - accuracy: 0.9287 - val_loss: 0.1615 - val_accuracy: 0.9525\n",
            "Epoch 65/100\n",
            "31/31 [==============================] - 0s 4ms/step - loss: 0.2497 - accuracy: 0.9316 - val_loss: 0.1608 - val_accuracy: 0.9525\n",
            "Epoch 66/100\n",
            "31/31 [==============================] - 0s 4ms/step - loss: 0.2133 - accuracy: 0.9380 - val_loss: 0.1596 - val_accuracy: 0.9525\n",
            "Epoch 67/100\n",
            "31/31 [==============================] - 0s 4ms/step - loss: 0.2642 - accuracy: 0.9130 - val_loss: 0.1591 - val_accuracy: 0.9550\n",
            "Epoch 68/100\n",
            "31/31 [==============================] - 0s 4ms/step - loss: 0.2511 - accuracy: 0.9308 - val_loss: 0.1591 - val_accuracy: 0.9525\n",
            "Epoch 69/100\n",
            "31/31 [==============================] - 0s 4ms/step - loss: 0.2445 - accuracy: 0.9183 - val_loss: 0.1585 - val_accuracy: 0.9525\n",
            "Epoch 70/100\n",
            "31/31 [==============================] - 0s 4ms/step - loss: 0.2839 - accuracy: 0.9071 - val_loss: 0.1595 - val_accuracy: 0.9525\n",
            "Epoch 71/100\n",
            "31/31 [==============================] - 0s 4ms/step - loss: 0.2483 - accuracy: 0.9177 - val_loss: 0.1581 - val_accuracy: 0.9525\n",
            "Epoch 72/100\n",
            "31/31 [==============================] - 0s 4ms/step - loss: 0.2423 - accuracy: 0.9262 - val_loss: 0.1558 - val_accuracy: 0.9525\n",
            "Epoch 73/100\n",
            "31/31 [==============================] - 0s 4ms/step - loss: 0.2394 - accuracy: 0.9296 - val_loss: 0.1538 - val_accuracy: 0.9525\n",
            "Epoch 74/100\n",
            "31/31 [==============================] - 0s 4ms/step - loss: 0.2283 - accuracy: 0.9355 - val_loss: 0.1530 - val_accuracy: 0.9525\n",
            "Epoch 75/100\n",
            "31/31 [==============================] - 0s 4ms/step - loss: 0.2317 - accuracy: 0.9334 - val_loss: 0.1525 - val_accuracy: 0.9525\n",
            "Epoch 76/100\n",
            "31/31 [==============================] - 0s 4ms/step - loss: 0.2262 - accuracy: 0.9279 - val_loss: 0.1512 - val_accuracy: 0.9550\n",
            "Epoch 77/100\n",
            "31/31 [==============================] - 0s 4ms/step - loss: 0.1995 - accuracy: 0.9475 - val_loss: 0.1504 - val_accuracy: 0.9525\n",
            "Epoch 78/100\n",
            "31/31 [==============================] - 0s 4ms/step - loss: 0.2242 - accuracy: 0.9227 - val_loss: 0.1495 - val_accuracy: 0.9550\n",
            "Epoch 79/100\n",
            "31/31 [==============================] - 0s 4ms/step - loss: 0.2128 - accuracy: 0.9393 - val_loss: 0.1483 - val_accuracy: 0.9550\n",
            "Epoch 80/100\n",
            "31/31 [==============================] - 0s 4ms/step - loss: 0.2386 - accuracy: 0.9166 - val_loss: 0.1471 - val_accuracy: 0.9550\n",
            "Epoch 81/100\n",
            "31/31 [==============================] - 0s 4ms/step - loss: 0.2433 - accuracy: 0.9264 - val_loss: 0.1475 - val_accuracy: 0.9525\n",
            "Epoch 82/100\n",
            "31/31 [==============================] - 0s 4ms/step - loss: 0.2181 - accuracy: 0.9305 - val_loss: 0.1474 - val_accuracy: 0.9550\n",
            "Epoch 83/100\n",
            "31/31 [==============================] - 0s 4ms/step - loss: 0.2420 - accuracy: 0.9252 - val_loss: 0.1493 - val_accuracy: 0.9525\n",
            "Epoch 84/100\n",
            "31/31 [==============================] - 0s 4ms/step - loss: 0.2099 - accuracy: 0.9388 - val_loss: 0.1496 - val_accuracy: 0.9525\n",
            "Epoch 85/100\n",
            "31/31 [==============================] - 0s 4ms/step - loss: 0.2285 - accuracy: 0.9310 - val_loss: 0.1500 - val_accuracy: 0.9525\n",
            "Epoch 86/100\n",
            "31/31 [==============================] - 0s 4ms/step - loss: 0.2065 - accuracy: 0.9364 - val_loss: 0.1480 - val_accuracy: 0.9525\n",
            "Epoch 87/100\n",
            "31/31 [==============================] - 0s 4ms/step - loss: 0.2356 - accuracy: 0.9308 - val_loss: 0.1480 - val_accuracy: 0.9525\n",
            "Epoch 88/100\n",
            "31/31 [==============================] - 0s 4ms/step - loss: 0.2163 - accuracy: 0.9341 - val_loss: 0.1483 - val_accuracy: 0.9525\n",
            "Epoch 89/100\n",
            "31/31 [==============================] - 0s 4ms/step - loss: 0.2305 - accuracy: 0.9208 - val_loss: 0.1465 - val_accuracy: 0.9525\n",
            "Epoch 90/100\n",
            "31/31 [==============================] - 0s 4ms/step - loss: 0.2234 - accuracy: 0.9312 - val_loss: 0.1465 - val_accuracy: 0.9525\n",
            "Epoch 91/100\n",
            "31/31 [==============================] - 0s 4ms/step - loss: 0.2112 - accuracy: 0.9367 - val_loss: 0.1463 - val_accuracy: 0.9525\n",
            "Epoch 92/100\n",
            "31/31 [==============================] - 0s 4ms/step - loss: 0.2523 - accuracy: 0.9203 - val_loss: 0.1468 - val_accuracy: 0.9575\n",
            "Epoch 93/100\n",
            "31/31 [==============================] - 0s 4ms/step - loss: 0.2267 - accuracy: 0.9342 - val_loss: 0.1471 - val_accuracy: 0.9575\n",
            "Epoch 94/100\n",
            "31/31 [==============================] - 0s 4ms/step - loss: 0.2109 - accuracy: 0.9332 - val_loss: 0.1484 - val_accuracy: 0.9550\n",
            "Epoch 95/100\n",
            "31/31 [==============================] - 0s 4ms/step - loss: 0.2037 - accuracy: 0.9383 - val_loss: 0.1475 - val_accuracy: 0.9550\n",
            "Epoch 96/100\n",
            "31/31 [==============================] - 0s 4ms/step - loss: 0.2509 - accuracy: 0.9120 - val_loss: 0.1475 - val_accuracy: 0.9525\n",
            "Epoch 97/100\n",
            "31/31 [==============================] - 0s 4ms/step - loss: 0.2822 - accuracy: 0.9186 - val_loss: 0.1478 - val_accuracy: 0.9550\n",
            "Epoch 98/100\n",
            "31/31 [==============================] - 0s 4ms/step - loss: 0.2322 - accuracy: 0.9402 - val_loss: 0.1480 - val_accuracy: 0.9550\n",
            "Epoch 99/100\n",
            "31/31 [==============================] - 0s 4ms/step - loss: 0.1962 - accuracy: 0.9421 - val_loss: 0.1468 - val_accuracy: 0.9550\n",
            "Epoch 100/100\n",
            "31/31 [==============================] - 0s 4ms/step - loss: 0.1833 - accuracy: 0.9558 - val_loss: 0.1471 - val_accuracy: 0.9550\n"
          ],
          "name": "stdout"
        }
      ]
    },
    {
      "cell_type": "code",
      "metadata": {
        "colab": {
          "base_uri": "https://localhost:8080/",
          "height": 295
        },
        "id": "H3BFSbHPhUpU",
        "outputId": "4689b063-0b81-4959-aa64-3147a8cf9346"
      },
      "source": [
        "import matplotlib.pyplot as plt\n",
        "plt.plot(history.history['accuracy'])\n",
        "plt.plot(history.history['val_accuracy'])\n",
        "plt.title('model accuracy')\n",
        "plt.ylabel('accuracy')\n",
        "plt.xlabel('epoch')\n",
        "plt.legend(['train', 'test'], loc='upper left')\n",
        "plt.show()"
      ],
      "execution_count": 23,
      "outputs": [
        {
          "output_type": "display_data",
          "data": {
            "image/png": "[encoded data removed]",
            "text/plain": [
              "<Figure size 432x288 with 1 Axes>"
            ]
          },
          "metadata": {
            "tags": [],
            "needs_background": "light"
          }
        }
      ]
    },
    {
      "cell_type": "code",
      "metadata": {
        "colab": {
          "base_uri": "https://localhost:8080/",
          "height": 295
        },
        "id": "V5fkNfqrhiEC",
        "outputId": "c33c7349-076f-4213-e596-d300e5f923f5"
      },
      "source": [
        "plt.plot(history.history['loss'])\n",
        "plt.plot(history.history['val_loss'])\n",
        "plt.title('model loss')\n",
        "plt.ylabel('loss')\n",
        "plt.xlabel('epoch')\n",
        "plt.legend(['train', 'test'], loc='upper left')\n",
        "plt.show()"
      ],
      "execution_count": 24,
      "outputs": [
        {
          "output_type": "display_data",
          "data": {
            "image/png": "[encoded data removed]",
            "text/plain": [
              "<Figure size 432x288 with 1 Axes>"
            ]
          },
          "metadata": {
            "tags": [],
            "needs_background": "light"
          }
        }
      ]
    },
    {
      "cell_type": "code",
      "metadata": {
        "colab": {
          "base_uri": "https://localhost:8080/"
        },
        "id": "KmQVE-oZPLLD",
        "outputId": "fcc6e8d1-c0fa-45e7-aa89-537e20e33b98"
      },
      "source": [
        "loss, accuracy = model.evaluate(test_data, test_label)"
      ],
      "execution_count": 25,
      "outputs": [
        {
          "output_type": "stream",
          "text": [
            "19/19 [==============================] - 0s 2ms/step - loss: 0.1063 - accuracy: 0.9724\n"
          ],
          "name": "stdout"
        }
      ]
    },
    {
      "cell_type": "code",
      "metadata": {
        "id": "x84DlN_DPZdE"
      },
      "source": [
        "predictions = model.predict(test_data)"
      ],
      "execution_count": 26,
      "outputs": []
    },
    {
      "cell_type": "code",
      "metadata": {
        "id": "vPc1F-7EPbaG"
      },
      "source": [
        "y_pred = (predictions > 0.5)"
      ],
      "execution_count": 27,
      "outputs": []
    },
    {
      "cell_type": "code",
      "metadata": {
        "id": "UDrzam_sPgdH"
      },
      "source": [
        "con = tf.math.confusion_matrix(\n",
        "    test_label, y_pred, num_classes=2, weights=None, dtype=tf.dtypes.int32,\n",
        "    name=None\n",
        ")"
      ],
      "execution_count": 28,
      "outputs": []
    },
    {
      "cell_type": "code",
      "metadata": {
        "colab": {
          "base_uri": "https://localhost:8080/"
        },
        "id": "T9H73pvbPnQ6",
        "outputId": "bb18f7fd-c7a2-4591-fafa-ef0da23b9030"
      },
      "source": [
        "con"
      ],
      "execution_count": 29,
      "outputs": [
        {
          "output_type": "execute_result",
          "data": {
            "text/plain": [
              "<tf.Tensor: shape=(2, 2), dtype=int32, numpy=\n",
              "array([[434,   1],\n",
              "       [ 15, 129]], dtype=int32)>"
            ]
          },
          "metadata": {
            "tags": []
          },
          "execution_count": 29
        }
      ]
    },
    {
      "cell_type": "code",
      "metadata": {
        "colab": {
          "base_uri": "https://localhost:8080/"
        },
        "id": "Buav0aksPtxY",
        "outputId": "8aac9c28-1937-43e4-cb05-e7def16f7e60"
      },
      "source": [
        "from sklearn.metrics import classification_report\n",
        "print(classification_report(test_label,y_pred))"
      ],
      "execution_count": 30,
      "outputs": [
        {
          "output_type": "stream",
          "text": [
            "              precision    recall  f1-score   support\n",
            "\n",
            "           0       0.97      1.00      0.98       435\n",
            "           1       0.99      0.90      0.94       144\n",
            "\n",
            "    accuracy                           0.97       579\n",
            "   macro avg       0.98      0.95      0.96       579\n",
            "weighted avg       0.97      0.97      0.97       579\n",
            "\n"
          ],
          "name": "stdout"
        }
      ]
    }
  ]
}