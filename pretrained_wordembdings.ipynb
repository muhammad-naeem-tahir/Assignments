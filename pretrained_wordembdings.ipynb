{
  "nbformat": 4,
  "nbformat_minor": 0,
  "metadata": {
    "colab": {
      "name": "pretrained_wordembdings.ipynb",
      "provenance": [],
      "collapsed_sections": [],
      "include_colab_link": true
    },
    "kernelspec": {
      "name": "python3",
      "display_name": "Python 3"
    },
    "language_info": {
      "name": "python"
    }
  },
  "cells": [
    {
      "cell_type": "markdown",
      "metadata": {
        "id": "view-in-github",
        "colab_type": "text"
      },
      "source": [
        "<a href=\"https://colab.research.google.com/github/muhammad-naeem-tahir/Assignments/blob/main/pretrained_wordembdings.ipynb\" target=\"_parent\"><img src=\"https://colab.research.google.com/assets/colab-badge.svg\" alt=\"Open In Colab\"/></a>"
      ]
    },
    {
      "cell_type": "code",
      "metadata": {
        "id": "Q5paPYq66TuP",
        "colab": {
          "base_uri": "https://localhost:8080/"
        },
        "outputId": "0e51496c-2dcf-4f42-fe7e-af109dd7c827"
      },
      "source": [
        "!wget \"https://ai.stanford.edu/~amaas/data/sentiment/aclImdb_v1.tar.gz\" \n"
      ],
      "execution_count": null,
      "outputs": [
        {
          "output_type": "stream",
          "name": "stdout",
          "text": [
            "--2021-09-05 06:07:36--  https://ai.stanford.edu/~amaas/data/sentiment/aclImdb_v1.tar.gz\n",
            "Resolving ai.stanford.edu (ai.stanford.edu)... 171.64.68.10\n",
            "Connecting to ai.stanford.edu (ai.stanford.edu)|171.64.68.10|:443... connected.\n",
            "HTTP request sent, awaiting response... 200 OK\n",
            "Length: 84125825 (80M) [application/x-gzip]\n",
            "Saving to: ‘aclImdb_v1.tar.gz’\n",
            "\n",
            "aclImdb_v1.tar.gz   100%[===================>]  80.23M  41.8MB/s    in 1.9s    \n",
            "\n",
            "2021-09-05 06:07:38 (41.8 MB/s) - ‘aclImdb_v1.tar.gz’ saved [84125825/84125825]\n",
            "\n"
          ]
        }
      ]
    },
    {
      "cell_type": "code",
      "metadata": {
        "id": "iYIUOwcv6tB1"
      },
      "source": [
        "!tar -xvf aclImdb_v1.tar.gz"
      ],
      "execution_count": null,
      "outputs": []
    },
    {
      "cell_type": "code",
      "metadata": {
        "id": "LNCsmJzA7kfT"
      },
      "source": [
        "!wget https://nlp.stanford.edu/data/glove.6B.zip"
      ],
      "execution_count": null,
      "outputs": []
    },
    {
      "cell_type": "code",
      "metadata": {
        "id": "6F8AO8GS8YsH"
      },
      "source": [
        "\n",
        "!unzip glove.6B.zip "
      ],
      "execution_count": null,
      "outputs": []
    },
    {
      "cell_type": "code",
      "metadata": {
        "id": "l2WekRxJ9ZG3"
      },
      "source": [
        "!mv *.txt glove_6B/"
      ],
      "execution_count": null,
      "outputs": []
    },
    {
      "cell_type": "code",
      "metadata": {
        "id": "q63h1lp99luM"
      },
      "source": [
        "# 6.8 \n",
        "import os\n",
        "imdb_dir = 'aclImdb'\n",
        "train_dir = os.path.join(imdb_dir, 'train')\n",
        "labels = []\n",
        "texts = []\n",
        "for label_type in ['neg', 'pos']:\n",
        "  dir_name = os.path.join(train_dir, label_type)\n",
        "  for fname in os.listdir(dir_name):\n",
        "    if fname[-4:] == '.txt':\n",
        "      f = open(os.path.join(dir_name, fname))\n",
        "      texts.append(f.read())  \n",
        "      f.close()\n",
        "      if label_type == 'neg':\n",
        "        labels.append(0)\n",
        "      else:\n",
        "        labels.append(1)"
      ],
      "execution_count": null,
      "outputs": []
    },
    {
      "cell_type": "code",
      "metadata": {
        "colab": {
          "base_uri": "https://localhost:8080/"
        },
        "id": "ceUgX4AK_O2z",
        "outputId": "d25707a0-6f3d-486a-ab1b-a1efd074bc62"
      },
      "source": [
        "# 6.9\n",
        "from keras.preprocessing.text import Tokenizer\n",
        "from keras.preprocessing.sequence import pad_sequences\n",
        "import numpy as np\n",
        "maxlen = 100\n",
        "training_samples = 200\n",
        "validation_samples = 10000\n",
        "max_words = 10000\n",
        "tokenizer = Tokenizer(num_words=max_words)\n",
        "tokenizer.fit_on_texts(texts)\n",
        "sequences = tokenizer.texts_to_sequences(texts)\n",
        "word_index = tokenizer.word_index\n",
        "print('Found %s unique tokens.' % len(word_index))\n",
        "data = pad_sequences(sequences, maxlen=maxlen)\n",
        "labels = np.asarray(labels)\n",
        "print('Shape of data tensor:', data.shape)\n",
        "print('Shape of label tensor:', labels.shape)\n",
        "indices = np.arange(data.shape[0])\n",
        "np.random.shuffle(indices)\n",
        "data = data[indices]\n",
        "labels = labels[indices]\n",
        "x_train = data[:training_samples]\n",
        "y_train = labels[:training_samples]\n",
        "x_val = data[training_samples: training_samples + validation_samples]\n",
        "y_val = labels[training_samples: training_samples + validation_samples]"
      ],
      "execution_count": null,
      "outputs": [
        {
          "output_type": "stream",
          "text": [
            "Found 88582 unique tokens.\n",
            "Shape of data tensor: (25000, 100)\n",
            "Shape of label tensor: (25000,)\n"
          ],
          "name": "stdout"
        }
      ]
    },
    {
      "cell_type": "code",
      "metadata": {
        "colab": {
          "base_uri": "https://localhost:8080/"
        },
        "id": "I2vSyEWwAoNd",
        "outputId": "8a2b8765-36c9-487a-ba54-64d4f6afdf8a"
      },
      "source": [
        "# 6.10\n",
        "glove_dir = 'glove_6B'\n",
        "embeddings_index = {}\n",
        "f = open(os.path.join(glove_dir, 'glove.6B.100d.txt'))\n",
        "for line in f:\n",
        "  values = line.split()\n",
        "  word = values[0]\n",
        "  coefs = np.asarray(values[1:], dtype='float32')\n",
        "  embeddings_index[word] = coefs\n",
        "f.close()\n",
        "print('Found %s word vectors.' % len(embeddings_index))"
      ],
      "execution_count": null,
      "outputs": [
        {
          "output_type": "stream",
          "text": [
            "Found 400000 word vectors.\n"
          ],
          "name": "stdout"
        }
      ]
    },
    {
      "cell_type": "code",
      "metadata": {
        "id": "giTzICJ9A0vk"
      },
      "source": [
        "# 6.11\n",
        "# Preparing the GloVe word-embeddings matrix\n",
        "embedding_dim = 100\n",
        "embedding_matrix = np.zeros((max_words, embedding_dim))\n",
        "for word, i in word_index.items():\n",
        "  if i < max_words:\n",
        "    embedding_vector = embeddings_index.get(word)\n",
        "    if embedding_vector is not None:\n",
        "      embedding_matrix[i] = embedding_vector"
      ],
      "execution_count": null,
      "outputs": []
    },
    {
      "cell_type": "code",
      "metadata": {
        "colab": {
          "base_uri": "https://localhost:8080/"
        },
        "id": "3JsfgTOSAdWb",
        "outputId": "64a37737-7cca-4539-a393-f403c3742a81"
      },
      "source": [
        "#6.12\n",
        "from keras.models import Sequential\n",
        "from keras.layers import Embedding, Flatten, Dense\n",
        "model = Sequential()\n",
        "model.add(Embedding(max_words, embedding_dim, input_length=maxlen))\n",
        "model.add(Flatten())\n",
        "model.add(Dense(32, activation='relu'))\n",
        "model.add(Dense(1, activation='sigmoid'))\n",
        "model.summary()"
      ],
      "execution_count": null,
      "outputs": [
        {
          "output_type": "stream",
          "text": [
            "Model: \"sequential\"\n",
            "_________________________________________________________________\n",
            "Layer (type)                 Output Shape              Param #   \n",
            "=================================================================\n",
            "embedding (Embedding)        (None, 100, 100)          1000000   \n",
            "_________________________________________________________________\n",
            "flatten (Flatten)            (None, 10000)             0         \n",
            "_________________________________________________________________\n",
            "dense (Dense)                (None, 32)                320032    \n",
            "_________________________________________________________________\n",
            "dense_1 (Dense)              (None, 1)                 33        \n",
            "=================================================================\n",
            "Total params: 1,320,065\n",
            "Trainable params: 1,320,065\n",
            "Non-trainable params: 0\n",
            "_________________________________________________________________\n"
          ],
          "name": "stdout"
        }
      ]
    },
    {
      "cell_type": "code",
      "metadata": {
        "id": "NeE9QZRYD7No"
      },
      "source": [
        "model.layers[0].set_weights([embedding_matrix])\n",
        "model.layers[0].trainable = False"
      ],
      "execution_count": null,
      "outputs": []
    },
    {
      "cell_type": "code",
      "metadata": {
        "colab": {
          "base_uri": "https://localhost:8080/"
        },
        "id": "07SKqbqPD-3C",
        "outputId": "b4f7c66e-6734-4e28-a88b-67e48e897e0a"
      },
      "source": [
        "# 6.14\n",
        "model.compile(optimizer='rmsprop',\n",
        "loss='binary_crossentropy',\n",
        "metrics=['acc'])\n",
        "history = model.fit(x_train, y_train,\n",
        "epochs=10,\n",
        "batch_size=32,\n",
        "validation_data=(x_val, y_val))\n",
        "model.save_weights('pre_trained_glove_model.h5')"
      ],
      "execution_count": null,
      "outputs": [
        {
          "output_type": "stream",
          "text": [
            "Epoch 1/10\n",
            "7/7 [==============================] - 2s 135ms/step - loss: 1.6117 - acc: 0.5250 - val_loss: 0.9448 - val_acc: 0.4959\n",
            "Epoch 2/10\n",
            "7/7 [==============================] - 1s 88ms/step - loss: 0.5356 - acc: 0.7000 - val_loss: 1.2832 - val_acc: 0.5047\n",
            "Epoch 3/10\n",
            "7/7 [==============================] - 1s 111ms/step - loss: 0.4422 - acc: 0.7750 - val_loss: 0.6925 - val_acc: 0.5803\n",
            "Epoch 4/10\n",
            "7/7 [==============================] - 1s 111ms/step - loss: 0.2480 - acc: 0.9200 - val_loss: 1.7076 - val_acc: 0.5047\n",
            "Epoch 5/10\n",
            "7/7 [==============================] - 1s 111ms/step - loss: 0.1653 - acc: 0.9500 - val_loss: 0.7720 - val_acc: 0.5667\n",
            "Epoch 6/10\n",
            "7/7 [==============================] - 1s 111ms/step - loss: 0.1107 - acc: 0.9800 - val_loss: 0.8949 - val_acc: 0.5389\n",
            "Epoch 7/10\n",
            "7/7 [==============================] - 1s 83ms/step - loss: 0.0425 - acc: 1.0000 - val_loss: 0.7334 - val_acc: 0.5891\n",
            "Epoch 8/10\n",
            "7/7 [==============================] - 1s 111ms/step - loss: 0.0312 - acc: 1.0000 - val_loss: 1.7094 - val_acc: 0.5064\n",
            "Epoch 9/10\n",
            "7/7 [==============================] - 1s 111ms/step - loss: 0.5329 - acc: 0.7900 - val_loss: 0.8338 - val_acc: 0.5667\n",
            "Epoch 10/10\n",
            "7/7 [==============================] - 1s 85ms/step - loss: 0.0160 - acc: 1.0000 - val_loss: 0.7710 - val_acc: 0.5865\n"
          ],
          "name": "stdout"
        }
      ]
    },
    {
      "cell_type": "code",
      "metadata": {
        "colab": {
          "base_uri": "https://localhost:8080/",
          "height": 545
        },
        "id": "_1OpHftiEIUV",
        "outputId": "efd23795-e870-4aa2-91d8-f24b6fd2eaa3"
      },
      "source": [
        "# 6.15\n",
        "import matplotlib.pyplot as plt\n",
        "acc = history.history['acc']\n",
        "val_acc = history.history['val_acc']\n",
        "loss = history.history['loss']\n",
        "val_loss = history.history['val_loss']\n",
        "epochs = range(1, len(acc) + 1)\n",
        "plt.plot(epochs, acc, 'bo', label='Training acc')\n",
        "plt.plot(epochs, val_acc, 'b', label='Validation acc')\n",
        "plt.title('Training and validation accuracy')\n",
        "plt.legend()\n",
        "plt.figure()\n",
        "plt.plot(epochs, loss, 'bo', label='Training loss')\n",
        "plt.plot(epochs, val_loss, 'b', label='Validation loss')\n",
        "plt.title('Training and validation loss')\n",
        "plt.legend()\n",
        "plt.show()"
      ],
      "execution_count": null,
      "outputs": [
        {
          "output_type": "display_data",
          "data": {
            "image/png": "[encoded data removed]",
            "text/plain": [
              "<Figure size 432x288 with 1 Axes>"
            ]
          },
          "metadata": {
            "needs_background": "light"
          }
        },
        {
          "output_type": "display_data",
          "data": {
            "image/png": "[encoded data removed]",
            "text/plain": [
              "<Figure size 432x288 with 1 Axes>"
            ]
          },
          "metadata": {
            "needs_background": "light"
          }
        }
      ]
    },
    {
      "cell_type": "code",
      "metadata": {
        "colab": {
          "base_uri": "https://localhost:8080/"
        },
        "id": "LemdfLpWETZO",
        "outputId": "ff0f323a-220d-4d5c-cec9-3c752f57d8d1"
      },
      "source": [
        "from keras.models import Sequential\n",
        "from keras.layers import Embedding, Flatten, Dense\n",
        "model = Sequential()\n",
        "model.add(Embedding(max_words, embedding_dim, input_length=maxlen))\n",
        "model.add(Flatten())\n",
        "model.add(Dense(32, activation='relu'))\n",
        "model.add(Dense(1, activation='sigmoid'))\n",
        "model.summary()\n",
        "model.compile(optimizer='rmsprop',\n",
        "loss='binary_crossentropy',\n",
        "metrics=['acc'])\n",
        "history = model.fit(x_train, y_train,\n",
        "epochs=10,\n",
        "batch_size=32,\n",
        "validation_data=(x_val, y_val))"
      ],
      "execution_count": null,
      "outputs": [
        {
          "output_type": "stream",
          "text": [
            "Model: \"sequential_1\"\n",
            "_________________________________________________________________\n",
            "Layer (type)                 Output Shape              Param #   \n",
            "=================================================================\n",
            "embedding_1 (Embedding)      (None, 100, 100)          1000000   \n",
            "_________________________________________________________________\n",
            "flatten_1 (Flatten)          (None, 10000)             0         \n",
            "_________________________________________________________________\n",
            "dense_2 (Dense)              (None, 32)                320032    \n",
            "_________________________________________________________________\n",
            "dense_3 (Dense)              (None, 1)                 33        \n",
            "=================================================================\n",
            "Total params: 1,320,065\n",
            "Trainable params: 1,320,065\n",
            "Non-trainable params: 0\n",
            "_________________________________________________________________\n",
            "Epoch 1/10\n",
            "7/7 [==============================] - 1s 136ms/step - loss: 0.6961 - acc: 0.4550 - val_loss: 0.6933 - val_acc: 0.5107\n",
            "Epoch 2/10\n",
            "7/7 [==============================] - 1s 115ms/step - loss: 0.5173 - acc: 0.9850 - val_loss: 0.6907 - val_acc: 0.5255\n",
            "Epoch 3/10\n",
            "7/7 [==============================] - 1s 113ms/step - loss: 0.2899 - acc: 1.0000 - val_loss: 0.7024 - val_acc: 0.5190\n",
            "Epoch 4/10\n",
            "7/7 [==============================] - 1s 87ms/step - loss: 0.1291 - acc: 1.0000 - val_loss: 0.7086 - val_acc: 0.5175\n",
            "Epoch 5/10\n",
            "7/7 [==============================] - 1s 88ms/step - loss: 0.0590 - acc: 1.0000 - val_loss: 0.7017 - val_acc: 0.5281\n",
            "Epoch 6/10\n",
            "7/7 [==============================] - 1s 88ms/step - loss: 0.0306 - acc: 1.0000 - val_loss: 0.7086 - val_acc: 0.5248\n",
            "Epoch 7/10\n",
            "7/7 [==============================] - 1s 88ms/step - loss: 0.0169 - acc: 1.0000 - val_loss: 0.7099 - val_acc: 0.5256\n",
            "Epoch 8/10\n",
            "7/7 [==============================] - 1s 87ms/step - loss: 0.0097 - acc: 1.0000 - val_loss: 0.7144 - val_acc: 0.5276\n",
            "Epoch 9/10\n",
            "7/7 [==============================] - 1s 115ms/step - loss: 0.0058 - acc: 1.0000 - val_loss: 0.7194 - val_acc: 0.5290\n",
            "Epoch 10/10\n",
            "7/7 [==============================] - 1s 87ms/step - loss: 0.0036 - acc: 1.0000 - val_loss: 0.7238 - val_acc: 0.5297\n"
          ],
          "name": "stdout"
        }
      ]
    },
    {
      "cell_type": "code",
      "metadata": {
        "id": "LPJPxR56Ecjt"
      },
      "source": [
        "#6.17\n",
        "test_dir = os.path.join(imdb_dir, 'test')\n",
        "labels = []\n",
        "texts = []\n",
        "for label_type in ['neg', 'pos']:\n",
        "  dir_name = os.path.join(test_dir, label_type)\n",
        "  for fname in sorted(os.listdir(dir_name)):\n",
        "    if fname[-4:] == '.txt':\n",
        "      f = open(os.path.join(dir_name, fname))\n",
        "      texts.append(f.read())\n",
        "      f.close()\n",
        "      if label_type == 'neg':\n",
        "        labels.append(0)\n",
        "      else:\n",
        "        labels.append(1)\n",
        "\n",
        "sequences = tokenizer.texts_to_sequences(texts)\n",
        "x_test = pad_sequences(sequences, maxlen=maxlen)\n",
        "y_test = np.asarray(labels)\n"
      ],
      "execution_count": null,
      "outputs": []
    },
    {
      "cell_type": "code",
      "metadata": {
        "colab": {
          "base_uri": "https://localhost:8080/"
        },
        "id": "UdDGHJjXFguy",
        "outputId": "99e8838f-af7d-4bef-a48f-95febeed13fa"
      },
      "source": [
        "# 6.18\n",
        "model.load_weights('pre_trained_glove_model.h5')\n",
        "model.evaluate(x_test, y_test)"
      ],
      "execution_count": null,
      "outputs": [
        {
          "output_type": "stream",
          "text": [
            "782/782 [==============================] - 1s 2ms/step - loss: 0.7936 - acc: 0.5714\n"
          ],
          "name": "stdout"
        },
        {
          "output_type": "execute_result",
          "data": {
            "text/plain": [
              "[0.7935876846313477, 0.5713599920272827]"
            ]
          },
          "metadata": {},
          "execution_count": 37
        }
      ]
    },
    {
      "cell_type": "code",
      "metadata": {
        "id": "d4ieFfc5Fg01"
      },
      "source": [
        ""
      ],
      "execution_count": null,
      "outputs": []
    }
  ]
}